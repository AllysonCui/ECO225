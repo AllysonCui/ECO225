{
 "cells": [
  {
   "cell_type": "markdown",
   "source": [
    "# In What Electoral System Would Donald Trump Have Won The 2020 US Election?"
   ],
   "metadata": {
    "collapsed": false
   }
  },
  {
   "cell_type": "markdown",
   "source": [
    "## Introduction\n",
    "\n",
    "The Electoral College system has been a concrete part of the US presidential election since the founding of the country. In this system, the citizens of each state cast their votes for their choice of electors, who will cast their votes for the presidential candidates. The number of electors of each state is the sum of the number of Senates and the number of Representatives. The Electoral College consists of 538 electors in total, and each elector's vote is counted as 1 vote in the general election. In the end, the candidate who wins over the majority - which means 270 votes - wins the election. The system was created out of good intention to balance the power of small states and large states, however, criticism is getting louder after several instances in which the winner of the popular vote did not win the election due to the outcome of the Electoral College vote. This has led to questions about whether the system accurately represents the will of the US citizens and if there might be a better way to elect the President.\n",
    "\n",
    "In this research paper, we will explore what might have happened if different electoral systems had been in place in the 2020 election, such that the citizens will directly vote for the presidential candidates without any intermediaries such as the electors. Each citizen's vote is precisely counted, and will have direct impact on the election result.\n",
    "\n",
    "Since the goal of this paper is to determine what electoral system would have allowed Donald Trump to win the 2020 election, and that Republican voters are disproportionally located in rural areas and small cities, this paper will put higher focus on the smaller unit, the county, instead of on the state. With the county being the core electoral level, the result of the voting will be more likely to accurately reflect the will comes from the root.\n",
    "\n",
    "All four systems this paper proposes have a common presumption, that there exists a smallest voting unit which will be responsible to cast ALL of its votes to one candidate. This concept, known as the \"winner-take-all\" principle, is similar to the existing voting system in 48 of the 50 states and Washington, D.C. in the US.\n",
    "\n",
    "Besides the above, this paper assumes two crucial features of electoral systems:\n",
    "1. Whether the smallest voting units are the states or the counties?\n",
    "2. Whether each county holds only one vote as a whole or as many votes as its voters?\n",
    "\n",
    "Based on these two criteria, we arrived at 4 different combinations:\n",
    "1. State-level\n",
    "1.1 each state has same number of votes as its voters, it casts all of its votes on the party (candidate) that won the majority of counties\n",
    "1.2 each state has one vote, it casts its vote on the party (candidate) that won the majority of counties\n",
    "\n",
    "2. County-level\n",
    "2.1 each county has same number of votes as its voters, it casts all of its votes on the party (candidate) that won the majority of votes\n",
    "2.2 each county has one vote, it casts its vote on the party (candidate) that won the majority of votes\n"
   ],
   "metadata": {
    "collapsed": false
   }
  },
  {
   "cell_type": "markdown",
   "source": [
    "### Variables\n",
    "Function $f$($X_{1}$, $X_{2}$, $X_{3}$) = ($Y_{1}$, $Y_{2}$): Electoral System\n",
    "We have in total of 4 systems, namely ($f_{1.1}$, $f_{1.12$, $f_{2.1}$, $f_{2.2}$), all are described in the above. Here they will serve as a fixed function that has 3 input variables:\n",
    "\n",
    "- Input $X_{1}$: Area\n",
    "-- Unit could be in county or in state.\n",
    "\n",
    "- Input $X_{2}$: Party (Candidate)\n",
    "-- By convention, each party has only one candidate who runs in the general election, those two variables could be seen as a fixed tuple.\n",
    "\n",
    "- Input $X_{3}$: Raw Votes\n",
    "-- Raw Votes that a party (candidate) received in an area.\n",
    "\n",
    "- Outcome $Y_{1}$: Fabricated Votes of Parties (Candidates)\n",
    "-- The normalized votes that the parties (candidates) obtained against the system. The value of this outcome is used to compared to other parties when they compete under the same system.\n",
    "\n",
    "- Outcome $Y_{2}$: Donald Trump winning election or not\n",
    "-- This is a boolean variable, determined by the result of $Y_{1}$'s comparison among parties. True if Trump would have won, False if Trump would have lost."
   ],
   "metadata": {
    "collapsed": false
   }
  },
  {
   "cell_type": "markdown",
   "source": [
    "## Data Cleaning/Loading\n",
    "\n",
    "### Datasets used in this article\n",
    "This paper has only used president_county.csv, president_county_candidate_candidate.csv, president_state.csv from Kaggle, and uscities.csv from https://simplemaps.com/data/us-cities"
   ],
   "metadata": {
    "collapsed": false
   }
  },
  {
   "cell_type": "markdown",
   "source": [],
   "metadata": {
    "collapsed": false
   }
  }
 ],
 "metadata": {
  "kernelspec": {
   "display_name": "Python 3",
   "language": "python",
   "name": "python3"
  },
  "language_info": {
   "codemirror_mode": {
    "name": "ipython",
    "version": 2
   },
   "file_extension": ".py",
   "mimetype": "text/x-python",
   "name": "python",
   "nbconvert_exporter": "python",
   "pygments_lexer": "ipython2",
   "version": "2.7.6"
  }
 },
 "nbformat": 4,
 "nbformat_minor": 0
}
