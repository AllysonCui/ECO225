{
 "cells": [
  {
   "cell_type": "markdown",
   "source": [
    "# In What Electoral System Would Donald Trump Have Won The 2020 US Election?"
   ],
   "metadata": {
    "collapsed": false
   }
  },
  {
   "cell_type": "markdown",
   "source": [
    "## Introductory\n",
    "\n",
    "The Electoral College system has been a concrete part of the US presidential election since the founding of the country. In this system, the citizens of each state cast their votes for their choice of electors, who will cast their votes for the presidential candidates. The number of electors of each state is the sum of the number of Senates and the number of Representatives. The Electoral College consists of 538 electors in total, and each elector's vote is counted as 1 vote in the general election. In the end, the candidate who wins over the majority - which means 270 votes - wins the election. The system was created out of good intention to balance the power of small states and large states, however, criticism is getting louder after several instances in which the winner of the popular vote did not win the election due to the outcome of the Electoral College vote. This has led to questions about whether the system accurately represents the will of the US citizens and if there might be a better way to elect the President.\n",
    "\n",
    "In this research paper, we will explore what might have happened if different electoral systems had been in place in the 2020 election, specifically, the systems have no intermediaries such as the electors, the citizens will directly vote for the presidential candidates, and each citizen's vote is precisely counted. We assume different level of majoritarian implication to establish comparison among systems. The details of how voting ais weighted is explained in the #Variables#. With the county being the core electoral level, the result of the voting will be more likely to accurately reflect the will comes from the root. The goal of this paper is to determine if alternate electoral systems would have resulted in a different outcome in the 2020 election, specifically, if Donald Trump would have won the election.\n"
   ],
   "metadata": {
    "collapsed": false
   }
  }
 ],
 "metadata": {
  "kernelspec": {
   "display_name": "Python 3",
   "language": "python",
   "name": "python3"
  },
  "language_info": {
   "codemirror_mode": {
    "name": "ipython",
    "version": 2
   },
   "file_extension": ".py",
   "mimetype": "text/x-python",
   "name": "python",
   "nbconvert_exporter": "python",
   "pygments_lexer": "ipython2",
   "version": "2.7.6"
  }
 },
 "nbformat": 4,
 "nbformat_minor": 0
}
