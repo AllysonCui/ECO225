{
 "cells": [
  {
   "cell_type": "markdown",
   "source": [
    "# In What Electoral System Would Donald Trump Have Won The 2020 US Election?"
   ],
   "metadata": {
    "collapsed": false
   }
  },
  {
   "cell_type": "markdown",
   "source": [
    "## Introduction\n",
    "\n",
    "The Electoral College system has been a concrete part of the US presidential election since the founding of the country. In this system, the citizens of each state cast their votes for their choice of electors, who will cast their votes for the presidential candidates. The number of electors of each state is the sum of the number of Senates and the number of Representatives. The Electoral College consists of 538 electors in total, and each elector's vote is counted as 1 vote in the general election. In the end, the candidate who wins over the majority - which means 270 votes - wins the election. The system was created out of good intention to balance the power of small states and large states, however, criticism is getting louder after several instances in which the winner of the popular vote did not win the election due to the outcome of the Electoral College vote. This has led to questions about whether the system accurately represents the will of the US citizens and if there might be a better way to elect the President.\n",
    "\n",
    "As the fact is that Joe Biden won in the 2020 election, the goal of the paper is to find out whether there exists any electoral system which would have allowed Donald Trump to win in the 2020 election based the original votes.\n",
    "\n",
    "The proposed electoral systems in this paper ALL have a common presumption, that the voting unit (county or state) which will be responsible to cast ALL of its votes to one candidate. This concept, known as the \"winner-take-all\" principle, is similar to the existing voting system in 48 of the 50 states and Washington, D.C. in the US.\n",
    "\n",
    "As data analysis shows that Republican voters are disproportionally located in rural areas and small cities, the 4 electoral systems proposed in the paper all put higher focus on the number of voting unit (county or state), instead of the population of voting unit (county or state). Therefore, 3 of 4 electoral systems makes Donald to win in the 2020 election."
   ],
   "metadata": {
    "collapsed": false
   }
  },
  {
   "cell_type": "markdown",
   "source": [
    "### Variables\n",
    "- Input $X_1$: Raw votes of Joe Biden (the Democratic Party) in counties\n",
    "- Input $X_2$: Raw votes of Donald Trump (the Republican Party) in counties\n",
    "- Input $X_3$: Raw total votes in counties\n",
    "-- $X_1$, $X_2$ and $X_3$ are all vectors, each component $X_{1,i}$, $X_{2,i}$, $X_{3,i}$, where i $\\in$ [1,n], represents the raw votes of DEM, the raw votes of REP and the raw total votes in a specific county, n is the count of counties.\n",
    "- Output $Y_1$: Fabricated Votes of Joe Biden (the Democratic Party) in US\n",
    "- Output $Y_2$: Fabricated Votes of Donald Trump (the Republican Party) in US\n",
    "\n",
    "* **Electoral System I - Elect By County**\n",
    "Each county has same number of votes as its voters, it casts all of its votes on the party (candidate) that won the majority of votes.\n",
    "According to the Electoral System I,\n",
    "\n",
    "$$ Y_1 = \\sum \\limits _{i=1} ^{|Counties|} (if X_{1,i} > $X_1$), X_{3,i}, 0) $$\n",
    "\n",
    "$$ Y_2 = \\sum \\limits _{i=1} ^{|Counties|} (if X_{1,i} < X_{2,i}), X_{3,i}, 0) $$\n",
    "\n",
    "* **Electoral System II - Elect By County**\n",
    "Each county has one vote, it casts its vote on the party (candidate) that won the majority of votes.**\n",
    "According to the Electoral System II,\n",
    "\n",
    "$$ Y_1 = \\sum \\limits _{i=1} ^{|Counties|} (if X_{1,i} > X_{2,i}), 1, 0) $$\n",
    "\n",
    "$$ Y_2 = \\sum \\limits _{i=1} ^{|Counties|} (if X_{1,i} < X_{2,i}), 1, 0) $$\n",
    "\n",
    "* **Electoral System III - Elect By State**\n",
    "Each state has same number of votes as its voters, it casts all of its votes on the party (candidate) that won the majority of counties.\n",
    "According to the Electoral System III,\n",
    "\n",
    "$$ Y_{1} = \\sum \\limits _{i=1} ^{|States|} (if (DEMC_{i} > REPC_{i}), TVofState_{i}, 0) $$\n",
    "\n",
    "$$ Y_{2} = \\sum \\limits _{i=1} ^{|States|} (if (DEMC_{i} < REPC_{i}), TVofState_{i}, 0) $$\n",
    "\n",
    "$$ DEMC_{i} = \\sum \\limits _{j=1} ^{|Counties-in-a-state_i|} (if (X_{1,j} > X_{2,j}), 1, 0) $$\n",
    "\n",
    "$$ REPC_{i} = \\sum \\limits _{j=1} ^{|Counties-in-a-state_i|} ((if (X_{1,j} < X_{2,j}), 1, 0) $$\n",
    "\n",
    "$$ TVofState_{i} = \\sum \\limits _{j=1} ^{|Counties-in-a-state_i|} X_{3,j} $$\n",
    "\n",
    "* **Electoral System IV - Elect By State**\n",
    "Each state has one vote, it casts its vote on the party (candidate) that won the majority of counties.\n",
    "According to the Electoral System IV,\n",
    "\n",
    "$$ Y_{1} = \\sum \\limits _{i=1} ^{|States|} (if (DEMC_{i} > REPC_{i}), 1, 0) $$\n",
    "\n",
    "$$ Y_{2} = \\sum \\limits _{i=1} ^{|States|} (if (DEMC_{i} < REPC_{i}), 1, 0) $$\n",
    "\n",
    "$$ DEMC_{i} = \\sum \\limits _{j=1} ^{|Counties-in-a-state_i|} (if (X_{1,j} > X_{2,j}), 1, 0) $$\n",
    "\n",
    "$$ REPC_{i} = \\sum \\limits _{j=1} ^{|Counties-in-a-state_i|} (if (X_{1,j} < X_{2,j}), 1, 0) $$"
   ],
   "metadata": {
    "collapsed": false
   }
  },
  {
   "cell_type": "markdown",
   "source": [
    "## Data Cleaning/Loading\n",
    "\n",
    "### Datasets used in this article\n",
    "1. Kaggle: US Election 2020\n",
    "    The information includes, states, counties, candidates, parties, and their respective votes.\n",
    "2. SimpleMaps: US cities except for District of Columbia\n",
    "    The information includes counties' latitude, and longitude.\n",
    "3. Census Reporter: District of Columbia\n",
    "    The information includes 8 Wards of District of Columbia for their latitude, and longitude.\n",
    "    Note: This information was searched manually, and is manually entered onto the second dataset.\n",
    "\n",
    "### Data Loading"
   ],
   "metadata": {
    "collapsed": false
   }
  },
  {
   "cell_type": "code",
   "execution_count": 1,
   "outputs": [],
   "source": [
    "import pandas as pd\n",
    "import numpy as np; np.random.seed(42)\n",
    "import seaborn as sns\n",
    "import geopandas as gpd\n",
    "import warnings\n",
    "warnings.filterwarnings('ignore')\n",
    "import numpy as np\n",
    "import matplotlib.pyplot as plt\n",
    "%matplotlib inline\n",
    "import pandas as pd\n",
    "import statsmodels.api as sm\n",
    "from statsmodels.iolib.summary2 import summary_col\n",
    "from linearmodels.iv import IV2SLS\n",
    "from stargazer.stargazer import Stargazer\n",
    "from IPython.core.display import HTML\n",
    "import requests\n",
    "from bs4 import BeautifulSoup\n",
    "import re"
   ],
   "metadata": {
    "collapsed": false
   }
  },
  {
   "cell_type": "markdown",
   "source": [
    "*Note a wrong data in president_county_candidate.csv: Maine, Glenwood Plt., Donald Trump, corrected based on\n",
    "https://www.nytimes.com/interactive/2020/11/03/us/elections/results-maine.html"
   ],
   "metadata": {
    "collapsed": false
   }
  },
  {
   "cell_type": "code",
   "execution_count": 2,
   "outputs": [
    {
     "data": {
      "text/plain": "      state             county      candidate party  total_votes    won\n0  Delaware        Kent County      Joe Biden   DEM        44552   True\n1  Delaware        Kent County   Donald Trump   REP        41009  False\n2  Delaware        Kent County   Jo Jorgensen   LIB         1044  False\n3  Delaware        Kent County  Howie Hawkins   GRN          420  False\n4  Delaware  New Castle County      Joe Biden   DEM       195034   True",
      "text/html": "<div>\n<style scoped>\n    .dataframe tbody tr th:only-of-type {\n        vertical-align: middle;\n    }\n\n    .dataframe tbody tr th {\n        vertical-align: top;\n    }\n\n    .dataframe thead th {\n        text-align: right;\n    }\n</style>\n<table border=\"1\" class=\"dataframe\">\n  <thead>\n    <tr style=\"text-align: right;\">\n      <th></th>\n      <th>state</th>\n      <th>county</th>\n      <th>candidate</th>\n      <th>party</th>\n      <th>total_votes</th>\n      <th>won</th>\n    </tr>\n  </thead>\n  <tbody>\n    <tr>\n      <th>0</th>\n      <td>Delaware</td>\n      <td>Kent County</td>\n      <td>Joe Biden</td>\n      <td>DEM</td>\n      <td>44552</td>\n      <td>True</td>\n    </tr>\n    <tr>\n      <th>1</th>\n      <td>Delaware</td>\n      <td>Kent County</td>\n      <td>Donald Trump</td>\n      <td>REP</td>\n      <td>41009</td>\n      <td>False</td>\n    </tr>\n    <tr>\n      <th>2</th>\n      <td>Delaware</td>\n      <td>Kent County</td>\n      <td>Jo Jorgensen</td>\n      <td>LIB</td>\n      <td>1044</td>\n      <td>False</td>\n    </tr>\n    <tr>\n      <th>3</th>\n      <td>Delaware</td>\n      <td>Kent County</td>\n      <td>Howie Hawkins</td>\n      <td>GRN</td>\n      <td>420</td>\n      <td>False</td>\n    </tr>\n    <tr>\n      <th>4</th>\n      <td>Delaware</td>\n      <td>New Castle County</td>\n      <td>Joe Biden</td>\n      <td>DEM</td>\n      <td>195034</td>\n      <td>True</td>\n    </tr>\n  </tbody>\n</table>\n</div>"
     },
     "execution_count": 2,
     "metadata": {},
     "output_type": "execute_result"
    }
   ],
   "source": [
    "df = pd.read_csv('/Users/jiaxincui/Documents/GitHub/git-exercise-AllysonCui/Data/Kaggle/president_county_candidate.csv')\n",
    "df.head()"
   ],
   "metadata": {
    "collapsed": false
   }
  },
  {
   "cell_type": "code",
   "execution_count": 3,
   "outputs": [
    {
     "data": {
      "text/plain": "                  state             county  current_votes  total_votes  \\\n0              Delaware        Kent County          87025        87025   \n1              Delaware  New Castle County         287633       287633   \n2              Delaware      Sussex County         129352       129352   \n3  District of Columbia             Ward 1          41681        41681   \n4  District of Columbia             Ward 2          32881        32881   \n\n   percent  \n0      100  \n1      100  \n2      100  \n3      100  \n4      100  ",
      "text/html": "<div>\n<style scoped>\n    .dataframe tbody tr th:only-of-type {\n        vertical-align: middle;\n    }\n\n    .dataframe tbody tr th {\n        vertical-align: top;\n    }\n\n    .dataframe thead th {\n        text-align: right;\n    }\n</style>\n<table border=\"1\" class=\"dataframe\">\n  <thead>\n    <tr style=\"text-align: right;\">\n      <th></th>\n      <th>state</th>\n      <th>county</th>\n      <th>current_votes</th>\n      <th>total_votes</th>\n      <th>percent</th>\n    </tr>\n  </thead>\n  <tbody>\n    <tr>\n      <th>0</th>\n      <td>Delaware</td>\n      <td>Kent County</td>\n      <td>87025</td>\n      <td>87025</td>\n      <td>100</td>\n    </tr>\n    <tr>\n      <th>1</th>\n      <td>Delaware</td>\n      <td>New Castle County</td>\n      <td>287633</td>\n      <td>287633</td>\n      <td>100</td>\n    </tr>\n    <tr>\n      <th>2</th>\n      <td>Delaware</td>\n      <td>Sussex County</td>\n      <td>129352</td>\n      <td>129352</td>\n      <td>100</td>\n    </tr>\n    <tr>\n      <th>3</th>\n      <td>District of Columbia</td>\n      <td>Ward 1</td>\n      <td>41681</td>\n      <td>41681</td>\n      <td>100</td>\n    </tr>\n    <tr>\n      <th>4</th>\n      <td>District of Columbia</td>\n      <td>Ward 2</td>\n      <td>32881</td>\n      <td>32881</td>\n      <td>100</td>\n    </tr>\n  </tbody>\n</table>\n</div>"
     },
     "execution_count": 3,
     "metadata": {},
     "output_type": "execute_result"
    }
   ],
   "source": [
    "df_pc = pd.read_csv('/Users/jiaxincui/Documents/GitHub/git-exercise-AllysonCui/Data/Kaggle/president_county.csv')\n",
    "df_pc.head()"
   ],
   "metadata": {
    "collapsed": false
   }
  },
  {
   "cell_type": "code",
   "execution_count": 4,
   "outputs": [
    {
     "data": {
      "text/plain": "                  state  total_votes\n0              Delaware       504010\n1  District of Columbia       344356\n2               Florida     11067456\n3               Georgia      4997716\n4                Hawaii       574469",
      "text/html": "<div>\n<style scoped>\n    .dataframe tbody tr th:only-of-type {\n        vertical-align: middle;\n    }\n\n    .dataframe tbody tr th {\n        vertical-align: top;\n    }\n\n    .dataframe thead th {\n        text-align: right;\n    }\n</style>\n<table border=\"1\" class=\"dataframe\">\n  <thead>\n    <tr style=\"text-align: right;\">\n      <th></th>\n      <th>state</th>\n      <th>total_votes</th>\n    </tr>\n  </thead>\n  <tbody>\n    <tr>\n      <th>0</th>\n      <td>Delaware</td>\n      <td>504010</td>\n    </tr>\n    <tr>\n      <th>1</th>\n      <td>District of Columbia</td>\n      <td>344356</td>\n    </tr>\n    <tr>\n      <th>2</th>\n      <td>Florida</td>\n      <td>11067456</td>\n    </tr>\n    <tr>\n      <th>3</th>\n      <td>Georgia</td>\n      <td>4997716</td>\n    </tr>\n    <tr>\n      <th>4</th>\n      <td>Hawaii</td>\n      <td>574469</td>\n    </tr>\n  </tbody>\n</table>\n</div>"
     },
     "execution_count": 4,
     "metadata": {},
     "output_type": "execute_result"
    }
   ],
   "source": [
    "df_ps = pd.read_csv('/Users/jiaxincui/Documents/GitHub/git-exercise-AllysonCui/Data/Kaggle/president_state.csv')\n",
    "df_ps.head()"
   ],
   "metadata": {
    "collapsed": false
   }
  },
  {
   "cell_type": "code",
   "execution_count": 5,
   "outputs": [
    {
     "data": {
      "text/plain": "           State                                             Source  \\\n0  United States                                                NaN   \n1        Alabama  https://www2.alabamavotes.gov/electionnight/st...   \n2         Alaska  https://www.elections.alaska.gov/results/20GEN...   \n3        Arizona       https://results.arizona.vote/#/featured/18/0   \n4       Arkansas  https://results.enr.clarityelections.com/AR/10...   \n\n  Official/Unofficial Total Ballots Counted (Estimate)  \\\n0                 NaN                      158,835,004   \n1          Unofficial                        2,306,587   \n2                 NaN                          367,000   \n3                 NaN                        3,400,000   \n4          Unofficial                        1,212,030   \n\n  Vote for Highest Office (President) VEP Turnout Rate  \\\n0                                 NaN            66.4%   \n1                           2,297,295            62.6%   \n2                                 NaN            69.8%   \n3                                 NaN            65.5%   \n4                           1,206,697            55.5%   \n\n  Voting-Eligible Population (VEP) Voting-Age Population (VAP) % Non-citizen  \\\n0                      239,247,182                 257,605,088          7.8%   \n1                        3,683,055                   3,837,540          2.3%   \n2                          525,568                     551,117          3.4%   \n3                        5,189,000                   5,798,473          8.9%   \n4                        2,182,375                   2,331,171          3.6%   \n\n      Prison  Probation   Parole Total Ineligible Felon Overseas Eligible  \\\n0  1,461,074  1,962,811  616,440              3,294,457         4,971,025   \n1     25,898     50,997   10,266                 67,782               NaN   \n2      4,293      2,074    1,348                  6,927               NaN   \n3     38,520     76,844    7,536                 93,699               NaN   \n4     17,510     36,719   24,698                 64,974               NaN   \n\n  State Abv  \n0       NaN  \n1        AL  \n2        AK  \n3        AZ  \n4        AR  ",
      "text/html": "<div>\n<style scoped>\n    .dataframe tbody tr th:only-of-type {\n        vertical-align: middle;\n    }\n\n    .dataframe tbody tr th {\n        vertical-align: top;\n    }\n\n    .dataframe thead th {\n        text-align: right;\n    }\n</style>\n<table border=\"1\" class=\"dataframe\">\n  <thead>\n    <tr style=\"text-align: right;\">\n      <th></th>\n      <th>State</th>\n      <th>Source</th>\n      <th>Official/Unofficial</th>\n      <th>Total Ballots Counted (Estimate)</th>\n      <th>Vote for Highest Office (President)</th>\n      <th>VEP Turnout Rate</th>\n      <th>Voting-Eligible Population (VEP)</th>\n      <th>Voting-Age Population (VAP)</th>\n      <th>% Non-citizen</th>\n      <th>Prison</th>\n      <th>Probation</th>\n      <th>Parole</th>\n      <th>Total Ineligible Felon</th>\n      <th>Overseas Eligible</th>\n      <th>State Abv</th>\n    </tr>\n  </thead>\n  <tbody>\n    <tr>\n      <th>0</th>\n      <td>United States</td>\n      <td>NaN</td>\n      <td>NaN</td>\n      <td>158,835,004</td>\n      <td>NaN</td>\n      <td>66.4%</td>\n      <td>239,247,182</td>\n      <td>257,605,088</td>\n      <td>7.8%</td>\n      <td>1,461,074</td>\n      <td>1,962,811</td>\n      <td>616,440</td>\n      <td>3,294,457</td>\n      <td>4,971,025</td>\n      <td>NaN</td>\n    </tr>\n    <tr>\n      <th>1</th>\n      <td>Alabama</td>\n      <td>https://www2.alabamavotes.gov/electionnight/st...</td>\n      <td>Unofficial</td>\n      <td>2,306,587</td>\n      <td>2,297,295</td>\n      <td>62.6%</td>\n      <td>3,683,055</td>\n      <td>3,837,540</td>\n      <td>2.3%</td>\n      <td>25,898</td>\n      <td>50,997</td>\n      <td>10,266</td>\n      <td>67,782</td>\n      <td>NaN</td>\n      <td>AL</td>\n    </tr>\n    <tr>\n      <th>2</th>\n      <td>Alaska</td>\n      <td>https://www.elections.alaska.gov/results/20GEN...</td>\n      <td>NaN</td>\n      <td>367,000</td>\n      <td>NaN</td>\n      <td>69.8%</td>\n      <td>525,568</td>\n      <td>551,117</td>\n      <td>3.4%</td>\n      <td>4,293</td>\n      <td>2,074</td>\n      <td>1,348</td>\n      <td>6,927</td>\n      <td>NaN</td>\n      <td>AK</td>\n    </tr>\n    <tr>\n      <th>3</th>\n      <td>Arizona</td>\n      <td>https://results.arizona.vote/#/featured/18/0</td>\n      <td>NaN</td>\n      <td>3,400,000</td>\n      <td>NaN</td>\n      <td>65.5%</td>\n      <td>5,189,000</td>\n      <td>5,798,473</td>\n      <td>8.9%</td>\n      <td>38,520</td>\n      <td>76,844</td>\n      <td>7,536</td>\n      <td>93,699</td>\n      <td>NaN</td>\n      <td>AZ</td>\n    </tr>\n    <tr>\n      <th>4</th>\n      <td>Arkansas</td>\n      <td>https://results.enr.clarityelections.com/AR/10...</td>\n      <td>Unofficial</td>\n      <td>1,212,030</td>\n      <td>1,206,697</td>\n      <td>55.5%</td>\n      <td>2,182,375</td>\n      <td>2,331,171</td>\n      <td>3.6%</td>\n      <td>17,510</td>\n      <td>36,719</td>\n      <td>24,698</td>\n      <td>64,974</td>\n      <td>NaN</td>\n      <td>AR</td>\n    </tr>\n  </tbody>\n</table>\n</div>"
     },
     "execution_count": 5,
     "metadata": {},
     "output_type": "execute_result"
    }
   ],
   "source": [
    "df_voter = pd.read_csv(\n",
    "    '/Users/jiaxincui/Documents/GitHub/git-exercise-AllysonCui/Data/Kaggle/2020 November General Election - Turnout Rates.csv')\n",
    "df_voter.head()"
   ],
   "metadata": {
    "collapsed": false
   }
  },
  {
   "cell_type": "code",
   "execution_count": 6,
   "outputs": [
    {
     "data": {
      "text/plain": "          state     TRUE    FALSE  Grand Total\n0    California   709784  5296177      6005961\n1         Texas  3382177  2508170      5890347\n2       Florida  3070400  2598331      5668731\n3  Pennsylvania  1913864  1464399      3378263\n4      New York  1324507  1925723      3250230",
      "text/html": "<div>\n<style scoped>\n    .dataframe tbody tr th:only-of-type {\n        vertical-align: middle;\n    }\n\n    .dataframe tbody tr th {\n        vertical-align: top;\n    }\n\n    .dataframe thead th {\n        text-align: right;\n    }\n</style>\n<table border=\"1\" class=\"dataframe\">\n  <thead>\n    <tr style=\"text-align: right;\">\n      <th></th>\n      <th>state</th>\n      <th>TRUE</th>\n      <th>FALSE</th>\n      <th>Grand Total</th>\n    </tr>\n  </thead>\n  <tbody>\n    <tr>\n      <th>0</th>\n      <td>California</td>\n      <td>709784</td>\n      <td>5296177</td>\n      <td>6005961</td>\n    </tr>\n    <tr>\n      <th>1</th>\n      <td>Texas</td>\n      <td>3382177</td>\n      <td>2508170</td>\n      <td>5890347</td>\n    </tr>\n    <tr>\n      <th>2</th>\n      <td>Florida</td>\n      <td>3070400</td>\n      <td>2598331</td>\n      <td>5668731</td>\n    </tr>\n    <tr>\n      <th>3</th>\n      <td>Pennsylvania</td>\n      <td>1913864</td>\n      <td>1464399</td>\n      <td>3378263</td>\n    </tr>\n    <tr>\n      <th>4</th>\n      <td>New York</td>\n      <td>1324507</td>\n      <td>1925723</td>\n      <td>3250230</td>\n    </tr>\n  </tbody>\n</table>\n</div>"
     },
     "execution_count": 6,
     "metadata": {},
     "output_type": "execute_result"
    }
   ],
   "source": [
    "df_trump_vote = pd.read_csv('/Users/jiaxincui/Documents/GitHub/git-exercise-AllysonCui/Data/Other/trump_vote_2020.csv')\n",
    "df_trump_vote.head()"
   ],
   "metadata": {
    "collapsed": false
   }
  },
  {
   "cell_type": "code",
   "execution_count": 7,
   "outputs": [
    {
     "data": {
      "text/plain": "         NAME  Median Age (years)\n0     Alabama                39.8\n1      Alaska                35.6\n2     Arizona                30.1\n3    Arkansas                37.4\n4  California                24.7",
      "text/html": "<div>\n<style scoped>\n    .dataframe tbody tr th:only-of-type {\n        vertical-align: middle;\n    }\n\n    .dataframe tbody tr th {\n        vertical-align: top;\n    }\n\n    .dataframe thead th {\n        text-align: right;\n    }\n</style>\n<table border=\"1\" class=\"dataframe\">\n  <thead>\n    <tr style=\"text-align: right;\">\n      <th></th>\n      <th>NAME</th>\n      <th>Median Age (years)</th>\n    </tr>\n  </thead>\n  <tbody>\n    <tr>\n      <th>0</th>\n      <td>Alabama</td>\n      <td>39.8</td>\n    </tr>\n    <tr>\n      <th>1</th>\n      <td>Alaska</td>\n      <td>35.6</td>\n    </tr>\n    <tr>\n      <th>2</th>\n      <td>Arizona</td>\n      <td>30.1</td>\n    </tr>\n    <tr>\n      <th>3</th>\n      <td>Arkansas</td>\n      <td>37.4</td>\n    </tr>\n    <tr>\n      <th>4</th>\n      <td>California</td>\n      <td>24.7</td>\n    </tr>\n  </tbody>\n</table>\n</div>"
     },
     "execution_count": 7,
     "metadata": {},
     "output_type": "execute_result"
    }
   ],
   "source": [
    "df_age = pd.read_csv('/Users/jiaxincui/Documents/GitHub/git-exercise-AllysonCui/Data/Other/age.csv')\n",
    "df_age.head()"
   ],
   "metadata": {
    "collapsed": false
   }
  },
  {
   "cell_type": "code",
   "execution_count": 8,
   "outputs": [
    {
     "data": {
      "text/plain": "  STATEFP   STATENS     AFFGEOID GEOID STUSPS       NAME LSAD          ALAND  \\\n0      22  01629543  0400000US22    22     LA  Louisiana   00   111915258185   \n1      02  01785533  0400000US02    02     AK     Alaska   00  1478942847588   \n2      24  01714934  0400000US24    24     MD   Maryland   00    25151992308   \n3      55  01779806  0400000US55    55     WI  Wisconsin   00   140292321657   \n4      12  00294478  0400000US12    12     FL    Florida   00   138961722096   \n\n         AWATER                                           geometry  \n0   23736382213  POLYGON ((-94.04305 32.69303, -94.04303 32.797...  \n1  245378425142  MULTIPOLYGON (((179.48132 51.97530, 179.58286 ...  \n2    6979074857  MULTIPOLYGON (((-76.04621 38.02553, -76.00734 ...  \n3   29343646672  MULTIPOLYGON (((-86.93428 45.42115, -86.83575 ...  \n4   45972570361  MULTIPOLYGON (((-81.81169 24.56874, -81.75127 ...  ",
      "text/html": "<div>\n<style scoped>\n    .dataframe tbody tr th:only-of-type {\n        vertical-align: middle;\n    }\n\n    .dataframe tbody tr th {\n        vertical-align: top;\n    }\n\n    .dataframe thead th {\n        text-align: right;\n    }\n</style>\n<table border=\"1\" class=\"dataframe\">\n  <thead>\n    <tr style=\"text-align: right;\">\n      <th></th>\n      <th>STATEFP</th>\n      <th>STATENS</th>\n      <th>AFFGEOID</th>\n      <th>GEOID</th>\n      <th>STUSPS</th>\n      <th>NAME</th>\n      <th>LSAD</th>\n      <th>ALAND</th>\n      <th>AWATER</th>\n      <th>geometry</th>\n    </tr>\n  </thead>\n  <tbody>\n    <tr>\n      <th>0</th>\n      <td>22</td>\n      <td>01629543</td>\n      <td>0400000US22</td>\n      <td>22</td>\n      <td>LA</td>\n      <td>Louisiana</td>\n      <td>00</td>\n      <td>111915258185</td>\n      <td>23736382213</td>\n      <td>POLYGON ((-94.04305 32.69303, -94.04303 32.797...</td>\n    </tr>\n    <tr>\n      <th>1</th>\n      <td>02</td>\n      <td>01785533</td>\n      <td>0400000US02</td>\n      <td>02</td>\n      <td>AK</td>\n      <td>Alaska</td>\n      <td>00</td>\n      <td>1478942847588</td>\n      <td>245378425142</td>\n      <td>MULTIPOLYGON (((179.48132 51.97530, 179.58286 ...</td>\n    </tr>\n    <tr>\n      <th>2</th>\n      <td>24</td>\n      <td>01714934</td>\n      <td>0400000US24</td>\n      <td>24</td>\n      <td>MD</td>\n      <td>Maryland</td>\n      <td>00</td>\n      <td>25151992308</td>\n      <td>6979074857</td>\n      <td>MULTIPOLYGON (((-76.04621 38.02553, -76.00734 ...</td>\n    </tr>\n    <tr>\n      <th>3</th>\n      <td>55</td>\n      <td>01779806</td>\n      <td>0400000US55</td>\n      <td>55</td>\n      <td>WI</td>\n      <td>Wisconsin</td>\n      <td>00</td>\n      <td>140292321657</td>\n      <td>29343646672</td>\n      <td>MULTIPOLYGON (((-86.93428 45.42115, -86.83575 ...</td>\n    </tr>\n    <tr>\n      <th>4</th>\n      <td>12</td>\n      <td>00294478</td>\n      <td>0400000US12</td>\n      <td>12</td>\n      <td>FL</td>\n      <td>Florida</td>\n      <td>00</td>\n      <td>138961722096</td>\n      <td>45972570361</td>\n      <td>MULTIPOLYGON (((-81.81169 24.56874, -81.75127 ...</td>\n    </tr>\n  </tbody>\n</table>\n</div>"
     },
     "execution_count": 8,
     "metadata": {},
     "output_type": "execute_result"
    }
   ],
   "source": [
    "usa = gpd.read_file('/Users/jiaxincui/Documents/GitHub/git-exercise-AllysonCui/Data/Other/cb_2021_us_state_20m/cb_2021_us_state_20m.shp')\n",
    "usa.head()"
   ],
   "metadata": {
    "collapsed": false
   }
  },
  {
   "cell_type": "code",
   "execution_count": 9,
   "outputs": [
    {
     "data": {
      "text/plain": "          city   city_ascii state_id  state_name  county_fips  county_name  \\\n0     New York     New York       NY    New York        36081       Queens   \n1  Los Angeles  Los Angeles       CA  California         6037  Los Angeles   \n2      Chicago      Chicago       IL    Illinois        17031         Cook   \n3        Miami        Miami       FL     Florida        12086   Miami-Dade   \n4       Dallas       Dallas       TX       Texas        48113       Dallas   \n\n       lat       lng  population  density source  military  incorporated  \\\n0  40.6943  -73.9249    18680025  10768.0  shape     False          True   \n1  34.1141 -118.4068    12531334   3267.0  shape     False          True   \n2  41.8375  -87.6866     8586888   4576.0  shape     False          True   \n3  25.7840  -80.2101     6076316   4945.0  shape     False          True   \n4  32.7935  -96.7667     5910669   1522.0  shape     False          True   \n\n              timezone  ranking  \\\n0     America/New_York        1   \n1  America/Los_Angeles        1   \n2      America/Chicago        1   \n3     America/New_York        1   \n4      America/Chicago        1   \n\n                                                zips          id  \n0  11229 11228 11226 11225 11224 11222 11221 1122...  1840034016  \n1  91367 90291 90293 90292 91316 91311 90035 9003...  1840020491  \n2  60018 60649 60641 60640 60643 60642 60645 6064...  1840000494  \n3  33128 33129 33125 33126 33127 33149 33144 3314...  1840015149  \n4  75098 75287 75230 75231 75236 75237 75235 7525...  1840019440  ",
      "text/html": "<div>\n<style scoped>\n    .dataframe tbody tr th:only-of-type {\n        vertical-align: middle;\n    }\n\n    .dataframe tbody tr th {\n        vertical-align: top;\n    }\n\n    .dataframe thead th {\n        text-align: right;\n    }\n</style>\n<table border=\"1\" class=\"dataframe\">\n  <thead>\n    <tr style=\"text-align: right;\">\n      <th></th>\n      <th>city</th>\n      <th>city_ascii</th>\n      <th>state_id</th>\n      <th>state_name</th>\n      <th>county_fips</th>\n      <th>county_name</th>\n      <th>lat</th>\n      <th>lng</th>\n      <th>population</th>\n      <th>density</th>\n      <th>source</th>\n      <th>military</th>\n      <th>incorporated</th>\n      <th>timezone</th>\n      <th>ranking</th>\n      <th>zips</th>\n      <th>id</th>\n    </tr>\n  </thead>\n  <tbody>\n    <tr>\n      <th>0</th>\n      <td>New York</td>\n      <td>New York</td>\n      <td>NY</td>\n      <td>New York</td>\n      <td>36081</td>\n      <td>Queens</td>\n      <td>40.6943</td>\n      <td>-73.9249</td>\n      <td>18680025</td>\n      <td>10768.0</td>\n      <td>shape</td>\n      <td>False</td>\n      <td>True</td>\n      <td>America/New_York</td>\n      <td>1</td>\n      <td>11229 11228 11226 11225 11224 11222 11221 1122...</td>\n      <td>1840034016</td>\n    </tr>\n    <tr>\n      <th>1</th>\n      <td>Los Angeles</td>\n      <td>Los Angeles</td>\n      <td>CA</td>\n      <td>California</td>\n      <td>6037</td>\n      <td>Los Angeles</td>\n      <td>34.1141</td>\n      <td>-118.4068</td>\n      <td>12531334</td>\n      <td>3267.0</td>\n      <td>shape</td>\n      <td>False</td>\n      <td>True</td>\n      <td>America/Los_Angeles</td>\n      <td>1</td>\n      <td>91367 90291 90293 90292 91316 91311 90035 9003...</td>\n      <td>1840020491</td>\n    </tr>\n    <tr>\n      <th>2</th>\n      <td>Chicago</td>\n      <td>Chicago</td>\n      <td>IL</td>\n      <td>Illinois</td>\n      <td>17031</td>\n      <td>Cook</td>\n      <td>41.8375</td>\n      <td>-87.6866</td>\n      <td>8586888</td>\n      <td>4576.0</td>\n      <td>shape</td>\n      <td>False</td>\n      <td>True</td>\n      <td>America/Chicago</td>\n      <td>1</td>\n      <td>60018 60649 60641 60640 60643 60642 60645 6064...</td>\n      <td>1840000494</td>\n    </tr>\n    <tr>\n      <th>3</th>\n      <td>Miami</td>\n      <td>Miami</td>\n      <td>FL</td>\n      <td>Florida</td>\n      <td>12086</td>\n      <td>Miami-Dade</td>\n      <td>25.7840</td>\n      <td>-80.2101</td>\n      <td>6076316</td>\n      <td>4945.0</td>\n      <td>shape</td>\n      <td>False</td>\n      <td>True</td>\n      <td>America/New_York</td>\n      <td>1</td>\n      <td>33128 33129 33125 33126 33127 33149 33144 3314...</td>\n      <td>1840015149</td>\n    </tr>\n    <tr>\n      <th>4</th>\n      <td>Dallas</td>\n      <td>Dallas</td>\n      <td>TX</td>\n      <td>Texas</td>\n      <td>48113</td>\n      <td>Dallas</td>\n      <td>32.7935</td>\n      <td>-96.7667</td>\n      <td>5910669</td>\n      <td>1522.0</td>\n      <td>shape</td>\n      <td>False</td>\n      <td>True</td>\n      <td>America/Chicago</td>\n      <td>1</td>\n      <td>75098 75287 75230 75231 75236 75237 75235 7525...</td>\n      <td>1840019440</td>\n    </tr>\n  </tbody>\n</table>\n</div>"
     },
     "execution_count": 9,
     "metadata": {},
     "output_type": "execute_result"
    }
   ],
   "source": [
    "df_geo = pd.read_csv('/Users/jiaxincui/Documents/GitHub/git-exercise-AllysonCui/Data/Other/uscities.csv')\n",
    "df_geo.head()"
   ],
   "metadata": {
    "collapsed": false
   }
  },
  {
   "cell_type": "markdown",
   "source": [
    "Since the geographical coordinates are incomplete with the above dataset, here I will include another dataset from Wikipedia that provides addition coordinates on the counties with missing data. As this data is important for almost all analysis, including those at the early stage of the project, I decided to move this part to the upfront."
   ],
   "metadata": {
    "collapsed": false
   }
  },
  {
   "cell_type": "code",
   "execution_count": 10,
   "outputs": [
    {
     "data": {
      "text/plain": "  city city_ascii state_id state_name  county_fips county_name        lat  \\\n0                       AL                    1001     Autauga  32.536382   \n1                       AL                    1003     Baldwin  30.659218   \n2                       AL                    1005     Barbour  31.870670   \n3                       AL                    1007        Bibb  33.015893   \n4                       AL                    1009      Blount  33.977448   \n\n         lng population density source military incorporated timezone ranking  \\\n0  86.644490                                                                    \n1  87.746067                                                                    \n2  85.405456                                                                    \n3  87.127148                                                                    \n4  86.567246                                                                    \n\n  zips id  \n0          \n1          \n2          \n3          \n4          ",
      "text/html": "<div>\n<style scoped>\n    .dataframe tbody tr th:only-of-type {\n        vertical-align: middle;\n    }\n\n    .dataframe tbody tr th {\n        vertical-align: top;\n    }\n\n    .dataframe thead th {\n        text-align: right;\n    }\n</style>\n<table border=\"1\" class=\"dataframe\">\n  <thead>\n    <tr style=\"text-align: right;\">\n      <th></th>\n      <th>city</th>\n      <th>city_ascii</th>\n      <th>state_id</th>\n      <th>state_name</th>\n      <th>county_fips</th>\n      <th>county_name</th>\n      <th>lat</th>\n      <th>lng</th>\n      <th>population</th>\n      <th>density</th>\n      <th>source</th>\n      <th>military</th>\n      <th>incorporated</th>\n      <th>timezone</th>\n      <th>ranking</th>\n      <th>zips</th>\n      <th>id</th>\n    </tr>\n  </thead>\n  <tbody>\n    <tr>\n      <th>0</th>\n      <td></td>\n      <td></td>\n      <td>AL</td>\n      <td></td>\n      <td>1001</td>\n      <td>Autauga</td>\n      <td>32.536382</td>\n      <td>86.644490</td>\n      <td></td>\n      <td></td>\n      <td></td>\n      <td></td>\n      <td></td>\n      <td></td>\n      <td></td>\n      <td></td>\n      <td></td>\n    </tr>\n    <tr>\n      <th>1</th>\n      <td></td>\n      <td></td>\n      <td>AL</td>\n      <td></td>\n      <td>1003</td>\n      <td>Baldwin</td>\n      <td>30.659218</td>\n      <td>87.746067</td>\n      <td></td>\n      <td></td>\n      <td></td>\n      <td></td>\n      <td></td>\n      <td></td>\n      <td></td>\n      <td></td>\n      <td></td>\n    </tr>\n    <tr>\n      <th>2</th>\n      <td></td>\n      <td></td>\n      <td>AL</td>\n      <td></td>\n      <td>1005</td>\n      <td>Barbour</td>\n      <td>31.870670</td>\n      <td>85.405456</td>\n      <td></td>\n      <td></td>\n      <td></td>\n      <td></td>\n      <td></td>\n      <td></td>\n      <td></td>\n      <td></td>\n      <td></td>\n    </tr>\n    <tr>\n      <th>3</th>\n      <td></td>\n      <td></td>\n      <td>AL</td>\n      <td></td>\n      <td>1007</td>\n      <td>Bibb</td>\n      <td>33.015893</td>\n      <td>87.127148</td>\n      <td></td>\n      <td></td>\n      <td></td>\n      <td></td>\n      <td></td>\n      <td></td>\n      <td></td>\n      <td></td>\n      <td></td>\n    </tr>\n    <tr>\n      <th>4</th>\n      <td></td>\n      <td></td>\n      <td>AL</td>\n      <td></td>\n      <td>1009</td>\n      <td>Blount</td>\n      <td>33.977448</td>\n      <td>86.567246</td>\n      <td></td>\n      <td></td>\n      <td></td>\n      <td></td>\n      <td></td>\n      <td></td>\n      <td></td>\n      <td></td>\n      <td></td>\n    </tr>\n  </tbody>\n</table>\n</div>"
     },
     "execution_count": 10,
     "metadata": {},
     "output_type": "execute_result"
    }
   ],
   "source": [
    "web_url = 'https://en.wikipedia.org/wiki/User:Michael_J/County_table'\n",
    "response = requests.get(web_url)\n",
    "\n",
    "soup_object = BeautifulSoup(response.content)\n",
    "\n",
    "data_table = soup_object.find_all('table', 'wikitable sortable')[0]\n",
    "all_values = data_table.find_all('tr')\n",
    "\n",
    "col_names = df_geo.columns.tolist()\n",
    "county_geo = pd.DataFrame(columns=col_names)\n",
    "ix = 0\n",
    "for row in all_values[1:]:\n",
    "    values = row.find_all('td')\n",
    "    state_id = values[1].text.split(\"\\n\")[0]\n",
    "    county_fips = int(values[2].text.split(\"\\n\")[0])\n",
    "    county_name = values[3].text.split(\"\\n\")[0]\n",
    "    lat = float(values[12].text.split(\"\\n\")[0].replace('+', '').replace('°', ''))\n",
    "    lng = float(values[13].text.split(\"\\n\")[0].replace('–', '').replace('°', ''))\n",
    "    #population = values[5].text.split(\"\\n\")[0].astype(int)*1.074\n",
    "\n",
    "    county_geo.loc[ix] = ['', '', state_id, '', county_fips, county_name, lat, lng,'','', '', '', '', '', '', '', '', ]\n",
    "    ix += 1\n",
    "\n",
    "county_geo.head()"
   ],
   "metadata": {
    "collapsed": false
   }
  },
  {
   "cell_type": "code",
   "execution_count": 11,
   "outputs": [
    {
     "data": {
      "text/plain": "          city   city_ascii state_id  state_name  county_fips  county_name  \\\n0     New York     New York       NY    New York        36081       Queens   \n1  Los Angeles  Los Angeles       CA  California         6037  Los Angeles   \n2      Chicago      Chicago       IL    Illinois        17031         Cook   \n3        Miami        Miami       FL     Florida        12086   Miami-Dade   \n4       Dallas       Dallas       TX       Texas        48113       Dallas   \n\n       lat       lng population  density source military incorporated  \\\n0  40.6943  -73.9249   18680025  10768.0  shape    False         True   \n1  34.1141 -118.4068   12531334   3267.0  shape    False         True   \n2  41.8375  -87.6866    8586888   4576.0  shape    False         True   \n3  25.7840  -80.2101    6076316   4945.0  shape    False         True   \n4  32.7935  -96.7667    5910669   1522.0  shape    False         True   \n\n              timezone ranking  \\\n0     America/New_York       1   \n1  America/Los_Angeles       1   \n2      America/Chicago       1   \n3     America/New_York       1   \n4      America/Chicago       1   \n\n                                                zips          id  \n0  11229 11228 11226 11225 11224 11222 11221 1122...  1840034016  \n1  91367 90291 90293 90292 91316 91311 90035 9003...  1840020491  \n2  60018 60649 60641 60640 60643 60642 60645 6064...  1840000494  \n3  33128 33129 33125 33126 33127 33149 33144 3314...  1840015149  \n4  75098 75287 75230 75231 75236 75237 75235 7525...  1840019440  ",
      "text/html": "<div>\n<style scoped>\n    .dataframe tbody tr th:only-of-type {\n        vertical-align: middle;\n    }\n\n    .dataframe tbody tr th {\n        vertical-align: top;\n    }\n\n    .dataframe thead th {\n        text-align: right;\n    }\n</style>\n<table border=\"1\" class=\"dataframe\">\n  <thead>\n    <tr style=\"text-align: right;\">\n      <th></th>\n      <th>city</th>\n      <th>city_ascii</th>\n      <th>state_id</th>\n      <th>state_name</th>\n      <th>county_fips</th>\n      <th>county_name</th>\n      <th>lat</th>\n      <th>lng</th>\n      <th>population</th>\n      <th>density</th>\n      <th>source</th>\n      <th>military</th>\n      <th>incorporated</th>\n      <th>timezone</th>\n      <th>ranking</th>\n      <th>zips</th>\n      <th>id</th>\n    </tr>\n  </thead>\n  <tbody>\n    <tr>\n      <th>0</th>\n      <td>New York</td>\n      <td>New York</td>\n      <td>NY</td>\n      <td>New York</td>\n      <td>36081</td>\n      <td>Queens</td>\n      <td>40.6943</td>\n      <td>-73.9249</td>\n      <td>18680025</td>\n      <td>10768.0</td>\n      <td>shape</td>\n      <td>False</td>\n      <td>True</td>\n      <td>America/New_York</td>\n      <td>1</td>\n      <td>11229 11228 11226 11225 11224 11222 11221 1122...</td>\n      <td>1840034016</td>\n    </tr>\n    <tr>\n      <th>1</th>\n      <td>Los Angeles</td>\n      <td>Los Angeles</td>\n      <td>CA</td>\n      <td>California</td>\n      <td>6037</td>\n      <td>Los Angeles</td>\n      <td>34.1141</td>\n      <td>-118.4068</td>\n      <td>12531334</td>\n      <td>3267.0</td>\n      <td>shape</td>\n      <td>False</td>\n      <td>True</td>\n      <td>America/Los_Angeles</td>\n      <td>1</td>\n      <td>91367 90291 90293 90292 91316 91311 90035 9003...</td>\n      <td>1840020491</td>\n    </tr>\n    <tr>\n      <th>2</th>\n      <td>Chicago</td>\n      <td>Chicago</td>\n      <td>IL</td>\n      <td>Illinois</td>\n      <td>17031</td>\n      <td>Cook</td>\n      <td>41.8375</td>\n      <td>-87.6866</td>\n      <td>8586888</td>\n      <td>4576.0</td>\n      <td>shape</td>\n      <td>False</td>\n      <td>True</td>\n      <td>America/Chicago</td>\n      <td>1</td>\n      <td>60018 60649 60641 60640 60643 60642 60645 6064...</td>\n      <td>1840000494</td>\n    </tr>\n    <tr>\n      <th>3</th>\n      <td>Miami</td>\n      <td>Miami</td>\n      <td>FL</td>\n      <td>Florida</td>\n      <td>12086</td>\n      <td>Miami-Dade</td>\n      <td>25.7840</td>\n      <td>-80.2101</td>\n      <td>6076316</td>\n      <td>4945.0</td>\n      <td>shape</td>\n      <td>False</td>\n      <td>True</td>\n      <td>America/New_York</td>\n      <td>1</td>\n      <td>33128 33129 33125 33126 33127 33149 33144 3314...</td>\n      <td>1840015149</td>\n    </tr>\n    <tr>\n      <th>4</th>\n      <td>Dallas</td>\n      <td>Dallas</td>\n      <td>TX</td>\n      <td>Texas</td>\n      <td>48113</td>\n      <td>Dallas</td>\n      <td>32.7935</td>\n      <td>-96.7667</td>\n      <td>5910669</td>\n      <td>1522.0</td>\n      <td>shape</td>\n      <td>False</td>\n      <td>True</td>\n      <td>America/Chicago</td>\n      <td>1</td>\n      <td>75098 75287 75230 75231 75236 75237 75235 7525...</td>\n      <td>1840019440</td>\n    </tr>\n  </tbody>\n</table>\n</div>"
     },
     "execution_count": 11,
     "metadata": {},
     "output_type": "execute_result"
    }
   ],
   "source": [
    "# assuming df1 and df2 are the two data frames you have\n",
    "merged_df = pd.concat([df_geo, county_geo], ignore_index=True)\n",
    "\n",
    "# drop duplicates based on state_id and county_name columns\n",
    "merged_df.drop_duplicates(subset=['state_id', 'county_name'], inplace=True)\n",
    "merged_df.head()"
   ],
   "metadata": {
    "collapsed": false
   }
  },
  {
   "cell_type": "code",
   "execution_count": 12,
   "outputs": [],
   "source": [
    "pd.set_option('display.max_columns', None)"
   ],
   "metadata": {
    "collapsed": false
   }
  },
  {
   "cell_type": "markdown",
   "source": [
    "### Data Cleaning\n",
    "#### Electoral System"
   ],
   "metadata": {
    "collapsed": false
   }
  },
  {
   "cell_type": "markdown",
   "source": [
    "##### Step 1: Remove the rows of US Election 2020 where the candidate did not win"
   ],
   "metadata": {
    "collapsed": false
   }
  },
  {
   "cell_type": "code",
   "execution_count": 13,
   "outputs": [],
   "source": [
    "df['county'] = df['county'].str.replace(' County', '')\n",
    "df_pc['county'] = df_pc['county'].str.replace(' County', '')"
   ],
   "metadata": {
    "collapsed": false
   }
  },
  {
   "cell_type": "markdown",
   "source": [
    "##### Step 2: Match the geographical coordinates with votes"
   ],
   "metadata": {
    "collapsed": false
   }
  },
  {
   "cell_type": "code",
   "execution_count": 14,
   "outputs": [
    {
     "data": {
      "text/plain": "                  state      county     candidate party  total_votes   won  \\\n0              Delaware        Kent     Joe Biden   DEM        87025  True   \n1              Delaware  New Castle     Joe Biden   DEM       287633  True   \n2              Delaware      Sussex  Donald Trump   REP       129352  True   \n3  District of Columbia      Ward 1     Joe Biden   DEM        41681  True   \n4  District of Columbia      Ward 2     Joe Biden   DEM        32881  True   \n\n       lat      lng  \n0  39.1610 -75.5202  \n1  39.7415 -75.5416  \n2  38.9091 -75.4227  \n3  38.9072 -77.0369  \n4  38.9063 -77.0340  ",
      "text/html": "<div>\n<style scoped>\n    .dataframe tbody tr th:only-of-type {\n        vertical-align: middle;\n    }\n\n    .dataframe tbody tr th {\n        vertical-align: top;\n    }\n\n    .dataframe thead th {\n        text-align: right;\n    }\n</style>\n<table border=\"1\" class=\"dataframe\">\n  <thead>\n    <tr style=\"text-align: right;\">\n      <th></th>\n      <th>state</th>\n      <th>county</th>\n      <th>candidate</th>\n      <th>party</th>\n      <th>total_votes</th>\n      <th>won</th>\n      <th>lat</th>\n      <th>lng</th>\n    </tr>\n  </thead>\n  <tbody>\n    <tr>\n      <th>0</th>\n      <td>Delaware</td>\n      <td>Kent</td>\n      <td>Joe Biden</td>\n      <td>DEM</td>\n      <td>87025</td>\n      <td>True</td>\n      <td>39.1610</td>\n      <td>-75.5202</td>\n    </tr>\n    <tr>\n      <th>1</th>\n      <td>Delaware</td>\n      <td>New Castle</td>\n      <td>Joe Biden</td>\n      <td>DEM</td>\n      <td>287633</td>\n      <td>True</td>\n      <td>39.7415</td>\n      <td>-75.5416</td>\n    </tr>\n    <tr>\n      <th>2</th>\n      <td>Delaware</td>\n      <td>Sussex</td>\n      <td>Donald Trump</td>\n      <td>REP</td>\n      <td>129352</td>\n      <td>True</td>\n      <td>38.9091</td>\n      <td>-75.4227</td>\n    </tr>\n    <tr>\n      <th>3</th>\n      <td>District of Columbia</td>\n      <td>Ward 1</td>\n      <td>Joe Biden</td>\n      <td>DEM</td>\n      <td>41681</td>\n      <td>True</td>\n      <td>38.9072</td>\n      <td>-77.0369</td>\n    </tr>\n    <tr>\n      <th>4</th>\n      <td>District of Columbia</td>\n      <td>Ward 2</td>\n      <td>Joe Biden</td>\n      <td>DEM</td>\n      <td>32881</td>\n      <td>True</td>\n      <td>38.9063</td>\n      <td>-77.0340</td>\n    </tr>\n  </tbody>\n</table>\n</div>"
     },
     "execution_count": 14,
     "metadata": {},
     "output_type": "execute_result"
    }
   ],
   "source": [
    "df_copy = df.copy()\n",
    "df_pc_copy = df_pc.copy()\n",
    "\n",
    "df_geo_copy = merged_df.copy()\n",
    "df_geo_copy.drop(['city', 'city_ascii', 'state_id', 'county_fips', 'source', 'military', 'incorporated', 'timezone', 'ranking', 'zips', 'id', 'population', 'density'], axis = 1, inplace = True)\n",
    "df_geo_copy.rename(columns={\"state_name\": \"state\", \"county_name\": \"county\"}, inplace = True)\n",
    "df_geo_copy.drop_duplicates(subset = ['state', 'county'], keep = 'first', inplace = True)\n",
    "df_geo_pop = df_geo.copy()\n",
    "df_geo_pop.drop(['city', 'city_ascii', 'state_id', 'county_fips', 'source', 'military', 'incorporated', 'timezone', 'ranking', 'zips', 'id'], axis = 1, inplace = True)\n",
    "df_geo_pop.rename(columns={\"state_name\": \"state\", \"county_name\": \"county\"}, inplace = True)\n",
    "df_geo_pop.drop_duplicates(subset = ['state', 'county'], keep = 'first', inplace = True)\n",
    "\n",
    "df_county_statistics = pd.merge(df_copy, df_geo_copy, on=['county', 'state'], how = 'left')\n",
    "df_pc_copy.drop(['total_votes', 'percent'], axis = 1, inplace = True)\n",
    "df_county = df_county_statistics.copy()\n",
    "df_county.drop(df_copy[df_copy['won'] == False].index, inplace = True)\n",
    "df_county.reset_index(inplace=True)\n",
    "df_county['total_votes'] = df_pc_copy['current_votes']\n",
    "df_county.drop(['index'], axis = 1, inplace = True)\n",
    "df_county.head()"
   ],
   "metadata": {
    "collapsed": false
   }
  },
  {
   "cell_type": "markdown",
   "source": [
    "##### Step 3: Calculating data for summary statistics table"
   ],
   "metadata": {
    "collapsed": false
   }
  },
  {
   "cell_type": "code",
   "execution_count": 15,
   "outputs": [
    {
     "data": {
      "text/plain": "      state    county     candidate party   won  won_votes  \\\n0  Delaware    Sussex  Donald Trump   REP  True      71230   \n1   Florida     Baker  Donald Trump   REP  True      11911   \n2   Florida       Bay  Donald Trump   REP  True      66097   \n3   Florida  Bradford  Donald Trump   REP  True      10334   \n4   Florida   Brevard  Donald Trump   REP  True     207883   \n\n   county_total_votes  share of votes in the winning counties  \n0              129352                                0.550668  \n1               14059                                0.847215  \n2               93024                                0.710537  \n3               13632                                0.758069  \n4              360764                                0.576230  ",
      "text/html": "<div>\n<style scoped>\n    .dataframe tbody tr th:only-of-type {\n        vertical-align: middle;\n    }\n\n    .dataframe tbody tr th {\n        vertical-align: top;\n    }\n\n    .dataframe thead th {\n        text-align: right;\n    }\n</style>\n<table border=\"1\" class=\"dataframe\">\n  <thead>\n    <tr style=\"text-align: right;\">\n      <th></th>\n      <th>state</th>\n      <th>county</th>\n      <th>candidate</th>\n      <th>party</th>\n      <th>won</th>\n      <th>won_votes</th>\n      <th>county_total_votes</th>\n      <th>share of votes in the winning counties</th>\n    </tr>\n  </thead>\n  <tbody>\n    <tr>\n      <th>0</th>\n      <td>Delaware</td>\n      <td>Sussex</td>\n      <td>Donald Trump</td>\n      <td>REP</td>\n      <td>True</td>\n      <td>71230</td>\n      <td>129352</td>\n      <td>0.550668</td>\n    </tr>\n    <tr>\n      <th>1</th>\n      <td>Florida</td>\n      <td>Baker</td>\n      <td>Donald Trump</td>\n      <td>REP</td>\n      <td>True</td>\n      <td>11911</td>\n      <td>14059</td>\n      <td>0.847215</td>\n    </tr>\n    <tr>\n      <th>2</th>\n      <td>Florida</td>\n      <td>Bay</td>\n      <td>Donald Trump</td>\n      <td>REP</td>\n      <td>True</td>\n      <td>66097</td>\n      <td>93024</td>\n      <td>0.710537</td>\n    </tr>\n    <tr>\n      <th>3</th>\n      <td>Florida</td>\n      <td>Bradford</td>\n      <td>Donald Trump</td>\n      <td>REP</td>\n      <td>True</td>\n      <td>10334</td>\n      <td>13632</td>\n      <td>0.758069</td>\n    </tr>\n    <tr>\n      <th>4</th>\n      <td>Florida</td>\n      <td>Brevard</td>\n      <td>Donald Trump</td>\n      <td>REP</td>\n      <td>True</td>\n      <td>207883</td>\n      <td>360764</td>\n      <td>0.576230</td>\n    </tr>\n  </tbody>\n</table>\n</div>"
     },
     "execution_count": 15,
     "metadata": {},
     "output_type": "execute_result"
    }
   ],
   "source": [
    "df_county_won = df_county.copy()\n",
    "df_county_won.drop(df_county_won[df_county_won['candidate'] != 'Donald Trump'].index, inplace = True)\n",
    "df_county_won.drop(['lat', 'lng'], axis = 1, inplace = True)\n",
    "df_county_won.rename(columns={\"total_votes\": \"county_total_votes\"}, inplace = True)\n",
    "df_county_won = pd.merge(df_county_won, df_copy, on=['county', 'state', 'candidate', 'party', 'won'], how='left')\n",
    "df_county_won.rename(columns={\"total_votes\": \"won_votes\"}, inplace = True)\n",
    "df_county_won = df_county_won[['state', 'county', 'candidate', 'party', 'won', 'won_votes', 'county_total_votes']]\n",
    "df_county_won['share of votes in the winning counties'] = \\\n",
    "    df_county_won['won_votes'] / df_county_won['county_total_votes']\n",
    "df_county_won.head()"
   ],
   "metadata": {
    "collapsed": false
   }
  },
  {
   "cell_type": "code",
   "execution_count": 16,
   "outputs": [
    {
     "data": {
      "text/plain": "                  state      county     candidate party    won  won_votes  \\\n0              Delaware        Kent  Donald Trump   REP  False      41009   \n1              Delaware  New Castle  Donald Trump   REP  False      88364   \n2  District of Columbia      Ward 1  Donald Trump   REP  False       1725   \n3  District of Columbia      Ward 2  Donald Trump   REP  False       2918   \n4  District of Columbia      Ward 3  Donald Trump   REP  False       3705   \n\n   county_total_votes  share of votes in the losing counties  \n0               87025                               0.471232  \n1              287633                               0.307211  \n2               41681                               0.041386  \n3               32881                               0.088744  \n4               44231                               0.083765  ",
      "text/html": "<div>\n<style scoped>\n    .dataframe tbody tr th:only-of-type {\n        vertical-align: middle;\n    }\n\n    .dataframe tbody tr th {\n        vertical-align: top;\n    }\n\n    .dataframe thead th {\n        text-align: right;\n    }\n</style>\n<table border=\"1\" class=\"dataframe\">\n  <thead>\n    <tr style=\"text-align: right;\">\n      <th></th>\n      <th>state</th>\n      <th>county</th>\n      <th>candidate</th>\n      <th>party</th>\n      <th>won</th>\n      <th>won_votes</th>\n      <th>county_total_votes</th>\n      <th>share of votes in the losing counties</th>\n    </tr>\n  </thead>\n  <tbody>\n    <tr>\n      <th>0</th>\n      <td>Delaware</td>\n      <td>Kent</td>\n      <td>Donald Trump</td>\n      <td>REP</td>\n      <td>False</td>\n      <td>41009</td>\n      <td>87025</td>\n      <td>0.471232</td>\n    </tr>\n    <tr>\n      <th>1</th>\n      <td>Delaware</td>\n      <td>New Castle</td>\n      <td>Donald Trump</td>\n      <td>REP</td>\n      <td>False</td>\n      <td>88364</td>\n      <td>287633</td>\n      <td>0.307211</td>\n    </tr>\n    <tr>\n      <th>2</th>\n      <td>District of Columbia</td>\n      <td>Ward 1</td>\n      <td>Donald Trump</td>\n      <td>REP</td>\n      <td>False</td>\n      <td>1725</td>\n      <td>41681</td>\n      <td>0.041386</td>\n    </tr>\n    <tr>\n      <th>3</th>\n      <td>District of Columbia</td>\n      <td>Ward 2</td>\n      <td>Donald Trump</td>\n      <td>REP</td>\n      <td>False</td>\n      <td>2918</td>\n      <td>32881</td>\n      <td>0.088744</td>\n    </tr>\n    <tr>\n      <th>4</th>\n      <td>District of Columbia</td>\n      <td>Ward 3</td>\n      <td>Donald Trump</td>\n      <td>REP</td>\n      <td>False</td>\n      <td>3705</td>\n      <td>44231</td>\n      <td>0.083765</td>\n    </tr>\n  </tbody>\n</table>\n</div>"
     },
     "execution_count": 16,
     "metadata": {},
     "output_type": "execute_result"
    }
   ],
   "source": [
    "df_county_lost = df_county_statistics.copy()\n",
    "df_county_lost.drop(df_copy[df_copy['won'] == True].index, inplace = True)\n",
    "df_county_lost.drop(df_county_lost[df_county_lost['candidate'] != 'Donald Trump'].index, inplace = True)\n",
    "df_county_lost.drop(['lat', 'lng'], axis = 1, inplace = True)\n",
    "df_county_lost.reset_index(inplace=True)\n",
    "df_county_lost.rename(columns={\"total_votes\": \"won_votes\"}, inplace = True)\n",
    "df_county_lost = pd.merge(df_county_lost, df_pc_copy, on = ['state', 'county'], how = 'left')\n",
    "df_county_lost.rename(columns={\"current_votes\": \"county_total_votes\"}, inplace = True)\n",
    "df_county_lost.drop(['index'], axis = 1, inplace = True)\n",
    "df_county_lost = df_county_lost[['state', 'county', 'candidate', 'party', 'won', 'won_votes', 'county_total_votes']]\n",
    "df_county_lost['share of votes in the losing counties'] =\\\n",
    "    df_county_lost['won_votes'] / df_county_lost['county_total_votes']\n",
    "df_county_lost.head()"
   ],
   "metadata": {
    "collapsed": false
   }
  },
  {
   "cell_type": "markdown",
   "source": [
    "For Electoral System I and II, in which the county is the vote casting level, data cleaning is done. They share the same dataframe for plotting purposes.\n",
    "\n",
    "For Electoral System III and IV, in which the state is the vote casting level, continue the following steps:\n",
    "\n",
    "##### Step 4: Calculate the number of counties won by each candidate in each state."
   ],
   "metadata": {
    "collapsed": false
   }
  },
  {
   "cell_type": "code",
   "execution_count": 17,
   "outputs": [
    {
     "data": {
      "text/plain": "                  candidate  # of counties won\nstate   party                                 \nAlabama REP    Donald Trump                 54\n        DEM       Joe Biden                 13\n        WRI       Write-ins                  0\n        LIB    Jo Jorgensen                  0\nAlaska  REP    Donald Trump                 20",
      "text/html": "<div>\n<style scoped>\n    .dataframe tbody tr th:only-of-type {\n        vertical-align: middle;\n    }\n\n    .dataframe tbody tr th {\n        vertical-align: top;\n    }\n\n    .dataframe thead th {\n        text-align: right;\n    }\n</style>\n<table border=\"1\" class=\"dataframe\">\n  <thead>\n    <tr style=\"text-align: right;\">\n      <th></th>\n      <th></th>\n      <th>candidate</th>\n      <th># of counties won</th>\n    </tr>\n    <tr>\n      <th>state</th>\n      <th>party</th>\n      <th></th>\n      <th></th>\n    </tr>\n  </thead>\n  <tbody>\n    <tr>\n      <th rowspan=\"4\" valign=\"top\">Alabama</th>\n      <th>REP</th>\n      <td>Donald Trump</td>\n      <td>54</td>\n    </tr>\n    <tr>\n      <th>DEM</th>\n      <td>Joe Biden</td>\n      <td>13</td>\n    </tr>\n    <tr>\n      <th>WRI</th>\n      <td>Write-ins</td>\n      <td>0</td>\n    </tr>\n    <tr>\n      <th>LIB</th>\n      <td>Jo Jorgensen</td>\n      <td>0</td>\n    </tr>\n    <tr>\n      <th>Alaska</th>\n      <th>REP</th>\n      <td>Donald Trump</td>\n      <td>20</td>\n    </tr>\n  </tbody>\n</table>\n</div>"
     },
     "execution_count": 17,
     "metadata": {},
     "output_type": "execute_result"
    }
   ],
   "source": [
    "df_state = df_copy.groupby([\"state\", \"candidate\", \"party\"]).sum(numeric_only = True)\n",
    "df_state.rename(columns={\"won\": \"# of counties won\"}, inplace = True)\n",
    "df_state.index = [df_state.index.get_level_values(0),\n",
    "                  df_state.index.get_level_values(1),\n",
    "                  df_state.index.get_level_values(2)]\n",
    "df_state = df_state.reset_index() \\\n",
    "       .sort_values(['state','# of counties won'], ascending=[True,False]) \\\n",
    "       .set_index(['state','party'])\n",
    "df_state.drop(['total_votes'], axis = 1, inplace = True)\n",
    "df_state.head()"
   ],
   "metadata": {
    "collapsed": false
   }
  },
  {
   "cell_type": "markdown",
   "source": [
    "##### Step 5: Keep the candidate of the highest voting only"
   ],
   "metadata": {
    "collapsed": false
   }
  },
  {
   "cell_type": "code",
   "execution_count": 18,
   "outputs": [
    {
     "data": {
      "text/plain": "        state party     candidate  # of counties won\n0     Alabama   REP  Donald Trump                 54\n1      Alaska   REP  Donald Trump                 20\n2     Arizona   REP  Donald Trump                 10\n3    Arkansas   REP  Donald Trump                 67\n4  California   DEM     Joe Biden                 35",
      "text/html": "<div>\n<style scoped>\n    .dataframe tbody tr th:only-of-type {\n        vertical-align: middle;\n    }\n\n    .dataframe tbody tr th {\n        vertical-align: top;\n    }\n\n    .dataframe thead th {\n        text-align: right;\n    }\n</style>\n<table border=\"1\" class=\"dataframe\">\n  <thead>\n    <tr style=\"text-align: right;\">\n      <th></th>\n      <th>state</th>\n      <th>party</th>\n      <th>candidate</th>\n      <th># of counties won</th>\n    </tr>\n  </thead>\n  <tbody>\n    <tr>\n      <th>0</th>\n      <td>Alabama</td>\n      <td>REP</td>\n      <td>Donald Trump</td>\n      <td>54</td>\n    </tr>\n    <tr>\n      <th>1</th>\n      <td>Alaska</td>\n      <td>REP</td>\n      <td>Donald Trump</td>\n      <td>20</td>\n    </tr>\n    <tr>\n      <th>2</th>\n      <td>Arizona</td>\n      <td>REP</td>\n      <td>Donald Trump</td>\n      <td>10</td>\n    </tr>\n    <tr>\n      <th>3</th>\n      <td>Arkansas</td>\n      <td>REP</td>\n      <td>Donald Trump</td>\n      <td>67</td>\n    </tr>\n    <tr>\n      <th>4</th>\n      <td>California</td>\n      <td>DEM</td>\n      <td>Joe Biden</td>\n      <td>35</td>\n    </tr>\n  </tbody>\n</table>\n</div>"
     },
     "execution_count": 18,
     "metadata": {},
     "output_type": "execute_result"
    }
   ],
   "source": [
    "df_state1 = df_state.copy()\n",
    "df_state1.reset_index(inplace=True)\n",
    "df_state1.drop_duplicates(\n",
    "  subset = ['state'],\n",
    "  keep = 'first', inplace = True)\n",
    "df_state1 = df_state1.reset_index(drop=True)\n",
    "df_state1.head()"
   ],
   "metadata": {
    "collapsed": false
   }
  },
  {
   "cell_type": "markdown",
   "source": [
    "##### Step 6: Replace all candidates and parties' name by the winner of each state, because now all the votes of a state belongs to the winner"
   ],
   "metadata": {
    "collapsed": false
   }
  },
  {
   "cell_type": "code",
   "execution_count": 19,
   "outputs": [
    {
     "data": {
      "text/plain": "                  state      county  total_votes   won      lat      lng  \\\n0              Delaware        Kent        87025  True  39.1610 -75.5202   \n1              Delaware  New Castle       287633  True  39.7415 -75.5416   \n2              Delaware      Sussex       129352  True  38.9091 -75.4227   \n3  District of Columbia      Ward 1        41681  True  38.9072 -77.0369   \n4  District of Columbia      Ward 2        32881  True  38.9063 -77.0340   \n\n  party  candidate  # of counties won  \n0   DEM  Joe Biden                  2  \n1   DEM  Joe Biden                  2  \n2   DEM  Joe Biden                  2  \n3   DEM  Joe Biden                  8  \n4   DEM  Joe Biden                  8  ",
      "text/html": "<div>\n<style scoped>\n    .dataframe tbody tr th:only-of-type {\n        vertical-align: middle;\n    }\n\n    .dataframe tbody tr th {\n        vertical-align: top;\n    }\n\n    .dataframe thead th {\n        text-align: right;\n    }\n</style>\n<table border=\"1\" class=\"dataframe\">\n  <thead>\n    <tr style=\"text-align: right;\">\n      <th></th>\n      <th>state</th>\n      <th>county</th>\n      <th>total_votes</th>\n      <th>won</th>\n      <th>lat</th>\n      <th>lng</th>\n      <th>party</th>\n      <th>candidate</th>\n      <th># of counties won</th>\n    </tr>\n  </thead>\n  <tbody>\n    <tr>\n      <th>0</th>\n      <td>Delaware</td>\n      <td>Kent</td>\n      <td>87025</td>\n      <td>True</td>\n      <td>39.1610</td>\n      <td>-75.5202</td>\n      <td>DEM</td>\n      <td>Joe Biden</td>\n      <td>2</td>\n    </tr>\n    <tr>\n      <th>1</th>\n      <td>Delaware</td>\n      <td>New Castle</td>\n      <td>287633</td>\n      <td>True</td>\n      <td>39.7415</td>\n      <td>-75.5416</td>\n      <td>DEM</td>\n      <td>Joe Biden</td>\n      <td>2</td>\n    </tr>\n    <tr>\n      <th>2</th>\n      <td>Delaware</td>\n      <td>Sussex</td>\n      <td>129352</td>\n      <td>True</td>\n      <td>38.9091</td>\n      <td>-75.4227</td>\n      <td>DEM</td>\n      <td>Joe Biden</td>\n      <td>2</td>\n    </tr>\n    <tr>\n      <th>3</th>\n      <td>District of Columbia</td>\n      <td>Ward 1</td>\n      <td>41681</td>\n      <td>True</td>\n      <td>38.9072</td>\n      <td>-77.0369</td>\n      <td>DEM</td>\n      <td>Joe Biden</td>\n      <td>8</td>\n    </tr>\n    <tr>\n      <th>4</th>\n      <td>District of Columbia</td>\n      <td>Ward 2</td>\n      <td>32881</td>\n      <td>True</td>\n      <td>38.9063</td>\n      <td>-77.0340</td>\n      <td>DEM</td>\n      <td>Joe Biden</td>\n      <td>8</td>\n    </tr>\n  </tbody>\n</table>\n</div>"
     },
     "execution_count": 19,
     "metadata": {},
     "output_type": "execute_result"
    }
   ],
   "source": [
    "df_state2 = df_county.copy()\n",
    "df_state2.drop(['candidate'], axis = 1, inplace = True)\n",
    "df_state2.drop(['party'], axis = 1, inplace = True)\n",
    "df_state2 = pd.merge(df_state2, df_state1, on = 'state', how = 'left')\n",
    "df_state2.head()"
   ],
   "metadata": {
    "collapsed": false
   }
  },
  {
   "cell_type": "markdown",
   "source": [
    "##### Step 7: Generate geodataframe for US mainland maps"
   ],
   "metadata": {
    "collapsed": false
   }
  },
  {
   "cell_type": "code",
   "execution_count": 20,
   "outputs": [
    {
     "data": {
      "text/plain": "  STATEFP   STATENS     AFFGEOID GEOID STUSPS        NAME LSAD         ALAND  \\\n0      01  01779775  0400000US01    01     AL     Alabama   00  131175477769   \n1      04  01779777  0400000US04    04     AZ     Arizona   00  294363973043   \n2      05  00068085  0400000US05    05     AR    Arkansas   00  134660767709   \n3      06  01779778  0400000US06    06     CA  California   00  403671756816   \n4      08  01779779  0400000US08    08     CO    Colorado   00  268418796417   \n\n        AWATER                                           geometry party  \\\n0   4591897964  POLYGON ((-88.46866 31.89386, -88.46866 31.933...   REP   \n1    855871553  POLYGON ((-114.79968 32.59362, -114.80939 32.6...   REP   \n2   3121950081  POLYGON ((-94.61792 36.49941, -94.36120 36.499...   REP   \n3  20293573058  MULTIPOLYGON (((-118.59397 33.46720, -118.4847...   DEM   \n4   1185716938  POLYGON ((-109.05996 38.49999, -109.05151 39.1...   REP   \n\n      candidate  # of counties won  \n0  Donald Trump                 54  \n1  Donald Trump                 10  \n2  Donald Trump                 67  \n3     Joe Biden                 35  \n4  Donald Trump                 40  ",
      "text/html": "<div>\n<style scoped>\n    .dataframe tbody tr th:only-of-type {\n        vertical-align: middle;\n    }\n\n    .dataframe tbody tr th {\n        vertical-align: top;\n    }\n\n    .dataframe thead th {\n        text-align: right;\n    }\n</style>\n<table border=\"1\" class=\"dataframe\">\n  <thead>\n    <tr style=\"text-align: right;\">\n      <th></th>\n      <th>STATEFP</th>\n      <th>STATENS</th>\n      <th>AFFGEOID</th>\n      <th>GEOID</th>\n      <th>STUSPS</th>\n      <th>NAME</th>\n      <th>LSAD</th>\n      <th>ALAND</th>\n      <th>AWATER</th>\n      <th>geometry</th>\n      <th>party</th>\n      <th>candidate</th>\n      <th># of counties won</th>\n    </tr>\n  </thead>\n  <tbody>\n    <tr>\n      <th>0</th>\n      <td>01</td>\n      <td>01779775</td>\n      <td>0400000US01</td>\n      <td>01</td>\n      <td>AL</td>\n      <td>Alabama</td>\n      <td>00</td>\n      <td>131175477769</td>\n      <td>4591897964</td>\n      <td>POLYGON ((-88.46866 31.89386, -88.46866 31.933...</td>\n      <td>REP</td>\n      <td>Donald Trump</td>\n      <td>54</td>\n    </tr>\n    <tr>\n      <th>1</th>\n      <td>04</td>\n      <td>01779777</td>\n      <td>0400000US04</td>\n      <td>04</td>\n      <td>AZ</td>\n      <td>Arizona</td>\n      <td>00</td>\n      <td>294363973043</td>\n      <td>855871553</td>\n      <td>POLYGON ((-114.79968 32.59362, -114.80939 32.6...</td>\n      <td>REP</td>\n      <td>Donald Trump</td>\n      <td>10</td>\n    </tr>\n    <tr>\n      <th>2</th>\n      <td>05</td>\n      <td>00068085</td>\n      <td>0400000US05</td>\n      <td>05</td>\n      <td>AR</td>\n      <td>Arkansas</td>\n      <td>00</td>\n      <td>134660767709</td>\n      <td>3121950081</td>\n      <td>POLYGON ((-94.61792 36.49941, -94.36120 36.499...</td>\n      <td>REP</td>\n      <td>Donald Trump</td>\n      <td>67</td>\n    </tr>\n    <tr>\n      <th>3</th>\n      <td>06</td>\n      <td>01779778</td>\n      <td>0400000US06</td>\n      <td>06</td>\n      <td>CA</td>\n      <td>California</td>\n      <td>00</td>\n      <td>403671756816</td>\n      <td>20293573058</td>\n      <td>MULTIPOLYGON (((-118.59397 33.46720, -118.4847...</td>\n      <td>DEM</td>\n      <td>Joe Biden</td>\n      <td>35</td>\n    </tr>\n    <tr>\n      <th>4</th>\n      <td>08</td>\n      <td>01779779</td>\n      <td>0400000US08</td>\n      <td>08</td>\n      <td>CO</td>\n      <td>Colorado</td>\n      <td>00</td>\n      <td>268418796417</td>\n      <td>1185716938</td>\n      <td>POLYGON ((-109.05996 38.49999, -109.05151 39.1...</td>\n      <td>REP</td>\n      <td>Donald Trump</td>\n      <td>40</td>\n    </tr>\n  </tbody>\n</table>\n</div>"
     },
     "execution_count": 20,
     "metadata": {},
     "output_type": "execute_result"
    }
   ],
   "source": [
    "gpd_state = usa[~usa[\"NAME\"].isin([\"Alaska\", \"Hawaii\", \"Puerto Rico\"])]\n",
    "gpd_state = gpd_state.copy()\n",
    "gpd_state.sort_values(by=['NAME'], ascending=True, axis=0, inplace =True)\n",
    "df_state1.rename(columns={\"state\": \"NAME\"}, inplace = True)\n",
    "gpd_state = pd.merge(gpd_state, df_state1, on=\"NAME\", how=\"left\")\n",
    "gpd_state.head()"
   ],
   "metadata": {
    "collapsed": false
   }
  },
  {
   "cell_type": "markdown",
   "source": [
    "##### Step 8: Generate dataframe for mapping the electoral systems"
   ],
   "metadata": {
    "collapsed": false
   }
  },
  {
   "cell_type": "code",
   "execution_count": 21,
   "outputs": [
    {
     "data": {
      "text/plain": "  STATEFP   STATENS     AFFGEOID GEOID STUSPS        NAME LSAD         ALAND  \\\n0      01  01779775  0400000US01    01     AL     Alabama   00  131175477769   \n1      04  01779777  0400000US04    04     AZ     Arizona   00  294363973043   \n2      05  00068085  0400000US05    05     AR    Arkansas   00  134660767709   \n3      06  01779778  0400000US06    06     CA  California   00  403671756816   \n4      08  01779779  0400000US08    08     CO    Colorado   00  268418796417   \n\n        AWATER                                           geometry party  \\\n0   4591897964  POLYGON ((-88.46866 31.89386, -88.46866 31.933...   REP   \n1    855871553  POLYGON ((-114.79968 32.59362, -114.80939 32.6...   REP   \n2   3121950081  POLYGON ((-94.61792 36.49941, -94.36120 36.499...   REP   \n3  20293573058  MULTIPOLYGON (((-118.59397 33.46720, -118.4847...   DEM   \n4   1185716938  POLYGON ((-109.05996 38.49999, -109.05151 39.1...   REP   \n\n      candidate  # of counties won  total_votes  \n0  Donald Trump                 54      2323304  \n1  Donald Trump                 10      3387326  \n2  Donald Trump                 67      1219069  \n3     Joe Biden                 35     17495906  \n4  Donald Trump                 40      3256953  ",
      "text/html": "<div>\n<style scoped>\n    .dataframe tbody tr th:only-of-type {\n        vertical-align: middle;\n    }\n\n    .dataframe tbody tr th {\n        vertical-align: top;\n    }\n\n    .dataframe thead th {\n        text-align: right;\n    }\n</style>\n<table border=\"1\" class=\"dataframe\">\n  <thead>\n    <tr style=\"text-align: right;\">\n      <th></th>\n      <th>STATEFP</th>\n      <th>STATENS</th>\n      <th>AFFGEOID</th>\n      <th>GEOID</th>\n      <th>STUSPS</th>\n      <th>NAME</th>\n      <th>LSAD</th>\n      <th>ALAND</th>\n      <th>AWATER</th>\n      <th>geometry</th>\n      <th>party</th>\n      <th>candidate</th>\n      <th># of counties won</th>\n      <th>total_votes</th>\n    </tr>\n  </thead>\n  <tbody>\n    <tr>\n      <th>0</th>\n      <td>01</td>\n      <td>01779775</td>\n      <td>0400000US01</td>\n      <td>01</td>\n      <td>AL</td>\n      <td>Alabama</td>\n      <td>00</td>\n      <td>131175477769</td>\n      <td>4591897964</td>\n      <td>POLYGON ((-88.46866 31.89386, -88.46866 31.933...</td>\n      <td>REP</td>\n      <td>Donald Trump</td>\n      <td>54</td>\n      <td>2323304</td>\n    </tr>\n    <tr>\n      <th>1</th>\n      <td>04</td>\n      <td>01779777</td>\n      <td>0400000US04</td>\n      <td>04</td>\n      <td>AZ</td>\n      <td>Arizona</td>\n      <td>00</td>\n      <td>294363973043</td>\n      <td>855871553</td>\n      <td>POLYGON ((-114.79968 32.59362, -114.80939 32.6...</td>\n      <td>REP</td>\n      <td>Donald Trump</td>\n      <td>10</td>\n      <td>3387326</td>\n    </tr>\n    <tr>\n      <th>2</th>\n      <td>05</td>\n      <td>00068085</td>\n      <td>0400000US05</td>\n      <td>05</td>\n      <td>AR</td>\n      <td>Arkansas</td>\n      <td>00</td>\n      <td>134660767709</td>\n      <td>3121950081</td>\n      <td>POLYGON ((-94.61792 36.49941, -94.36120 36.499...</td>\n      <td>REP</td>\n      <td>Donald Trump</td>\n      <td>67</td>\n      <td>1219069</td>\n    </tr>\n    <tr>\n      <th>3</th>\n      <td>06</td>\n      <td>01779778</td>\n      <td>0400000US06</td>\n      <td>06</td>\n      <td>CA</td>\n      <td>California</td>\n      <td>00</td>\n      <td>403671756816</td>\n      <td>20293573058</td>\n      <td>MULTIPOLYGON (((-118.59397 33.46720, -118.4847...</td>\n      <td>DEM</td>\n      <td>Joe Biden</td>\n      <td>35</td>\n      <td>17495906</td>\n    </tr>\n    <tr>\n      <th>4</th>\n      <td>08</td>\n      <td>01779779</td>\n      <td>0400000US08</td>\n      <td>08</td>\n      <td>CO</td>\n      <td>Colorado</td>\n      <td>00</td>\n      <td>268418796417</td>\n      <td>1185716938</td>\n      <td>POLYGON ((-109.05996 38.49999, -109.05151 39.1...</td>\n      <td>REP</td>\n      <td>Donald Trump</td>\n      <td>40</td>\n      <td>3256953</td>\n    </tr>\n  </tbody>\n</table>\n</div>"
     },
     "execution_count": 21,
     "metadata": {},
     "output_type": "execute_result"
    }
   ],
   "source": [
    "df_state3 = df_state2.copy()\n",
    "df_state3.drop_duplicates(subset = ['state'], keep = 'first', inplace = True)\n",
    "df_state3.drop(['county', 'total_votes', 'won', 'lat', 'lng', 'candidate', '# of counties won'], axis = 1, inplace = True)\n",
    "df_state3 = df_state3[~df_state3[\"state\"].isin([\"Alaska\", \"Hawaii\"])]\n",
    "df_ps_copy = df_ps.copy()\n",
    "df_state_vote = pd.merge(df_state3, df_ps_copy, on='state', how='left')\n",
    "df_state_vote.rename(columns={\"state\": \"NAME\"}, inplace = True)\n",
    "gpd_state4 = pd.merge(gpd_state, df_state_vote, on=['NAME', 'party'], how='left')\n",
    "gpd_state4.head()"
   ],
   "metadata": {
    "collapsed": false
   }
  },
  {
   "cell_type": "markdown",
   "source": [
    "##### Step 8: Further data cleaning work for Electoral System III and IV on summary statistics table"
   ],
   "metadata": {
    "collapsed": false
   }
  },
  {
   "cell_type": "code",
   "execution_count": 22,
   "outputs": [
    {
     "ename": "KeyError",
     "evalue": "'state'",
     "output_type": "error",
     "traceback": [
      "\u001B[0;31m---------------------------------------------------------------------------\u001B[0m",
      "\u001B[0;31mKeyError\u001B[0m                                  Traceback (most recent call last)",
      "Cell \u001B[0;32mIn[22], line 4\u001B[0m\n\u001B[1;32m      2\u001B[0m df_state_total \u001B[38;5;241m=\u001B[39m df_state\u001B[38;5;241m.\u001B[39mgroupby(level\u001B[38;5;241m=\u001B[39m[\u001B[38;5;241m0\u001B[39m])\u001B[38;5;241m.\u001B[39msum(numeric_only \u001B[38;5;241m=\u001B[39m \u001B[38;5;28;01mTrue\u001B[39;00m)\n\u001B[1;32m      3\u001B[0m df_state_total\u001B[38;5;241m.\u001B[39mrename(columns\u001B[38;5;241m=\u001B[39m{\u001B[38;5;124m\"\u001B[39m\u001B[38;5;124m# of counties won\u001B[39m\u001B[38;5;124m\"\u001B[39m: \u001B[38;5;124m\"\u001B[39m\u001B[38;5;124m# of total counties\u001B[39m\u001B[38;5;124m\"\u001B[39m}, inplace \u001B[38;5;241m=\u001B[39m \u001B[38;5;28;01mTrue\u001B[39;00m)\n\u001B[0;32m----> 4\u001B[0m df_state_statistics \u001B[38;5;241m=\u001B[39m \u001B[43mpd\u001B[49m\u001B[38;5;241;43m.\u001B[39;49m\u001B[43mmerge\u001B[49m\u001B[43m(\u001B[49m\u001B[43mdf_state_statistics\u001B[49m\u001B[43m,\u001B[49m\u001B[43m \u001B[49m\u001B[43mdf_state_total\u001B[49m\u001B[43m,\u001B[49m\u001B[43m \u001B[49m\u001B[43mon\u001B[49m\u001B[43m \u001B[49m\u001B[38;5;241;43m=\u001B[39;49m\u001B[43m \u001B[49m\u001B[38;5;124;43m'\u001B[39;49m\u001B[38;5;124;43mstate\u001B[39;49m\u001B[38;5;124;43m'\u001B[39;49m\u001B[43m,\u001B[49m\u001B[43m \u001B[49m\u001B[43mhow\u001B[49m\u001B[43m \u001B[49m\u001B[38;5;241;43m=\u001B[39;49m\u001B[43m \u001B[49m\u001B[38;5;124;43m'\u001B[39;49m\u001B[38;5;124;43mleft\u001B[39;49m\u001B[38;5;124;43m'\u001B[39;49m\u001B[43m)\u001B[49m\n\u001B[1;32m      5\u001B[0m df_state_statistics\u001B[38;5;241m.\u001B[39mhead()\n",
      "File \u001B[0;32m/Library/Frameworks/Python.framework/Versions/3.10/lib/python3.10/site-packages/pandas/core/reshape/merge.py:110\u001B[0m, in \u001B[0;36mmerge\u001B[0;34m(left, right, how, on, left_on, right_on, left_index, right_index, sort, suffixes, copy, indicator, validate)\u001B[0m\n\u001B[1;32m     93\u001B[0m \u001B[38;5;129m@Substitution\u001B[39m(\u001B[38;5;124m\"\u001B[39m\u001B[38;5;130;01m\\n\u001B[39;00m\u001B[38;5;124mleft : DataFrame or named Series\u001B[39m\u001B[38;5;124m\"\u001B[39m)\n\u001B[1;32m     94\u001B[0m \u001B[38;5;129m@Appender\u001B[39m(_merge_doc, indents\u001B[38;5;241m=\u001B[39m\u001B[38;5;241m0\u001B[39m)\n\u001B[1;32m     95\u001B[0m \u001B[38;5;28;01mdef\u001B[39;00m \u001B[38;5;21mmerge\u001B[39m(\n\u001B[0;32m   (...)\u001B[0m\n\u001B[1;32m    108\u001B[0m     validate: \u001B[38;5;28mstr\u001B[39m \u001B[38;5;241m|\u001B[39m \u001B[38;5;28;01mNone\u001B[39;00m \u001B[38;5;241m=\u001B[39m \u001B[38;5;28;01mNone\u001B[39;00m,\n\u001B[1;32m    109\u001B[0m ) \u001B[38;5;241m-\u001B[39m\u001B[38;5;241m>\u001B[39m DataFrame:\n\u001B[0;32m--> 110\u001B[0m     op \u001B[38;5;241m=\u001B[39m \u001B[43m_MergeOperation\u001B[49m\u001B[43m(\u001B[49m\n\u001B[1;32m    111\u001B[0m \u001B[43m        \u001B[49m\u001B[43mleft\u001B[49m\u001B[43m,\u001B[49m\n\u001B[1;32m    112\u001B[0m \u001B[43m        \u001B[49m\u001B[43mright\u001B[49m\u001B[43m,\u001B[49m\n\u001B[1;32m    113\u001B[0m \u001B[43m        \u001B[49m\u001B[43mhow\u001B[49m\u001B[38;5;241;43m=\u001B[39;49m\u001B[43mhow\u001B[49m\u001B[43m,\u001B[49m\n\u001B[1;32m    114\u001B[0m \u001B[43m        \u001B[49m\u001B[43mon\u001B[49m\u001B[38;5;241;43m=\u001B[39;49m\u001B[43mon\u001B[49m\u001B[43m,\u001B[49m\n\u001B[1;32m    115\u001B[0m \u001B[43m        \u001B[49m\u001B[43mleft_on\u001B[49m\u001B[38;5;241;43m=\u001B[39;49m\u001B[43mleft_on\u001B[49m\u001B[43m,\u001B[49m\n\u001B[1;32m    116\u001B[0m \u001B[43m        \u001B[49m\u001B[43mright_on\u001B[49m\u001B[38;5;241;43m=\u001B[39;49m\u001B[43mright_on\u001B[49m\u001B[43m,\u001B[49m\n\u001B[1;32m    117\u001B[0m \u001B[43m        \u001B[49m\u001B[43mleft_index\u001B[49m\u001B[38;5;241;43m=\u001B[39;49m\u001B[43mleft_index\u001B[49m\u001B[43m,\u001B[49m\n\u001B[1;32m    118\u001B[0m \u001B[43m        \u001B[49m\u001B[43mright_index\u001B[49m\u001B[38;5;241;43m=\u001B[39;49m\u001B[43mright_index\u001B[49m\u001B[43m,\u001B[49m\n\u001B[1;32m    119\u001B[0m \u001B[43m        \u001B[49m\u001B[43msort\u001B[49m\u001B[38;5;241;43m=\u001B[39;49m\u001B[43msort\u001B[49m\u001B[43m,\u001B[49m\n\u001B[1;32m    120\u001B[0m \u001B[43m        \u001B[49m\u001B[43msuffixes\u001B[49m\u001B[38;5;241;43m=\u001B[39;49m\u001B[43msuffixes\u001B[49m\u001B[43m,\u001B[49m\n\u001B[1;32m    121\u001B[0m \u001B[43m        \u001B[49m\u001B[43mindicator\u001B[49m\u001B[38;5;241;43m=\u001B[39;49m\u001B[43mindicator\u001B[49m\u001B[43m,\u001B[49m\n\u001B[1;32m    122\u001B[0m \u001B[43m        \u001B[49m\u001B[43mvalidate\u001B[49m\u001B[38;5;241;43m=\u001B[39;49m\u001B[43mvalidate\u001B[49m\u001B[43m,\u001B[49m\n\u001B[1;32m    123\u001B[0m \u001B[43m    \u001B[49m\u001B[43m)\u001B[49m\n\u001B[1;32m    124\u001B[0m     \u001B[38;5;28;01mreturn\u001B[39;00m op\u001B[38;5;241m.\u001B[39mget_result(copy\u001B[38;5;241m=\u001B[39mcopy)\n",
      "File \u001B[0;32m/Library/Frameworks/Python.framework/Versions/3.10/lib/python3.10/site-packages/pandas/core/reshape/merge.py:703\u001B[0m, in \u001B[0;36m_MergeOperation.__init__\u001B[0;34m(self, left, right, how, on, left_on, right_on, axis, left_index, right_index, sort, suffixes, indicator, validate)\u001B[0m\n\u001B[1;32m    696\u001B[0m \u001B[38;5;28mself\u001B[39m\u001B[38;5;241m.\u001B[39m_cross \u001B[38;5;241m=\u001B[39m cross_col\n\u001B[1;32m    698\u001B[0m \u001B[38;5;66;03m# note this function has side effects\u001B[39;00m\n\u001B[1;32m    699\u001B[0m (\n\u001B[1;32m    700\u001B[0m     \u001B[38;5;28mself\u001B[39m\u001B[38;5;241m.\u001B[39mleft_join_keys,\n\u001B[1;32m    701\u001B[0m     \u001B[38;5;28mself\u001B[39m\u001B[38;5;241m.\u001B[39mright_join_keys,\n\u001B[1;32m    702\u001B[0m     \u001B[38;5;28mself\u001B[39m\u001B[38;5;241m.\u001B[39mjoin_names,\n\u001B[0;32m--> 703\u001B[0m ) \u001B[38;5;241m=\u001B[39m \u001B[38;5;28;43mself\u001B[39;49m\u001B[38;5;241;43m.\u001B[39;49m\u001B[43m_get_merge_keys\u001B[49m\u001B[43m(\u001B[49m\u001B[43m)\u001B[49m\n\u001B[1;32m    705\u001B[0m \u001B[38;5;66;03m# validate the merge keys dtypes. We may need to coerce\u001B[39;00m\n\u001B[1;32m    706\u001B[0m \u001B[38;5;66;03m# to avoid incompatible dtypes\u001B[39;00m\n\u001B[1;32m    707\u001B[0m \u001B[38;5;28mself\u001B[39m\u001B[38;5;241m.\u001B[39m_maybe_coerce_merge_keys()\n",
      "File \u001B[0;32m/Library/Frameworks/Python.framework/Versions/3.10/lib/python3.10/site-packages/pandas/core/reshape/merge.py:1179\u001B[0m, in \u001B[0;36m_MergeOperation._get_merge_keys\u001B[0;34m(self)\u001B[0m\n\u001B[1;32m   1175\u001B[0m \u001B[38;5;28;01mif\u001B[39;00m lk \u001B[38;5;129;01mis\u001B[39;00m \u001B[38;5;129;01mnot\u001B[39;00m \u001B[38;5;28;01mNone\u001B[39;00m:\n\u001B[1;32m   1176\u001B[0m     \u001B[38;5;66;03m# Then we're either Hashable or a wrong-length arraylike,\u001B[39;00m\n\u001B[1;32m   1177\u001B[0m     \u001B[38;5;66;03m#  the latter of which will raise\u001B[39;00m\n\u001B[1;32m   1178\u001B[0m     lk \u001B[38;5;241m=\u001B[39m cast(Hashable, lk)\n\u001B[0;32m-> 1179\u001B[0m     left_keys\u001B[38;5;241m.\u001B[39mappend(\u001B[43mleft\u001B[49m\u001B[38;5;241;43m.\u001B[39;49m\u001B[43m_get_label_or_level_values\u001B[49m\u001B[43m(\u001B[49m\u001B[43mlk\u001B[49m\u001B[43m)\u001B[49m)\n\u001B[1;32m   1180\u001B[0m     join_names\u001B[38;5;241m.\u001B[39mappend(lk)\n\u001B[1;32m   1181\u001B[0m \u001B[38;5;28;01melse\u001B[39;00m:\n\u001B[1;32m   1182\u001B[0m     \u001B[38;5;66;03m# work-around for merge_asof(left_index=True)\u001B[39;00m\n",
      "File \u001B[0;32m/Library/Frameworks/Python.framework/Versions/3.10/lib/python3.10/site-packages/pandas/core/generic.py:1850\u001B[0m, in \u001B[0;36mNDFrame._get_label_or_level_values\u001B[0;34m(self, key, axis)\u001B[0m\n\u001B[1;32m   1844\u001B[0m     values \u001B[38;5;241m=\u001B[39m (\n\u001B[1;32m   1845\u001B[0m         \u001B[38;5;28mself\u001B[39m\u001B[38;5;241m.\u001B[39maxes[axis]\n\u001B[1;32m   1846\u001B[0m         \u001B[38;5;241m.\u001B[39mget_level_values(key)  \u001B[38;5;66;03m# type: ignore[assignment]\u001B[39;00m\n\u001B[1;32m   1847\u001B[0m         \u001B[38;5;241m.\u001B[39m_values\n\u001B[1;32m   1848\u001B[0m     )\n\u001B[1;32m   1849\u001B[0m \u001B[38;5;28;01melse\u001B[39;00m:\n\u001B[0;32m-> 1850\u001B[0m     \u001B[38;5;28;01mraise\u001B[39;00m \u001B[38;5;167;01mKeyError\u001B[39;00m(key)\n\u001B[1;32m   1852\u001B[0m \u001B[38;5;66;03m# Check for duplicates\u001B[39;00m\n\u001B[1;32m   1853\u001B[0m \u001B[38;5;28;01mif\u001B[39;00m values\u001B[38;5;241m.\u001B[39mndim \u001B[38;5;241m>\u001B[39m \u001B[38;5;241m1\u001B[39m:\n",
      "\u001B[0;31mKeyError\u001B[0m: 'state'"
     ]
    }
   ],
   "source": [
    "df_state_statistics = df_state1.copy()\n",
    "df_state_total = df_state.groupby(level=[0]).sum(numeric_only = True)\n",
    "df_state_total.rename(columns={\"# of counties won\": \"# of total counties\"}, inplace = True)\n",
    "df_state_statistics = pd.merge(df_state_statistics, df_state_total, on = 'state', how = 'left')\n",
    "df_state_statistics.head()"
   ],
   "metadata": {
    "collapsed": false
   }
  },
  {
   "cell_type": "code",
   "execution_count": null,
   "outputs": [],
   "source": [
    "df_state_won = df_state_statistics.copy()\n",
    "df_state_won.drop(df_state_won[df_state_won['candidate'] != 'Donald Trump'].index, inplace = True)\n",
    "df_state_won['share of counties in the winning states'] = \\\n",
    "    df_state_won['# of counties won'] / df_state_won['# of total counties']\n",
    "df_state_won['won'] = True\n",
    "df_state_won = df_state_won[['state', 'candidate', 'party', 'won', '# of counties won', '# of total counties', 'share of counties in the winning states']]\n",
    "df_state_won.head()"
   ],
   "metadata": {
    "collapsed": false
   }
  },
  {
   "cell_type": "code",
   "execution_count": null,
   "outputs": [],
   "source": [
    "df_state_lost = df_state1.copy()\n",
    "df_state_lost.drop(df_state_lost[df_state_lost['candidate'] == 'Donald Trump'].index, inplace = True)\n",
    "df_state_lost.drop(['party', 'candidate', '# of counties won'], axis = 1, inplace = True)\n",
    "df_state_lost = pd.merge(df_state_lost, df_state, on = ['state'], how = 'left')\n",
    "df_state_lost.drop(df_state_lost[df_state_lost['candidate'] != 'Donald Trump'].index, inplace = True)\n",
    "df_state_lost = pd.merge(df_state_lost, df_state_total, on = ['state'], how = 'left')\n",
    "df_state_lost['share of counties in the losing states'] = \\\n",
    "    df_state_lost['# of counties won'] / df_state_lost['# of total counties']\n",
    "df_state_lost['won'] = False\n",
    "df_state_lost['party'] = 'REP'\n",
    "df_state_lost = df_state_lost[['state', 'candidate', 'party', 'won', '# of counties won', '# of total counties', 'share of counties in the losing states']]\n",
    "df_state_lost"
   ],
   "metadata": {
    "collapsed": false
   }
  },
  {
   "cell_type": "markdown",
   "source": [
    "#### VEP Turnout Rate"
   ],
   "metadata": {
    "collapsed": false
   }
  },
  {
   "cell_type": "code",
   "execution_count": null,
   "outputs": [],
   "source": [
    "df_voter2 = pd.DataFrame()\n",
    "df_voter2['NAME'] = df_voter['State']\n",
    "df_voter2['VEP Turnout Rate (%)'] = df_voter['VEP Turnout Rate']\n",
    "df_voter2['Log of Voting-Eligible Population (VEP)'] = \\\n",
    "    np.log10(df_voter['Voting-Eligible Population (VEP)'].replace(',', '',regex=True).astype(int))\n",
    "df_voter2.head()"
   ],
   "metadata": {
    "collapsed": false
   }
  },
  {
   "cell_type": "markdown",
   "source": [
    "#### Summary of Trump Vote at State Level"
   ],
   "metadata": {
    "collapsed": false
   }
  },
  {
   "cell_type": "code",
   "execution_count": null,
   "outputs": [],
   "source": [
    "df_trump_vote_sum = pd.merge(df_trump_vote, df_ps, on = 'state', how = 'left')\n",
    "df_trump_vote_sum['ratio'] = df_trump_vote_sum['Grand Total'] / df_trump_vote_sum['total_votes']\n",
    "df_trump_vote_sum.rename(columns={\"state\": \"NAME\"}, inplace = True)\n",
    "df_trump_vote_sum.head()"
   ],
   "metadata": {
    "collapsed": false
   }
  },
  {
   "cell_type": "markdown",
   "source": [
    "#### Summary of Trump Vote at County Level"
   ],
   "metadata": {
    "collapsed": false
   }
  },
  {
   "cell_type": "code",
   "execution_count": null,
   "outputs": [],
   "source": [
    "df_county_plot = df_county_won.copy()\n",
    "df_county_plot.rename(columns={'share of votes in the winning counties': 'trump_vote_share'}, inplace = True)\n",
    "df_county_plot1 = df_county_lost.copy()\n",
    "df_county_plot1.rename(columns={'share of votes in the losing counties': 'trump_vote_share'}, inplace = True)\n",
    "df_county_plot = pd.concat([df_county_plot, df_county_plot1])\n",
    "df_county_plot['trump_vote_share'] = df_county_plot['trump_vote_share']*100\n",
    "df_county_pop = pd.merge(df_county_plot, df_geo_pop, on = ['state', 'county'])\n",
    "df_county_pop.drop(df_county_pop[df_county_pop['population'] < df_county_pop['county_total_votes']].index, inplace = True)\n",
    "df_county_pop['effective_voting_rate'] = df_county_pop['county_total_votes'] / df_county_pop['population'] *100\n",
    "df_county_pop.head()"
   ],
   "metadata": {
    "collapsed": false
   }
  },
  {
   "cell_type": "markdown",
   "source": [],
   "metadata": {
    "collapsed": false
   }
  },
  {
   "cell_type": "markdown",
   "source": [
    "## Summary Statistics Tables"
   ],
   "metadata": {
    "collapsed": false
   }
  },
  {
   "cell_type": "code",
   "execution_count": null,
   "outputs": [],
   "source": [
    "df_I_II_statistics = pd.DataFrame({\n",
    "    \"share of votes in the winning counties\" : df_county_won['share of votes in the winning counties'].describe(),\n",
    "    \"share of votes in the losing counties\" : df_county_lost['share of votes in the losing counties'].describe(),\n",
    "})\n",
    "df_I_II_statistics = df_I_II_statistics.round(decimals = 3)\n",
    "fig=plt. figure (figsize = (8, 0.3))\n",
    "ax = fig.add_subplot(111)\n",
    "ax.table(cellText = df_I_II_statistics.values, colLabels = df_I_II_statistics.columns,\n",
    "         rowLabels = df_I_II_statistics.index, cellLoc = 'center')\n",
    "ax.set_title (\"In Electoral System I and II, Donald Trump Would Have Won\")\n",
    "ax.axis ('off')\n",
    "plt.show()"
   ],
   "metadata": {
    "collapsed": false
   }
  },
  {
   "cell_type": "markdown",
   "source": [
    "The above summary statistics table presented the basic information about Electoral System I and II. Let's revisit the definition of the two electoral systems. For electoral system I, each county has same number of votes as its voters, it casts all of its votes on the party (candidate) that won the majority of votes. For electoral system II, each county has one vote, it casts its vote on the party (candidate) that won the majority of votes. Both electoral systems share a same characteristic, that is the decision-making level is at the county. Therefore, systematically speaking, there exists a great potential for the counties with large population to overstep the ones with less population, which is not beneficial to the Republican policy. The gap between the two 50%-data is about 31%, keep this data in mind, and we will compare it with the next table."
   ],
   "metadata": {
    "collapsed": false
   }
  },
  {
   "cell_type": "code",
   "execution_count": null,
   "outputs": [],
   "source": [
    "df_III_IV_statistics = pd.DataFrame({\n",
    "    \"share of counties in the winning states\": df_state_won['share of counties in the winning states'].describe(),\n",
    "    \"share of counties in the losing states\": df_state_lost['share of counties in the losing states'].describe(),\n",
    "})\n",
    "df_III_IV_statistics = df_III_IV_statistics.round(decimals = 3)\n",
    "fig2 = plt.figure(figsize = (8, 0.3))\n",
    "ax2 = fig2.add_subplot(111)\n",
    "ax2.table(cellText = df_III_IV_statistics.values, colLabels = df_III_IV_statistics.columns,\n",
    "         rowLabels = df_III_IV_statistics.index, cellLoc = 'center')\n",
    "ax2.set_title(\"In Electoral System III and IV, Donald Trump Would Have Won\")\n",
    "ax2.axis ('off')\n",
    "plt.show()"
   ],
   "metadata": {
    "collapsed": false
   }
  },
  {
   "cell_type": "markdown",
   "source": [
    "The above summary statistics table presented the basic information about Electoral System III and IV. Let's revisit the definition of the two electoral systems. For electoral system III, each state has same number of votes as its voters, it casts all of its votes on the party (candidate) that won the majority of counties. For electoral system IV, Each state has one vote, it casts its vote on the party (candidate) that won the majority of counties. Both electoral systems here also share a same characteristic, that is the decision-making level is at the state. Therefore, systematically speaking, no matter how many votes the Democrat receives at the large counties, it only counts as 1 vote per county at the state level. As a result, the advantage of Trump being popular with smaller counties is now fully exploited. The gap between the two 50%-data is about 57%, which is almost a double of the 31% from the above, which proves the previous reasoning."
   ],
   "metadata": {
    "collapsed": false
   }
  },
  {
   "cell_type": "markdown",
   "source": [
    "## Plots, Histograms, Figures\n",
    "### County Level Analysis"
   ],
   "metadata": {
    "collapsed": false
   }
  },
  {
   "cell_type": "markdown",
   "source": [
    "#### Effective Voting Rate Versus Population\n",
    "The voting-eligible population in the US refers to individuals who are eligible to vote in federal elections, such as presidential, congressional, and senatorial elections. To be eligible, a person must be a citizen of the United States, at least 18 years old, and registered to vote in their state of residence. Excluded from this population are non-citizens, individuals under 18 years old, and unregistered individuals. It is worth noting that while all eligible citizens can vote, not all choose to do so. To better understand the voting patterns in US counties, it is important to analyze not only the eligible voter population but also the level of voter participation. This can be done by evaluating the effectiveness of votes cast by introducing a new concept called Effective Voting Rate, which provides a more accurate picture of the level of voter participation within a county. With that said, allow me to introduce the formula of Effective Voting Rate, which refers to the percentage of effective votes (county_total_votes) in the total population within a county.\n",
    "\n",
    "$$\\text{Effective Voting Rate (\\%) in a county} = 100*\\frac{\\text{Effective Votes in a county}}{\\text{Population in a county}} $$"
   ],
   "metadata": {
    "collapsed": false
   }
  },
  {
   "cell_type": "code",
   "execution_count": null,
   "outputs": [],
   "source": [
    "df_county_pop1 = df_county_pop.copy()\n",
    "df_county_pop1.drop(df_county_pop1[df_county_pop1['population'] >= 10000].index, inplace = True)\n",
    "df_county_pop2 = df_county_pop.copy()\n",
    "df_county_pop2.drop(df_county_pop2[df_county_pop2['population'] < 10000].index, inplace = True)\n",
    "df_county_pop2.drop(df_county_pop2[df_county_pop2['population'] >= 100000].index, inplace = True)\n",
    "df_county_pop3 = df_county_pop.copy()\n",
    "df_county_pop3.drop(df_county_pop3[df_county_pop3['population'] < 100000].index, inplace = True)\n",
    "df_county_pop3.drop(df_county_pop3[df_county_pop3['population'] >= 1000000].index, inplace = True)\n",
    "df_county_pop4 = df_county_pop.copy()\n",
    "df_county_pop4.drop(df_county_pop4[df_county_pop4['population'] < 1000000].index, inplace = True)\n",
    "\n",
    "fig, (ax1, ax2, ax3, ax4) = plt.subplots(1, 4, figsize=(16, 6), sharey=True)\n",
    "sns.scatterplot(data=df_county_pop1, x=\"population\", y='effective_voting_rate', hue = \"won\", palette = \"coolwarm\", ax = ax1)\n",
    "ax1.set_title(\"Population < 10,000\", fontsize=14)\n",
    "ax1.set_xlabel(\"Population\", fontsize=12)\n",
    "sns.scatterplot(data=df_county_pop2, x=\"population\", y='effective_voting_rate', hue = \"won\", palette = \"coolwarm\", ax = ax2)\n",
    "ax2.set_title(\"10,000 <= Population < 100,000\", fontsize=14)\n",
    "ax2.set_xlabel(\"Population\", fontsize=12)\n",
    "sns.scatterplot(data=df_county_pop3, x=\"population\", y='effective_voting_rate', hue = \"won\", palette = \"coolwarm\", ax = ax3)\n",
    "ax3.set_title(\"100,000 <= Population < 1,000,000\", fontsize=14)\n",
    "ax3.set_xlabel(\"Population\", fontsize=12)\n",
    "sns.scatterplot(data=df_county_pop4, x=\"population\", y='effective_voting_rate', hue = \"won\", palette = \"coolwarm\", ax = ax4)\n",
    "ax4.set_title(\"Population >= 1,000,000\", fontsize=14)\n",
    "ax4.set_xlabel(\"Population\", fontsize=12)\n",
    "\n",
    "ax1.set_ylabel(\"Effective Voting Rate (%)\", fontsize=14)\n",
    "\n",
    "axes = [ax1, ax2, ax3, ax4]\n",
    "list_df_pop = [df_county_pop1, df_county_pop2, df_county_pop3, df_county_pop4]\n",
    "for j in range(len(axes)):\n",
    "    legend_labels = axes[j].get_legend().get_texts()\n",
    "    for i, label in enumerate(legend_labels):\n",
    "        if i == 0:\n",
    "            label.set_text(\"Trump Lost\")\n",
    "        if i == 1:\n",
    "            label.set_text(\"Trump Won\")\n",
    "    axes[j].get_legend().set_title(\"Status\")\n",
    "    list_df_pop[j] = list_df_pop[j].dropna(subset=['population', 'effective_voting_rate'])\n",
    "    X = list_df_pop[j]\n",
    "    X_won = X[X['won'] == True][\"population\"]\n",
    "    y_won = X[X['won'] == True]['effective_voting_rate']\n",
    "    axes[j].plot(np.unique(X_won),\n",
    "                 np.poly1d(np.polyfit(X_won, y_won, 1))(np.unique(X_won)),\n",
    "                 color='red')\n",
    "    X_lost = X[X['won'] == False][\"population\"]\n",
    "    y_lost = X[X['won'] == False]['effective_voting_rate']\n",
    "    axes[j].plot(np.unique(X_lost),\n",
    "                 np.poly1d(np.polyfit(X_lost, y_lost, 1))(np.unique(X_lost)),\n",
    "                 color='blue')\n",
    "plt.suptitle(\"Effective Voting Rate vs Population on County-Level\", fontsize = 16)\n",
    "plt.show()"
   ],
   "metadata": {
    "collapsed": false
   }
  },
  {
   "cell_type": "markdown",
   "source": [
    "The above 4 scatterplots hold population against Effective Voting Rate with regression lines that demonstrate the linear relationship between the two variables. What we can see from the pattern is that in general, the higher the population, the lower the Effective Voting Rate. By differentiating counties where Trump won or lost, we see that there is smaller and smaller divergence between distribution of the red dots and the blue dots as the population of counties increases. Effective Voting Rate is negatively associated with county population in both conditions.\n",
    "\n",
    "There is one exception that in the first plot where population is under 10,000, the regression line for counties which Trump had lost is moving slightly upward, opposing the general trend. A possible explanation for this is that in those small counties - almost the same meaning as where Biden won - there might have been a higher level of engagement and motivation among voters, leading to a higher Effective Voting Rate. However, this deviation from the overall pattern is not consistent across all small counties, as the regression line for counties where Trump won remains consistent with the general trend.\n",
    "\n",
    "Another notable observation is that the slope of the regression line for counties where Trump won is steeper than that of counties where Biden won. This suggests that in counties where Trump had stronger support, the negative association between population and Effective Voting Rate is more pronounced. On the other hand, in counties where Biden had stronger support, the negative association is less steep, indicating that these counties may have a higher level of political engagement or more efficient voting systems that help increase voter turnout. Therefore, we could draw a conclusion that as the population gets higher, Trump is suffering more from the declined Effective Voting Rate than Biden."
   ],
   "metadata": {
    "collapsed": false
   }
  },
  {
   "cell_type": "markdown",
   "source": [
    "#### Effective Voting Rate Versus Density\n",
    "After conducting an analysis on the relationship between the Effective Voting Rate and population, it is natural to believe that density, another crucial population variable, is likely to play a significant role in influencing the Effective Voting Rate. The association between the two factors is worth exploring further, as it may provide valuable insights into the factors that impact voting behavior. With this in mind, it is important to delve deeper into the relationship between density and Effective Voting Rate to gain a more comprehensive understanding of their interplay."
   ],
   "metadata": {
    "collapsed": false
   }
  },
  {
   "cell_type": "code",
   "execution_count": null,
   "outputs": [],
   "source": [
    "df_county_density1 = df_county_pop.copy()\n",
    "df_county_density1.drop(df_county_density1[df_county_density1['density'] >= 1000].index, inplace = True)\n",
    "df_county_density2 = df_county_pop.copy()\n",
    "df_county_density2.drop(df_county_density2[df_county_density2['density'] < 1000].index, inplace = True)\n",
    "\n",
    "fig, (ax1, ax2) = plt.subplots(1, 2, figsize=(12, 6), sharey=True)\n",
    "sns.scatterplot(data=df_county_density1, x=\"density\", y='effective_voting_rate', hue = \"won\", palette = \"coolwarm\", ax = ax1)\n",
    "sns.scatterplot(data=df_county_density2, x=\"density\", y='effective_voting_rate', hue = \"won\", palette = \"coolwarm\", ax = ax2)\n",
    "ax1.set_ylabel(\"Effective Voting Rate\", fontsize=14)\n",
    "ax1.set_title(\"Density < 1,000\", fontsize=14)\n",
    "ax2.set_title(\"Density >= 1,000\", fontsize=14)\n",
    "ax1.set_xlabel(\"Density\", fontsize=14)\n",
    "ax2.set_xlabel(\"Density\", fontsize=14)\n",
    "\n",
    "axes = [ax1, ax2]\n",
    "list_df_density = [df_county_density1, df_county_density2]\n",
    "for j in range(len(axes)):\n",
    "    legend_labels = axes[j].get_legend().get_texts()\n",
    "    for i, label in enumerate(legend_labels):\n",
    "        if i == 0:\n",
    "            label.set_text(\"Trump Lost\")\n",
    "        if i == 1:\n",
    "            label.set_text(\"Trump Won\")\n",
    "    axes[j].get_legend().set_title(\"Status\")\n",
    "    list_df_density[j] = list_df_density[j].dropna(subset=['density', 'effective_voting_rate'])\n",
    "    X = list_df_density[j]\n",
    "    X_won = X[X['won'] == True][\"density\"]\n",
    "    y_won = X[X['won'] == True]['effective_voting_rate']\n",
    "    axes[j].plot(np.unique(X_won),\n",
    "                 np.poly1d(np.polyfit(X_won, y_won, 1))(np.unique(X_won)),\n",
    "                 color='red')\n",
    "    X_lost = X[X['won'] == False][\"density\"]\n",
    "    y_lost = X[X['won'] == False]['effective_voting_rate']\n",
    "    axes[j].plot(np.unique(X_lost),\n",
    "                 np.poly1d(np.polyfit(X_lost, y_lost, 1))(np.unique(X_lost)),\n",
    "                 color='blue')\n",
    "\n",
    "\n",
    "plt.suptitle(\"Effective Voting Rate vs Population Density on County-Level\", fontsize = 16)\n",
    "plt.show()"
   ],
   "metadata": {
    "collapsed": false
   }
  },
  {
   "cell_type": "markdown",
   "source": [
    "Although the regression lines suggest a weak negative correlation between Effective Voting Rate and density, the scatter dots provide evidence that such a relationship is likely to be insignificant. This finding helps to dispel a potential misconception that may have arisen from the previous discussion, which suggested that a negative correlation between population and Effective Voting Rate would also imply a negative relationship between density and Effective Voting Rate.\n",
    "\n",
    "However, it is worth noting that the regression line for Trump Won lies above the regression line for Trump lost in both subplots by about 10% Effective Voting Rate. The higher participation rate may be an attribute to Trump's winning in those counties, since more eligible voters were willing to effectively cast their votes when the population density was the same. While the scatterplot in the previous section suggests that Trump was not popular in counties with high population density, this does not necessarily mean that he was also not popular in densely populated counties. In other words, Trump may have had an equal if not a higher chance of winning a small but dense county as Biden did. This highlights the importance of effective voter engagement in the US presidential election."
   ],
   "metadata": {
    "collapsed": false
   }
  },
  {
   "cell_type": "markdown",
   "source": [
    "#### Vote Share of Trump Versus County Total Votes\n",
    "To further explore the relationship between county size and support for Trump, it is worth examining the vote share of Trump against the total number of votes cast in each county. This can help us determine if Trump's popularity is indeed higher in smaller counties and rural regions, as is commonly believed.\n",
    "\n",
    "$$\\text{Vote Share of Trump (\\%) in a county} = 100*\\frac{\\text{Votes for Trump in a county}}{\\text{Total Votes in a county}} $$"
   ],
   "metadata": {
    "collapsed": false
   }
  },
  {
   "cell_type": "code",
   "execution_count": null,
   "outputs": [],
   "source": [
    "plt.figure(figsize = (8,6))\n",
    "sns.scatterplot(data = df_county_plot, x = \"trump_vote_share\", y = 'county_total_votes', hue = \"won\", size = \"won_votes\", palette = \"coolwarm\", sizes=(10,100))\n",
    "\n",
    "legend_labels = plt.gca().get_legend().get_texts()\n",
    "for i, label in enumerate(legend_labels):\n",
    "    if i == 0:\n",
    "        label.set_text(\"Status\")\n",
    "    if i == 1:\n",
    "        label.set_text(\"Trump Lost\")\n",
    "    if i == 2:\n",
    "        label.set_text(\"Trump Won\")\n",
    "    if i == 3:\n",
    "        label.set_text(\"Votes for Trump\")\n",
    "\n",
    "plt.title(\"Vote Share of Trump vs Total Votes on County-Level\", fontdict={'family': 'sans-serif', 'size': 14})\n",
    "plt.xlabel(\"Vote Share of Trump (%)\", fontdict={'family': 'sans-serif', 'size': 12, 'weight': 'normal'})\n",
    "plt.ylabel(\"Total Vote\", fontdict={'family': 'sans-serif', 'size': 12, 'weight': 'normal'})\n",
    "plt.show()"
   ],
   "metadata": {
    "collapsed": false
   }
  },
  {
   "cell_type": "markdown",
   "source": [
    "The scatterplot above provides a visual representation of the relationship between the number of votes cast in a county and the vote share of Donald Trump in the 2020 presidential election. The plot is divided into two triangular clusters of dots, with blue dots representing counties where Trump lost to other candidates (primarily Joe Biden), and red dots representing counties where Trump emerged as the winner.\n",
    "\n",
    "Upon closer inspection, we can see that the distribution of dots is denser on the bottom of the red triangle, where Trump won the county. This indicates that Trump was more popular in counties with smaller populations, which tend to be more rural and less densely populated. In contrast, the blue triangle, representing counties where Trump lost, has a higher peak above 4 million votes, indicating that Biden had stronger support in more populous areas.\n",
    "\n",
    "Overall, the scatterplot confirms the widely held belief that Trump is more popular in rural areas and smaller communities. The stark difference between the peak of the red triangle and that of the blue triangle suggests that Trump's support was more evenly spread across the population in smaller counties, while Biden had more concentrated support in larger counties."
   ],
   "metadata": {
    "collapsed": false
   }
  },
  {
   "cell_type": "markdown",
   "source": [
    "#### Vote Share of Trump Versus Latitude\n",
    "To further analyze the US political landscape, it is worth considering the role of geography. First we will study one of the two geographical coordinates - latitude. By plotting the share of Trump votes against latitude, the map of the United States is reorganized along the East-West direction, with counties that Trump won on the left and those he lost on the right. The northern counties remain in the north, and the southern counties remain in the south. This allows us to observe potential patterns of support for Trump based on latitude."
   ],
   "metadata": {
    "collapsed": false
   }
  },
  {
   "cell_type": "code",
   "execution_count": null,
   "outputs": [],
   "source": [
    "df_county_geo = df_county.copy()\n",
    "df_county_geo.drop(['candidate', 'party', 'won', 'total_votes'], axis = 1, inplace = True)\n",
    "df_county_geo = pd.merge(df_county_plot, df_county_geo, on = ['state', 'county'], how = 'left')\n",
    "df_county_geo = df_county_geo[~df_county_geo[\"state\"].isin([\"Alaska\", \"Hawaii\"])]\n",
    "plt.figure(figsize=(12, 12))\n",
    "sns.scatterplot(data=df_county_geo, x=\"trump_vote_share\",\n",
    "                y='lat', hue=\"won\", size=\"county_total_votes\",\n",
    "                palette=\"coolwarm\", sizes=(10, 100))\n",
    "\n",
    "plt.axhline(y=39, color='blue', linestyle='dashed', label='Trump Share Dive')\n",
    "plt.text(88, 38.4, '39th Parallel North', rotation=0, va='bottom', ha='left')\n",
    "plt.legend()\n",
    "\n",
    "plt.plot([0, 50], [39, 25], color=\"magenta\", linestyle=':')\n",
    "plt.plot([0, 50], [39, 50], color=\"magenta\", linestyle=':')\n",
    "plt.plot([90, 90], [27.5, 48], color=\"magenta\", linestyle=':')\n",
    "plt.plot([50, 90], [48, 48], color=\"magenta\", linestyle=':')\n",
    "plt.plot([50, 90], [27.5, 27.5], color=\"magenta\", linestyle=':', label='Trend Boundary')\n",
    "plt.legend()\n",
    "\n",
    "legend_labels = plt.gca().get_legend().get_texts()\n",
    "for i, label in enumerate(legend_labels):\n",
    "    if i == 0:\n",
    "        label.set_text(\"Status\")\n",
    "    if i == 1:\n",
    "        label.set_text(\"Trump Lost\")\n",
    "    if i == 2:\n",
    "        label.set_text(\"Trump Won\")\n",
    "    if i == 3:\n",
    "        label.set_text(\"County's Total Vote\")\n",
    "\n",
    "plt.title(\"Vote Share of Trump vs Latitude\", fontdict={'family': 'sans-serif', 'size': 18})\n",
    "plt.xlabel(\"Vote Share of Trump (%)\", fontdict={'family': 'sans-serif', 'size': 16, 'weight': 'normal'})\n",
    "plt.ylabel(\"Latitude\", fontdict={'family': 'sans-serif', 'size': 16, 'weight': 'normal'})\n",
    "\n",
    "plt.show()"
   ],
   "metadata": {
    "collapsed": false
   }
  },
  {
   "cell_type": "markdown",
   "source": [
    "Looking at the scatterplot, we can observe that on the red side where Trump had won, the dots are evenly distributed on both sides of the 39th parallel north, which is the horizontal line dividing the plot into two parts. This indicates that if Trump wins a county, the likelihood of it being located at any latitude is random, and the advantage that Trump has over his opponent is also random, regardless of its geographical location. This suggests that Trump's popularity and vote share in these counties are not significantly influenced by geographical factors.\n",
    "\n",
    "On the other hand, the blue side where Trump had lost shows a distinctive convergence of dots on the left side of the plot. This suggests that for a county where Trump lost with a weak disadvantage, it is more likely to be located in the north or south rather than in the center of the country. This observation suggests that geographical factors may have had some influence on the outcome of the election in these counties."
   ],
   "metadata": {
    "collapsed": false
   }
  },
  {
   "cell_type": "markdown",
   "source": [
    "#### Trump Vote Share Versus Longitude\n",
    "After analyzing the relationship between Trump's vote share and latitude, it is also essential to examine the variable of longitude. The following graph displays longitude on the x-axis, reorganizing the US map by the North-South direction, with counties that Trump won at the top and those he lost at the bottom. East counties are still on the right side of the plot, and the west counties are still on the left."
   ],
   "metadata": {
    "collapsed": false
   }
  },
  {
   "cell_type": "code",
   "execution_count": null,
   "outputs": [],
   "source": [
    "plt.figure(figsize=(16, 12))\n",
    "sns.scatterplot(data=df_county_geo, x=\"lng\",\n",
    "                y='trump_vote_share', hue=\"won\", size=\"county_total_votes\",\n",
    "                palette=\"coolwarm\", sizes=(10, 100))\n",
    "plt.axvline(x=-122, color='blue', linestyle='dashed', label='Trump Share Dive')\n",
    "plt.legend()\n",
    "plt.text(-122, 5, '-122', rotation=-90, va='bottom', ha='left')\n",
    "plt.axvline(x=-112, color='red', linestyle='dashed', label='Trump Share Peak')\n",
    "plt.legend()\n",
    "plt.text(-112, 95, '-112', rotation=-90, va='bottom', ha='left')\n",
    "plt.axvline(x=-106, color='blue', linestyle='dashed')\n",
    "plt.text(-106, 5, '-106', rotation=-90, va='bottom', ha='left')\n",
    "plt.axvline(x=-101, color='red', linestyle='dashed')\n",
    "plt.text(-101, 95, '-101', rotation=-90, va='bottom', ha='left')\n",
    "plt.axvline(x=-90, color='blue', linestyle='dashed')\n",
    "plt.text(-90, 5, '-90', rotation=-90, va='bottom', ha='left')\n",
    "plt.axvline(x=-84, color='red', linestyle='dashed')\n",
    "plt.text(-84, 95, '-84', rotation=-90, va='bottom', ha='left')\n",
    "plt.axvline(x=-77, color='blue', linestyle='dashed')\n",
    "plt.text(-77, 5, '-77', rotation=-90, va='bottom', ha='left')\n",
    "\n",
    "plt.plot([-124, -112], [10, 40], color=\"magenta\", linestyle=':', label='Trend Boundary')\n",
    "plt.legend()\n",
    "plt.plot([-124, -112], [70, 90], color=\"magenta\", linestyle=':')\n",
    "plt.plot([-112, -106], [40, 20], color=\"magenta\", linestyle=':')\n",
    "plt.plot([-112, -106], [90, 85], color=\"magenta\", linestyle=':')\n",
    "plt.plot([-106, -101], [20, 40], color=\"magenta\", linestyle=':')\n",
    "plt.plot([-106, -101], [85, 95], color=\"magenta\", linestyle=':')\n",
    "plt.plot([-101, -90], [40, 15], color=\"magenta\", linestyle=':')\n",
    "plt.plot([-101, -90], [95, 85], color=\"magenta\", linestyle=':')\n",
    "plt.plot([-90, -84], [15, 30], color=\"magenta\", linestyle=':')\n",
    "plt.plot([-90, -84], [85, 95], color=\"magenta\", linestyle=':')\n",
    "plt.plot([-84, -73], [30, 5], color=\"magenta\", linestyle=':')\n",
    "plt.plot([-84, -73], [95, 65], color=\"magenta\", linestyle=':')\n",
    "plt.legend()\n",
    "\n",
    "legend_labels = plt.gca().get_legend().get_texts()\n",
    "for i, label in enumerate(legend_labels):\n",
    "    if i == 0:\n",
    "        label.set_text(\"Status\")\n",
    "    if i == 1:\n",
    "        label.set_text(\"Trump Lost\")\n",
    "    if i == 2:\n",
    "        label.set_text(\"Trump Won\")\n",
    "    if i == 3:\n",
    "        label.set_text(\"County's Total Vote\")\n",
    "\n",
    "plt.title(\"Vote Share of Trump vs Longitude\", fontdict={'family': 'sans-serif', 'size': 18})\n",
    "plt.xlabel(\"Longitude\", fontdict={'family': 'sans-serif', 'size': 16, 'weight': 'normal'})\n",
    "plt.ylabel(\"Vote Share of Trump (%)\", fontdict={'family': 'sans-serif', 'size': 16, 'weight': 'normal'})\n",
    "\n",
    "plt.show()"
   ],
   "metadata": {
    "collapsed": false
   }
  },
  {
   "cell_type": "markdown",
   "source": [
    "The scatterplot of longitude against the share of Trump votes reveals a very interesting pattern of distribution. As we move from the farthest west (longitude -122) to the east, we observe that the general votes are relatively unfavored for Donald Trump. However, as we move slightly to the east (longitude -112), we see a local peak in the vote share for Trump. Continuing eastward to longitude -106, we see a local dive in the vote share. This pattern continues, and we observe four total dives at longitudes -122, -106, -90, and -77, and three peaks in between them at longitudes -112, -101, and -84.\n",
    "\n",
    "This wave-like movement of Trump's vote share from west to east is a fascinating phenomenon that may be influenced by several factors, such as population density, regional culture and values, and historical context. However, the exact cause of this pattern is beyond the scope of this analysis and requires further research. It is possible that future studies may shed light on the underlying reasons for this phenomenon and help us better understand the complex interplay between geography and politics in the United States."
   ],
   "metadata": {
    "collapsed": false
   }
  },
  {
   "cell_type": "markdown",
   "source": [
    "#### Geographical Distribution of Trump Share Votes\n",
    "By combining the latitude and longitude graph, we have a comprehensive map that illustrates the Trump share of votes in the US mainland. The map is divided into areas represented by blue and red lines, where the blue lines represent areas with lower Trump share, and the red lines represent areas with higher Trump share."
   ],
   "metadata": {
    "collapsed": false
   }
  },
  {
   "cell_type": "code",
   "execution_count": null,
   "outputs": [],
   "source": [
    "\n",
    "#plot\n",
    "fig, gax = plt.subplots(1, figsize=(14, 8))\n",
    "ax = fig.add_subplot()\n",
    "gpd_state4.plot(ax=ax, edgecolor=\"black\", color=\"white\")\n",
    "plt.axvline(x=-122, color='blue', linestyle='dashed', label='Trump Share Dive')\n",
    "plt.legend()\n",
    "plt.text(-122, 25, '-122', rotation=-90, va='bottom', ha='left')\n",
    "plt.axvline(x=-112, color='red', linestyle='dashed', label='Trump Share Peak')\n",
    "plt.legend()\n",
    "plt.text(-112, 25, '-112', rotation=-90, va='bottom', ha='left')\n",
    "plt.axvline(x=-106, color='blue', linestyle='dashed')\n",
    "plt.text(-106, 25, '-106', rotation=-90, va='bottom', ha='left')\n",
    "plt.axvline(x=-101, color='red', linestyle='dashed')\n",
    "plt.text(-101, 25, '-101', rotation=-90, va='bottom', ha='left')\n",
    "plt.axvline(x=-90, color='blue', linestyle='dashed')\n",
    "plt.text(-90, 25, '-90', rotation=-90, va='bottom', ha='left')\n",
    "plt.axvline(x=-84, color='red', linestyle='dashed')\n",
    "plt.text(-84, 25, '-84', rotation=-90, va='bottom', ha='left')\n",
    "plt.axvline(x=-77, color='blue', linestyle='dashed')\n",
    "plt.text(-77, 25, '-77', rotation=-90, va='bottom', ha='left')\n",
    "plt.axhline(y=39, color='blue', linestyle='dashed')\n",
    "plt.text(-71, 38, '39th Parallel North', rotation=0, va='bottom', ha='left')\n",
    "\n",
    "for idx, row in gpd_state4.iterrows():\n",
    "    name = row['STUSPS']\n",
    "    if name in ['VT', 'NH', 'MA', 'RI', 'CT', 'NJ', 'MD', 'DE', 'DC']:\n",
    "        coords = row.geometry.centroid.coords[0]\n",
    "        if name in ['MA', 'NH', 'JE']:\n",
    "            ax.annotate(text=name, xy=coords, xytext=(coords[0]+3, coords[1]-1),\n",
    "                        ha='center', fontsize=14, arrowprops=dict(arrowstyle=\"-\", color='black', linewidth=2))\n",
    "        elif name in ['VT']:\n",
    "            ax.annotate(text=name, xy=coords, xytext=(coords[0]-1, coords[1]+2),\n",
    "                        ha='center', fontsize=14, arrowprops=dict(arrowstyle=\"-\", color='black', linewidth=2))\n",
    "        elif name in ['NJ']:\n",
    "            ax.annotate(text=name, xy=coords, xytext=(coords[0]+1.5, coords[1]-0.5),\n",
    "                        ha='center', fontsize=14, arrowprops=dict(arrowstyle=\"-\", color='black', linewidth=2))\n",
    "        elif name in ['RI']:\n",
    "            ax.annotate(text=name, xy=coords, xytext=(coords[0]+3, coords[1]-2),\n",
    "                        ha='center', fontsize=14, arrowprops=dict(arrowstyle=\"-\", color='black', linewidth=2))\n",
    "        elif name in ['CT']:\n",
    "            ax.annotate(text=name, xy=coords, xytext=(coords[0]+2, coords[1]-2),\n",
    "                        ha='center', fontsize=14, arrowprops=dict(arrowstyle=\"-\", color='black', linewidth=2))\n",
    "        elif name in ['DE']:\n",
    "            ax.annotate(text=name, xy=coords, xytext=(coords[0]+2, coords[1]-0.5),\n",
    "                        ha='center', fontsize=14, arrowprops=dict(arrowstyle=\"-\", color='black', linewidth=2))\n",
    "        elif name in ['DC']:\n",
    "            ax.annotate(text=name, xy=coords, xytext=(coords[0]+3, coords[1]-2),\n",
    "                        ha='center', fontsize=14, arrowprops=dict(arrowstyle=\"-\", color='black', linewidth=2))\n",
    "    else:\n",
    "        ax.annotate(text=name, xy=row.geometry.centroid.coords[0], ha='center', fontsize=14)\n",
    "gax.axis('off')\n",
    "plt.title(\"Vote Share of Trump Distribution Map\", fontdict={'family': 'sans-serif', 'size': 18})\n",
    "plt.xlabel(\"Latitude\", fontdict={'family': 'sans-serif', 'size': 16, 'weight': 'normal'})\n",
    "plt.ylabel(\"Longitude\", fontdict={'family': 'sans-serif', 'size': 16, 'weight': 'normal'})\n",
    "plt.show()"
   ],
   "metadata": {
    "collapsed": false
   }
  },
  {
   "cell_type": "markdown",
   "source": [
    "The map shows that the areas with the highest Trump share are mostly located in the central and southern regions of the country, where more small counties are located. These regions include Texas, Oklahoma, Arkansas, Louisiana, Mississippi, Alabama, Tennessee, Kentucky, West Virginia, and parts of Georgia, South Carolina, and North Carolina. On the other hand, the areas with the lowest Trump share are mostly located in the western and northeastern regions of the country. These regions include California, Oregon, Washington, Minnesota, Illinois, Michigan, New York, Vermont, Massachusetts, Connecticut, and parts of New Hampshire, Maine, and Rhode Island.\n",
    "\n",
    "The map also reveals a pattern of wave-like movement, where the Trump share of votes tends to peak and dive as we move from west to east. The peaks are located in the western part of Texas, eastern Colorado, and western Ohio, while the dives are located in the western part of Washington, eastern Montana, eastern Iowa, and western Pennsylvania.\n",
    "\n",
    "Overall, the map provides a comprehensive and detailed view of the distribution of Trump share of votes in the US mainland. It highlights the regions where Trump was more popular and the regions where he was less popular, and it reveals a pattern of wave-like movement that may be worth exploring in future studies."
   ],
   "metadata": {
    "collapsed": false
   }
  },
  {
   "cell_type": "markdown",
   "source": [
    "# Project Two\n",
    "## The Message\n",
    "The more the electoral system is leaning towards the smaller counties, the more likely Donald Trump is going to win the election."
   ],
   "metadata": {
    "collapsed": false
   }
  },
  {
   "cell_type": "code",
   "execution_count": null,
   "outputs": [],
   "source": [
    "df_boxplot1 = pd.DataFrame({\n",
    "    'share of votes in the winning counties': df_county_won['share of votes in the winning counties'],\n",
    "})\n",
    "df_boxplot1['Electoral Systems'] = 'share of votes in the winning counties'\n",
    "df_boxplot1.rename(columns={'share of votes in the winning counties': 'Value'}, inplace=True)\n",
    "\n",
    "df_boxplot2 = pd.DataFrame(data=df_county_lost, columns=['share of votes in the losing counties'])\n",
    "df_boxplot2['Electoral Systems'] = 'share of votes in the losing counties'\n",
    "df_boxplot2.rename(columns={'share of votes in the losing counties': 'Value'}, inplace=True)\n",
    "\n",
    "df_boxplot1 = pd.concat([df_boxplot1, df_boxplot2])\n",
    "df_boxplot1['Group'] = 'I & II: Elect By County'\n",
    "\n",
    "df_boxplot3 = pd.DataFrame(data=df_state_won, columns=['share of counties in the winning states'])\n",
    "df_boxplot3['Electoral Systems'] = 'share of counties in the winning states'\n",
    "df_boxplot3.rename(columns={'share of counties in the winning states': 'Value'}, inplace=True)\n",
    "\n",
    "df_boxplot4 = pd.DataFrame(data=df_state_lost, columns=['share of counties in the losing states'])\n",
    "df_boxplot4['Electoral Systems'] = 'share of counties in the losing states'\n",
    "df_boxplot4.rename(columns={'share of counties in the losing states': 'Value'}, inplace=True)\n",
    "\n",
    "df_boxplot3 = pd.concat([df_boxplot3, df_boxplot4])\n",
    "df_boxplot3['Group'] = 'III & IV: Elect By State'\n",
    "\n",
    "df_boxplot = pd.concat([df_boxplot1, df_boxplot3])\n",
    "\n",
    "fig, axes = plt.subplots(1, 2, figsize=(12, 6), sharey=False)\n",
    "\n",
    "boxprops = dict(linewidth=2)\n",
    "medianprops = dict(linewidth=2)\n",
    "whiskerprops = dict(linewidth=2)\n",
    "capprops = dict(linewidth=2)\n",
    "\n",
    "for i, (name, group) in enumerate(df_boxplot.groupby('Group')):\n",
    "    ax = axes[i]\n",
    "    group.boxplot(by='Electoral Systems', ax=ax, positions=[1, 2], widths=0.3,\n",
    "                  boxprops=boxprops, medianprops=medianprops,\n",
    "                  whiskerprops=whiskerprops, capprops=capprops)\n",
    "\n",
    "    ax.set_xlabel('')\n",
    "\n",
    "    if i == 0:\n",
    "        ax.set_xticklabels(['Won Counties', 'Lost Counties'])\n",
    "        ax.set_ylabel('Vote Share of Trump (%)')\n",
    "    else:\n",
    "        ax.set_xticklabels(['Lost States', 'Won States'])\n",
    "\n",
    "    ax.set_title(name, fontweight='bold')\n",
    "    ax.tick_params(axis='both', which='major', labelsize=12)\n",
    "\n",
    "plt.suptitle('Distribution of Vote Share of Trump by Electoral System', fontweight='bold', fontsize=16)\n",
    "plt.tight_layout()\n",
    "plt.show()\n"
   ],
   "metadata": {
    "collapsed": false
   }
  },
  {
   "cell_type": "markdown",
   "source": [
    "Recalling the two general types of electoral systems defined at the beginning of this paper:\n",
    "\n",
    "*Elect By County:* A county casts all of its votes on the party (candidate) that won the majority of votes.\n",
    "\n",
    "*Elect By State:* A state casts all of its votes on the party (candidate) that won the majority of counties.\n",
    "\n",
    "According to these rules, if a county is large enough in the first general type, it has the potential to overstep multiple small counties using its large volume of votes. In contrast, in the second general type, since the decision-making level is at the state, and the majority of counties in a state are small counties, Donald Trump's victory would have been dominant.\n",
    "\n",
    "The two groups of boxplots presented in this paper show a significant difference in the gap between losing and winning districts between the two general types of electoral systems. The first group, which stands for electing by county, shows that the gap between the two median quantiles marked by the color orange is about 0.3. In contrast, the second group, which represents electing by state, shows that the gap between the two median quantiles marked by the color orange is almost about 0.6, doubling the gap in the first group. A larger gap between the two median quantiles indicates a more overwhelming victory by Trump.\n",
    "\n",
    "Overall, this observation suggests that the electoral system has a significant impact on the gap between losing and winning districts. This highlights the importance of understanding the weighing by the electoral system analyzing election results."
   ],
   "metadata": {
    "collapsed": false
   }
  },
  {
   "cell_type": "markdown",
   "source": [
    "## Maps and Interpretations\n",
    "To obtain a clearer representation of the US mainland, we removed Hawaii and Alaska from both county-level and state-level dataframes before generating the graphs."
   ],
   "metadata": {
    "collapsed": false
   }
  },
  {
   "cell_type": "code",
   "execution_count": null,
   "outputs": [],
   "source": [
    "df_county_mainland = df_county[~df_county[\"state\"].isin([\"Alaska\", \"Hawaii\"])]\n",
    "df_state_mainland = df_state2[~df_state2[\"state\"].isin([\"Alaska\", \"Hawaii\"])]"
   ],
   "metadata": {
    "collapsed": false
   }
  },
  {
   "cell_type": "markdown",
   "source": [
    "### Electoral System I - Elect By County\n",
    "The first electoral system we will examine is Electoral System I, where each county has same number of votes as its voters, and it casts all of its votes on the party (candidate) that won the majority of votes. The formulas been used are as below:\n",
    "\n",
    "$$ \\text{Fabricated Votes for Biden} = \\sum \\limits _{i=1} ^{|Counties|} (if \\text{ Votes for Biden in a county} > \\text{Votes for Trump in a county}), \\text{Total Votes in a county}, 0) $$\n",
    "\n",
    "$$ \\text{Fabricated Votes for Trump} = \\sum \\limits _{i=1} ^{|Counties|} (if \\text{ Votes for Biden in a county} < \\text{Votes for Trump in a county}), \\text{Total Votes in a county}, 0) $$"
   ],
   "metadata": {
    "collapsed": false
   }
  },
  {
   "cell_type": "code",
   "execution_count": null,
   "outputs": [],
   "source": [
    "plt.figure(figsize = (14,10))\n",
    "sns.scatterplot(data = df_county_mainland, x = \"lng\", y = \"lat\", hue = \"party\", size = \"total_votes\",\n",
    "                sizes = (2, 200), palette = ['blue', 'red', 'yellow'])\n",
    "plt.title(\"Electoral System I\", fontdict={'family': 'sans-serif', 'size': 18})\n",
    "plt.xlabel(\"Latitude\", fontdict={'family': 'sans-serif', 'size': 16, 'weight': 'normal'})\n",
    "plt.ylabel(\"Longitude\", fontdict={'family': 'sans-serif', 'size': 16, 'weight': 'normal'})\n",
    "legend_labels = plt.gca().get_legend().get_texts()\n",
    "for i, label in enumerate(legend_labels):\n",
    "    if i == 0:\n",
    "        label.set_text(\"Party That Wins\")\n",
    "    if i == 1:\n",
    "        label.set_text(\"Democratic\")\n",
    "    if i == 2:\n",
    "        label.set_text(\"Republic\")\n",
    "    if i == 3:\n",
    "        label.set_text(\"Liberal\")\n",
    "    if i == 4:\n",
    "        label.set_text(\"County's Total Votes\")\n",
    "plt.show()"
   ],
   "metadata": {
    "collapsed": false
   }
  },
  {
   "cell_type": "code",
   "execution_count": null,
   "outputs": [],
   "source": [
    "y1 = df_county.groupby('party')['total_votes'].sum()['DEM']\n",
    "y2 = df_county.groupby('party')['total_votes'].sum()['REP']\n",
    "y3 = df_county.groupby('party')['total_votes'].sum()['LIB']\n",
    "y4 = df_county.groupby('party')['total_votes'].sum()['WRI']\n",
    "result_1 = [['DEM', 'Joe Biden', y1, max(y1, y2, y3, y4) == y1],\n",
    "            ['REP', 'Donald Trump', y2, max(y1, y2, y3, y4) == y2],\n",
    "            ['LIB', 'Jo Jorgensen', y3, max(y1, y2, y3, y4) == y3],\n",
    "            ['WRI', 'Write-ins', y4, max(y1, y2, y3, y4) == y4]\n",
    "            ]\n",
    "df_result_1 = pd.DataFrame(result_1, columns = ['Party', 'Candidate', 'Fabricated Votes', 'Won'])\n",
    "df_result_1"
   ],
   "metadata": {
    "collapsed": false
   }
  },
  {
   "cell_type": "markdown",
   "source": [
    "The Electoral System I assigns each county a number of votes equal to the number of registered voters in the county, and all of these votes are cast for the party (candidate) that received the majority of votes in that county.\n",
    "\n",
    "According to the table, Joe Biden emerged as the winner with a total of 94,602,377 votes, and he won the election under this system. In the context of the 2020 United States presidential election, Joe Biden won the majority of votes in a number of megacities, which had a significant impact on the outcome of the election. Biden was able to accumulate a large number of electoral votes due to his success in densely populated areas. On the other hand, Donald Trump won a large number of counties but failed to secure enough votes from densely populated areas to win the election."
   ],
   "metadata": {
    "collapsed": false
   }
  },
  {
   "cell_type": "markdown",
   "source": [
    "### Electoral System II - Elect By County\n",
    "The second electoral system we will examine is Electoral System II, where each county has one vote, it casts its vote on the party (candidate) that won the majority of votes. The formulas been used are as below:\n",
    "\n",
    "$$ \\text{Fabricated Votes for Biden} = \\sum \\limits _{i=1} ^{|Counties|} (if \\text{ Votes for Biden in a county} > \\text{Votes for Trump in a county}), 1, 0) $$\n",
    "\n",
    "$$ \\text{Fabricated Votes for Trump} = \\sum \\limits _{i=1} ^{|Counties|} (if \\text{ Votes for Biden in a county} < \\text{Votes for Trump in a county}), 1, 0) $$"
   ],
   "metadata": {
    "collapsed": false
   }
  },
  {
   "cell_type": "code",
   "execution_count": null,
   "outputs": [],
   "source": [
    "plt.figure(figsize = (14,10))\n",
    "sns.scatterplot(data = df_county_mainland, x = \"lng\", y = \"lat\", hue = \"party\", size = 20, palette = ['blue', 'red', 'yellow'])\n",
    "plt.title(\"Electoral System II\", fontdict={'family': 'sans-serif', 'size': 18})\n",
    "plt.xlabel(\"Latitude\", fontdict={'family': 'sans-serif', 'size': 16, 'weight': 'normal'})\n",
    "plt.ylabel(\"Longitude\", fontdict={'family': 'sans-serif', 'size': 16, 'weight': 'normal'})\n",
    "plt.legend(title='Party That Wins', loc='lower right')\n",
    "legend_labels = plt.gca().get_legend().get_texts()\n",
    "for i, label in enumerate(legend_labels):\n",
    "    if i == 0:\n",
    "        label.set_text(\"Democratic\")\n",
    "    if i == 1:\n",
    "        label.set_text(\"Republic\")\n",
    "    if i == 2:\n",
    "        label.set_text(\"Liberal\")\n",
    "    if i == 3:\n",
    "        label.set_text(\"Write-ins\")\n",
    "plt.show()"
   ],
   "metadata": {
    "collapsed": false
   }
  },
  {
   "cell_type": "code",
   "execution_count": null,
   "outputs": [],
   "source": [
    "y1 = df_county['party'].value_counts()['DEM']\n",
    "y2 = df_county['party'].value_counts()['REP']\n",
    "y3 = df_county['party'].value_counts()['LIB']\n",
    "y4 = df_county['party'].value_counts()['WRI']\n",
    "result_2 = [['DEM', 'Joe Biden', y1, max(y1, y2, y3, y4) == y1],\n",
    "            ['REP', 'Donald Trump', y2, max(y1, y2, y3, y4) == y2],\n",
    "            ['LIB', 'Jo Jorgensen', y3, max(y1, y2, y3, y4) == y3],\n",
    "            ['WRI', 'Write-ins', y4, max(y1, y2, y3, y4) == y4]\n",
    "            ]\n",
    "df_result_2 = pd.DataFrame(result_2, columns = ['Party', 'Candidate', 'Fabricated Votes', 'Won'])\n",
    "df_result_2"
   ],
   "metadata": {
    "collapsed": false
   }
  },
  {
   "cell_type": "markdown",
   "source": [
    "Electoral System II assigns each county a single vote, which is cast for the party (candidate) that won the majority of votes in that county. Under this system, Donald Trump emerged as the winner, with a significant lead over Joe Biden. This is in contrast to the outcome under Electoral System I, where Biden was declared the winner. The difference in the results can be attributed to the fact that in Electoral System II, all counties are weighted equally, regardless of their population or number of registered voters. As a result, Trump's popularity in small counties and traditional Republican strongholds gave him an advantage under this system. In addition, the fact that each county is weighted equally means that the influence of larger urban areas, which tend to lean Democratic, is minimized, leading to a more Republican-leaning outcome."
   ],
   "metadata": {
    "collapsed": false
   }
  },
  {
   "cell_type": "markdown",
   "source": [
    "### Electoral System III - Elect By State\n",
    "The third electoral system we will examine is Electoral System III, where each state has same number of votes as its voters, it casts all of its votes on the party (candidate) that won the majority of counties. The formulas been used are as below:\n",
    "\n",
    "$$ \\text{Fabricated Votes for Biden} = \\sum \\limits _{i=1} ^{|States|} (if \\text{ State Votes for Biden} > \\text{State Votes for Trump}, \\text{Total Votes of }State_{i}, 0) $$\n",
    "\n",
    "$$ \\text{Fabricated Votes for Trump} = \\sum \\limits _{i=1} ^{|States|} (if \\text{ State Votes for Biden} < \\text{State Votes for Trump}, \\text{Total Votes of }State_{i}, 0) $$\n",
    "\n",
    "$$ \\text{State Votes for Biden} = \\sum \\limits _{j=1} ^{|\\text{Counties in a }state_i|} (if \\text{ Votes for Biden in a county} > \\text{Votes for Trump in a county}, 1, 0) $$\n",
    "\n",
    "$$ \\text{State Votes for Trump} = \\sum \\limits _{j=1} ^{|\\text{Counties in a }state_i|} ((if \\text{ Votes for Biden in a county} < \\text{Votes for Trump in a county}, 1, 0) $$\n",
    "\n",
    "$$ \\text{Total Votes of }State_{i} = \\sum \\limits _{j=1} ^{|\\text{Counties in a }state_i|} \\text{Total Votes in a county} $$"
   ],
   "metadata": {
    "collapsed": false
   }
  },
  {
   "cell_type": "code",
   "execution_count": null,
   "outputs": [],
   "source": [
    "fig, gax= plt.subplots(figsize=(14, 8))\n",
    "\n",
    "# Define color mapping\n",
    "colors = {'DEM': 'blue', 'REP': 'red'}\n",
    "\n",
    "# Define minimum and maximum values for color scale\n",
    "vmin = gpd_state4['total_votes'].min()\n",
    "vmax = gpd_state4['total_votes'].max()\n",
    "\n",
    "# Plot each state with the appropriate color and shade\n",
    "for index, row in gpd_state4.iterrows():\n",
    "    color = colors.get(row['party'], 'gray')\n",
    "    total_votes = row['total_votes']\n",
    "    shade = (total_votes - vmin) / (vmax - vmin)\n",
    "    gpd_state4[gpd_state4.index == index].plot(ax=gax, color=color, edgecolor='black', linewidth=1, alpha=shade)\n",
    "\n",
    "# Add legend\n",
    "handles = [plt.Rectangle((0, 0), 1, 1, color=color) for color in colors.values()]\n",
    "labels = colors.keys()\n",
    "gax.legend(handles, labels, loc='lower right')\n",
    "\n",
    "for idx, row in gpd_state4.iterrows():\n",
    "    name = row['STUSPS']\n",
    "    if name in ['VT', 'NH', 'MA', 'RI', 'CT', 'NJ', 'MD', 'DE', 'DC', 'CA']:\n",
    "        coords = row.geometry.centroid.coords[0]\n",
    "        if name in ['MA', 'NH', 'JE']:\n",
    "            gax.annotate(text=name, xy=coords, xytext=(coords[0]+3, coords[1]-1),\n",
    "                        ha='center', fontsize=14, arrowprops=dict(arrowstyle=\"-\", color='black'))\n",
    "        elif name in ['VT']:\n",
    "            gax.annotate(text=name, xy=coords, xytext=(coords[0]-1, coords[1]+2),\n",
    "                        ha='center', fontsize=14, arrowprops=dict(arrowstyle=\"-\", color='black'))\n",
    "        elif name in ['NJ']:\n",
    "            gax.annotate(text=name, xy=coords, xytext=(coords[0]+1.5, coords[1]-0.5),\n",
    "                        ha='center', fontsize=14, arrowprops=dict(arrowstyle=\"-\", color='black'))\n",
    "        elif name in ['RI', 'DC']:\n",
    "            gax.annotate(text=name, xy=coords, xytext=(coords[0]+3, coords[1]-2),\n",
    "                        ha='center', fontsize=14, arrowprops=dict(arrowstyle=\"-\", color='black'))\n",
    "        elif name in ['CT']:\n",
    "            gax.annotate(text=name, xy=coords, xytext=(coords[0]+2, coords[1]-2),\n",
    "                        ha='center', fontsize=14, arrowprops=dict(arrowstyle=\"-\", color='black'))\n",
    "        elif name in ['DE']:\n",
    "            gax.annotate(text=name, xy=coords, xytext=(coords[0]+2, coords[1]-0.5),\n",
    "                        ha='center', fontsize=14, arrowprops=dict(arrowstyle=\"-\", color='black'))\n",
    "        elif name in ['CA']:\n",
    "            gax.annotate(text=name, xy=row.geometry.centroid.coords[0], ha='center', fontsize=14, color = 'white')\n",
    "    else:\n",
    "        gax.annotate(text=name, xy=row.geometry.centroid.coords[0], ha='center', fontsize=14)\n",
    "\n",
    "# Set plot title\n",
    "plt.title(\"Electoral System III\", fontdict={'family': 'sans-serif', 'size': 18})\n",
    "plt.xlabel(\"Latitude\", fontdict={'family': 'sans-serif', 'size': 16, 'weight': 'normal'})\n",
    "plt.ylabel(\"Longitude\", fontdict={'family': 'sans-serif', 'size': 16, 'weight': 'normal'})\n",
    "\n",
    "# Add legend\n",
    "handles = [plt.Rectangle((0, 0), 1, 1, color=color) for color in colors.values()]\n",
    "labels = ['Democratic', 'Republic']\n",
    "legend = gax.legend(handles, labels, loc='lower right')\n",
    "\n",
    "# Set legend title\n",
    "legend.set_title(\"Party That Wins\")\n",
    "\n",
    "# Show plot\n",
    "plt.show()\n"
   ],
   "metadata": {
    "collapsed": false
   }
  },
  {
   "cell_type": "code",
   "execution_count": null,
   "outputs": [],
   "source": [
    "y1 = df_state2.groupby('party')['total_votes'].sum()['DEM']\n",
    "y2 = df_state2.groupby('party')['total_votes'].sum()['REP']\n",
    "try:\n",
    "    y3 = df_state2.groupby('party')['total_votes'].sum()['LIB']\n",
    "except KeyError:\n",
    "    y3 = 0\n",
    "try:\n",
    "    y4 = df_state2.groupby('party')['total_votes'].sum()['WRI']\n",
    "except KeyError:\n",
    "    y4 = 0\n",
    "result_3 = [['DEM', 'Joe Biden', y1, max(y1, y2, y3, y4) == y1],\n",
    "            ['REP', 'Donald Trump', y2, max(y1, y2, y3, y4) == y2],\n",
    "            ['LIB', 'Jo Jorgensen', y3, max(y1, y2, y3, y4) == y3],\n",
    "            ['WRI', 'Write-ins', y4, max(y1, y2, y3, y4) == y4]\n",
    "            ]\n",
    "df_result_3 = pd.DataFrame(result_3, columns = ['Party', 'Candidate', 'Fabricated Votes', 'Won'])\n",
    "df_result_3"
   ],
   "metadata": {
    "collapsed": false
   }
  },
  {
   "cell_type": "markdown",
   "source": [
    "Under Electoral System III, Donald Trump won this system with a significant lead over Joe Biden. This can be attributed to the fact that Trump won the majority of counties in many states, including those with a higher number of rural counties. In contrast, Biden's support was mainly concentrated in urban areas and some Democrat's conservative base states. The result is notably different from the previous two systems, as the number of small counties is significantly higher than the number of large counties, and that the state-level decision is purely based on which candidate wins the majority counties. This system gives substantial advantage to Donald Trump, due to the popularity of his policy among people live in the small towns and rural regions. In Electoral System III, because the number of counties won by a party (candidate) plays a significant role in determining the winner, while in the previous two systems, the total number of votes won by a party (candidate) was the deciding factor, the system heavily leans towards small counties rather than populated cities."
   ],
   "metadata": {
    "collapsed": false
   }
  },
  {
   "cell_type": "markdown",
   "source": [
    "### Electoral System IV - Elect By State\n",
    "The last electoral system we will examine is Electoral System IV, where each state has one vote, it casts all of its votes on the party (candidate) that won the majority of counties. The formulas been used are as below:\n",
    "\n",
    "$$ \\text{Fabricated Votes for Biden} = \\sum \\limits _{i=1} ^{|States|} (if \\text{ State Votes for Biden} > \\text{State Votes for Trump}, 1, 0) $$\n",
    "\n",
    "$$ \\text{Fabricated Votes for Trump} = \\sum \\limits _{i=1} ^{|States|} (if \\text{ State Votes for Biden} < \\text{State Votes for Trump}, 1, 0) $$\n",
    "\n",
    "$$ \\text{State Votes for Biden} = \\sum \\limits _{j=1} ^{|\\text{Counties in a }state_i|} (if \\text{ Votes for Biden in a county} > \\text{Votes for Trump in a county}, 1, 0) $$\n",
    "\n",
    "$$ \\text{State Votes for Trump} = \\sum \\limits _{j=1} ^{|\\text{Counties in a }state_i|} ((if \\text{ Votes for Biden in a county} < \\text{Votes for Trump in a county}, 1, 0) $$\n",
    "\n",
    "$$ \\text{Total Votes of }State_{i} = \\sum \\limits _{j=1} ^{|\\text{Counties in a }state_i|} \\text{Total Votes in a county} $$"
   ],
   "metadata": {
    "collapsed": false
   }
  },
  {
   "cell_type": "code",
   "execution_count": null,
   "outputs": [],
   "source": [
    "fig, gax= plt.subplots(1, figsize = (14,8))\n",
    "gpd_state4.plot(ax=gax, edgecolor='black', column='party', legend=True, cmap='bwr', categorical=True, vmin=-1, vmax=2)\n",
    "for idx, row in gpd_state4.iterrows():\n",
    "    name = row['STUSPS']\n",
    "    if name in ['VT', 'NH', 'MA', 'RI', 'CT', 'NJ', 'MD', 'DE', 'DC']:\n",
    "        coords = row.geometry.centroid.coords[0]\n",
    "        if name in ['MA', 'NH', 'JE']:\n",
    "            gax.annotate(text=name, xy=coords, xytext=(coords[0]+3, coords[1]-1),\n",
    "                        ha='center', fontsize=14, arrowprops=dict(arrowstyle=\"-\", color='black', linewidth=1.5))\n",
    "        elif name in ['VT']:\n",
    "            gax.annotate(text=name, xy=coords, xytext=(coords[0]-1, coords[1]+2),\n",
    "                        ha='center', fontsize=14, arrowprops=dict(arrowstyle=\"-\", color='black', linewidth=1.5))\n",
    "        elif name in ['NJ']:\n",
    "            gax.annotate(text=name, xy=coords, xytext=(coords[0]+1.5, coords[1]-0.5),\n",
    "                        ha='center', fontsize=14, arrowprops=dict(arrowstyle=\"-\", color='black', linewidth=1.5))\n",
    "        elif name in ['RI']:\n",
    "            gax.annotate(text=name, xy=coords, xytext=(coords[0]+3, coords[1]-2),\n",
    "                        ha='center', fontsize=14, arrowprops=dict(arrowstyle=\"-\", color='black', linewidth=1.5))\n",
    "        elif name in ['CT']:\n",
    "            gax.annotate(text=name, xy=coords, xytext=(coords[0]+2, coords[1]-2),\n",
    "                        ha='center', fontsize=14, arrowprops=dict(arrowstyle=\"-\", color='black', linewidth=1.5))\n",
    "        elif name in ['DE']:\n",
    "            gax.annotate(text=name, xy=coords, xytext=(coords[0]+2, coords[1]-0.5),\n",
    "                        ha='center', fontsize=14, arrowprops=dict(arrowstyle=\"-\", color='black', linewidth=1.5))\n",
    "        elif name in ['DC']:\n",
    "            gax.annotate(text=name, xy=coords, xytext=(coords[0]+3, coords[1]-2),\n",
    "                        ha='center', fontsize=14, arrowprops=dict(arrowstyle=\"-\", color='black', linewidth=1.5))\n",
    "    else:\n",
    "        gax.annotate(text=name, xy=row.geometry.centroid.coords[0], ha='center', fontsize=14)\n",
    "plt.title(\"Electoral System IV\", fontdict={'family': 'sans-serif', 'size': 18})\n",
    "plt.xlabel(\"Latitude\", fontdict={'family': 'sans-serif', 'size': 16, 'weight': 'normal'})\n",
    "plt.ylabel(\"Longitude\", fontdict={'family': 'sans-serif', 'size': 16, 'weight': 'normal'})\n",
    "plt.show()"
   ],
   "metadata": {
    "collapsed": false
   }
  },
  {
   "cell_type": "code",
   "execution_count": null,
   "outputs": [],
   "source": [
    "y1 = df_state1['party'].value_counts()['DEM']\n",
    "y2 = df_state1['party'].value_counts()['REP']\n",
    "try:\n",
    "    y3 = df_state1['party'].value_counts()['LIB']\n",
    "except KeyError:\n",
    "    y3 = 0\n",
    "try:\n",
    "    y4 = df_state1['party'].value_counts()['WRI']\n",
    "except KeyError:\n",
    "    y4 = 0\n",
    "result_4 = [['DEM', 'Joe Biden', y1, max(y1, y2, y3, y4) == y1],\n",
    "            ['REP', 'Donald Trump', y2, max(y1, y2, y3, y4) == y2],\n",
    "            ['LIB', 'Jo Jorgensen', y3, max(y1, y2, y3, y4) == y3],\n",
    "            ['WRI', 'Write-ins', y4, max(y1, y2, y3, y4) == y4]\n",
    "            ]\n",
    "df_result_4 = pd.DataFrame(result_4, columns = ['Party', 'Candidate', 'Fabricated Votes', 'Won'])\n",
    "df_result_4"
   ],
   "metadata": {
    "collapsed": false
   }
  },
  {
   "cell_type": "markdown",
   "source": [
    "### Summary of Four Electoral Systems"
   ],
   "metadata": {
    "collapsed": false
   }
  },
  {
   "cell_type": "code",
   "execution_count": null,
   "outputs": [],
   "source": [
    "result = df_result_1.copy()\n",
    "result.drop(['Candidate', 'Won'], axis = 1, inplace = True)\n",
    "result.rename(columns={\"Fabricated Votes\": \"I\"}, inplace = True)\n",
    "result = result.T\n",
    "new_header = result.iloc[0]\n",
    "result = result[1:]\n",
    "result.columns = new_header\n",
    "\n",
    "result_add = df_result_2.copy()\n",
    "result_add.drop(['Candidate', 'Won'], axis = 1, inplace = True)\n",
    "result_add.rename(columns={\"Fabricated Votes\": \"II\"}, inplace = True)\n",
    "result_add = result_add.T\n",
    "new_header = result_add.iloc[0]\n",
    "result_add = result_add[1:]\n",
    "result_add.columns = new_header\n",
    "result = pd.concat([result, result_add])\n",
    "\n",
    "result_add = df_result_3.copy()\n",
    "result_add.drop(['Candidate', 'Won'], axis = 1, inplace = True)\n",
    "result_add.rename(columns={\"Fabricated Votes\": \"III\"}, inplace = True)\n",
    "result_add = result_add.T\n",
    "new_header = result_add.iloc[0]\n",
    "result_add = result_add[1:]\n",
    "result_add.columns = new_header\n",
    "result = pd.concat([result, result_add])\n",
    "\n",
    "result_add = df_result_4.copy()\n",
    "result_add.drop(['Candidate', 'Won'], axis = 1, inplace = True)\n",
    "result_add.rename(columns={\"Fabricated Votes\": \"IV\"}, inplace = True)\n",
    "result_add = result_add.T\n",
    "new_header = result_add.iloc[0]\n",
    "result_add = result_add[1:]\n",
    "result_add.columns = new_header\n",
    "result = pd.concat([result, result_add])\n",
    "\n",
    "result"
   ],
   "metadata": {
    "collapsed": false
   }
  },
  {
   "cell_type": "code",
   "execution_count": null,
   "outputs": [],
   "source": [
    "stacked_data = result.apply(lambda x: x*100/sum(x), axis=1)\n",
    "stacked_data.plot(kind=\"bar\", stacked=True, color = ['blue', 'red', 'yellow', 'grey'])\n",
    "plt.title(\"Final Result of All Four Electoral Systems\")\n",
    "plt.xlabel(\"Electoral System\")\n",
    "plt.ylabel(\"Percentage Fabricated Vote of Parties (%)\")\n",
    "plt.show()"
   ],
   "metadata": {
    "collapsed": false
   }
  },
  {
   "cell_type": "markdown",
   "source": [
    "As from the above bar graph, the advantage Trump obtained in each of the electoral system is gradually increasing from the first one to the last one. This is because the weight small counties carry is increasing from left to right. It goes back to the message that Trump is favored by the people living in smaller counties, and if such group is given more weight, the likelihood of Trump winning the election will also increase."
   ],
   "metadata": {
    "collapsed": false
   }
  },
  {
   "cell_type": "markdown",
   "source": [
    "# Project Three\n",
    "## Potential Data to Scrape\n",
    "One potential addition to the campaign spending data by candidate and state in the 2020 US presidential election dataset could be web scraping data on funding sources by sector. By scraping data on the fundraising, we could gain insights into which sector were spending money to support or oppose the candidates, and by how much.\n",
    "\n",
    "One potential website to scrape this data from is OpenSecrets.org, which is a website that tracks money in politics. OpenSecrets.org provides data on funding source by candidate and by sector, which could help shed light on which groups were most active in trying to influence the election on a county-level.\n",
    "\n",
    "To have an understanding of how this data could be parallel on our previous findings, we can take a look at whether the funding from the argricultural sector confirmed that Trump's policy is more appealing to people and businesses in the rural places, so that he attracts more funding than Biden; and whether Biden's policy is more attractive to urban cities so that finance sector is more willing to support him rather than Trump.\n",
    "\n",
    "The above are just examples on how we could then use this new information to help answer my research question, the discussion later in this chapter will analyze the data in detail.\n",
    "\n",
    "## Potential Challenges\n",
    "Firstly, the website does not provide all the data that we need in a single location or in a format that is easy to scrape. We need to scrape data from multiple pages or even multiple websites to gather all the relevant information.\n",
    "\n",
    "Secondly, merging the scraped data with our existing dataset may require more information on a state-level, which the website does not provide complete information on. In future work, we can find such information either by searching in other websites, or we can contact the website holder OpenSecrets for a more detailed dataset.\n",
    "\n",
    "Side Note: I have also found a dataset that contains contribution details including industry, organization name, amount and states on https://www.fec.gov/data/candidates/president/presidential-map/. However, the size of the file was too large to be handled, therefore I choose to not use this in Project 3.\n",
    "\n",
    "Here is the file:"
   ],
   "metadata": {
    "collapsed": false
   }
  },
  {
   "cell_type": "code",
   "execution_count": null,
   "outputs": [],
   "source": [
    "#df_candidate_funding = pd.read_csv('/Users/jiaxincui/Documents/GitHub/git-exercise-AllysonCui/Data/Other/P00000001-ALL.csv')\n",
    "#df_candidate_funding.head(10)"
   ],
   "metadata": {
    "collapsed": false
   }
  },
  {
   "cell_type": "markdown",
   "source": [
    "## Scraping Data from a Website\n",
    "Since the website I am working on does not have all the information on one page, therefore I have to run a for loop to scrape all the related HTML pages."
   ],
   "metadata": {
    "collapsed": false
   }
  },
  {
   "cell_type": "markdown",
   "source": [
    "Create essential lists that will be used in scrapping. Since the funds can come from two channels, one is campaign committee, the other one is outside groups, we will also set a third channel which combines the previous two."
   ],
   "metadata": {
    "collapsed": false
   }
  },
  {
   "cell_type": "code",
   "execution_count": null,
   "outputs": [],
   "source": [
    "sectors = ['Agribusiness', 'Communications/Electronics', 'Construction', 'Defense', 'Energy/Natural Resources', 'Finance/Insurance/Real Estate', 'Health', 'Lawyers & Lobbyists', 'Transportation', 'Misc Business', 'Labor', 'Ideology/Single-Issue', 'Other']\n",
    "\n",
    "# Total funding from campaign committee and outside groups by sector\n",
    "channel_combined = ['https://www.opensecrets.org/2020-presidential-race/sector-totals?sector=A',\n",
    "                'https://www.opensecrets.org/2020-presidential-race/sector-totals?sector=B',\n",
    "                'https://www.opensecrets.org/2020-presidential-race/sector-totals?sector=C',\n",
    "                'https://www.opensecrets.org/2020-presidential-race/sector-totals?sector=D',\n",
    "                'https://www.opensecrets.org/2020-presidential-race/sector-totals?sector=E',\n",
    "                'https://www.opensecrets.org/2020-presidential-race/sector-totals?sector=F',\n",
    "                'https://www.opensecrets.org/2020-presidential-race/sector-totals?sector=H',\n",
    "                'https://www.opensecrets.org/2020-presidential-race/sector-totals?sector=K',\n",
    "                'https://www.opensecrets.org/2020-presidential-race/sector-totals?sector=M',\n",
    "                'https://www.opensecrets.org/2020-presidential-race/sector-totals?sector=N',\n",
    "                'https://www.opensecrets.org/2020-presidential-race/sector-totals?sector=P',\n",
    "                'https://www.opensecrets.org/2020-presidential-race/sector-totals?sector=Q',\n",
    "                'https://www.opensecrets.org/2020-presidential-race/sector-totals?sector=W']\n",
    "\n",
    "# Funding from campaign committee by sector\n",
    "channel_campaign_committee = ['https://www.opensecrets.org/2020-presidential-race/sector-totals?sector=A&src=c',\n",
    "                            'https://www.opensecrets.org/2020-presidential-race/sector-totals?sector=B&src=c',\n",
    "                            'https://www.opensecrets.org/2020-presidential-race/sector-totals?sector=C&src=c',\n",
    "                            'https://www.opensecrets.org/2020-presidential-race/sector-totals?sector=D&src=c',\n",
    "                            'https://www.opensecrets.org/2020-presidential-race/sector-totals?sector=E&src=c',\n",
    "                            'https://www.opensecrets.org/2020-presidential-race/sector-totals?sector=F&src=c',\n",
    "                            'https://www.opensecrets.org/2020-presidential-race/sector-totals?sector=H&src=c',\n",
    "                            'https://www.opensecrets.org/2020-presidential-race/sector-totals?sector=K&src=c',\n",
    "                            'https://www.opensecrets.org/2020-presidential-race/sector-totals?sector=M&src=c',\n",
    "                            'https://www.opensecrets.org/2020-presidential-race/sector-totals?sector=N&src=c',\n",
    "                            'https://www.opensecrets.org/2020-presidential-race/sector-totals?sector=P&src=c',\n",
    "                            'https://www.opensecrets.org/2020-presidential-race/sector-totals?sector=Q&src=c',\n",
    "                            'https://www.opensecrets.org/2020-presidential-race/sector-totals?sector=W&src=c']\n",
    "\n",
    "# Funding from outside groups by sector\n",
    "channel_outside_groups = ['https://www.opensecrets.org/2020-presidential-race/sector-totals?sector=A&src=o',\n",
    "                          'https://www.opensecrets.org/2020-presidential-race/sector-totals?sector=B&src=o',\n",
    "                        'https://www.opensecrets.org/2020-presidential-race/sector-totals?sector=C&src=o',\n",
    "                        'https://www.opensecrets.org/2020-presidential-race/sector-totals?sector=D&src=o',\n",
    "                        'https://www.opensecrets.org/2020-presidential-race/sector-totals?sector=E&src=o',\n",
    "                        'https://www.opensecrets.org/2020-presidential-race/sector-totals?sector=F&src=o',\n",
    "                        'https://www.opensecrets.org/2020-presidential-race/sector-totals?sector=H&src=o',\n",
    "                        'https://www.opensecrets.org/2020-presidential-race/sector-totals?sector=K&src=o',\n",
    "                        'https://www.opensecrets.org/2020-presidential-race/sector-totals?sector=M&src=o',\n",
    "                        'https://www.opensecrets.org/2020-presidential-race/sector-totals?sector=N&src=o',\n",
    "                        'https://www.opensecrets.org/2020-presidential-race/sector-totals?sector=P&src=o',\n",
    "                        'https://www.opensecrets.org/2020-presidential-race/sector-totals?sector=Q&src=o',\n",
    "                        'https://www.opensecrets.org/2020-presidential-race/sector-totals?sector=W&src=o']\n",
    "\n",
    "channel_fund = [channel_combined, channel_campaign_committee, channel_outside_groups]"
   ],
   "metadata": {
    "collapsed": false
   }
  },
  {
   "cell_type": "markdown",
   "source": [
    "For explanation purposes, I will use the first website link:'https://www.opensecrets.org/2020-presidential-race/sector-totals?sector=A' to demonstrate detailed steps.\n",
    "\n",
    "\n",
    "The requests library can be used to work with webpages and web content. A request is made to get the content of the webpage with the get() method."
   ],
   "metadata": {
    "collapsed": false
   }
  },
  {
   "cell_type": "code",
   "execution_count": null,
   "outputs": [],
   "source": [
    "import requests\n",
    "from bs4 import BeautifulSoup\n",
    "\n",
    "web_url = \"https://www.opensecrets.org/2020-presidential-race/sector-totals?sector=A\"\n",
    "response = requests.get(web_url)"
   ],
   "metadata": {
    "collapsed": false
   }
  },
  {
   "cell_type": "markdown",
   "source": [
    "A response is received from the web server. This response will have response headers and status codes associated to that particular request. Response headers give the detailed information about the request made to the web server."
   ],
   "metadata": {
    "collapsed": false
   }
  },
  {
   "cell_type": "code",
   "execution_count": null,
   "outputs": [],
   "source": [
    "response.headers"
   ],
   "metadata": {
    "collapsed": false
   }
  },
  {
   "cell_type": "markdown",
   "source": [
    "Every response will have a status code. The status codes indicate whether a specific HTTP request has been successfully completed. Responses are grouped in five classes:\n",
    "\n",
    "Informational responses (100–199)\n",
    "Successful responses (200–299)\n",
    "Redirects (300–399)\n",
    "Client errors (400–499)\n",
    "Server errors (500–599)\n",
    "Sometimes you get a client error like (403), then you should add your user agent as header to your Get request (google how to get user agent), you can also look at this stackoverflow page: https://stackoverflow.com/questions/38489386/python-requests-403-forbidden\n",
    "\n",
    "Let us check the response status code for the HTTP request we placed"
   ],
   "metadata": {
    "collapsed": false
   }
  },
  {
   "cell_type": "code",
   "execution_count": null,
   "outputs": [],
   "source": [
    "response.status_code"
   ],
   "metadata": {
    "collapsed": false
   }
  },
  {
   "cell_type": "markdown",
   "source": [
    "The response has a status code of 200. This is a successful response and hence there should be relevant content of the webpage in the obtained response. This can be checked by printing the content. This content received is the HTML source code of the webpage.\n",
    "\n",
    "### Parsing HTML and accessing different elements\n",
    "bs4 is a Python library which parses through HTML content and understands the complete structure of the content. The response content can be passed to a BeautifulSoup() method to obtain a soup object which looks very structured."
   ],
   "metadata": {
    "collapsed": false
   }
  },
  {
   "cell_type": "code",
   "execution_count": null,
   "outputs": [],
   "source": [
    "soup_object = BeautifulSoup(response.content, 'html.parser')\n",
    "\n",
    "str(soup_object)[0:1000]"
   ],
   "metadata": {
    "collapsed": false
   }
  },
  {
   "cell_type": "markdown",
   "source": [
    "### Explore the schema: Manipulating it into a tabular structure\n",
    "---\n",
    "To be able to accurately extract relevant data from the webpage, it is important to explore the schema and understand the structure of the webpage. A good way to do this is to inspect the webpage directly on a web browser.\n",
    "<br>\n",
    "\n",
    "To do this,\n",
    "- Open the webpage on a browser\n",
    "- Right click on the data content to be extracted\n",
    "- Click on `Inspect` or `Inspect element` option\n",
    "\n",
    "This will open a console window which shows the real time HTML code corresponding to the web content. Now identify the type of HTML tag which contains all the data along with any id names or class names associated to that HTML tag. In our case, the data is enclosed in the `<table>` HTML tag with the class name `'data-table'`. This information can be used to search for the web content directly in our soup object with the `find_all()` method. This will return a soup object.\n",
    "\n",
    "It is important to look for <table class=\"??????\">, where the \"??????\" will be used down below. In our case, the \"??????\" would be \"DataTable\":\n",
    "\n",
    "...\n",
    "<table class=\"DataTable\" data-order='[[ 1, \"desc\" ]]'>\n",
    "<thead>\n",
    "<tr>\n",
    "<th>Candidate</th>\n",
    "<th class=\"number\">Total</th>\n",
    "</tr>\n",
    "</thead>\n",
    "<tbody>\n",
    "<tr>\n",
    "<td><a href=\"/2020-presidential-race/donald-trump/candidate?id=N00023864\">Trump, Donald (R)</a></td>\n",
    "<td class=\"number\">$16,091,308</td>\n",
    "</tr>\n",
    "<tr>\n",
    "..."
   ],
   "metadata": {
    "collapsed": false
   }
  },
  {
   "cell_type": "code",
   "execution_count": null,
   "outputs": [],
   "source": [
    "data_table = soup_object.find_all('table', 'DataTable')[0]\n",
    "\n",
    "str(data_table)[0:1000]"
   ],
   "metadata": {
    "collapsed": false
   }
  },
  {
   "cell_type": "markdown",
   "source": [
    "It can be seen that relevant block of data has been extracted but further extraction needs to be done to individually extract the rank, company name and the company website data. On further analysis, it can be seen that every row of data is enclosed under a `<tr>` HTML tag which means `table row`. All these row values can be extracted into a list of values by finding the `<tr>` values from our newly created soup object `data_table`.\n",
    "\n",
    "`<th>` means header row.\n",
    "`<td>` defines a standard data cell in an HTML table.\n",
    "`<a>`  defines a hyperlink.\n",
    "If you happen to see a tag that you don't know what it means (which is most of the time!), you can google the name of the tage + HTML; for example, google this `<th> HTML`\n",
    "\n",
    "Take a closer look at the data that we are interested in:"
   ],
   "metadata": {
    "collapsed": false
   }
  },
  {
   "cell_type": "code",
   "execution_count": null,
   "outputs": [],
   "source": [
    "all_values = data_table.find_all('tr')\n",
    "all_values[:3] # Prints the first 3 captured tag elements"
   ],
   "metadata": {
    "collapsed": false
   }
  },
  {
   "cell_type": "code",
   "execution_count": null,
   "outputs": [],
   "source": [
    "print(all_values[0])\n",
    "print('--')\n",
    "print(all_values[1])\n",
    "print('--')\n",
    "print(all_values[2])"
   ],
   "metadata": {
    "collapsed": false
   }
  },
  {
   "cell_type": "markdown",
   "source": [
    "### Organize the value we find\n",
    "The first element of the list contains the column names 'Candidate' and 'Total'. The next elements of the list contain soup objects which contain the funding data. This data can be extracted in a loop since the structure for all the list elements is the same.\n",
    "\n",
    "- An empty dataframe `df_fund` is created with the column names 'Candidate' and 'Total'\n",
    "- The index is initiated to zero\n",
    "- A for loop is designed to go through all the elements of the list in order and extract the candidate name and total funding amount from the list element which are enclosed in the `<td>` HTML tag. A `find_all()` will return a list of td tags.\n",
    "- The `.text` attribute can be used to just pick the text part from the tag. In our case this is the rank, company name and the company website\n",
    "- These values are then put into the dataframe and the index value is incremented"
   ],
   "metadata": {
    "collapsed": false
   }
  },
  {
   "cell_type": "code",
   "execution_count": null,
   "outputs": [],
   "source": [
    "all_values[1].find_all('td')"
   ],
   "metadata": {
    "collapsed": false
   }
  },
  {
   "cell_type": "code",
   "execution_count": null,
   "outputs": [],
   "source": [
    "all_values[1].find_all('td')[0].text"
   ],
   "metadata": {
    "collapsed": false
   }
  },
  {
   "cell_type": "code",
   "execution_count": null,
   "outputs": [],
   "source": [
    "all_values[1].find_all('td')[1].text"
   ],
   "metadata": {
    "collapsed": false
   }
  },
  {
   "cell_type": "code",
   "execution_count": null,
   "outputs": [],
   "source": [
    "df_fund = pd.DataFrame(columns = ['Candidate', 'Total'])\n",
    "ix = 0 # Initializing the row index for the DataFrame\n",
    "\n",
    "# Scraping data from each row in the table and storing it in the DataFrame\n",
    "for row in all_values[1:]:\n",
    "    values = row.find_all('td')\n",
    "    candidate = values[0].text\n",
    "    total = values[1].text\n",
    "    df_fund.loc[ix] = [candidate, total]# Store it in the dataframe as a row\n",
    "    ix += 1\n",
    "\n",
    "# Print the first 5 rows of the dataframe\n",
    "df_fund.head()"
   ],
   "metadata": {
    "collapsed": false
   }
  },
  {
   "cell_type": "markdown",
   "source": [
    "Now the scrapping demonstration for one website is completed. Let's use a for loop to iterate through all the websites."
   ],
   "metadata": {
    "collapsed": false
   }
  },
  {
   "cell_type": "code",
   "execution_count": null,
   "outputs": [],
   "source": [
    "# Part 1: Initializing the Data Structures\n",
    "df_funds = list() #Creating an empty list to store all sector funds data.\n",
    "\n",
    "# Part 2: Scraping Data for each channel (Combined, Campaign Committee, Outside Groups)\n",
    "for fund in channel_fund:\n",
    "    df_total_lists = [] # Creating an empty list to store each channel's data for all sectors\n",
    "    for i in range(len(sectors)):\n",
    "        totals = fund[i] # Generating the url to scrape data from\n",
    "        response = requests.get(totals) # Requesting the web page for the url\n",
    "        soup_object = BeautifulSoup(response.content, 'html.parser') # Parsing the html content using BeautifulSoup\n",
    "        data_table = soup_object.find_all('table', 'DataTable')[0] # Finding the table containing the data we want to scrape\n",
    "        all_values = data_table.find_all('tr') # Finding all rows in the table\n",
    "        df_fund = pd.DataFrame(columns = ['Candidate', sectors[i]]) # Creating a DataFrame to store the scraped data for a single sector\n",
    "\n",
    "        ix = 0 # Initializing the row index for the DataFrame\n",
    "        # Scraping data from each row in the table and storing it in the DataFrame\n",
    "        for row in all_values[1:]:\n",
    "            values = row.find_all('td')\n",
    "            candidate = values[0].text\n",
    "            total = values[1].text\n",
    "            df_fund.loc[ix] = [candidate, total]\n",
    "            ix += 1\n",
    "\n",
    "        df_total_lists.append(df_fund) # Storing the DataFrame for a single sector in the list of DataFrames for all sectors\n",
    "\n",
    "    # Part 3: Merging Channel Data for fund\n",
    "    # Performing a left join on the 'Candidate' column of all sector DataFrames\n",
    "    df_channel_combined = df_total_lists[0]\n",
    "    for df in df_total_lists[1:]:\n",
    "        df_channel_combined = pd.merge(df_channel_combined, df, on='Candidate', how='left')\n",
    "\n",
    "    df_funds.append(df_channel_combined)# Storing the merged DataFrame for a single channel in the list of all channel funds data"
   ],
   "metadata": {
    "collapsed": false
   }
  },
  {
   "cell_type": "code",
   "execution_count": null,
   "outputs": [],
   "source": [
    "import re\n",
    "\n",
    "# Part 4: Convert DataFrame tp plot-friendly\n",
    "# Change the datatype from object to integer, and convert the unit into millions.\n",
    "df_funds_copy = df_funds.copy()\n",
    "for df in df_funds:\n",
    "    for col in df.columns[1:]:\n",
    "        df[col] = df[col].apply(lambda x: int(re.sub(r'\\D', '', str(x))) if str(x) != 'nan' else 0)\n",
    "        df[col] = df[col] / 1000000"
   ],
   "metadata": {
    "collapsed": false
   }
  },
  {
   "cell_type": "markdown",
   "source": [
    "2020 Trump Presidential Campaign used for linear regression:"
   ],
   "metadata": {
    "collapsed": false
   }
  },
  {
   "cell_type": "code",
   "execution_count": null,
   "outputs": [],
   "source": [
    "web_url = 'https://en.wikipedia.org/wiki/List_of_post%E2%80%932016_election_Donald_Trump_rallies'\n",
    "response = requests.get(web_url)\n",
    "\n",
    "soup_object = BeautifulSoup(response.content)\n",
    "\n",
    "Rallies_2020=pd.DataFrame()\n",
    "\n",
    "for i in [3,4,5]:\n",
    "\n",
    "    data_table = soup_object.find_all('table', 'wikitable sortable')[i]\n",
    "    all_values = data_table.find_all('tr')\n",
    "\n",
    "    Rallies2020 = pd.DataFrame(columns = ['City', 'State', 'Venue', 'Other speakers'])\n",
    "    ix = 0\n",
    "\n",
    "    for row in all_values[1:]:\n",
    "        values = row.find_all('td')\n",
    "\n",
    "        city = values[0].text.split(\"\\n\")[0]\n",
    "        if len(values[1].text.split(\"\\n\")[0]) == 2:\n",
    "            state = values[1].text.split(\"\\n\")[0]\n",
    "            venue = values[2].text.split(\"\\n\")[0]\n",
    "            other = values[3].text.split(\"\\n\")[0]\n",
    "        else:\n",
    "            venue = values[1].text.split(\"\\n\")[0]\n",
    "            other = values[2].text.split(\"\\n\")[0]\n",
    "        Rallies2020.loc[ix] = [city, state, venue, other]\n",
    "        ix += 1\n",
    "\n",
    "    Rallies_2020 = pd.concat([Rallies_2020, Rallies2020], axis=0)\n",
    "\n",
    "Rallies_2020.head()#A total of 100 rallies"
   ],
   "metadata": {
    "collapsed": false
   }
  },
  {
   "cell_type": "markdown",
   "source": [
    "## Merging the Scraped Dataset\n",
    "The previous results achieved in Project 1 and 2 are mostly discussing the vote on a geographical level such as county or state. Since I introduced a new dimension - sector - in this section, it is not very suitable for merging the datasets together."
   ],
   "metadata": {
    "collapsed": false
   }
  },
  {
   "cell_type": "code",
   "execution_count": null,
   "outputs": [],
   "source": [
    "# Count entries in the first dataframe (total funding for sectors)\n",
    "df_funds[0].info()"
   ],
   "metadata": {
    "collapsed": false
   }
  },
  {
   "cell_type": "markdown",
   "source": [
    "Up to this point, we have three dataframes of the same size, the total # of observations from the webscrapping is 33*14*3 = 1386\n",
    "\n",
    "## Visualizing the Scraped Dataset"
   ],
   "metadata": {
    "collapsed": false
   }
  },
  {
   "cell_type": "code",
   "execution_count": null,
   "outputs": [],
   "source": [
    "# Loading dataframes\n",
    "df0 = df_funds[0].copy()\n",
    "df1 = df_funds[1].copy()\n",
    "df2 = df_funds[2].copy()"
   ],
   "metadata": {
    "collapsed": false
   }
  },
  {
   "cell_type": "code",
   "execution_count": null,
   "outputs": [],
   "source": [
    "# TABLE\n",
    "# Selecting needed rows from dataframes\n",
    "trump_cc = pd.DataFrame(df1.iloc[0]).transpose()\n",
    "trump_og = pd.DataFrame(df2.iloc[0]).transpose()\n",
    "trump_c = pd.DataFrame(df0.iloc[0]).transpose()\n",
    "biden_cc = pd.DataFrame(df1.iloc[1]).transpose()\n",
    "biden_og = pd.DataFrame(df2.iloc[1]).transpose()\n",
    "biden_c = pd.DataFrame(df0.iloc[1]).transpose()\n",
    "\n",
    "# Combining all the rows to one dataframe\n",
    "stacked_df = pd.concat([trump_cc, trump_og, trump_c, biden_cc, biden_og, biden_c], axis=0)\n",
    "stacked_df['Candidate'] = ['Trump - Campaign Committee', 'Trump - Outside Groups', 'Trump - Combined', 'Biden - Campaign Committee', 'Biden - Outside Groups', 'Biden - Combined']\n",
    "stacked_df.set_index('Candidate', inplace=True)\n",
    "stacked_df = stacked_df.transpose()\n",
    "stacked_df = stacked_df.reset_index().rename(columns={'index': 'Sector'})\n",
    "\n",
    "# create function to compare and add asterisk\n",
    "def add_asterisk(row):\n",
    "    # compare columns 2 and 5\n",
    "    if row[1] > row[4]:\n",
    "        row[1] = str(row[1]) + '*'\n",
    "    else:\n",
    "        row[4] = str(row[4]) + '*'\n",
    "\n",
    "    # compare columns 3 and 6\n",
    "    if row[2] > row[5]:\n",
    "        row[2] = str(row[2]) + '*'\n",
    "    else:\n",
    "        row[5] = str(row[5]) + '*'\n",
    "\n",
    "    # compare columns 4 and 7\n",
    "    if row[3] > row[6]:\n",
    "        row[3] = str(row[3]) + '*'\n",
    "    else:\n",
    "        row[6] = str(row[6]) + '*'\n",
    "\n",
    "    return row\n",
    "\n",
    "# apply function to each row of dataframe\n",
    "stacked_df = stacked_df.apply(add_asterisk, axis=1)\n",
    "\n",
    "# create a figure and axis\n",
    "fig, ax = plt.subplots()\n",
    "\n",
    "# hide axis\n",
    "ax.axis('off')\n",
    "\n",
    "# create the table using the data in the dataframe\n",
    "table = ax.table(cellText=stacked_df.values, colLabels=stacked_df.columns, loc='center', cellLoc='center')\n",
    "\n",
    "# set the font size of the cells and header\n",
    "table.set_fontsize(14)\n",
    "table.auto_set_column_width(col=list(range(len(stacked_df.columns))))\n",
    "\n",
    "# Set the height of the cells\n",
    "table.scale(1, 2)\n",
    "\n",
    "# Set the title of the table\n",
    "title = 'Funding by Industry, Candidate, and Channel (Millions of $)'\n",
    "plt.text(0, 0.08, title, ha='center', va='top', fontsize=16)\n",
    "\n",
    "# Hide the axis and turn off the axis lines and ticks\n",
    "ax.axis('off')\n",
    "ax.axis('tight')\n",
    "\n",
    "# add note below the plot\n",
    "note = \"*:  Via this channel, the amount of funding gathered for this candidate exceeds the funding collected for the other candidate.\"\n",
    "plt.text(-0.2, -0.075, note, ha='left', va='bottom', fontsize=12)\n",
    "\n",
    "# Show the plot\n",
    "plt.show()"
   ],
   "metadata": {
    "collapsed": false
   }
  },
  {
   "cell_type": "markdown",
   "source": [
    "To summarize the table, Trump received more funds than Biden on these sectors: Agribusiness, Construction, Energy/Natrual Resources, Health, Transportation, Misc Business, and Other; while Biden received more funds than Trump on these sectors: Communications/Electronics, Defense, Finance/Insurance/Real Estate, Lawyers & Lobbyists, Labor, and Ideology/Single-Issue.\n",
    "\n",
    "Trump's focus on deregulation and reducing environmental protections may have made him more attractive to industries such as Agribusiness, Construction, and Energy/Natural Resources, which often face regulatory hurdles that can be costly and time-consuming. On the other hand, Biden's policies on climate change, healthcare, and workers' rights may have resonated more with the Communications/Electronics, Defense, and Labor sectors.\n",
    "\n",
    "Furthermore, the support of certain industries for a particular candidate can also be influenced by the interests of the businesses or individuals within those industries. For instance, the Finance/Insurance/Real Estate sector may have supported Biden due to his policies on taxes and financial regulation, while the Lawyers & Lobbyists sector may have supported him due to his support for civil rights and social justice issues.\n",
    "\n",
    "The fact that Trump received more funds than Biden in the Transportation and Health sectors could also be attributed to his administration's handling of the COVID-19 pandemic, which heavily impacted these industries. Trump's focus on reopening the economy and his skepticism towards public health measures may have resonated with certain businesses within these sectors.\n",
    "\n",
    "Overall, the differences in funding received by Trump and Biden in different sectors highlight the complex interplay between policy positions, industry interests, and political strategy in the 2020 US Presidential election. It also suggests that different groups of voters may have been more attracted to either Trump's or Biden's policies, depending on their respective industries or personal interests."
   ],
   "metadata": {
    "collapsed": false
   }
  },
  {
   "cell_type": "code",
   "execution_count": null,
   "outputs": [],
   "source": [
    "# PLOT\n",
    "# define the column groups\n",
    "groups = ['Agribusiness', 'Communications/Electronics', 'Construction', 'Defense', 'Energy/Natural Resources',\n",
    "          'Finance/Insurance/Real Estate', 'Health', 'Lawyers & Lobbyists', 'Transportation', 'Misc Business',\n",
    "          'Labor', 'Ideology/Single-Issue', 'Other']\n",
    "\n",
    "# define the two candidates\n",
    "candidates = ['Trump, Donald (R)', 'Biden, Joe (D)']\n",
    "\n",
    "# define the x-axis positions for each group of bars\n",
    "x_positions = np.arange(len(groups)) * 3\n",
    "\n",
    "# define the bar width\n",
    "bar_width = 0.8\n",
    "\n",
    "# create the figure and axis objects\n",
    "fig, ax = plt.subplots(figsize=(12, 6))\n",
    "\n",
    "# define the labels for the legend\n",
    "labels = ['Trump - Campaign Committee', 'Trump - Outside Groups', 'Biden - Campaign Committee', 'Biden - Outside Groups']\n",
    "\n",
    "# loop over each group of columns\n",
    "for i in range(1, df1.shape[1]):\n",
    "\n",
    "    # get the data for this group from the two dataframes\n",
    "    data1 = np.array([df1.loc[df1['Candidate'] == 'Trump, Donald (R)', df_funds[1].columns[i]].values[0],\n",
    "                      df1.loc[df1['Candidate'] == 'Biden, Joe (D)', df_funds[1].columns[i]].values[0]])\n",
    "    data2 = np.array([df2.loc[df2['Candidate'] == 'Trump, Donald (R)', df_funds[2].columns[i]].values[0],\n",
    "                      df2.loc[df2['Candidate'] == 'Biden, Joe (D)', df_funds[2].columns[i]].values[0]])\n",
    "\n",
    "    # calculate the x-axis positions for the two bars in this group\n",
    "    x_pos_left = x_positions[i - 1] - bar_width / 2\n",
    "    x_pos_right = x_positions[i - 1] + bar_width / 2\n",
    "\n",
    "    # plot the bars for the two candidates, stacked on top of each other\n",
    "    ax.bar(x_pos_left, data1[0], width=bar_width, label=labels[0], color='darkred')\n",
    "    ax.bar(x_pos_left, data1[1], width=bar_width, bottom=data1[0], color='lightcoral')\n",
    "    ax.bar(x_pos_right, data2[0], width=bar_width, label=labels[2], color='navy')\n",
    "    ax.bar(x_pos_right, data2[1], width=bar_width, bottom=data2[0], color='lightskyblue')\n",
    "\n",
    "# set the x-axis tick labels to be the group names\n",
    "ax.set_xticks(x_positions)\n",
    "ax.set_xticklabels(groups, rotation=45, ha = 'right')\n",
    "\n",
    "# set the legend parameters\n",
    "ax.legend(labels=labels, loc='upper left', title=None)\n",
    "\n",
    "# set the axis labels and title\n",
    "ax.set_xlabel('Industry')\n",
    "ax.set_ylabel('Total Funding (Millions of $)')\n",
    "ax.set_title('Funding by Industry and Candidate')\n",
    "\n",
    "# show the plot\n",
    "plt.show()"
   ],
   "metadata": {
    "collapsed": false
   }
  },
  {
   "cell_type": "markdown",
   "source": [
    "From the above bar chart, for both Trump and Biden, the funding from the outside groups is almost equal to if not larger than the funding from the campaign committee. The fact is significant for several reasons, particularly in relation to the 2020 US Presidential election.\n",
    "\n",
    "Firstly, it suggests that the official campaign committees of both Trump and Biden may have been limited in their ability to raise funds, or may have chosen to focus their efforts elsewhere, such as on grassroots organizing or digital advertising. This could reflect a shift in campaign strategy towards more decentralized, bottom-up approaches to fundraising and mobilization.\n",
    "\n",
    "Secondly, the fact that the outside groups' funding is almost equal to or larger than the campaign committee funding for both candidates suggests that the 2020 US Presidential election was fiercely competitive and hotly contested. Both campaigns were likely aware of the importance of funding in securing victory, and may have gone to great lengths to secure support from outside groups, particularly those with deep pockets and significant influence.\n",
    "\n",
    "Overall, the significant role played by outside groups in the 2020 US Presidential election highlights the importance of money and resources in modern political campaigns."
   ],
   "metadata": {
    "collapsed": false
   }
  },
  {
   "cell_type": "markdown",
   "source": [
    "Another graph: pie chart of Trump and Biden"
   ],
   "metadata": {
    "collapsed": false
   }
  },
  {
   "cell_type": "code",
   "execution_count": null,
   "outputs": [],
   "source": [
    "# Define the desired column order\n",
    "new_order = ['Candidate',\n",
    "             'Agribusiness', 'Communications/Electronics', 'Construction',\n",
    "             'Labor', 'Finance/Insurance/Real Estate', 'Health',\n",
    "             'Energy/Natural Resources', 'Lawyers & Lobbyists', 'Misc Business',\n",
    "             'Defense', 'Ideology/Single-Issue', 'Transportation',\n",
    "             'Other']\n",
    "\n",
    "# Use reindex to reorder the columns\n",
    "df00 = df0.reindex(columns=new_order)\n",
    "\n",
    "# Filter data for Trump and Biden\n",
    "trump_data = df00[df00['Candidate'] == 'Trump, Donald (R)'].iloc[:, 1:]\n",
    "biden_data = df00[df00['Candidate'] == 'Biden, Joe (D)'].iloc[:, 1:]\n",
    "\n",
    "# Sum contributions across sectors\n",
    "trump_total = trump_data.sum(axis=0)\n",
    "biden_total = biden_data.sum(axis=0)\n",
    "\n",
    "# Set up colors for the pie chart\n",
    "colors = ['#ffd700', '#7fffd4', '#cd5c5c',\n",
    "          '#ff69b4', '#20b2aa', '#ff4500',\n",
    "          '#00ced1', '#9370db', '#696969',\n",
    "        '#8b0000', '#ffff00', '#808080',\n",
    "          '#8fbc8f']\n",
    "\n",
    "# Set up labels for the pie chart\n",
    "labels_trump = trump_data.columns\n",
    "labels_biden = biden_data.columns\n",
    "\n",
    "# Set up explode parameter for the pie chart\n",
    "explode_trump = [0.05] * len(labels_trump)\n",
    "explode_biden = [0.05] * len(labels_biden)\n",
    "\n",
    "# Plot the pie chart\n",
    "fig, ax = plt.subplots(figsize=(6, 6))\n",
    "ax.pie(trump_total, labels=labels_trump, colors=colors, explode=explode_trump, autopct='%1.1f%%', textprops={'fontsize': 10})\n",
    "ax.set_title(\"Trump's Donors by Sector\")\n",
    "\n",
    "fig, ax = plt.subplots(figsize=(6, 6))\n",
    "ax.pie(biden_total, labels=labels_biden, colors=colors, explode=explode_biden, autopct='%1.1f%%', textprops={'fontsize': 10})\n",
    "ax.set_title(\"Biden's Donors by Sector\")\n",
    "\n",
    "plt.show()\n"
   ],
   "metadata": {
    "collapsed": false
   }
  },
  {
   "cell_type": "markdown",
   "source": [
    "In the above two pie charts, it is clear that for both Trump and Biden, the Finance/Insurance/Real Estate sector is contributing substantially to the fundraising. One reason could be that this sector is intrinsically holding higher margins in their business, and the other reason could be that its business environment is heavily depending on the government's policy, so they have larger incentives to influence the result of the election.\n",
    "\n",
    "For Trump, the Other sector stands out from all and ranked top for the highest contribution. It would be attributed to Trump's business career before he ran for the US President. As a billionaire real estate developer, he made use of the Trump Organization to provide him huge financial support for his campaign. And this contribution is categorized in the Other sector.\n",
    "\n",
    "For Biden, the portion of Ideology/Single-Issue sector is significantly higher than its portion in Trump's funds pool. The Ideology/Single-Issue sector includes organizations that focus on a single-issue area or are heavily partisan, such as those related to abortion, gun control, healthcare, environment, and foreign policy. Therefore, the reason could be that some certain groups - which were likely taking a more liberal stance on their issue - were severely unsatisfied with Trump administration from 2016 to 2020, so that they choose to firmly support Trump's opposition, Biden, by donating to his campaign financially."
   ],
   "metadata": {
    "collapsed": false
   }
  },
  {
   "cell_type": "markdown",
   "source": [
    "## Adding a New Dataset\n",
    "\n",
    "### First Dataset\n",
    "New Dataset: https://www.kaggle.com/datasets/noriuk/us-education-datasets-unification-project?resource=download&select=states_all.csv\n",
    "\n",
    "Recall that the one of purposes of this paper was to study what kind of citizen would vote for Trump in the 2020 Election. From the previous discussion, we learned that Trump was more favored by people holding conservative views, who may potentially have lower educational attainments. This dataset contains the percentage of population over 25 years old who have obtained Bachelor's degree or higher, which can be a good approximation for the educational attainment level of each state when the 2020 election happened."
   ],
   "metadata": {
    "collapsed": false
   }
  },
  {
   "cell_type": "code",
   "execution_count": null,
   "outputs": [],
   "source": [
    "df_higher_edu = pd.read_csv('/Users/jiaxincui/Documents/GitHub/git-exercise-AllysonCui/Data/Other/2020_education.csv')\n",
    "df_higher_edu[\"Bachelor's degree or higher\"] = df_higher_edu[\"Bachelor's degree or higher\"].replace('%', '', regex=True).astype(float)\n",
    "df_higher_edu.rename(columns={\"Bachelor's degree or higher\":\"Bachelor's degree or higher (%)\"}, inplace = True)\n",
    "\n",
    "df_higher_edu.head()"
   ],
   "metadata": {
    "collapsed": false
   }
  },
  {
   "cell_type": "markdown",
   "source": [
    "Scatter plot of Educational attainment and vote share of Trump"
   ],
   "metadata": {
    "collapsed": false
   }
  },
  {
   "cell_type": "code",
   "execution_count": null,
   "outputs": [],
   "source": [
    "compare_edu_vote = pd.merge(df_higher_edu, df_trump_vote_sum, on='NAME', how='left')\n",
    "compare_edu_vote.head()"
   ],
   "metadata": {
    "collapsed": false
   }
  },
  {
   "cell_type": "code",
   "execution_count": null,
   "outputs": [],
   "source": [
    "fig = plt.figure(figsize=(15, 15))\n",
    "plt.scatter(compare_edu_vote['average_score'], compare_edu_vote['ratio'] * 100)\n",
    "\n",
    "for i, label in enumerate(compare_edu_vote['NAME']):\n",
    "    plt.annotate(label, (\n",
    "    compare_edu_vote['average_score'][i], compare_edu_vote['ratio'][i] * 100))\n",
    "\n",
    "plt.xlabel('Educational Average Score')\n",
    "plt.ylabel('% Vote for Trump')\n",
    "plt.ylim([0, 100])\n",
    "plt.show()"
   ],
   "metadata": {
    "collapsed": false
   }
  },
  {
   "cell_type": "markdown",
   "source": [
    "### Second Dataset\n",
    "New Dataset: https://www.kaggle.com/datasets/goldenoakresearch/us-household-income-stats-geo-locations"
   ],
   "metadata": {
    "collapsed": false
   }
  },
  {
   "cell_type": "code",
   "execution_count": null,
   "outputs": [],
   "source": [
    "df_income = pd.read_csv('/Users/jiaxincui/Documents/GitHub/git-exercise-AllysonCui/Data/Other/income.csv')\n",
    "df_income.rename(columns={\"State_Name\": \"NAME\"}, inplace=True)\n",
    "df_income.head()"
   ],
   "metadata": {
    "collapsed": false
   }
  },
  {
   "cell_type": "code",
   "execution_count": null,
   "outputs": [],
   "source": [
    "compare_income_vote = pd.merge(df_income, df_trump_vote_sum, on='NAME', how='left')\n",
    "compare_income_vote.dropna(inplace=True)\n",
    "compare_income_vote.head()"
   ],
   "metadata": {
    "collapsed": false
   }
  },
  {
   "cell_type": "code",
   "execution_count": null,
   "outputs": [],
   "source": [
    "fig, (ax1, ax2, ax3) = plt.subplots(1, 3, figsize=(15, 5), sharey=True)\n",
    "sns.scatterplot(data=compare_income_vote, x='Average of Mean', y= compare_income_vote['ratio']*100, ax=ax1)\n",
    "sns.scatterplot(data=compare_income_vote, x='Average of Median', y= compare_income_vote['ratio']*100, ax=ax2)\n",
    "sns.scatterplot(data=compare_income_vote, x='Average of Stdev', y= compare_income_vote['ratio']*100, ax=ax3)\n",
    "ax1.set_ylabel(\"% Vote for Trump\", fontsize=14)\n",
    "ax1.set_xlabel(\"Mean of Income\", fontsize=14)\n",
    "ax2.set_xlabel(\"Median of Income\", fontsize=14)\n",
    "ax3.set_xlabel(\"Standard Deviation of Income\", fontsize=14)\n",
    "ax1.set_ylim([0, 100])\n",
    "fig.suptitle(\"Income Features VS % Vote for Trump on State Level\")\n",
    "plt.show()\n"
   ],
   "metadata": {
    "collapsed": false
   }
  },
  {
   "cell_type": "markdown",
   "source": [
    "# OLS Regression"
   ],
   "metadata": {
    "collapsed": false
   }
  },
  {
   "cell_type": "markdown",
   "source": [
    "1. VEP Turnout ~ log(population), log(density), Median age of the population"
   ],
   "metadata": {
    "collapsed": false
   }
  },
  {
   "cell_type": "code",
   "execution_count": null,
   "outputs": [],
   "source": [
    "df_voter = pd.read_csv('/Users/jiaxincui/Documents/GitHub/git-exercise-AllysonCui/Data/Kaggle/2020 November General Election - Turnout Rates.csv')\n",
    "df_voter.head()"
   ],
   "metadata": {
    "collapsed": false
   }
  },
  {
   "cell_type": "code",
   "execution_count": null,
   "outputs": [],
   "source": [
    "df_age = pd.read_csv('/Users/jiaxincui/Documents/GitHub/git-exercise-AllysonCui/Data/Other/age.csv')\n",
    "df_age.head()"
   ],
   "metadata": {
    "collapsed": false
   }
  },
  {
   "cell_type": "code",
   "execution_count": null,
   "outputs": [],
   "source": [
    "df_voter_turnout = pd.merge(df_voter2, df_income[['NAME', 'Average of Mean']], on='NAME', how='left')\n",
    "df_voter_turnout['VEP Turnout Rate (%)'] = df_voter_turnout[\n",
    "    'VEP Turnout Rate (%)'].replace('%', '', regex=True).astype(float)\n",
    "df_voter_turnout['Average of Mean'] = df_voter_turnout['Average of Mean'] / 1000\n",
    "df_voter_turnout.rename(\n",
    "    columns={\"Average of Mean\": \"Avg Annual Income (USD1,000)\"}, inplace=True)\n",
    "df_voter_turnout = df_voter_turnout.iloc[1:]\n",
    "df_voter_turnout = pd.merge(df_voter_turnout, df_age, on='NAME', how='left')\n",
    "df_voter_turnout.head()"
   ],
   "metadata": {
    "collapsed": false
   }
  },
  {
   "cell_type": "code",
   "execution_count": null,
   "outputs": [],
   "source": [
    "df_voter_turnout = pd.DataFrame()\n",
    "df_voter_turnout['NAME'] = df_voter['State']\n",
    "df_voter_turnout['VEP Turnout Rate (%)'] = df_voter['VEP Turnout Rate']\n",
    "df_voter_turnout['Log of Voting-Eligible Population (VEP)'] = \\\n",
    "    np.log10(df_voter['Voting-Eligible Population (VEP)'].replace(',', '', regex=True).astype(int))\n",
    "df_voter_turnout = pd.merge(df_voter_turnout, df_income[['NAME', 'Average of Mean']], on='NAME', how='left')\n",
    "df_voter_turnout['VEP Turnout Rate (%)'] = df_voter_turnout['VEP Turnout Rate (%)'].replace('%', '', regex=True).astype(float)\n",
    "df_voter_turnout['Average of Mean'] = df_voter_turnout['Average of Mean']/1000\n",
    "df_voter_turnout.rename(columns={\"Average of Mean\": \"Avg Annual Income (USD1,000)\"}, inplace = True)\n",
    "df_voter_turnout = df_voter_turnout.iloc[1:]\n",
    "df_voter_turnout = pd.merge(df_voter_turnout, df_age, on='NAME', how='left')\n",
    "df_voter_turnout.head()"
   ],
   "metadata": {
    "collapsed": false
   }
  },
  {
   "cell_type": "markdown",
   "source": [
    "Regression for VEP Turnout:"
   ],
   "metadata": {
    "collapsed": false
   }
  },
  {
   "cell_type": "code",
   "execution_count": null,
   "outputs": [],
   "source": [
    "df_voter_turnout['const'] = 1\n",
    "reg1 = sm.OLS(endog = df_voter_turnout['VEP Turnout Rate (%)'], exog = df_voter_turnout[['const', 'Median Age (years)']], missing = 'drop')\n",
    "reg2 = sm.OLS(endog = df_voter_turnout['VEP Turnout Rate (%)'], exog = df_voter_turnout[['const', 'Median Age (years)', 'Avg Annual Income (USD1,000)']], missing = 'drop')\n",
    "reg3 = sm.OLS(endog = df_voter_turnout['VEP Turnout Rate (%)'], exog = df_voter_turnout[['const', 'Median Age (years)', 'Avg Annual Income (USD1,000)', 'Log of Voting-Eligible Population (VEP)']], missing = 'drop')\n",
    "result1 = reg1.fit()\n",
    "result2 = reg2.fit()\n",
    "result3 = reg3.fit()\n",
    "stargazer = Stargazer([result1, result2, result3])\n",
    "stargazer.custom_columns(['Model 1', 'Model 2', 'Model 3'], [1,1,1])\n",
    "stargazer.title(\"Regression Results\")\n",
    "HTML(stargazer.render_html())"
   ],
   "metadata": {
    "collapsed": false
   }
  },
  {
   "cell_type": "code",
   "execution_count": null,
   "outputs": [],
   "source": [
    "df_1 = df_voter_turnout.copy()\n",
    "\n",
    "# Dropping NA's is required to use numpy's polyfit\n",
    "df_2 = df_1.dropna(subset=['VEP Turnout Rate (%)', 'Median Age (years)'])\n",
    "\n",
    "X = df_2['Median Age (years)']\n",
    "y = df_2['VEP Turnout Rate (%)']\n",
    "labels = df_2['NAME']\n",
    "\n",
    "# Replace markers with country labels\n",
    "fig, ax = plt.subplots()\n",
    "ax.scatter(X, y, marker='o')\n",
    "\n",
    "# Fit a linear trend line\n",
    "ax.plot(np.unique(X),\n",
    "         np.poly1d(np.polyfit(X, y, 1))(np.unique(X)),\n",
    "         color='black')\n",
    "\n",
    "ax.set_xlabel('Median Age (years)')\n",
    "ax.set_ylabel('VEP Turnout Rate (%)')\n",
    "ax.set_title('Figure 2: OLS relationship between Median Age and VEP Turnout Rate')\n",
    "plt.show()"
   ],
   "metadata": {
    "collapsed": false
   }
  },
  {
   "cell_type": "markdown",
   "source": [],
   "metadata": {
    "collapsed": false
   }
  },
  {
   "cell_type": "markdown",
   "source": [
    "2. Vote Share ~ income standard deviation, area of land per capita, unemployment rate\n",
    "\n",
    "$$\\text{vote share (\\%)} = 100*\\frac{\\text{total amount of trump vote in a state} / \\text{total amount of vote in a state}}$$"
   ],
   "metadata": {
    "collapsed": false
   }
  },
  {
   "cell_type": "code",
   "execution_count": null,
   "outputs": [],
   "source": [
    "df_unemployment = pd.read_csv('/Users/jiaxincui/Documents/GitHub/git-exercise-AllysonCui/Data/Other/unemployment_rate.csv')\n",
    "df_unemployment['Unemployment Rate'] = df_unemployment['Unemployment Rate'].replace('%', '', regex=True).astype(float)\n",
    "df_unemployment = df_unemployment.rename(columns={'Unemployment Rate': 'Unemployment Rate (%)', 'State':'NAME'})\n",
    "df_unemployment.head()"
   ],
   "metadata": {
    "collapsed": false
   }
  },
  {
   "cell_type": "code",
   "execution_count": null,
   "outputs": [],
   "source": [],
   "metadata": {
    "collapsed": false
   }
  },
  {
   "cell_type": "code",
   "execution_count": null,
   "outputs": [],
   "source": [
    "df_vote_share = pd.merge(compare_income_vote, df_higher_edu, on='NAME', how='left')\n",
    "df_vote_share = pd.merge(df_vote_share, df_unemployment, on='NAME', how='left')\n",
    "df_vote_share = df_vote_share.loc[:, ['NAME', 'ratio', 'Average of Stdev', \"Bachelor's degree or higher (%)\", 'Unemployment Rate (%)']]\n",
    "df_vote_share['Vote Share of Trump (%)'] = df_vote_share['ratio']*100\n",
    "#df_vote_share['Land Per Capita'] = df_vote_share['Land Per Capita']/10000\n",
    "df_vote_share['Average of Stdev'] = df_vote_share['Average of Stdev']/10000\n",
    "df_vote_share.drop(['ratio'],axis = 1, inplace = True)\n",
    "df_vote_share.rename(columns={\"Average of Stdev\": \"Annual Income Standard Deviation (USD10,000)\"}, inplace = True)\n",
    "\n",
    "df_vote_share.head()"
   ],
   "metadata": {
    "collapsed": false
   }
  },
  {
   "cell_type": "markdown",
   "source": [
    "Regression for Vote Share:"
   ],
   "metadata": {
    "collapsed": false
   }
  },
  {
   "cell_type": "code",
   "execution_count": null,
   "outputs": [],
   "source": [
    "df_vote_share['const'] = 1\n",
    "reg1 = sm.OLS(endog = df_vote_share['Vote Share of Trump (%)'], exog = df_vote_share[['const', 'Annual Income Standard Deviation (USD10,000)']], missing = 'drop')\n",
    "reg2 = sm.OLS(endog = df_vote_share['Vote Share of Trump (%)'], exog = df_vote_share[['const', 'Annual Income Standard Deviation (USD10,000)', 'Unemployment Rate (%)']], missing = 'drop')\n",
    "reg3 = sm.OLS(endog = df_vote_share['Vote Share of Trump (%)'], exog = df_vote_share[['const', 'Annual Income Standard Deviation (USD10,000)', 'Unemployment Rate (%)', \"Bachelor's degree or higher (%)\"]], missing = 'drop')\n",
    "result1 = reg1.fit()\n",
    "result2 = reg2.fit()\n",
    "result3 = reg3.fit()\n",
    "stargazer = Stargazer([result1, result2, result3])\n",
    "stargazer.custom_columns(['Model 1', 'Model 2', 'Model 3'], [1,1,1])\n",
    "stargazer.title(\"Regression Results\")\n",
    "HTML(stargazer.render_html())"
   ],
   "metadata": {
    "collapsed": false
   }
  },
  {
   "cell_type": "code",
   "execution_count": null,
   "outputs": [],
   "source": [
    "df_1 = df_vote_share.copy()\n",
    "\n",
    "# Dropping NA's is required to use numpy's polyfit\n",
    "df_2 = df_1.dropna(subset=['Vote Share of Trump (%)', \"Bachelor's degree or higher (%)\"])\n",
    "\n",
    "X = df_2[\"Bachelor's degree or higher (%)\"]\n",
    "y = df_2['Vote Share of Trump (%)']\n",
    "labels = df_2['NAME']\n",
    "\n",
    "# Replace markers with country labels\n",
    "fig, ax = plt.subplots()\n",
    "ax.scatter(X, y, marker='o')\n",
    "\n",
    "# Fit a linear trend line\n",
    "ax.plot(np.unique(X),\n",
    "         np.poly1d(np.polyfit(X, y, 1))(np.unique(X)),\n",
    "         color='black')\n",
    "\n",
    "ax.set_xlabel(\"Bachelor's degree or higher (%)\")\n",
    "ax.set_ylabel('Vote Share of Trump (%)')\n",
    "ax.set_title(\"Figure 2: OLS relationship between Population with Bachelor's degree or higher (%) and Vote Share of Trump\")\n",
    "plt.show()"
   ],
   "metadata": {
    "collapsed": false
   }
  },
  {
   "cell_type": "code",
   "execution_count": null,
   "outputs": [],
   "source": [
    "df_1 = df_vote_share.copy()\n",
    "\n",
    "# Dropping NA's is required to use numpy's polyfit\n",
    "df_2 = df_1.dropna(subset=['Vote Share of Trump (%)', 'Annual Income Standard Deviation (USD10,000)'])\n",
    "\n",
    "X = df_2['Annual Income Standard Deviation (USD10,000)']\n",
    "y = df_2['Vote Share of Trump (%)']\n",
    "labels = df_2['NAME']\n",
    "\n",
    "# Replace markers with country labels\n",
    "fig, ax = plt.subplots()\n",
    "ax.scatter(X, y, marker='o')\n",
    "\n",
    "# Fit a linear trend line\n",
    "ax.plot(np.unique(X),\n",
    "         np.poly1d(np.polyfit(X, y, 1))(np.unique(X)),\n",
    "         color='black')\n",
    "\n",
    "ax.set_xlabel('Annual Income Standard Deviation (USD10,000)')\n",
    "ax.set_ylabel('Vote Share of Trump (%)')\n",
    "ax.set_title('Figure 2: OLS relationship between Annual Income Standard Deviation and Vote Share of Trump')\n",
    "plt.show()"
   ],
   "metadata": {
    "collapsed": false
   }
  },
  {
   "cell_type": "markdown",
   "source": [
    "Political Polarization ~ population of one race/total population, proportion of educational attainment - bachelor's degree or higher (age over 25), # of campaigns hosted\n",
    "\n",
    "Formula for polarization indicator:\n",
    "|total amount of trump votes in a state - total amount of biden vote in a state| / all other votes in a state\n"
   ],
   "metadata": {
    "collapsed": false
   }
  },
  {
   "cell_type": "code",
   "execution_count": null,
   "outputs": [],
   "source": [
    "# create a new column to group candidates as \"Donald Trump\", \"Joe Biden\", or \"Others\"\n",
    "df['Candidate_Group'] = df['candidate'].apply(lambda x: x if x in ['Donald Trump', 'Joe Biden'] else 'Others')\n",
    "\n",
    "# group the data by state and candidate group and sum the total_votes column\n",
    "grouped_df = df.groupby(['state', 'Candidate_Group'])['total_votes'].sum().reset_index()\n",
    "\n",
    "# pivot the table on the Candidate_Group column\n",
    "pivoted_df = grouped_df.pivot_table(index='state', columns='Candidate_Group', values='total_votes', aggfunc='sum').reset_index()\n",
    "\n",
    "# rename the columns to the desired names\n",
    "pivoted_df.columns = ['NAME', 'Donald Trump', 'Joe Biden', 'Others']\n",
    "\n",
    "pivoted_df['Polarization Indicator'] = np.abs(pivoted_df['Donald Trump']-pivoted_df['Joe Biden'])/pivoted_df['Others']\n",
    "\n",
    "pivoted_df.head()"
   ],
   "metadata": {
    "collapsed": false
   }
  },
  {
   "cell_type": "code",
   "execution_count": null,
   "outputs": [],
   "source": [
    "df_pop = pd.read_csv('/Users/jiaxincui/Documents/GitHub/git-exercise-AllysonCui/Data/Other/DECENNIALPL2020.P2-2023-03-31T211327.csv')\n",
    "df_pop1 = df_pop.loc[df_pop['Label (Grouping)'].isin(['Total:', '        Population of one race:'])]\n",
    "df_pop1 = df_pop1.T\n",
    "df_pop1.columns = df_pop1.iloc[0]\n",
    "df_pop1 = df_pop1.drop(df_pop1.index[0])\n",
    "df_pop1 = df_pop1.reset_index().rename(columns={'index': 'NAME'})\n",
    "df_pop1.rename(columns={'Total:':'Total',\n",
    "                        \"        Population of one race:\": \"Population of one race\",\n",
    "                        'Label (Grouping)':'NAME'}, inplace = True)\n",
    "df_pop1['Total'] = df_pop1['Total'].replace(',', '', regex=True).astype(int)\n",
    "df_pop1['Population of one race'] = df_pop1['Population of one race'].replace(',', '', regex=True).astype(int)\n",
    "df_pop1.head()"
   ],
   "metadata": {
    "collapsed": false
   }
  },
  {
   "cell_type": "code",
   "execution_count": null,
   "outputs": [],
   "source": [
    "df_polar = pd.DataFrame()\n",
    "df_polar['NAME'] = pivoted_df['NAME']\n",
    "df_polar['Polarization Indicator'] = pivoted_df['Polarization Indicator']\n",
    "\n",
    "df_race = df_pop1.copy()\n",
    "df_race['Proportion of Single Race Population'] = df_race['Population of one race'] / df_race['Total']\n",
    "df_polar = pd.merge(df_polar, df_race[['NAME', 'Proportion of Single Race Population']], on='NAME', how='left')\n",
    "df_polar['Proportion of Single Race Population'] = df_polar['Proportion of Single Race Population']*100\n",
    "\n",
    "df_polar = pd.merge(df_polar, df_higher_edu, on='NAME', how='left')\n",
    "\n",
    "df_campaign = Rallies_2020.copy()\n",
    "df_campaign.rename(columns={\"State\": \"STUSPS\"}, inplace = True)\n",
    "df_campaign = pd.merge(df_campaign, gpd_state4[['STUSPS', 'NAME']], on='STUSPS', how='left')\n",
    "\n",
    "name_counts = df_campaign['NAME'].value_counts()\n",
    "df_campaign_num = pd.DataFrame({'NAME': name_counts.index, 'count': name_counts.values})\n",
    "\n",
    "df_polar = pd.merge(df_polar, df_campaign_num[['NAME', 'count']], on='NAME', how='left')\n",
    "df_polar['count'] = df_polar['count'].fillna(0)\n",
    "df_polar.rename(columns={\"count\": \"# of 2020 Presidential Campaigns\", 'Proportion of Single Race Population':'Proportion of Single Race Population (%)'}, inplace = True)\n",
    "\n",
    "df_polar = pd.merge(df_polar, df_voter_turnout[['NAME', 'VEP Turnout Rate (%)']], on='NAME', how='left')\n",
    "\n",
    "df_polar.head()"
   ],
   "metadata": {
    "collapsed": false
   }
  },
  {
   "cell_type": "markdown",
   "source": [
    "Regression for Political Polarization:"
   ],
   "metadata": {
    "collapsed": false
   }
  },
  {
   "cell_type": "code",
   "execution_count": null,
   "outputs": [],
   "source": [
    "df_polar['const'] = 1\n",
    "var2 = 'VEP Turnout Rate (%)'\n",
    "var1 = \"# of 2020 Presidential Campaigns\"\n",
    "var3 = \"Bachelor's degree or higher (%)\"\n",
    "var4 = 'Proportion of Single Race Population (%)'\n",
    "reg1 = sm.OLS(endog = df_polar['Polarization Indicator'],\n",
    "              exog = df_polar[['const', var1]], missing = 'drop')\n",
    "reg2 = sm.OLS(endog = df_polar['Polarization Indicator'],\n",
    "              exog = df_polar[['const', var1, var2]], missing = 'drop')\n",
    "reg3 = sm.OLS(endog = df_polar['Polarization Indicator'],\n",
    "              exog = df_polar[['const', var1, var2, var3]], missing = 'drop')\n",
    "reg4 = sm.OLS(endog = df_polar['Polarization Indicator'],\n",
    "              exog = df_polar[['const', var1, var2, var3, var4]], missing = 'drop')\n",
    "result1 = reg1.fit()\n",
    "result2 = reg2.fit()\n",
    "result3 = reg3.fit()\n",
    "result4 = reg4.fit()\n",
    "stargazer = Stargazer([result1, result2, result3, result4])\n",
    "stargazer.custom_columns(['Model 1', 'Model 2', 'Model 3', 'Model 4'], [1,1,1,1])\n",
    "stargazer.title(\"Regression Results\")\n",
    "HTML(stargazer.render_html())"
   ],
   "metadata": {
    "collapsed": false
   }
  },
  {
   "cell_type": "markdown",
   "source": [
    "df_test = pd.merge(df_polar, df_vote_share, on = \"NAME\", how='left')\n",
    "df_test = pd.merge(df_test, df_voter_turnout, on=\"NAME\", how='left')\n",
    "df_test = pd.merge(df_test, df_state_status, on=\"NAME\", how='left')"
   ],
   "metadata": {
    "collapsed": false
   }
  },
  {
   "cell_type": "markdown",
   "source": [
    "df_test.drop(['const_x', 'const_y'], axis = 1, inplace = True)\n",
    "df_test.head()"
   ],
   "metadata": {
    "collapsed": false
   }
  },
  {
   "cell_type": "markdown",
   "source": [
    "df_test['const'] = 1\n",
    "\n",
    "reg1 = sm.OLS(endog = df_test['Relative Winning Ratio (%)'],\n",
    "              exog = df_test[['const', \"Proportion of White Alone Population\"]], missing = 'drop')\n",
    "reg2 = sm.OLS(endog = df_test['Relative Winning Ratio (%)'],\n",
    "              exog = df_test[['const', \"Proportion of Single Race Population (%)\"]], missing = 'drop')\n",
    "reg3 = sm.OLS(endog = df_test['Relative Winning Ratio (%)'],\n",
    "              exog = df_test[['const', \"# of 2020 Presidential Campaigns\"]], missing = 'drop')\n",
    "reg4 = sm.OLS(endog = df_test['Relative Winning Ratio (%)'],\n",
    "              exog = df_test[['const', \"Annual Income Standard Deviation (USD10,000)\"]], missing = 'drop')\n",
    "reg5 = sm.OLS(endog = df_test['Relative Winning Ratio (%)'],\n",
    "              exog = df_test[['const', \"Unemployment Rate (%)\"]], missing = 'drop')\n",
    "reg6 = sm.OLS(endog = df_test['Relative Winning Ratio (%)'],\n",
    "              exog = df_test[['const', \"Median Age (years)\"]], missing = 'drop')\n",
    "result1 = reg1.fit()\n",
    "result2 = reg2.fit()\n",
    "result3 = reg3.fit()\n",
    "result4 = reg4.fit()\n",
    "result5 = reg5.fit()\n",
    "result6 = reg6.fit()\n",
    "stargazer = Stargazer([result1, result2, result3, result4, result5, result6])\n",
    "stargazer.custom_columns(['Model 1', 'Model 2', 'Model 3', 'Model 4', 'Model 5', 'Model 6' ], [1,1,1,1,1,1])\n",
    "stargazer.title(\"Regression Results\")\n",
    "HTML(stargazer.render_html())"
   ],
   "metadata": {
    "collapsed": false
   }
  },
  {
   "cell_type": "code",
   "execution_count": null,
   "outputs": [],
   "source": [
    "df_1 = df_polar.copy()\n",
    "\n",
    "# Dropping NA's is required to use numpy's polyfit\n",
    "df_2 = df_1.dropna(subset=['Polarization Rate (%)', \"Bachelor's degree or higher (%)\"])\n",
    "\n",
    "X = df_2[\"Bachelor's degree or higher (%)\"]\n",
    "y = df_2['Polarization Rate (%)']\n",
    "labels = df_2['NAME']\n",
    "\n",
    "# Replace markers with country labels\n",
    "fig, ax = plt.subplots()\n",
    "ax.scatter(X, y, marker='o')\n",
    "\n",
    "# Fit a linear trend line\n",
    "ax.plot(np.unique(X),\n",
    "         np.poly1d(np.polyfit(X, y, 1))(np.unique(X)),\n",
    "         color='black')\n",
    "\n",
    "ax.set_xlabel(\"Population with Bachelor's degree or higher (%)\")\n",
    "ax.set_ylabel('Polarization Rate (%)')\n",
    "ax.set_title(\"Figure 2: OLS relationship between Polarization Rate and Population with Bachelor's degree or higher\")\n",
    "plt.show()"
   ],
   "metadata": {
    "collapsed": false
   }
  },
  {
   "cell_type": "markdown",
   "source": [
    "State-Level Voting Winning Status ~ median of % Trump vote share in counties, log of median of county population, # of counties,"
   ],
   "metadata": {
    "collapsed": false
   }
  },
  {
   "cell_type": "code",
   "execution_count": null,
   "outputs": [],
   "source": [
    "# group the dataframe by state and compute median values\n",
    "state_grouped = df_county_pop.groupby('state').agg({'trump_vote_share': 'median', 'population': 'max'})\n",
    "\n",
    "# reset the index to make state a regular column\n",
    "state_grouped = state_grouped.reset_index()\n",
    "\n",
    "# rename the columns\n",
    "state_grouped = state_grouped.rename(columns={'state': 'NAME', 'trump_vote_share': 'Median County Vote Share of Trump (%)', 'population': 'Highest County Population'})\n",
    "\n",
    "# create the new dataframe\n",
    "#df_state_pop = pd.DataFrame()\n",
    "df_state_pop = state_grouped[['NAME', 'Median County Vote Share of Trump (%)', 'Highest County Population']]\n",
    "\n",
    "df_state_pop['Median County Vote Share of Trump (%)'] = df_state_pop['Median County Vote Share of Trump (%)']*100\n",
    "\n",
    "df_counties = df_county.groupby('state')['county'].nunique().reset_index()\n",
    "df_counties.columns = ['NAME', '# of Counties']"
   ],
   "metadata": {
    "collapsed": false
   }
  },
  {
   "cell_type": "code",
   "execution_count": null,
   "outputs": [],
   "source": [
    "df_state_status = pd.DataFrame()\n",
    "vmin = gpd_state4['total_votes'].min()\n",
    "vmax = gpd_state4['total_votes'].max()\n",
    "df_state_status['NAME'] = gpd_state4['NAME']\n",
    "df_state_status['State-Level Trump Vote Contribution (%)'] = (gpd_state4['total_votes']-vmin)/(vmax-vmin)*100\n",
    "names_list = list(gpd_state4.loc[gpd_state4['party'] != 'REP']['NAME'])\n",
    "#Need to double check\n",
    "df_state_status.loc[df_state_status['NAME'].isin(names_list), 'State-Level Trump Vote Contribution (%)'] = 0\n",
    "df_state_status = pd.merge(df_state_status, df_state_pop, on='NAME', how='left')\n",
    "df_state_status = pd.merge(df_state_status, df_counties, on='NAME', how='left')\n",
    "df_state_status = pd.merge(df_state_status, df_polar[['NAME', \"# of 2020 Presidential Campaigns\"]], on='NAME', how='left')\n",
    "\n",
    "df_state_status.head()"
   ],
   "metadata": {
    "collapsed": false
   }
  },
  {
   "cell_type": "code",
   "execution_count": null,
   "outputs": [],
   "source": [
    "df_state_status['const'] = 1\n",
    "reg1 = sm.OLS(endog = df_state_status['State-Level Trump Vote Contribution (%)'],\n",
    "              exog = df_state_status[['const', 'Highest County Population']], missing = 'drop')\n",
    "reg2 = sm.OLS(endog = df_state_status['State-Level Trump Vote Contribution (%)'],\n",
    "              exog = df_state_status[['const', 'Highest County Population', '# of 2020 Presidential Campaigns']], missing = 'drop')\n",
    "reg3 = sm.OLS(endog = df_state_status['State-Level Trump Vote Contribution (%)'],\n",
    "              exog = df_state_status[['const', 'Highest County Population', '# of 2020 Presidential Campaigns', 'Median County Vote Share of Trump (%)']], missing = 'drop')\n",
    "reg4 = sm.OLS(endog = df_state_status['State-Level Trump Vote Contribution (%)'],\n",
    "              exog = df_state_status[['const', 'Highest County Population', '# of 2020 Presidential Campaigns', 'Median County Vote Share of Trump (%)', \"# of Counties\"]], missing = 'drop')\n",
    "result1 = reg1.fit()\n",
    "result2 = reg2.fit()\n",
    "result3 = reg3.fit()\n",
    "result4 = reg4.fit()\n",
    "stargazer = Stargazer([result1, result2, result3, result4])\n",
    "stargazer.custom_columns(['Model 1', 'Model 2', 'Model 3', 'Model 4'], [1,1,1,1])\n",
    "stargazer.title(\"Regression Results\")\n",
    "HTML(stargazer.render_html())"
   ],
   "metadata": {
    "collapsed": false
   }
  },
  {
   "cell_type": "code",
   "execution_count": null,
   "outputs": [],
   "source": [
    "df_1 = df_state_status.copy()\n",
    "\n",
    "# Dropping NA's is required to use numpy's polyfit\n",
    "df_2 = df_1.dropna(subset=['State-Level Trump Vote Contribution (%)', 'Highest County Population'])\n",
    "\n",
    "X = df_2['Highest County Population']\n",
    "y = df_2['State-Level Trump Vote Contribution (%)']\n",
    "labels = df_2['NAME']\n",
    "\n",
    "# Replace markers with country labels\n",
    "fig, ax = plt.subplots()\n",
    "ax.scatter(X, y, marker='o')\n",
    "\n",
    "# Fit a linear trend line\n",
    "ax.plot(np.unique(X),\n",
    "         np.poly1d(np.polyfit(X, y, 1))(np.unique(X)),\n",
    "         color='black')\n",
    "\n",
    "#ax.set_xlim([3.3,10.5])\n",
    "#ax.set_ylim([0,100])\n",
    "ax.set_xlabel('Highest County Population')\n",
    "ax.set_ylabel(\"State-Level Trump Vote Contribution (%)\")\n",
    "ax.set_title(\"Figure 2: OLS relationship between Highest County Population and State-Level Trump Vote Contribution\")\n",
    "plt.show()"
   ],
   "metadata": {
    "collapsed": false
   }
  },
  {
   "cell_type": "markdown",
   "source": [
    "# Machine Learning"
   ],
   "metadata": {
    "collapsed": false
   }
  },
  {
   "cell_type": "code",
   "execution_count": null,
   "outputs": [],
   "source": [
    "from sklearn import (\n",
    "    linear_model, metrics, pipeline, model_selection\n",
    ")\n",
    "from sklearn.ensemble import BaggingClassifier, RandomForestClassifier, BaggingRegressor, RandomForestRegressor, GradientBoostingRegressor\n",
    "from sklearn.metrics import mean_squared_error,confusion_matrix, classification_report\n",
    "from sklearn import tree\n",
    "import plotly.graph_objects as go\n",
    "import qeds"
   ],
   "metadata": {
    "collapsed": false
   }
  },
  {
   "cell_type": "code",
   "execution_count": null,
   "outputs": [],
   "source": [
    "X = df_2.drop([\"NAME\"], axis=1).copy()\n",
    "# convert everything to be a float for later on\n",
    "for col in list(X):\n",
    "    X[col] = X[col].astype(float)\n",
    "X.head()"
   ],
   "metadata": {
    "collapsed": false
   }
  },
  {
   "cell_type": "code",
   "execution_count": null,
   "outputs": [],
   "source": [
    "lr_model = linear_model.LinearRegression()\n",
    "lr_model.fit(X, y)"
   ],
   "metadata": {
    "collapsed": false
   }
  },
  {
   "cell_type": "code",
   "execution_count": null,
   "outputs": [],
   "source": [
    "y_pred_linear = lr_model.predict(X)\n",
    "#from sklearn import metrics\n",
    "full_mse = metrics.mean_squared_error(y, y_pred_linear)\n",
    "print('Mean Squared Error:', full_mse)"
   ],
   "metadata": {
    "collapsed": false
   }
  },
  {
   "cell_type": "markdown",
   "source": [
    "Regression Tree"
   ],
   "metadata": {
    "collapsed": false
   }
  },
  {
   "cell_type": "code",
   "execution_count": null,
   "outputs": [],
   "source": [
    "sqft_tree = tree.DecisionTreeRegressor(max_depth=3).fit(X,y)"
   ],
   "metadata": {
    "collapsed": false
   }
  },
  {
   "cell_type": "code",
   "execution_count": null,
   "outputs": [],
   "source": [
    "# use the fitted tree to predict\n",
    "y_pred_tree = sqft_tree.predict(X)\n",
    "\n",
    "# find the error of prediction (MSE)\n",
    "print('Mean Squared Error:', metrics.mean_squared_error(y, y_pred_tree))"
   ],
   "metadata": {
    "collapsed": false
   }
  },
  {
   "cell_type": "code",
   "execution_count": null,
   "outputs": [],
   "source": [
    "sqrf_fig = plt.figure(figsize=(20,10))\n",
    "sqrf_fig = tree.plot_tree(sqft_tree, feature_names=X.columns, filled=True, fontsize = 12)"
   ],
   "metadata": {
    "collapsed": false
   }
  },
  {
   "cell_type": "code",
   "execution_count": null,
   "outputs": [],
   "source": [
    "Importance = pd.DataFrame({'Importance':regr2.feature_importances_*100}, index=X.columns)\n",
    "Importance.sort_values('Importance', axis=0, ascending=True).plot(kind='barh', color='r', )\n",
    "plt.xlabel('Variable Importance')\n",
    "plt.gca().legend_ = None"
   ],
   "metadata": {
    "collapsed": false
   }
  },
  {
   "cell_type": "markdown",
   "source": [
    "RandomForest"
   ],
   "metadata": {
    "collapsed": false
   }
  },
  {
   "cell_type": "code",
   "execution_count": null,
   "outputs": [],
   "source": [
    "regr2 = RandomForestRegressor(max_features=2, random_state=1)\n",
    "regr2.fit(X, y)\n",
    "pred = regr2.predict(X)\n",
    "mean_squared_error(y, pred)"
   ],
   "metadata": {
    "collapsed": false
   }
  },
  {
   "cell_type": "markdown",
   "source": [
    "# Regression Tree for Random Forest\n",
    "n = 1000\n",
    "Xsim = np.random.rand(n,2)\n",
    "def Ey_x(x):\n",
    "    return 1/3*(np.sin(5*x[0])*np.sqrt(x[1])*np.exp(-(x[1]-0.5)**2))\n",
    "#np.apply_along_axis applys a function (Ey_x here) to 1-D slices along the given axis which is Xsim here\n",
    "ysim = np.apply_along_axis(Ey_x, 1, Xsim) + np.random.randn(n)*0.1"
   ],
   "metadata": {
    "collapsed": false
   }
  },
  {
   "cell_type": "markdown",
   "source": [
    "qeds.themes.mpl_style();\n",
    "plotly_template = qeds.themes.plotly_template()\n",
    "colors = qeds.themes.COLOR_CYCLE"
   ],
   "metadata": {
    "collapsed": false
   }
  },
  {
   "cell_type": "markdown",
   "source": [
    "#defining a 3D scatter plot to show the data\n",
    "def surface_scatter_plot(X,y,f, xlo=0., xhi=1., ngrid=50,\n",
    "                         width=860, height=700, f0=Ey_x, show_f0=False):\n",
    "    scatter = go.Scatter3d(x=X[:,0],y=X[:,1],z=y,\n",
    "                           mode='markers',\n",
    "                           marker=dict(size=2, opacity=0.3)\n",
    "    )\n",
    "    xgrid = np.linspace(xlo,xhi,ngrid)\n",
    "    ey = np.zeros((len(xgrid),len(xgrid)))\n",
    "    ey0 = np.zeros((len(xgrid),len(xgrid)))\n",
    "    colorscale = [[0, colors[0]], [1, colors[2]]]\n",
    "    for i in range(len(xgrid)):\n",
    "        for j in range(len(xgrid)):\n",
    "            ey[j,i] = f([xgrid[i],xgrid[j]])\n",
    "            ey0[j,i]= f0([xgrid[i],xgrid[j]])\n",
    "    surface = go.Surface(x=xgrid, y=xgrid, z=ey, colorscale=colorscale, opacity=1.0)\n",
    "    if (show_f0):\n",
    "        surface0 = go.Surface(x=xgrid, y=xgrid, z=ey0, opacity=0.8, colorscale=colorscale)\n",
    "        layers = [scatter, surface, surface0]\n",
    "    else:\n",
    "        layers = [scatter, surface]\n",
    "    fig = go.FigureWidget(\n",
    "        data=layers,\n",
    "        layout = go.Layout(\n",
    "            autosize=True,\n",
    "            scene=dict(\n",
    "                xaxis_title='X1',\n",
    "                yaxis_title='X2',\n",
    "                zaxis_title='Y'\n",
    "            ),\n",
    "            width=width,\n",
    "            height=height,\n",
    "            template=plotly_template,\n",
    "        )\n",
    "    )\n",
    "    return fig\n",
    "\n",
    "fig = surface_scatter_plot(Xsim, ysim, Ey_x)\n",
    "fig"
   ],
   "metadata": {
    "collapsed": false
   }
  },
  {
   "cell_type": "markdown",
   "source": [
    "fitted_tree = tree.DecisionTreeRegressor(max_depth=3).fit(Xsim,ysim)\n",
    "fig = plt.figure(figsize=(25,20))\n",
    "fig = tree.plot_tree(fitted_tree, feature_names=[\"var1\", \"var2\"], filled=True)\n"
   ],
   "metadata": {
    "collapsed": false
   }
  },
  {
   "cell_type": "markdown",
   "source": [
    "## Conclusion\n",
    "In conclusion, the results of the four different electoral systems applied to the same election data reveal the significance of the electoral process in determining the outcome of an election. The outcome can vary greatly depending on the specific system being used. In this case, Joe Biden was declared the winner under Electoral System I, where each county was allotted the same number of votes as its number of voters and all votes were cast for the candidate who won the majority of votes in that county. On the other hand, Donald Trump was declared the winner in the remaining three systems - Electoral System II, III, and IV."
   ],
   "metadata": {
    "collapsed": false
   }
  },
  {
   "cell_type": "code",
   "execution_count": null,
   "outputs": [],
   "source": [
    "result_4 = [['I', 'Joe Biden'],\n",
    "            ['II', 'Donald Trump'],\n",
    "            ['III', 'Donald Trump'],\n",
    "            ['IV', 'Donald Trump']]\n",
    "pd.DataFrame(result_4, columns = ['Electoral System', 'Winner'])"
   ],
   "metadata": {
    "collapsed": false
   }
  },
  {
   "cell_type": "markdown",
   "source": [
    " This highlights the importance of choosing an appropriate electoral system that aligns with the values and goals of a given society. It also demonstrates how different electoral systems can have a significant impact on the representation of different regions, communities, and individuals. The analysis shows that the design of an electoral system can greatly influence the outcome of an election and should be carefully considered.\n",
    "\n",
    "The differences in funding received by Trump and Biden in different sectors also suggest the complex interplay between policy positions, industry interests, and political strategy in the 2020 US Presidential election. It underscores the importance of money and resources in modern political campaigns and reflects the changing dynamics of American politics.\n",
    "\n",
    "This research paper also highlights the need for ongoing research into the role of outside groups in political campaigns, particularly in the context of the increasing influence of money and resources."
   ],
   "metadata": {
    "collapsed": false
   }
  },
  {
   "cell_type": "markdown",
   "source": [],
   "metadata": {
    "collapsed": false
   }
  }
 ],
 "metadata": {
  "kernelspec": {
   "display_name": "Python 3",
   "language": "python",
   "name": "python3"
  },
  "language_info": {
   "codemirror_mode": {
    "name": "ipython",
    "version": 2
   },
   "file_extension": ".py",
   "mimetype": "text/x-python",
   "name": "python",
   "nbconvert_exporter": "python",
   "pygments_lexer": "ipython2",
   "version": "2.7.6"
  }
 },
 "nbformat": 4,
 "nbformat_minor": 0
}
