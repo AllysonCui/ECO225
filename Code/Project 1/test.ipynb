{
 "cells": [
  {
   "cell_type": "code",
   "execution_count": 4,
   "outputs": [
    {
     "data": {
      "text/plain": "      NAME  county   Mean  Median  Stdev\n0  Alabama  Mobile  38773   30506  33101",
      "text/html": "<div>\n<style scoped>\n    .dataframe tbody tr th:only-of-type {\n        vertical-align: middle;\n    }\n\n    .dataframe tbody tr th {\n        vertical-align: top;\n    }\n\n    .dataframe thead th {\n        text-align: right;\n    }\n</style>\n<table border=\"1\" class=\"dataframe\">\n  <thead>\n    <tr style=\"text-align: right;\">\n      <th></th>\n      <th>NAME</th>\n      <th>county</th>\n      <th>Mean</th>\n      <th>Median</th>\n      <th>Stdev</th>\n    </tr>\n  </thead>\n  <tbody>\n    <tr>\n      <th>0</th>\n      <td>Alabama</td>\n      <td>Mobile</td>\n      <td>38773</td>\n      <td>30506</td>\n      <td>33101</td>\n    </tr>\n  </tbody>\n</table>\n</div>"
     },
     "execution_count": 4,
     "metadata": {},
     "output_type": "execute_result"
    }
   ],
   "source": [
    "import pandas as pd\n",
    "\n",
    "# create a sample dataframe\n",
    "df = pd.DataFrame({\n",
    "    'NAME': ['Alabama', 'Alabama', 'Alabama', 'Alabama', 'Alabama'],\n",
    "    'county': ['Mobile', 'Barbour', 'Shelby', 'Mobile', 'Mobile'],\n",
    "    'Mean': [38773, 37725, 54606, 63919, 77948],\n",
    "    'Median': [30506, 19528, 31930, 52814, 67225],\n",
    "    'Stdev': [33101, 43789, 57348, 47707, 54270]\n",
    "})\n",
    "\n",
    "# select only the first unique value of 'county' for each unique value of 'NAME'\n",
    "df_new = df.groupby('NAME', as_index=False).agg({'county': 'first', 'Mean': 'first', 'Median': 'first', 'Stdev': 'first'})\n",
    "\n",
    "df_new\n"
   ],
   "metadata": {
    "collapsed": false
   }
  },
  {
   "cell_type": "code",
   "execution_count": null,
   "outputs": [],
   "source": [],
   "metadata": {
    "collapsed": false
   }
  }
 ],
 "metadata": {
  "kernelspec": {
   "display_name": "Python 3",
   "language": "python",
   "name": "python3"
  },
  "language_info": {
   "codemirror_mode": {
    "name": "ipython",
    "version": 2
   },
   "file_extension": ".py",
   "mimetype": "text/x-python",
   "name": "python",
   "nbconvert_exporter": "python",
   "pygments_lexer": "ipython2",
   "version": "2.7.6"
  }
 },
 "nbformat": 4,
 "nbformat_minor": 0
}
