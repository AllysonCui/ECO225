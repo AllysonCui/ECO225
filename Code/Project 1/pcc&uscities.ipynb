{
 "cells": [
  {
   "cell_type": "code",
   "execution_count": 16,
   "id": "1576a859",
   "metadata": {},
   "outputs": [],
   "source": [
    "import numpy as np\n",
    "import pandas as pd\n",
    "import matplotlib.pyplot as plt\n",
    "import seaborn as sns\n",
    "import plotly.express as px"
   ]
  },
  {
   "cell_type": "code",
   "execution_count": 17,
   "id": "99c19099",
   "metadata": {},
   "outputs": [],
   "source": [
    "df = pd.read_csv('/Users/jiaxincui/Documents/GitHub/git-exercise-AllysonCui/Data/Other/uscities.csv')\n",
    "df_geo = pd.read_csv('/Users/jiaxincui/Documents/GitHub/git-exercise-AllysonCui/Data/Other/uscities.csv')"
   ]
  },
  {
   "cell_type": "code",
   "execution_count": 18,
   "id": "ea4f58ec",
   "metadata": {},
   "outputs": [],
   "source": [
    "pd.set_option('display.max_columns', None)"
   ]
  },
  {
   "cell_type": "code",
   "execution_count": 19,
   "id": "c0e27e63",
   "metadata": {},
   "outputs": [
    {
     "data": {
      "text/plain": "          city   city_ascii state_id  state_name  county_fips  county_name  \\\n0     New York     New York       NY    New York        36081       Queens   \n1  Los Angeles  Los Angeles       CA  California         6037  Los Angeles   \n2      Chicago      Chicago       IL    Illinois        17031         Cook   \n3        Miami        Miami       FL     Florida        12086   Miami-Dade   \n4       Dallas       Dallas       TX       Texas        48113       Dallas   \n\n       lat       lng  population  density source  military  incorporated  \\\n0  40.6943  -73.9249    18680025  10768.0  shape     False          True   \n1  34.1141 -118.4068    12531334   3267.0  shape     False          True   \n2  41.8375  -87.6866     8586888   4576.0  shape     False          True   \n3  25.7840  -80.2101     6076316   4945.0  shape     False          True   \n4  32.7935  -96.7667     5910669   1522.0  shape     False          True   \n\n              timezone  ranking  \\\n0     America/New_York        1   \n1  America/Los_Angeles        1   \n2      America/Chicago        1   \n3     America/New_York        1   \n4      America/Chicago        1   \n\n                                                zips          id  \n0  11229 11228 11226 11225 11224 11222 11221 1122...  1840034016  \n1  91367 90291 90293 90292 91316 91311 90035 9003...  1840020491  \n2  60018 60649 60641 60640 60643 60642 60645 6064...  1840000494  \n3  33128 33129 33125 33126 33127 33149 33144 3314...  1840015149  \n4  75098 75287 75230 75231 75236 75237 75235 7525...  1840019440  ",
      "text/html": "<div>\n<style scoped>\n    .dataframe tbody tr th:only-of-type {\n        vertical-align: middle;\n    }\n\n    .dataframe tbody tr th {\n        vertical-align: top;\n    }\n\n    .dataframe thead th {\n        text-align: right;\n    }\n</style>\n<table border=\"1\" class=\"dataframe\">\n  <thead>\n    <tr style=\"text-align: right;\">\n      <th></th>\n      <th>city</th>\n      <th>city_ascii</th>\n      <th>state_id</th>\n      <th>state_name</th>\n      <th>county_fips</th>\n      <th>county_name</th>\n      <th>lat</th>\n      <th>lng</th>\n      <th>population</th>\n      <th>density</th>\n      <th>source</th>\n      <th>military</th>\n      <th>incorporated</th>\n      <th>timezone</th>\n      <th>ranking</th>\n      <th>zips</th>\n      <th>id</th>\n    </tr>\n  </thead>\n  <tbody>\n    <tr>\n      <th>0</th>\n      <td>New York</td>\n      <td>New York</td>\n      <td>NY</td>\n      <td>New York</td>\n      <td>36081</td>\n      <td>Queens</td>\n      <td>40.6943</td>\n      <td>-73.9249</td>\n      <td>18680025</td>\n      <td>10768.0</td>\n      <td>shape</td>\n      <td>False</td>\n      <td>True</td>\n      <td>America/New_York</td>\n      <td>1</td>\n      <td>11229 11228 11226 11225 11224 11222 11221 1122...</td>\n      <td>1840034016</td>\n    </tr>\n    <tr>\n      <th>1</th>\n      <td>Los Angeles</td>\n      <td>Los Angeles</td>\n      <td>CA</td>\n      <td>California</td>\n      <td>6037</td>\n      <td>Los Angeles</td>\n      <td>34.1141</td>\n      <td>-118.4068</td>\n      <td>12531334</td>\n      <td>3267.0</td>\n      <td>shape</td>\n      <td>False</td>\n      <td>True</td>\n      <td>America/Los_Angeles</td>\n      <td>1</td>\n      <td>91367 90291 90293 90292 91316 91311 90035 9003...</td>\n      <td>1840020491</td>\n    </tr>\n    <tr>\n      <th>2</th>\n      <td>Chicago</td>\n      <td>Chicago</td>\n      <td>IL</td>\n      <td>Illinois</td>\n      <td>17031</td>\n      <td>Cook</td>\n      <td>41.8375</td>\n      <td>-87.6866</td>\n      <td>8586888</td>\n      <td>4576.0</td>\n      <td>shape</td>\n      <td>False</td>\n      <td>True</td>\n      <td>America/Chicago</td>\n      <td>1</td>\n      <td>60018 60649 60641 60640 60643 60642 60645 6064...</td>\n      <td>1840000494</td>\n    </tr>\n    <tr>\n      <th>3</th>\n      <td>Miami</td>\n      <td>Miami</td>\n      <td>FL</td>\n      <td>Florida</td>\n      <td>12086</td>\n      <td>Miami-Dade</td>\n      <td>25.7840</td>\n      <td>-80.2101</td>\n      <td>6076316</td>\n      <td>4945.0</td>\n      <td>shape</td>\n      <td>False</td>\n      <td>True</td>\n      <td>America/New_York</td>\n      <td>1</td>\n      <td>33128 33129 33125 33126 33127 33149 33144 3314...</td>\n      <td>1840015149</td>\n    </tr>\n    <tr>\n      <th>4</th>\n      <td>Dallas</td>\n      <td>Dallas</td>\n      <td>TX</td>\n      <td>Texas</td>\n      <td>48113</td>\n      <td>Dallas</td>\n      <td>32.7935</td>\n      <td>-96.7667</td>\n      <td>5910669</td>\n      <td>1522.0</td>\n      <td>shape</td>\n      <td>False</td>\n      <td>True</td>\n      <td>America/Chicago</td>\n      <td>1</td>\n      <td>75098 75287 75230 75231 75236 75237 75235 7525...</td>\n      <td>1840019440</td>\n    </tr>\n  </tbody>\n</table>\n</div>"
     },
     "execution_count": 19,
     "metadata": {},
     "output_type": "execute_result"
    }
   ],
   "source": [
    "df.head()"
   ]
  },
  {
   "cell_type": "code",
   "execution_count": 20,
   "id": "03cd79cc",
   "metadata": {},
   "outputs": [
    {
     "name": "stdout",
     "output_type": "stream",
     "text": [
      "<class 'pandas.core.frame.DataFrame'>\n",
      "RangeIndex: 30416 entries, 0 to 30415\n",
      "Data columns (total 17 columns):\n",
      " #   Column        Non-Null Count  Dtype  \n",
      "---  ------        --------------  -----  \n",
      " 0   city          30416 non-null  object \n",
      " 1   city_ascii    30416 non-null  object \n",
      " 2   state_id      30416 non-null  object \n",
      " 3   state_name    30416 non-null  object \n",
      " 4   county_fips   30416 non-null  int64  \n",
      " 5   county_name   30416 non-null  object \n",
      " 6   lat           30416 non-null  float64\n",
      " 7   lng           30416 non-null  float64\n",
      " 8   population    30416 non-null  int64  \n",
      " 9   density       30416 non-null  float64\n",
      " 10  source        30416 non-null  object \n",
      " 11  military      30416 non-null  bool   \n",
      " 12  incorporated  30416 non-null  bool   \n",
      " 13  timezone      30416 non-null  object \n",
      " 14  ranking       30416 non-null  int64  \n",
      " 15  zips          30414 non-null  object \n",
      " 16  id            30416 non-null  int64  \n",
      "dtypes: bool(2), float64(3), int64(4), object(8)\n",
      "memory usage: 3.5+ MB\n"
     ]
    }
   ],
   "source": [
    "df.info()"
   ]
  },
  {
   "cell_type": "code",
   "execution_count": 21,
   "id": "78b93d1b",
   "metadata": {},
   "outputs": [
    {
     "data": {
      "text/plain": "          city   city_ascii state_id       state  county_fips       county  \\\n0     New York     New York       NY    New York        36081       Queens   \n1  Los Angeles  Los Angeles       CA  California         6037  Los Angeles   \n2      Chicago      Chicago       IL    Illinois        17031         Cook   \n3        Miami        Miami       FL     Florida        12086   Miami-Dade   \n4       Dallas       Dallas       TX       Texas        48113       Dallas   \n\n       lat       lng  population  density source  military  incorporated  \\\n0  40.6943  -73.9249    18680025  10768.0  shape     False          True   \n1  34.1141 -118.4068    12531334   3267.0  shape     False          True   \n2  41.8375  -87.6866     8586888   4576.0  shape     False          True   \n3  25.7840  -80.2101     6076316   4945.0  shape     False          True   \n4  32.7935  -96.7667     5910669   1522.0  shape     False          True   \n\n              timezone  ranking  \\\n0     America/New_York        1   \n1  America/Los_Angeles        1   \n2      America/Chicago        1   \n3     America/New_York        1   \n4      America/Chicago        1   \n\n                                                zips          id  \n0  11229 11228 11226 11225 11224 11222 11221 1122...  1840034016  \n1  91367 90291 90293 90292 91316 91311 90035 9003...  1840020491  \n2  60018 60649 60641 60640 60643 60642 60645 6064...  1840000494  \n3  33128 33129 33125 33126 33127 33149 33144 3314...  1840015149  \n4  75098 75287 75230 75231 75236 75237 75235 7525...  1840019440  ",
      "text/html": "<div>\n<style scoped>\n    .dataframe tbody tr th:only-of-type {\n        vertical-align: middle;\n    }\n\n    .dataframe tbody tr th {\n        vertical-align: top;\n    }\n\n    .dataframe thead th {\n        text-align: right;\n    }\n</style>\n<table border=\"1\" class=\"dataframe\">\n  <thead>\n    <tr style=\"text-align: right;\">\n      <th></th>\n      <th>city</th>\n      <th>city_ascii</th>\n      <th>state_id</th>\n      <th>state</th>\n      <th>county_fips</th>\n      <th>county</th>\n      <th>lat</th>\n      <th>lng</th>\n      <th>population</th>\n      <th>density</th>\n      <th>source</th>\n      <th>military</th>\n      <th>incorporated</th>\n      <th>timezone</th>\n      <th>ranking</th>\n      <th>zips</th>\n      <th>id</th>\n    </tr>\n  </thead>\n  <tbody>\n    <tr>\n      <th>0</th>\n      <td>New York</td>\n      <td>New York</td>\n      <td>NY</td>\n      <td>New York</td>\n      <td>36081</td>\n      <td>Queens</td>\n      <td>40.6943</td>\n      <td>-73.9249</td>\n      <td>18680025</td>\n      <td>10768.0</td>\n      <td>shape</td>\n      <td>False</td>\n      <td>True</td>\n      <td>America/New_York</td>\n      <td>1</td>\n      <td>11229 11228 11226 11225 11224 11222 11221 1122...</td>\n      <td>1840034016</td>\n    </tr>\n    <tr>\n      <th>1</th>\n      <td>Los Angeles</td>\n      <td>Los Angeles</td>\n      <td>CA</td>\n      <td>California</td>\n      <td>6037</td>\n      <td>Los Angeles</td>\n      <td>34.1141</td>\n      <td>-118.4068</td>\n      <td>12531334</td>\n      <td>3267.0</td>\n      <td>shape</td>\n      <td>False</td>\n      <td>True</td>\n      <td>America/Los_Angeles</td>\n      <td>1</td>\n      <td>91367 90291 90293 90292 91316 91311 90035 9003...</td>\n      <td>1840020491</td>\n    </tr>\n    <tr>\n      <th>2</th>\n      <td>Chicago</td>\n      <td>Chicago</td>\n      <td>IL</td>\n      <td>Illinois</td>\n      <td>17031</td>\n      <td>Cook</td>\n      <td>41.8375</td>\n      <td>-87.6866</td>\n      <td>8586888</td>\n      <td>4576.0</td>\n      <td>shape</td>\n      <td>False</td>\n      <td>True</td>\n      <td>America/Chicago</td>\n      <td>1</td>\n      <td>60018 60649 60641 60640 60643 60642 60645 6064...</td>\n      <td>1840000494</td>\n    </tr>\n    <tr>\n      <th>3</th>\n      <td>Miami</td>\n      <td>Miami</td>\n      <td>FL</td>\n      <td>Florida</td>\n      <td>12086</td>\n      <td>Miami-Dade</td>\n      <td>25.7840</td>\n      <td>-80.2101</td>\n      <td>6076316</td>\n      <td>4945.0</td>\n      <td>shape</td>\n      <td>False</td>\n      <td>True</td>\n      <td>America/New_York</td>\n      <td>1</td>\n      <td>33128 33129 33125 33126 33127 33149 33144 3314...</td>\n      <td>1840015149</td>\n    </tr>\n    <tr>\n      <th>4</th>\n      <td>Dallas</td>\n      <td>Dallas</td>\n      <td>TX</td>\n      <td>Texas</td>\n      <td>48113</td>\n      <td>Dallas</td>\n      <td>32.7935</td>\n      <td>-96.7667</td>\n      <td>5910669</td>\n      <td>1522.0</td>\n      <td>shape</td>\n      <td>False</td>\n      <td>True</td>\n      <td>America/Chicago</td>\n      <td>1</td>\n      <td>75098 75287 75230 75231 75236 75237 75235 7525...</td>\n      <td>1840019440</td>\n    </tr>\n  </tbody>\n</table>\n</div>"
     },
     "execution_count": 21,
     "metadata": {},
     "output_type": "execute_result"
    }
   ],
   "source": [
    "df_geo.drop(['city', 'city_ascii', 'state_id', 'county_fips', 'source', 'military', 'incorporated', 'timezone', 'zips', 'id'], axis=1)\n",
    "df_geo.rename(columns={\"state_name\": \"state\", \"county_name\": \"county\"}, inplace = True)\n",
    "df_geo.head()"
   ]
  },
  {
   "cell_type": "code",
   "execution_count": 22,
   "id": "90213fd6",
   "metadata": {},
   "outputs": [
    {
     "name": "stdout",
     "output_type": "stream",
     "text": [
      "<class 'pandas.core.frame.DataFrame'>\n",
      "RangeIndex: 30416 entries, 0 to 30415\n",
      "Data columns (total 17 columns):\n",
      " #   Column        Non-Null Count  Dtype  \n",
      "---  ------        --------------  -----  \n",
      " 0   city          30416 non-null  object \n",
      " 1   city_ascii    30416 non-null  object \n",
      " 2   state_id      30416 non-null  object \n",
      " 3   state         30416 non-null  object \n",
      " 4   county_fips   30416 non-null  int64  \n",
      " 5   county        30416 non-null  object \n",
      " 6   lat           30416 non-null  float64\n",
      " 7   lng           30416 non-null  float64\n",
      " 8   population    30416 non-null  int64  \n",
      " 9   density       30416 non-null  float64\n",
      " 10  source        30416 non-null  object \n",
      " 11  military      30416 non-null  bool   \n",
      " 12  incorporated  30416 non-null  bool   \n",
      " 13  timezone      30416 non-null  object \n",
      " 14  ranking       30416 non-null  int64  \n",
      " 15  zips          30414 non-null  object \n",
      " 16  id            30416 non-null  int64  \n",
      "dtypes: bool(2), float64(3), int64(4), object(8)\n",
      "memory usage: 3.5+ MB\n"
     ]
    }
   ],
   "source": [
    "df_geo.info()"
   ]
  },
  {
   "cell_type": "code",
   "execution_count": 23,
   "id": "2e77904f",
   "metadata": {},
   "outputs": [
    {
     "ename": "KeyError",
     "evalue": "'county'",
     "output_type": "error",
     "traceback": [
      "\u001B[0;31m---------------------------------------------------------------------------\u001B[0m",
      "\u001B[0;31mKeyError\u001B[0m                                  Traceback (most recent call last)",
      "Cell \u001B[0;32mIn[23], line 1\u001B[0m\n\u001B[0;32m----> 1\u001B[0m df20 \u001B[38;5;241m=\u001B[39m \u001B[43mpd\u001B[49m\u001B[38;5;241;43m.\u001B[39;49m\u001B[43mmerge\u001B[49m\u001B[43m(\u001B[49m\u001B[43mdf\u001B[49m\u001B[43m,\u001B[49m\u001B[43m \u001B[49m\u001B[43mdf_geo\u001B[49m\u001B[43m,\u001B[49m\u001B[43m \u001B[49m\u001B[43mon\u001B[49m\u001B[38;5;241;43m=\u001B[39;49m\u001B[43m[\u001B[49m\u001B[38;5;124;43m'\u001B[39;49m\u001B[38;5;124;43mcounty\u001B[39;49m\u001B[38;5;124;43m'\u001B[39;49m\u001B[43m,\u001B[49m\u001B[43m \u001B[49m\u001B[38;5;124;43m'\u001B[39;49m\u001B[38;5;124;43mstate\u001B[39;49m\u001B[38;5;124;43m'\u001B[39;49m\u001B[43m]\u001B[49m\u001B[43m,\u001B[49m\u001B[43m \u001B[49m\u001B[43mhow\u001B[49m\u001B[43m \u001B[49m\u001B[38;5;241;43m=\u001B[39;49m\u001B[43m \u001B[49m\u001B[38;5;124;43m'\u001B[39;49m\u001B[38;5;124;43mleft\u001B[39;49m\u001B[38;5;124;43m'\u001B[39;49m\u001B[43m)\u001B[49m\n\u001B[1;32m      2\u001B[0m df20\u001B[38;5;241m.\u001B[39mdrop_duplicates(\n\u001B[1;32m      3\u001B[0m   subset \u001B[38;5;241m=\u001B[39m [\u001B[38;5;124m'\u001B[39m\u001B[38;5;124mstate\u001B[39m\u001B[38;5;124m'\u001B[39m, \u001B[38;5;124m'\u001B[39m\u001B[38;5;124mcounty\u001B[39m\u001B[38;5;124m'\u001B[39m],\n\u001B[1;32m      4\u001B[0m   keep \u001B[38;5;241m=\u001B[39m \u001B[38;5;124m'\u001B[39m\u001B[38;5;124mfirst\u001B[39m\u001B[38;5;124m'\u001B[39m, inplace \u001B[38;5;241m=\u001B[39m \u001B[38;5;28;01mTrue\u001B[39;00m)\n\u001B[1;32m      6\u001B[0m df20\u001B[38;5;241m.\u001B[39mhead(\u001B[38;5;241m20\u001B[39m)\n",
      "File \u001B[0;32m/Library/Frameworks/Python.framework/Versions/3.10/lib/python3.10/site-packages/pandas/core/reshape/merge.py:110\u001B[0m, in \u001B[0;36mmerge\u001B[0;34m(left, right, how, on, left_on, right_on, left_index, right_index, sort, suffixes, copy, indicator, validate)\u001B[0m\n\u001B[1;32m     93\u001B[0m \u001B[38;5;129m@Substitution\u001B[39m(\u001B[38;5;124m\"\u001B[39m\u001B[38;5;130;01m\\n\u001B[39;00m\u001B[38;5;124mleft : DataFrame or named Series\u001B[39m\u001B[38;5;124m\"\u001B[39m)\n\u001B[1;32m     94\u001B[0m \u001B[38;5;129m@Appender\u001B[39m(_merge_doc, indents\u001B[38;5;241m=\u001B[39m\u001B[38;5;241m0\u001B[39m)\n\u001B[1;32m     95\u001B[0m \u001B[38;5;28;01mdef\u001B[39;00m \u001B[38;5;21mmerge\u001B[39m(\n\u001B[0;32m   (...)\u001B[0m\n\u001B[1;32m    108\u001B[0m     validate: \u001B[38;5;28mstr\u001B[39m \u001B[38;5;241m|\u001B[39m \u001B[38;5;28;01mNone\u001B[39;00m \u001B[38;5;241m=\u001B[39m \u001B[38;5;28;01mNone\u001B[39;00m,\n\u001B[1;32m    109\u001B[0m ) \u001B[38;5;241m-\u001B[39m\u001B[38;5;241m>\u001B[39m DataFrame:\n\u001B[0;32m--> 110\u001B[0m     op \u001B[38;5;241m=\u001B[39m \u001B[43m_MergeOperation\u001B[49m\u001B[43m(\u001B[49m\n\u001B[1;32m    111\u001B[0m \u001B[43m        \u001B[49m\u001B[43mleft\u001B[49m\u001B[43m,\u001B[49m\n\u001B[1;32m    112\u001B[0m \u001B[43m        \u001B[49m\u001B[43mright\u001B[49m\u001B[43m,\u001B[49m\n\u001B[1;32m    113\u001B[0m \u001B[43m        \u001B[49m\u001B[43mhow\u001B[49m\u001B[38;5;241;43m=\u001B[39;49m\u001B[43mhow\u001B[49m\u001B[43m,\u001B[49m\n\u001B[1;32m    114\u001B[0m \u001B[43m        \u001B[49m\u001B[43mon\u001B[49m\u001B[38;5;241;43m=\u001B[39;49m\u001B[43mon\u001B[49m\u001B[43m,\u001B[49m\n\u001B[1;32m    115\u001B[0m \u001B[43m        \u001B[49m\u001B[43mleft_on\u001B[49m\u001B[38;5;241;43m=\u001B[39;49m\u001B[43mleft_on\u001B[49m\u001B[43m,\u001B[49m\n\u001B[1;32m    116\u001B[0m \u001B[43m        \u001B[49m\u001B[43mright_on\u001B[49m\u001B[38;5;241;43m=\u001B[39;49m\u001B[43mright_on\u001B[49m\u001B[43m,\u001B[49m\n\u001B[1;32m    117\u001B[0m \u001B[43m        \u001B[49m\u001B[43mleft_index\u001B[49m\u001B[38;5;241;43m=\u001B[39;49m\u001B[43mleft_index\u001B[49m\u001B[43m,\u001B[49m\n\u001B[1;32m    118\u001B[0m \u001B[43m        \u001B[49m\u001B[43mright_index\u001B[49m\u001B[38;5;241;43m=\u001B[39;49m\u001B[43mright_index\u001B[49m\u001B[43m,\u001B[49m\n\u001B[1;32m    119\u001B[0m \u001B[43m        \u001B[49m\u001B[43msort\u001B[49m\u001B[38;5;241;43m=\u001B[39;49m\u001B[43msort\u001B[49m\u001B[43m,\u001B[49m\n\u001B[1;32m    120\u001B[0m \u001B[43m        \u001B[49m\u001B[43msuffixes\u001B[49m\u001B[38;5;241;43m=\u001B[39;49m\u001B[43msuffixes\u001B[49m\u001B[43m,\u001B[49m\n\u001B[1;32m    121\u001B[0m \u001B[43m        \u001B[49m\u001B[43mindicator\u001B[49m\u001B[38;5;241;43m=\u001B[39;49m\u001B[43mindicator\u001B[49m\u001B[43m,\u001B[49m\n\u001B[1;32m    122\u001B[0m \u001B[43m        \u001B[49m\u001B[43mvalidate\u001B[49m\u001B[38;5;241;43m=\u001B[39;49m\u001B[43mvalidate\u001B[49m\u001B[43m,\u001B[49m\n\u001B[1;32m    123\u001B[0m \u001B[43m    \u001B[49m\u001B[43m)\u001B[49m\n\u001B[1;32m    124\u001B[0m     \u001B[38;5;28;01mreturn\u001B[39;00m op\u001B[38;5;241m.\u001B[39mget_result(copy\u001B[38;5;241m=\u001B[39mcopy)\n",
      "File \u001B[0;32m/Library/Frameworks/Python.framework/Versions/3.10/lib/python3.10/site-packages/pandas/core/reshape/merge.py:703\u001B[0m, in \u001B[0;36m_MergeOperation.__init__\u001B[0;34m(self, left, right, how, on, left_on, right_on, axis, left_index, right_index, sort, suffixes, indicator, validate)\u001B[0m\n\u001B[1;32m    696\u001B[0m \u001B[38;5;28mself\u001B[39m\u001B[38;5;241m.\u001B[39m_cross \u001B[38;5;241m=\u001B[39m cross_col\n\u001B[1;32m    698\u001B[0m \u001B[38;5;66;03m# note this function has side effects\u001B[39;00m\n\u001B[1;32m    699\u001B[0m (\n\u001B[1;32m    700\u001B[0m     \u001B[38;5;28mself\u001B[39m\u001B[38;5;241m.\u001B[39mleft_join_keys,\n\u001B[1;32m    701\u001B[0m     \u001B[38;5;28mself\u001B[39m\u001B[38;5;241m.\u001B[39mright_join_keys,\n\u001B[1;32m    702\u001B[0m     \u001B[38;5;28mself\u001B[39m\u001B[38;5;241m.\u001B[39mjoin_names,\n\u001B[0;32m--> 703\u001B[0m ) \u001B[38;5;241m=\u001B[39m \u001B[38;5;28;43mself\u001B[39;49m\u001B[38;5;241;43m.\u001B[39;49m\u001B[43m_get_merge_keys\u001B[49m\u001B[43m(\u001B[49m\u001B[43m)\u001B[49m\n\u001B[1;32m    705\u001B[0m \u001B[38;5;66;03m# validate the merge keys dtypes. We may need to coerce\u001B[39;00m\n\u001B[1;32m    706\u001B[0m \u001B[38;5;66;03m# to avoid incompatible dtypes\u001B[39;00m\n\u001B[1;32m    707\u001B[0m \u001B[38;5;28mself\u001B[39m\u001B[38;5;241m.\u001B[39m_maybe_coerce_merge_keys()\n",
      "File \u001B[0;32m/Library/Frameworks/Python.framework/Versions/3.10/lib/python3.10/site-packages/pandas/core/reshape/merge.py:1179\u001B[0m, in \u001B[0;36m_MergeOperation._get_merge_keys\u001B[0;34m(self)\u001B[0m\n\u001B[1;32m   1175\u001B[0m \u001B[38;5;28;01mif\u001B[39;00m lk \u001B[38;5;129;01mis\u001B[39;00m \u001B[38;5;129;01mnot\u001B[39;00m \u001B[38;5;28;01mNone\u001B[39;00m:\n\u001B[1;32m   1176\u001B[0m     \u001B[38;5;66;03m# Then we're either Hashable or a wrong-length arraylike,\u001B[39;00m\n\u001B[1;32m   1177\u001B[0m     \u001B[38;5;66;03m#  the latter of which will raise\u001B[39;00m\n\u001B[1;32m   1178\u001B[0m     lk \u001B[38;5;241m=\u001B[39m cast(Hashable, lk)\n\u001B[0;32m-> 1179\u001B[0m     left_keys\u001B[38;5;241m.\u001B[39mappend(\u001B[43mleft\u001B[49m\u001B[38;5;241;43m.\u001B[39;49m\u001B[43m_get_label_or_level_values\u001B[49m\u001B[43m(\u001B[49m\u001B[43mlk\u001B[49m\u001B[43m)\u001B[49m)\n\u001B[1;32m   1180\u001B[0m     join_names\u001B[38;5;241m.\u001B[39mappend(lk)\n\u001B[1;32m   1181\u001B[0m \u001B[38;5;28;01melse\u001B[39;00m:\n\u001B[1;32m   1182\u001B[0m     \u001B[38;5;66;03m# work-around for merge_asof(left_index=True)\u001B[39;00m\n",
      "File \u001B[0;32m/Library/Frameworks/Python.framework/Versions/3.10/lib/python3.10/site-packages/pandas/core/generic.py:1850\u001B[0m, in \u001B[0;36mNDFrame._get_label_or_level_values\u001B[0;34m(self, key, axis)\u001B[0m\n\u001B[1;32m   1844\u001B[0m     values \u001B[38;5;241m=\u001B[39m (\n\u001B[1;32m   1845\u001B[0m         \u001B[38;5;28mself\u001B[39m\u001B[38;5;241m.\u001B[39maxes[axis]\n\u001B[1;32m   1846\u001B[0m         \u001B[38;5;241m.\u001B[39mget_level_values(key)  \u001B[38;5;66;03m# type: ignore[assignment]\u001B[39;00m\n\u001B[1;32m   1847\u001B[0m         \u001B[38;5;241m.\u001B[39m_values\n\u001B[1;32m   1848\u001B[0m     )\n\u001B[1;32m   1849\u001B[0m \u001B[38;5;28;01melse\u001B[39;00m:\n\u001B[0;32m-> 1850\u001B[0m     \u001B[38;5;28;01mraise\u001B[39;00m \u001B[38;5;167;01mKeyError\u001B[39;00m(key)\n\u001B[1;32m   1852\u001B[0m \u001B[38;5;66;03m# Check for duplicates\u001B[39;00m\n\u001B[1;32m   1853\u001B[0m \u001B[38;5;28;01mif\u001B[39;00m values\u001B[38;5;241m.\u001B[39mndim \u001B[38;5;241m>\u001B[39m \u001B[38;5;241m1\u001B[39m:\n",
      "\u001B[0;31mKeyError\u001B[0m: 'county'"
     ]
    }
   ],
   "source": [
    "df20 = pd.merge(df, df_geo, on=['county', 'state'], how = 'left')\n",
    "df20.drop_duplicates(\n",
    "  subset = ['state', 'county'],\n",
    "  keep = 'first', inplace = True)\n",
    "\n",
    "df20.head(20)"
   ]
  },
  {
   "cell_type": "code",
   "execution_count": null,
   "id": "6a409f95",
   "metadata": {},
   "outputs": [],
   "source": [
    "#df_mainland = df1[~df1[\"state\"].isin([\"Alaska\", \"Hawaii\"])]\n",
    "\n",
    "#plt.figure(figsize = (14,10))\n",
    "#sns.scatterplot(data = df_mainland, x = \"long\", y = \"lat\", hue = \"percentage20_Joe_Biden\", size = \"total_votes20\",\n",
    "#                sizes = (20, 200), size_norm = (10000, 800000), hue_norm = (0.031,0.944), palette = \"coolwarm_r\")\n",
    "#plt.title(\"The 2020 Election (Red = More Republican; Blue = More Democratic)\");\n"
   ]
  }
 ],
 "metadata": {
  "kernelspec": {
   "display_name": "Python 3 (ipykernel)",
   "language": "python",
   "name": "python3"
  },
  "language_info": {
   "codemirror_mode": {
    "name": "ipython",
    "version": 3
   },
   "file_extension": ".py",
   "mimetype": "text/x-python",
   "name": "python",
   "nbconvert_exporter": "python",
   "pygments_lexer": "ipython3",
   "version": "3.10.8"
  }
 },
 "nbformat": 4,
 "nbformat_minor": 5
}
