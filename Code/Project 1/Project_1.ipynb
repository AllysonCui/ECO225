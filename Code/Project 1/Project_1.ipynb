{
 "cells": [
  {
   "cell_type": "markdown",
   "source": [
    "# In What Electoral System Would Donald Trump Have Won The 2020 US Election?"
   ],
   "metadata": {
    "collapsed": false
   }
  },
  {
   "cell_type": "markdown",
   "source": [
    "## Introduction\n",
    "\n",
    "The Electoral College system has been a concrete part of the US presidential election since the founding of the country. In this system, the citizens of each state cast their votes for their choice of electors, who will cast their votes for the presidential candidates. The number of electors of each state is the sum of the number of Senates and the number of Representatives. The Electoral College consists of 538 electors in total, and each elector's vote is counted as 1 vote in the general election. In the end, the candidate who wins over the majority - which means 270 votes - wins the election. The system was created out of good intention to balance the power of small states and large states, however, criticism is getting louder after several instances in which the winner of the popular vote did not win the election due to the outcome of the Electoral College vote. This has led to questions about whether the system accurately represents the will of the US citizens and if there might be a better way to elect the President.\n",
    "\n",
    "As the fact is that Joe Biden won in the 2020 election, the goal of the paper is to find out whether there exists any electoral system which would have allowed Donald Trump to win in the 2020 election based the original votes.\n",
    "\n",
    "The proposed electoral systems in this paper ALL have a common presumption, that the voting unit (county or state) which will be responsible to cast ALL of its votes to one candidate. This concept, known as the \"winner-take-all\" principle, is similar to the existing voting system in 48 of the 50 states and Washington, D.C. in the US.\n",
    "\n",
    "As data analysis shows that Republican voters are disproportionally located in rural areas and small cities, the 4 electoral systems proposed in the paper all put higher focus on the number of voting unit (county or state), instead of the population of voting unit (county or state). Therefore, 3 of 4 electoral systems makes Donald to win in the 2020 election."
   ],
   "metadata": {
    "collapsed": false
   }
  },
  {
   "cell_type": "markdown",
   "source": [
    "### Variables\n",
    "- Input $X_1$: Raw votes of DEM in counties\n",
    "- Input $X_2$: Raw votes of REP in counties\n",
    "- Input $X_3$: Raw total votes in counties\n",
    "-- $X_1$, $X_2$ and $X_3$ are all vectors, each component $X_{1,i}$, $X_{2,i}$, $X_{3,i}$, where i $\\in$ [1,n], represents the raw votes of DEM, the raw votes of REP and the raw total votes in a specific county, n is the count of counties.\n",
    "- Output $Y_1$: Fabricated Votes of DEM in US\n",
    "- Output $Y_2$: Fabricated Votes of REP in US\n",
    "\n",
    "* **Electoral System I**\n",
    "Each county has same number of votes as its voters, it casts all of its votes on the party (candidate) that won the majority of votes.\n",
    "According to the Electoral System I,\n",
    "\n",
    "$$ Y_1 = \\sum \\limits _{i=1} ^{|Counties|} (if X_{1,i} > $X_1$), X_{3,i}, 0) $$\n",
    "\n",
    "$$ Y_2 = \\sum \\limits _{i=1} ^{|Counties|} (if X_{1,i} < X_{2,i}), X_{3,i}, 0) $$\n",
    "\n",
    "* **Electoral System II**\n",
    "Each county has one vote, it casts its vote on the party (candidate) that won the majority of votes.**\n",
    "According to the Electoral System II,\n",
    "\n",
    "$$ Y_1 = \\sum \\limits _{i=1} ^{|Counties|} (if X_{1,i} > X_{2,i}), 1, 0) $$\n",
    "\n",
    "$$ Y_2 = \\sum \\limits _{i=1} ^{|Counties|} (if X_{1,i} < X_{2,i}), 1, 0) $$\n",
    "\n",
    "* **Electoral System III**\n",
    "Each state has same number of votes as its voters, it casts all of its votes on the party (candidate) that won the majority of counties.\n",
    "According to the Electoral System III,\n",
    "\n",
    "$$ Y_{1} = \\sum \\limits _{i=1} ^{|States|} (if (DEMC_{i} > REPC_{i}), TVofState_{i}, 0) $$\n",
    "\n",
    "$$ Y_{2} = \\sum \\limits _{i=1} ^{|States|} (if (DEMC_{i} < REPC_{i}), TVofState_{i}, 0) $$\n",
    "\n",
    "$$ DEMC_{i} = \\sum \\limits _{j=1} ^{|Counties-in-a-state_i|} (if (X_{1,j} > X_{2,j}), 1, 0) $$\n",
    "\n",
    "$$ REPC_{i} = \\sum \\limits _{j=1} ^{|Counties-in-a-state_i|} ((if (X_{1,j} < X_{2,j}), 1, 0) $$\n",
    "\n",
    "$$ TVofState_{i} = \\sum \\limits _{j=1} ^{|Counties-in-a-state_i|} X3_{j} $$\n",
    "\n",
    "* **Electoral System IV**\n",
    "Each state has one vote, it casts its vote on the party (candidate) that won the majority of counties\n",
    "According to the Electoral System IV,\n",
    "\n",
    "$$ Y_{1} = \\sum \\limits _{i=1} ^{|States|} (if (DEMC_{i} > REPC_{i}), 1, 0) $$\n",
    "\n",
    "$$ Y_{2} = \\sum \\limits _{i=1} ^{|States|} (if (DEMC_{i} < REPC_{i}), 1, 0) $$\n",
    "\n",
    "$$ DEMC_{i} = \\sum \\limits _{j=1} ^{|Counties-in-a-state_i|} (if (X_{1,j} > X_{2,j}), 1, 0) $$\n",
    "\n",
    "$$ REPC_{i} = \\sum \\limits _{j=1} ^{|Counties-in-a-state_i|} (if (X_{1,j} < X_{2,j}), 1, 0) $$"
   ],
   "metadata": {
    "collapsed": false
   }
  },
  {
   "cell_type": "markdown",
   "source": [
    "## Data Cleaning/Loading\n",
    "\n",
    "### Datasets used in this article\n",
    "1. Kaggle: US Election 2020\n",
    "    The information includes, states, counties, candidates, parties, and their respective votes.\n",
    "2. SimpleMaps: US cities except for District of Columbia\n",
    "    The information includes counties' latitude, and longitude.\n",
    "3. Census Reporter: District of Columbia\n",
    "    The information includes 8 Wards of District of Columbia for their latitude, and longitude.\n",
    "    Note: This information was searched manually, and is manually entered onto the second dataset.\n",
    "\n",
    "### Data Loading"
   ],
   "metadata": {
    "collapsed": false
   }
  },
  {
   "cell_type": "code",
   "execution_count": 518,
   "outputs": [],
   "source": [
    "import pandas as pd\n",
    "import numpy as np; np.random.seed(42)\n",
    "import matplotlib.pyplot as plt\n",
    "import seaborn as sns"
   ],
   "metadata": {
    "collapsed": false
   }
  },
  {
   "cell_type": "markdown",
   "source": [
    "*Note a wrong data in president_county_candidate.csv: Maine, Glenwood Plt., Donald Trump, corrected based on\n",
    "https://www.nytimes.com/interactive/2020/11/03/us/elections/results-maine.html"
   ],
   "metadata": {
    "collapsed": false
   }
  },
  {
   "cell_type": "code",
   "execution_count": 519,
   "outputs": [
    {
     "data": {
      "text/plain": "      state             county      candidate party  total_votes    won\n0  Delaware        Kent County      Joe Biden   DEM        44552   True\n1  Delaware        Kent County   Donald Trump   REP        41009  False\n2  Delaware        Kent County   Jo Jorgensen   LIB         1044  False\n3  Delaware        Kent County  Howie Hawkins   GRN          420  False\n4  Delaware  New Castle County      Joe Biden   DEM       195034   True",
      "text/html": "<div>\n<style scoped>\n    .dataframe tbody tr th:only-of-type {\n        vertical-align: middle;\n    }\n\n    .dataframe tbody tr th {\n        vertical-align: top;\n    }\n\n    .dataframe thead th {\n        text-align: right;\n    }\n</style>\n<table border=\"1\" class=\"dataframe\">\n  <thead>\n    <tr style=\"text-align: right;\">\n      <th></th>\n      <th>state</th>\n      <th>county</th>\n      <th>candidate</th>\n      <th>party</th>\n      <th>total_votes</th>\n      <th>won</th>\n    </tr>\n  </thead>\n  <tbody>\n    <tr>\n      <th>0</th>\n      <td>Delaware</td>\n      <td>Kent County</td>\n      <td>Joe Biden</td>\n      <td>DEM</td>\n      <td>44552</td>\n      <td>True</td>\n    </tr>\n    <tr>\n      <th>1</th>\n      <td>Delaware</td>\n      <td>Kent County</td>\n      <td>Donald Trump</td>\n      <td>REP</td>\n      <td>41009</td>\n      <td>False</td>\n    </tr>\n    <tr>\n      <th>2</th>\n      <td>Delaware</td>\n      <td>Kent County</td>\n      <td>Jo Jorgensen</td>\n      <td>LIB</td>\n      <td>1044</td>\n      <td>False</td>\n    </tr>\n    <tr>\n      <th>3</th>\n      <td>Delaware</td>\n      <td>Kent County</td>\n      <td>Howie Hawkins</td>\n      <td>GRN</td>\n      <td>420</td>\n      <td>False</td>\n    </tr>\n    <tr>\n      <th>4</th>\n      <td>Delaware</td>\n      <td>New Castle County</td>\n      <td>Joe Biden</td>\n      <td>DEM</td>\n      <td>195034</td>\n      <td>True</td>\n    </tr>\n  </tbody>\n</table>\n</div>"
     },
     "execution_count": 519,
     "metadata": {},
     "output_type": "execute_result"
    }
   ],
   "source": [
    "df = pd.read_csv('/Users/jiaxincui/Documents/GitHub/git-exercise-AllysonCui/Data/Kaggle/president_county_candidate.csv')\n",
    "df.head()"
   ],
   "metadata": {
    "collapsed": false
   }
  },
  {
   "cell_type": "code",
   "execution_count": 520,
   "outputs": [
    {
     "data": {
      "text/plain": "                  state             county  current_votes  total_votes  \\\n0              Delaware        Kent County          87025        87025   \n1              Delaware  New Castle County         287633       287633   \n2              Delaware      Sussex County         129352       129352   \n3  District of Columbia             Ward 1          41681        41681   \n4  District of Columbia             Ward 2          32881        32881   \n\n   percent  \n0      100  \n1      100  \n2      100  \n3      100  \n4      100  ",
      "text/html": "<div>\n<style scoped>\n    .dataframe tbody tr th:only-of-type {\n        vertical-align: middle;\n    }\n\n    .dataframe tbody tr th {\n        vertical-align: top;\n    }\n\n    .dataframe thead th {\n        text-align: right;\n    }\n</style>\n<table border=\"1\" class=\"dataframe\">\n  <thead>\n    <tr style=\"text-align: right;\">\n      <th></th>\n      <th>state</th>\n      <th>county</th>\n      <th>current_votes</th>\n      <th>total_votes</th>\n      <th>percent</th>\n    </tr>\n  </thead>\n  <tbody>\n    <tr>\n      <th>0</th>\n      <td>Delaware</td>\n      <td>Kent County</td>\n      <td>87025</td>\n      <td>87025</td>\n      <td>100</td>\n    </tr>\n    <tr>\n      <th>1</th>\n      <td>Delaware</td>\n      <td>New Castle County</td>\n      <td>287633</td>\n      <td>287633</td>\n      <td>100</td>\n    </tr>\n    <tr>\n      <th>2</th>\n      <td>Delaware</td>\n      <td>Sussex County</td>\n      <td>129352</td>\n      <td>129352</td>\n      <td>100</td>\n    </tr>\n    <tr>\n      <th>3</th>\n      <td>District of Columbia</td>\n      <td>Ward 1</td>\n      <td>41681</td>\n      <td>41681</td>\n      <td>100</td>\n    </tr>\n    <tr>\n      <th>4</th>\n      <td>District of Columbia</td>\n      <td>Ward 2</td>\n      <td>32881</td>\n      <td>32881</td>\n      <td>100</td>\n    </tr>\n  </tbody>\n</table>\n</div>"
     },
     "execution_count": 520,
     "metadata": {},
     "output_type": "execute_result"
    }
   ],
   "source": [
    "df_pc = pd.read_csv('/Users/jiaxincui/Documents/GitHub/git-exercise-AllysonCui/Data/Kaggle/president_county.csv')\n",
    "df_pc.head()"
   ],
   "metadata": {
    "collapsed": false
   }
  },
  {
   "cell_type": "code",
   "execution_count": 521,
   "outputs": [
    {
     "data": {
      "text/plain": "          city   city_ascii state_id  state_name  county_fips  county_name  \\\n0     New York     New York       NY    New York        36081       Queens   \n1  Los Angeles  Los Angeles       CA  California         6037  Los Angeles   \n2      Chicago      Chicago       IL    Illinois        17031         Cook   \n3        Miami        Miami       FL     Florida        12086   Miami-Dade   \n4       Dallas       Dallas       TX       Texas        48113       Dallas   \n\n       lat       lng  population  density source  military  incorporated  \\\n0  40.6943  -73.9249    18680025  10768.0  shape     False          True   \n1  34.1141 -118.4068    12531334   3267.0  shape     False          True   \n2  41.8375  -87.6866     8586888   4576.0  shape     False          True   \n3  25.7840  -80.2101     6076316   4945.0  shape     False          True   \n4  32.7935  -96.7667     5910669   1522.0  shape     False          True   \n\n              timezone  ranking  \\\n0     America/New_York        1   \n1  America/Los_Angeles        1   \n2      America/Chicago        1   \n3     America/New_York        1   \n4      America/Chicago        1   \n\n                                                zips          id  \n0  11229 11228 11226 11225 11224 11222 11221 1122...  1840034016  \n1  91367 90291 90293 90292 91316 91311 90035 9003...  1840020491  \n2  60018 60649 60641 60640 60643 60642 60645 6064...  1840000494  \n3  33128 33129 33125 33126 33127 33149 33144 3314...  1840015149  \n4  75098 75287 75230 75231 75236 75237 75235 7525...  1840019440  ",
      "text/html": "<div>\n<style scoped>\n    .dataframe tbody tr th:only-of-type {\n        vertical-align: middle;\n    }\n\n    .dataframe tbody tr th {\n        vertical-align: top;\n    }\n\n    .dataframe thead th {\n        text-align: right;\n    }\n</style>\n<table border=\"1\" class=\"dataframe\">\n  <thead>\n    <tr style=\"text-align: right;\">\n      <th></th>\n      <th>city</th>\n      <th>city_ascii</th>\n      <th>state_id</th>\n      <th>state_name</th>\n      <th>county_fips</th>\n      <th>county_name</th>\n      <th>lat</th>\n      <th>lng</th>\n      <th>population</th>\n      <th>density</th>\n      <th>source</th>\n      <th>military</th>\n      <th>incorporated</th>\n      <th>timezone</th>\n      <th>ranking</th>\n      <th>zips</th>\n      <th>id</th>\n    </tr>\n  </thead>\n  <tbody>\n    <tr>\n      <th>0</th>\n      <td>New York</td>\n      <td>New York</td>\n      <td>NY</td>\n      <td>New York</td>\n      <td>36081</td>\n      <td>Queens</td>\n      <td>40.6943</td>\n      <td>-73.9249</td>\n      <td>18680025</td>\n      <td>10768.0</td>\n      <td>shape</td>\n      <td>False</td>\n      <td>True</td>\n      <td>America/New_York</td>\n      <td>1</td>\n      <td>11229 11228 11226 11225 11224 11222 11221 1122...</td>\n      <td>1840034016</td>\n    </tr>\n    <tr>\n      <th>1</th>\n      <td>Los Angeles</td>\n      <td>Los Angeles</td>\n      <td>CA</td>\n      <td>California</td>\n      <td>6037</td>\n      <td>Los Angeles</td>\n      <td>34.1141</td>\n      <td>-118.4068</td>\n      <td>12531334</td>\n      <td>3267.0</td>\n      <td>shape</td>\n      <td>False</td>\n      <td>True</td>\n      <td>America/Los_Angeles</td>\n      <td>1</td>\n      <td>91367 90291 90293 90292 91316 91311 90035 9003...</td>\n      <td>1840020491</td>\n    </tr>\n    <tr>\n      <th>2</th>\n      <td>Chicago</td>\n      <td>Chicago</td>\n      <td>IL</td>\n      <td>Illinois</td>\n      <td>17031</td>\n      <td>Cook</td>\n      <td>41.8375</td>\n      <td>-87.6866</td>\n      <td>8586888</td>\n      <td>4576.0</td>\n      <td>shape</td>\n      <td>False</td>\n      <td>True</td>\n      <td>America/Chicago</td>\n      <td>1</td>\n      <td>60018 60649 60641 60640 60643 60642 60645 6064...</td>\n      <td>1840000494</td>\n    </tr>\n    <tr>\n      <th>3</th>\n      <td>Miami</td>\n      <td>Miami</td>\n      <td>FL</td>\n      <td>Florida</td>\n      <td>12086</td>\n      <td>Miami-Dade</td>\n      <td>25.7840</td>\n      <td>-80.2101</td>\n      <td>6076316</td>\n      <td>4945.0</td>\n      <td>shape</td>\n      <td>False</td>\n      <td>True</td>\n      <td>America/New_York</td>\n      <td>1</td>\n      <td>33128 33129 33125 33126 33127 33149 33144 3314...</td>\n      <td>1840015149</td>\n    </tr>\n    <tr>\n      <th>4</th>\n      <td>Dallas</td>\n      <td>Dallas</td>\n      <td>TX</td>\n      <td>Texas</td>\n      <td>48113</td>\n      <td>Dallas</td>\n      <td>32.7935</td>\n      <td>-96.7667</td>\n      <td>5910669</td>\n      <td>1522.0</td>\n      <td>shape</td>\n      <td>False</td>\n      <td>True</td>\n      <td>America/Chicago</td>\n      <td>1</td>\n      <td>75098 75287 75230 75231 75236 75237 75235 7525...</td>\n      <td>1840019440</td>\n    </tr>\n  </tbody>\n</table>\n</div>"
     },
     "execution_count": 521,
     "metadata": {},
     "output_type": "execute_result"
    }
   ],
   "source": [
    "df_geo = pd.read_csv('/Users/jiaxincui/Documents/GitHub/git-exercise-AllysonCui/Data/Other/uscities.csv')\n",
    "df_geo.head()"
   ],
   "metadata": {
    "collapsed": false
   }
  },
  {
   "cell_type": "code",
   "execution_count": 522,
   "outputs": [],
   "source": [
    "pd.set_option('display.max_columns', None)"
   ],
   "metadata": {
    "collapsed": false
   }
  },
  {
   "cell_type": "markdown",
   "source": [
    "### Data Cleaning"
   ],
   "metadata": {
    "collapsed": false
   }
  },
  {
   "cell_type": "markdown",
   "source": [
    "1. Remove the rows of US Election 2020 where the candidate did not win."
   ],
   "metadata": {
    "collapsed": false
   }
  },
  {
   "cell_type": "code",
   "execution_count": 523,
   "outputs": [],
   "source": [
    "df['county'] = df['county'].str.replace(' County', '')\n",
    "df_pc['county'] = df_pc['county'].str.replace(' County', '')"
   ],
   "metadata": {
    "collapsed": false
   }
  },
  {
   "cell_type": "markdown",
   "source": [
    "2. Match the geographical coordinates with votes.\n",
    "\n"
   ],
   "metadata": {
    "collapsed": false
   }
  },
  {
   "cell_type": "code",
   "execution_count": 524,
   "outputs": [
    {
     "data": {
      "text/plain": "                  state      county     candidate party  total_votes   won  \\\n0              Delaware        Kent     Joe Biden   DEM        87025  True   \n1              Delaware  New Castle     Joe Biden   DEM       287633  True   \n2              Delaware      Sussex  Donald Trump   REP       129352  True   \n3  District of Columbia      Ward 1     Joe Biden   DEM        41681  True   \n4  District of Columbia      Ward 2     Joe Biden   DEM        32881  True   \n\n       lat      lng  \n0  39.1610 -75.5202  \n1  39.7415 -75.5416  \n2  38.9091 -75.4227  \n3  38.9072 -77.0369  \n4  38.9063 -77.0340  ",
      "text/html": "<div>\n<style scoped>\n    .dataframe tbody tr th:only-of-type {\n        vertical-align: middle;\n    }\n\n    .dataframe tbody tr th {\n        vertical-align: top;\n    }\n\n    .dataframe thead th {\n        text-align: right;\n    }\n</style>\n<table border=\"1\" class=\"dataframe\">\n  <thead>\n    <tr style=\"text-align: right;\">\n      <th></th>\n      <th>state</th>\n      <th>county</th>\n      <th>candidate</th>\n      <th>party</th>\n      <th>total_votes</th>\n      <th>won</th>\n      <th>lat</th>\n      <th>lng</th>\n    </tr>\n  </thead>\n  <tbody>\n    <tr>\n      <th>0</th>\n      <td>Delaware</td>\n      <td>Kent</td>\n      <td>Joe Biden</td>\n      <td>DEM</td>\n      <td>87025</td>\n      <td>True</td>\n      <td>39.1610</td>\n      <td>-75.5202</td>\n    </tr>\n    <tr>\n      <th>1</th>\n      <td>Delaware</td>\n      <td>New Castle</td>\n      <td>Joe Biden</td>\n      <td>DEM</td>\n      <td>287633</td>\n      <td>True</td>\n      <td>39.7415</td>\n      <td>-75.5416</td>\n    </tr>\n    <tr>\n      <th>2</th>\n      <td>Delaware</td>\n      <td>Sussex</td>\n      <td>Donald Trump</td>\n      <td>REP</td>\n      <td>129352</td>\n      <td>True</td>\n      <td>38.9091</td>\n      <td>-75.4227</td>\n    </tr>\n    <tr>\n      <th>3</th>\n      <td>District of Columbia</td>\n      <td>Ward 1</td>\n      <td>Joe Biden</td>\n      <td>DEM</td>\n      <td>41681</td>\n      <td>True</td>\n      <td>38.9072</td>\n      <td>-77.0369</td>\n    </tr>\n    <tr>\n      <th>4</th>\n      <td>District of Columbia</td>\n      <td>Ward 2</td>\n      <td>Joe Biden</td>\n      <td>DEM</td>\n      <td>32881</td>\n      <td>True</td>\n      <td>38.9063</td>\n      <td>-77.0340</td>\n    </tr>\n  </tbody>\n</table>\n</div>"
     },
     "execution_count": 524,
     "metadata": {},
     "output_type": "execute_result"
    }
   ],
   "source": [
    "df_copy = df.copy()\n",
    "df_pc_copy = df_pc.copy()\n",
    "df_geo_copy = df_geo.copy()\n",
    "df_geo_copy.drop(['city', 'city_ascii', 'state_id', 'county_fips', 'source', 'military', 'incorporated', 'timezone', 'ranking', 'zips', 'id', 'population', 'density'], axis = 1, inplace = True)\n",
    "df_geo_copy.rename(columns={\"state_name\": \"state\", \"county_name\": \"county\"}, inplace = True)\n",
    "df_geo_copy.drop_duplicates(subset = ['state', 'county'], keep = 'first', inplace = True)\n",
    "df_county_statistics = pd.merge(df_copy, df_geo_copy, on=['county', 'state'], how = 'left')\n",
    "df_pc_copy.drop(['total_votes', 'percent'], axis = 1, inplace = True)\n",
    "df_county = df_county_statistics.copy()\n",
    "df_county.drop(df_copy[df_copy['won'] == False].index, inplace = True)\n",
    "df_county.reset_index(inplace=True)\n",
    "df_county['total_votes'] = df_pc_copy['current_votes']\n",
    "df_county.drop(['index'], axis = 1, inplace = True)\n",
    "df_county.head()"
   ],
   "metadata": {
    "collapsed": false
   }
  },
  {
   "cell_type": "markdown",
   "source": [
    "Calculating data for summary statistics table. ->"
   ],
   "metadata": {
    "collapsed": false
   }
  },
  {
   "cell_type": "code",
   "execution_count": 525,
   "outputs": [
    {
     "data": {
      "text/plain": "      state    county     candidate party   won  won_votes  \\\n0  Delaware    Sussex  Donald Trump   REP  True      71230   \n1   Florida     Baker  Donald Trump   REP  True      11911   \n2   Florida       Bay  Donald Trump   REP  True      66097   \n3   Florida  Bradford  Donald Trump   REP  True      10334   \n4   Florida   Brevard  Donald Trump   REP  True     207883   \n\n   county_total_votes  share of votes in the winning counties  \n0              129352                                0.550668  \n1               14059                                0.847215  \n2               93024                                0.710537  \n3               13632                                0.758069  \n4              360764                                0.576230  ",
      "text/html": "<div>\n<style scoped>\n    .dataframe tbody tr th:only-of-type {\n        vertical-align: middle;\n    }\n\n    .dataframe tbody tr th {\n        vertical-align: top;\n    }\n\n    .dataframe thead th {\n        text-align: right;\n    }\n</style>\n<table border=\"1\" class=\"dataframe\">\n  <thead>\n    <tr style=\"text-align: right;\">\n      <th></th>\n      <th>state</th>\n      <th>county</th>\n      <th>candidate</th>\n      <th>party</th>\n      <th>won</th>\n      <th>won_votes</th>\n      <th>county_total_votes</th>\n      <th>share of votes in the winning counties</th>\n    </tr>\n  </thead>\n  <tbody>\n    <tr>\n      <th>0</th>\n      <td>Delaware</td>\n      <td>Sussex</td>\n      <td>Donald Trump</td>\n      <td>REP</td>\n      <td>True</td>\n      <td>71230</td>\n      <td>129352</td>\n      <td>0.550668</td>\n    </tr>\n    <tr>\n      <th>1</th>\n      <td>Florida</td>\n      <td>Baker</td>\n      <td>Donald Trump</td>\n      <td>REP</td>\n      <td>True</td>\n      <td>11911</td>\n      <td>14059</td>\n      <td>0.847215</td>\n    </tr>\n    <tr>\n      <th>2</th>\n      <td>Florida</td>\n      <td>Bay</td>\n      <td>Donald Trump</td>\n      <td>REP</td>\n      <td>True</td>\n      <td>66097</td>\n      <td>93024</td>\n      <td>0.710537</td>\n    </tr>\n    <tr>\n      <th>3</th>\n      <td>Florida</td>\n      <td>Bradford</td>\n      <td>Donald Trump</td>\n      <td>REP</td>\n      <td>True</td>\n      <td>10334</td>\n      <td>13632</td>\n      <td>0.758069</td>\n    </tr>\n    <tr>\n      <th>4</th>\n      <td>Florida</td>\n      <td>Brevard</td>\n      <td>Donald Trump</td>\n      <td>REP</td>\n      <td>True</td>\n      <td>207883</td>\n      <td>360764</td>\n      <td>0.576230</td>\n    </tr>\n  </tbody>\n</table>\n</div>"
     },
     "execution_count": 525,
     "metadata": {},
     "output_type": "execute_result"
    }
   ],
   "source": [
    "df_county_won = df_county.copy()\n",
    "df_county_won.drop(df_county_won[df_county_won['candidate'] != 'Donald Trump'].index, inplace = True)\n",
    "df_county_won.drop(['lat', 'lng'], axis = 1, inplace = True)\n",
    "df_county_won.rename(columns={\"total_votes\": \"county_total_votes\"}, inplace = True)\n",
    "df_county_won = pd.merge(df_county_won, df_copy, on=['county', 'state', 'candidate', 'party', 'won'], how='left')\n",
    "df_county_won.rename(columns={\"total_votes\": \"won_votes\"}, inplace = True)\n",
    "df_county_won = df_county_won[['state', 'county', 'candidate', 'party', 'won', 'won_votes', 'county_total_votes']]\n",
    "df_county_won['share of votes in the winning counties'] = \\\n",
    "    df_county_won['won_votes'] / df_county_won['county_total_votes']\n",
    "#df_county_won['share of votes in the winning counties'] = \\\n",
    "#    df_county_won['share of votes in the winning counties'].apply(lambda x:round(x,2))\n",
    "df_county_won.head()"
   ],
   "metadata": {
    "collapsed": false
   }
  },
  {
   "cell_type": "code",
   "execution_count": 526,
   "outputs": [
    {
     "data": {
      "text/plain": "                  state      county     candidate party    won  won_votes  \\\n0              Delaware        Kent  Donald Trump   REP  False      41009   \n1              Delaware  New Castle  Donald Trump   REP  False      88364   \n2  District of Columbia      Ward 1  Donald Trump   REP  False       1725   \n3  District of Columbia      Ward 2  Donald Trump   REP  False       2918   \n4  District of Columbia      Ward 3  Donald Trump   REP  False       3705   \n\n   county_total_votes  share of votes in the losing counties  \n0               87025                               0.471232  \n1              287633                               0.307211  \n2               41681                               0.041386  \n3               32881                               0.088744  \n4               44231                               0.083765  ",
      "text/html": "<div>\n<style scoped>\n    .dataframe tbody tr th:only-of-type {\n        vertical-align: middle;\n    }\n\n    .dataframe tbody tr th {\n        vertical-align: top;\n    }\n\n    .dataframe thead th {\n        text-align: right;\n    }\n</style>\n<table border=\"1\" class=\"dataframe\">\n  <thead>\n    <tr style=\"text-align: right;\">\n      <th></th>\n      <th>state</th>\n      <th>county</th>\n      <th>candidate</th>\n      <th>party</th>\n      <th>won</th>\n      <th>won_votes</th>\n      <th>county_total_votes</th>\n      <th>share of votes in the losing counties</th>\n    </tr>\n  </thead>\n  <tbody>\n    <tr>\n      <th>0</th>\n      <td>Delaware</td>\n      <td>Kent</td>\n      <td>Donald Trump</td>\n      <td>REP</td>\n      <td>False</td>\n      <td>41009</td>\n      <td>87025</td>\n      <td>0.471232</td>\n    </tr>\n    <tr>\n      <th>1</th>\n      <td>Delaware</td>\n      <td>New Castle</td>\n      <td>Donald Trump</td>\n      <td>REP</td>\n      <td>False</td>\n      <td>88364</td>\n      <td>287633</td>\n      <td>0.307211</td>\n    </tr>\n    <tr>\n      <th>2</th>\n      <td>District of Columbia</td>\n      <td>Ward 1</td>\n      <td>Donald Trump</td>\n      <td>REP</td>\n      <td>False</td>\n      <td>1725</td>\n      <td>41681</td>\n      <td>0.041386</td>\n    </tr>\n    <tr>\n      <th>3</th>\n      <td>District of Columbia</td>\n      <td>Ward 2</td>\n      <td>Donald Trump</td>\n      <td>REP</td>\n      <td>False</td>\n      <td>2918</td>\n      <td>32881</td>\n      <td>0.088744</td>\n    </tr>\n    <tr>\n      <th>4</th>\n      <td>District of Columbia</td>\n      <td>Ward 3</td>\n      <td>Donald Trump</td>\n      <td>REP</td>\n      <td>False</td>\n      <td>3705</td>\n      <td>44231</td>\n      <td>0.083765</td>\n    </tr>\n  </tbody>\n</table>\n</div>"
     },
     "execution_count": 526,
     "metadata": {},
     "output_type": "execute_result"
    }
   ],
   "source": [
    "df_county_lost = df_county_statistics.copy()\n",
    "df_county_lost.drop(df_copy[df_copy['won'] == True].index, inplace = True)\n",
    "df_county_lost.drop(df_county_lost[df_county_lost['candidate'] != 'Donald Trump'].index, inplace = True)\n",
    "df_county_lost.drop(['lat', 'lng'], axis = 1, inplace = True)\n",
    "df_county_lost.reset_index(inplace=True)\n",
    "df_county_lost.rename(columns={\"total_votes\": \"won_votes\"}, inplace = True)\n",
    "df_county_lost = pd.merge(df_county_lost, df_pc_copy, on = ['state', 'county'], how = 'left')\n",
    "df_county_lost.rename(columns={\"current_votes\": \"county_total_votes\"}, inplace = True)\n",
    "df_county_lost.drop(['index'], axis = 1, inplace = True)\n",
    "df_county_lost = df_county_lost[['state', 'county', 'candidate', 'party', 'won', 'won_votes', 'county_total_votes']]\n",
    "df_county_lost['share of votes in the losing counties'] =\\\n",
    "    df_county_lost['won_votes'] / df_county_lost['county_total_votes']\n",
    "#df_county_lost['share of votes in the losing counties'] = \\\n",
    "#    df_county_lost['share of votes in the losing counties'].apply(lambda x:round(x,2))\n",
    "df_county_lost.head()"
   ],
   "metadata": {
    "collapsed": false
   }
  },
  {
   "cell_type": "markdown",
   "source": [
    "For Electoral System I and II, in which the county is the vote casting level, data cleaning is done. They share the same dataframe for plotting purposes.\n",
    "\n",
    "For Electoral System III and IV, in which the state is the vote casting level, continue the following steps:\n",
    "\n",
    "3. Calculate the number of counties won by each candidate in each state."
   ],
   "metadata": {
    "collapsed": false
   }
  },
  {
   "cell_type": "code",
   "execution_count": 527,
   "outputs": [
    {
     "data": {
      "text/plain": "                  candidate  # of counties won\nstate   party                                 \nAlabama REP    Donald Trump                 54\n        DEM       Joe Biden                 13\n        WRI       Write-ins                  0\n        LIB    Jo Jorgensen                  0\nAlaska  REP    Donald Trump                 20",
      "text/html": "<div>\n<style scoped>\n    .dataframe tbody tr th:only-of-type {\n        vertical-align: middle;\n    }\n\n    .dataframe tbody tr th {\n        vertical-align: top;\n    }\n\n    .dataframe thead th {\n        text-align: right;\n    }\n</style>\n<table border=\"1\" class=\"dataframe\">\n  <thead>\n    <tr style=\"text-align: right;\">\n      <th></th>\n      <th></th>\n      <th>candidate</th>\n      <th># of counties won</th>\n    </tr>\n    <tr>\n      <th>state</th>\n      <th>party</th>\n      <th></th>\n      <th></th>\n    </tr>\n  </thead>\n  <tbody>\n    <tr>\n      <th rowspan=\"4\" valign=\"top\">Alabama</th>\n      <th>REP</th>\n      <td>Donald Trump</td>\n      <td>54</td>\n    </tr>\n    <tr>\n      <th>DEM</th>\n      <td>Joe Biden</td>\n      <td>13</td>\n    </tr>\n    <tr>\n      <th>WRI</th>\n      <td>Write-ins</td>\n      <td>0</td>\n    </tr>\n    <tr>\n      <th>LIB</th>\n      <td>Jo Jorgensen</td>\n      <td>0</td>\n    </tr>\n    <tr>\n      <th>Alaska</th>\n      <th>REP</th>\n      <td>Donald Trump</td>\n      <td>20</td>\n    </tr>\n  </tbody>\n</table>\n</div>"
     },
     "execution_count": 527,
     "metadata": {},
     "output_type": "execute_result"
    }
   ],
   "source": [
    "df_state = df_copy.groupby([\"state\", \"candidate\", \"party\"]).sum(numeric_only = True)\n",
    "df_state.rename(columns={\"won\": \"# of counties won\"}, inplace = True)\n",
    "#add 3 level of MultiIndex\n",
    "df_state.index = [df_state.index.get_level_values(0),\n",
    "            df_state.index.get_level_values(1),\n",
    "                  df_state.index.get_level_values(2)]\n",
    "df_state = df_state.reset_index() \\\n",
    "       .sort_values(['state','# of counties won'], ascending=[True,False]) \\\n",
    "       .set_index(['state','party'])\n",
    "df_state.drop(['total_votes'], axis = 1, inplace = True)\n",
    "df_state.head()"
   ],
   "metadata": {
    "collapsed": false
   }
  },
  {
   "cell_type": "markdown",
   "source": [
    "4. Keep the candidate of the highest voting only."
   ],
   "metadata": {
    "collapsed": false
   }
  },
  {
   "cell_type": "code",
   "execution_count": 528,
   "outputs": [
    {
     "data": {
      "text/plain": "        state party     candidate  # of counties won\n0     Alabama   REP  Donald Trump                 54\n1      Alaska   REP  Donald Trump                 20\n2     Arizona   REP  Donald Trump                 10\n3    Arkansas   REP  Donald Trump                 67\n4  California   DEM     Joe Biden                 35",
      "text/html": "<div>\n<style scoped>\n    .dataframe tbody tr th:only-of-type {\n        vertical-align: middle;\n    }\n\n    .dataframe tbody tr th {\n        vertical-align: top;\n    }\n\n    .dataframe thead th {\n        text-align: right;\n    }\n</style>\n<table border=\"1\" class=\"dataframe\">\n  <thead>\n    <tr style=\"text-align: right;\">\n      <th></th>\n      <th>state</th>\n      <th>party</th>\n      <th>candidate</th>\n      <th># of counties won</th>\n    </tr>\n  </thead>\n  <tbody>\n    <tr>\n      <th>0</th>\n      <td>Alabama</td>\n      <td>REP</td>\n      <td>Donald Trump</td>\n      <td>54</td>\n    </tr>\n    <tr>\n      <th>1</th>\n      <td>Alaska</td>\n      <td>REP</td>\n      <td>Donald Trump</td>\n      <td>20</td>\n    </tr>\n    <tr>\n      <th>2</th>\n      <td>Arizona</td>\n      <td>REP</td>\n      <td>Donald Trump</td>\n      <td>10</td>\n    </tr>\n    <tr>\n      <th>3</th>\n      <td>Arkansas</td>\n      <td>REP</td>\n      <td>Donald Trump</td>\n      <td>67</td>\n    </tr>\n    <tr>\n      <th>4</th>\n      <td>California</td>\n      <td>DEM</td>\n      <td>Joe Biden</td>\n      <td>35</td>\n    </tr>\n  </tbody>\n</table>\n</div>"
     },
     "execution_count": 528,
     "metadata": {},
     "output_type": "execute_result"
    },
    {
     "data": {
      "text/plain": "        state party     candidate  # of counties won\n0     Alabama   REP  Donald Trump                 54\n1      Alaska   REP  Donald Trump                 20\n2     Arizona   REP  Donald Trump                 10\n3    Arkansas   REP  Donald Trump                 67\n4  California   DEM     Joe Biden                 35",
      "text/html": "<div>\n<style scoped>\n    .dataframe tbody tr th:only-of-type {\n        vertical-align: middle;\n    }\n\n    .dataframe tbody tr th {\n        vertical-align: top;\n    }\n\n    .dataframe thead th {\n        text-align: right;\n    }\n</style>\n<table border=\"1\" class=\"dataframe\">\n  <thead>\n    <tr style=\"text-align: right;\">\n      <th></th>\n      <th>state</th>\n      <th>party</th>\n      <th>candidate</th>\n      <th># of counties won</th>\n    </tr>\n  </thead>\n  <tbody>\n    <tr>\n      <th>0</th>\n      <td>Alabama</td>\n      <td>REP</td>\n      <td>Donald Trump</td>\n      <td>54</td>\n    </tr>\n    <tr>\n      <th>1</th>\n      <td>Alaska</td>\n      <td>REP</td>\n      <td>Donald Trump</td>\n      <td>20</td>\n    </tr>\n    <tr>\n      <th>2</th>\n      <td>Arizona</td>\n      <td>REP</td>\n      <td>Donald Trump</td>\n      <td>10</td>\n    </tr>\n    <tr>\n      <th>3</th>\n      <td>Arkansas</td>\n      <td>REP</td>\n      <td>Donald Trump</td>\n      <td>67</td>\n    </tr>\n    <tr>\n      <th>4</th>\n      <td>California</td>\n      <td>DEM</td>\n      <td>Joe Biden</td>\n      <td>35</td>\n    </tr>\n  </tbody>\n</table>\n</div>"
     },
     "execution_count": 528,
     "metadata": {},
     "output_type": "execute_result"
    }
   ],
   "source": [
    "df_state1 = df_state.copy()\n",
    "df_state1.reset_index(inplace=True)\n",
    "df_state1.drop_duplicates(\n",
    "  subset = ['state'],\n",
    "  keep = 'first', inplace = True)\n",
    "df_state1 = df_state1.reset_index(drop=True)\n",
    "df_state1.head()"
   ],
   "metadata": {
    "collapsed": false
   }
  },
  {
   "cell_type": "markdown",
   "source": [
    "5. Replace ALL candidates and parties' name by the winner of each state, because now all the votes of a state belongs to the winner."
   ],
   "metadata": {
    "collapsed": false
   }
  },
  {
   "cell_type": "code",
   "execution_count": 529,
   "outputs": [],
   "source": [
    "df_state2 = df_county.copy()\n",
    "df_state2.drop(['candidate'], axis = 1, inplace = True)\n",
    "df_state2.drop(['party'], axis = 1, inplace = True)\n",
    "df_state2 = pd.merge(df_state2, df_state1, on = 'state', how = 'left')\n",
    "df_state2.head()"
   ],
   "metadata": {
    "collapsed": false
   }
  },
  {
   "cell_type": "markdown",
   "source": [
    "*Need to Improve*\n",
    "*Some counties' latitude and longitude are still missing, will find other datasets to fill the vacancies.*"
   ],
   "metadata": {
    "collapsed": false
   }
  },
  {
   "cell_type": "markdown",
   "source": [
    "Summary statistics table for III and IV ->"
   ],
   "metadata": {
    "collapsed": false
   }
  },
  {
   "cell_type": "code",
   "execution_count": 530,
   "outputs": [],
   "source": [
    "df_state_statistics = df_state1.copy()\n",
    "df_state_total = df_state.groupby(level=[0]).sum(numeric_only = True)\n",
    "df_state_total.rename(columns={\"# of counties won\": \"# of total counties\"}, inplace = True)\n",
    "df_state_statistics = pd.merge(df_state_statistics, df_state_total, on = 'state', how = 'left')\n",
    "df_state_statistics.head()\n",
    "#df_state_won.drop(df_copy[df_copy['candidate'] == 'Donald Trump'].index, inplace = True)"
   ],
   "metadata": {
    "collapsed": false
   }
  },
  {
   "cell_type": "code",
   "execution_count": 531,
   "outputs": [],
   "source": [
    "df_state_won = df_state_statistics.copy()\n",
    "df_state_won.drop(df_state_won[df_state_won['candidate'] != 'Donald Trump'].index, inplace = True)\n",
    "df_state_won['share of counties in the winning states'] = \\\n",
    "    df_state_won['# of counties won'] / df_state_won['# of total counties']\n",
    "df_state_won['won'] = True\n",
    "df_state_won = df_state_won[['state', 'candidate', 'party', 'won', '# of counties won', '# of total counties', 'share of counties in the winning states']]\n",
    "#df_state_won['share of counties in the winning states'] = \\\n",
    "#    df_state_won['share of counties in the winning states'].apply(lambda x:round(x,2))\n",
    "df_state_won.head()"
   ],
   "metadata": {
    "collapsed": false
   }
  },
  {
   "cell_type": "code",
   "execution_count": 532,
   "outputs": [],
   "source": [
    "df_state_lost = df_state1.copy()\n",
    "df_state_lost.drop(df_state_lost[df_state_lost['candidate'] == 'Donald Trump'].index, inplace = True)\n",
    "df_state_lost.drop(['party', 'candidate', '# of counties won'], axis = 1, inplace = True)\n",
    "df_state_lost = pd.merge(df_state_lost, df_state, on = ['state'], how = 'left')\n",
    "df_state_lost.drop(df_state_lost[df_state_lost['candidate'] != 'Donald Trump'].index, inplace = True)\n",
    "df_state_lost = pd.merge(df_state_lost, df_state_total, on = ['state'], how = 'left')\n",
    "df_state_lost['share of counties in the losing states'] = \\\n",
    "    df_state_lost['# of counties won'] / df_state_lost['# of total counties']\n",
    "df_state_lost['won'] = False\n",
    "df_state_lost['party'] = 'REP'\n",
    "df_state_lost = df_state_lost[['state', 'candidate', 'party', 'won', '# of counties won', '# of total counties', 'share of counties in the losing states']]\n",
    "df_state_lost"
   ],
   "metadata": {
    "collapsed": false
   }
  },
  {
   "cell_type": "markdown",
   "source": [
    "## Summary Statistics Tables"
   ],
   "metadata": {
    "collapsed": false
   }
  },
  {
   "cell_type": "code",
   "execution_count": 533,
   "outputs": [],
   "source": [
    "df_I_II_statistics = pd.DataFrame({\n",
    "    \"share of votes in the winning counties\" : df_county_won['share of votes in the winning counties'].describe(),\n",
    "    \"share of votes in the losing counties\" : df_county_lost['share of votes in the losing counties'].describe(),\n",
    "})\n",
    "df_I_II_statistics = df_I_II_statistics.round(decimals = 1)\n",
    "fig=plt. figure (figsize = (8, 0.3))\n",
    "ax = fig.add_subplot(111)\n",
    "ax.table(cellText = df_I_II_statistics.values, colLabels = df_I_II_statistics.columns,\n",
    "         rowLabels = df_I_II_statistics.index, cellLoc = 'center')\n",
    "ax.set_title (\"In Electoral System I and II, Donald Trump Would Have Won\")\n",
    "ax.axis ('off')"
   ],
   "metadata": {
    "collapsed": false
   }
  },
  {
   "cell_type": "markdown",
   "source": [
    "The above summary statistics table presented the basic information about Electoral System I and II. Let's revisit the definition of the two electoral systems. For electoral system I, each county has same number of votes as its voters, it casts all of its votes on the party (candidate) that won the majority of votes. For electoral system II, each county has one vote, it casts its vote on the party (candidate) that won the majority of votes.\n",
    "\n"
   ],
   "metadata": {
    "collapsed": false
   }
  },
  {
   "cell_type": "code",
   "execution_count": 534,
   "outputs": [],
   "source": [
    "df_III_IV_statistics = pd.DataFrame({\n",
    "    \"share of counties in the winning states\": df_state_won['share of counties in the winning states'].describe(),\n",
    "    \"share of counties in the losing states\": df_state_lost['share of counties in the losing states'].describe(),\n",
    "})\n",
    "df_III_IV_statistics = df_III_IV_statistics.round(decimals = 0)\n",
    "fig2 = plt.figure(figsize = (8, 0.3))\n",
    "ax2 = fig2.add_subplot(111)\n",
    "ax2.table(cellText = df_III_IV_statistics.values, colLabels = df_III_IV_statistics.columns,\n",
    "         rowLabels = df_III_IV_statistics.index, cellLoc = 'center')\n",
    "ax2.set_title(\"In Electoral System III and IV, Donald Trump Would Have Won\")\n",
    "ax2.axis ('off')"
   ],
   "metadata": {
    "collapsed": false
   }
  },
  {
   "cell_type": "code",
   "execution_count": 535,
   "outputs": [],
   "source": [
    "df_stat = df_state2.copy()\n",
    "df_stat.drop(['lat', 'lng'], axis = 1, inplace = True)\n",
    "df_stat.describe()"
   ],
   "metadata": {
    "collapsed": false
   }
  },
  {
   "cell_type": "markdown",
   "source": [
    "The above table is used for analyze the dataframe that is used by electoral system I and II. Let's revisit the definition of the two electoral systems. For electoral system I, each county has same number of votes as its voters, it casts all of its votes on the party (candidate) that won the majority of votes. For electoral system II, each county has one vote, it casts its vote on the party (candidate) that won the majority of votes. Since\n",
    "\n",
    "By the table above, total_votes means the total votes of a county has, # of counties won means the number of counties that a candidate has won with a state.\n",
    "As from the data, the number and the size of counties within a state varies enormously within a state. This brings space where two strongest candidate, Joe Biden and Donald Trump, can compete against different systems and produce different election results. Donald Trump's policy is more in favor of smaller county voters, whereas Joe Biden's policy is more favored by the large county voters."
   ],
   "metadata": {
    "collapsed": false
   }
  },
  {
   "cell_type": "markdown",
   "source": [
    "## Plots, Histograms, Figures\n",
    "\n"
   ],
   "metadata": {
    "collapsed": false
   }
  },
  {
   "cell_type": "code",
   "execution_count": 553,
   "outputs": [],
   "source": [
    "#plt.figure(figsize = (20,10))\n",
    "#fig, axes = plt.subplots(1, 2, figsize=(8, 6), sharey=False)\n",
    "\n",
    "df_boxplot1 = pd.DataFrame({\n",
    "    'share of votes in the winning counties': df_county_won['share of votes in the winning counties'],\n",
    "})\n",
    "#pd.DataFrame(data = df_county_won, columns = ['share of votes in the winning counties'])\n",
    "#df_boxplot1['Electoral Systems'] = 'share of votes in the winning counties'\n",
    "#df_boxplot1.rename(columns={'share of votes in the winning counties': 'Value'}, inplace = True)\n",
    "#df_boxplot2 = pd.DataFrame(data = df_county_lost, columns = ['share of votes in the losing counties'])\n",
    "#df_boxplot2['Electoral Systems'] = 'share of votes in the losing counties'\n",
    "#df_boxplot2.rename(columns={'share of votes in the losing counties': 'Value'}, inplace = True)\n",
    "#df_boxplot1.append(df_boxplot2)\n",
    "#df_boxplot1['Group'] = 'I & II'\n",
    "df_boxplot1\n",
    "#df_county_won\n",
    "#df_boxplot3 = pd.DataFrame(data = df_state_won, columns = ['share of counties in the winning states'])\n",
    "#df_boxplot3['Electoral Systems'] = 'share of counties in the winning states'\n",
    "#df_boxplot3.rename(columns={'share of votes in the winning counties': 'Value'}, inplace = True)\n",
    "#df_boxplot4 = pd.DataFrame(data = df_state_lost, columns = ['share of counties in the losing states'])\n",
    "#df_boxplot4['Electoral Systems'] = 'share of counties in the losing states'\n",
    "#df_boxplot4.rename(columns={'share of counties in the losing states': 'Value'}, inplace = True)\n",
    "#df_boxplot3.append(df_boxplot4)\n",
    "#df_boxplot3['Group'] = 'III & IV'\n",
    "\n",
    "#df_boxplot = df_boxplot1.append(df_boxplot3)\n",
    "\n",
    "\n",
    "#df_boxplot.groupby('Group').boxplot(by='Electoral Systems', ax=axes)\n",
    "\n",
    "#plt.show()\n",
    "\n",
    "#df_boxplot3[\"share of counties in the winning states\"] = df_state_won[\"share of counties in the winning states\"]\n",
    "#df_boxplot['share of counties in the losing states'] = df_state_lost['share of counties in the losing states']\n",
    "#sns.boxplot(x=\"variable\", y=\"value\", data=pd.melt(df_boxplot))"
   ],
   "metadata": {
    "collapsed": false
   }
  },
  {
   "cell_type": "markdown",
   "source": [
    "For both dataframes, remove Hawaii and Alaska out of the dataframe, to make the mainland graph more clear."
   ],
   "metadata": {
    "collapsed": false
   }
  },
  {
   "cell_type": "code",
   "execution_count": 537,
   "outputs": [],
   "source": [
    "df_county_mainland = df_county[~df_county[\"state\"].isin([\"Alaska\", \"Hawaii\"])]\n",
    "df_state_mainland = df_state2[~df_state2[\"state\"].isin([\"Alaska\", \"Hawaii\"])]"
   ],
   "metadata": {
    "collapsed": false
   }
  },
  {
   "cell_type": "markdown",
   "source": [
    "### Electoral System I"
   ],
   "metadata": {
    "collapsed": false
   }
  },
  {
   "cell_type": "code",
   "execution_count": 538,
   "outputs": [],
   "source": [
    "plt.figure(figsize = (14,10))\n",
    "sns.scatterplot(data = df_county_mainland, x = \"lng\", y = \"lat\", hue = \"party\", size = \"total_votes\",\n",
    "                sizes = (2, 200), palette = ['blue', 'red', 'yellow'])\n",
    "plt.title(\"Electoral System I\");"
   ],
   "metadata": {
    "collapsed": false
   }
  },
  {
   "cell_type": "code",
   "execution_count": 539,
   "outputs": [],
   "source": [
    "y1 = df_county.groupby('party')['total_votes'].sum()['DEM']\n",
    "y2 = df_county.groupby('party')['total_votes'].sum()['REP']\n",
    "y3 = df_county.groupby('party')['total_votes'].sum()['LIB']\n",
    "y4 = df_county.groupby('party')['total_votes'].sum()['WRI']\n",
    "result_1 = [['DEM', 'Joe Biden', y1, max(y1, y2, y3, y4) == y1],\n",
    "            ['REP', 'Donald Trump', y2, max(y1, y2, y3, y4) == y2],\n",
    "            ['LIB', 'Jo Jorgensen', y3, max(y1, y2, y3, y4) == y3],\n",
    "            ['WRI', 'Write-ins', y4, max(y1, y2, y3, y4) == y4]\n",
    "            ]\n",
    "pd.DataFrame(result_1, columns = ['Party', 'Candidate', 'Fabricated Votes', 'Won'])"
   ],
   "metadata": {
    "collapsed": false
   }
  },
  {
   "cell_type": "markdown",
   "source": [
    "Under this system, each county has the same number of votes as its number of voters and casts all of its votes on the party (candidate) that won the majority of votes. In this scenario, Joe Biden emerged as the winner. This can be attributed to the fact that Biden was able to secure the majority of votes in a number of megacities, thereby gaining a significant number of electoral votes. Although Trump won large number of counties, the population still doesn't add up to the level of the population from megacities, therefore he lost."
   ],
   "metadata": {
    "collapsed": false
   }
  },
  {
   "cell_type": "markdown",
   "source": [
    "### Electoral System II"
   ],
   "metadata": {
    "collapsed": false
   }
  },
  {
   "cell_type": "code",
   "execution_count": 540,
   "outputs": [],
   "source": [
    "plt.figure(figsize = (14,10))\n",
    "sns.scatterplot(data = df_county_mainland, x = \"lng\", y = \"lat\", hue = \"party\", size = \"total_votes\",\n",
    "                sizes = (20, 20), palette = ['blue', 'red', 'yellow'])\n",
    "plt.title(\"Electoral System II\");"
   ],
   "metadata": {
    "collapsed": false
   }
  },
  {
   "cell_type": "code",
   "execution_count": 541,
   "outputs": [],
   "source": [
    "y1 = df_county['party'].value_counts()['DEM']\n",
    "y2 = df_county['party'].value_counts()['REP']\n",
    "y3 = df_county['party'].value_counts()['LIB']\n",
    "y4 = df_county['party'].value_counts()['WRI']\n",
    "result_2 = [['DEM', 'Joe Biden', y1, max(y1, y2, y3, y4) == y1],\n",
    "            ['REP', 'Donald Trump', y2, max(y1, y2, y3, y4) == y2],\n",
    "            ['LIB', 'Jo Jorgensen', y3, max(y1, y2, y3, y4) == y3],\n",
    "            ['WRI', 'Write-ins', y4, max(y1, y2, y3, y4) == y4]\n",
    "            ]\n",
    "pd.DataFrame(result_2, columns = ['Party', 'Candidate', 'Fabricated Votes', 'Won'])"
   ],
   "metadata": {
    "collapsed": false
   }
  },
  {
   "cell_type": "markdown",
   "source": [
    "Under this system, each county has only one vote and casts its vote on the party (candidate) that won the majority of votes. Donald Trump emerged as the winner under this system. Since all counties are weighted equally, the fact that Trump is popular with small counties and in several smaller counties, enabled him to secure a majority. Trump's performance in states that traditionally vote Republican has also contributed to his win."
   ],
   "metadata": {
    "collapsed": false
   }
  },
  {
   "cell_type": "markdown",
   "source": [
    "### Electoral System III"
   ],
   "metadata": {
    "collapsed": false
   }
  },
  {
   "cell_type": "code",
   "execution_count": 542,
   "outputs": [],
   "source": [
    "plt.figure(figsize = (14,10))\n",
    "sns.scatterplot(data = df_state_mainland, x = \"lng\", y = \"lat\", hue = \"party\", size = \"total_votes\",\n",
    "                sizes = (2, 200), palette = ['blue', 'red'])\n",
    "plt.title(\"Electoral System III\");"
   ],
   "metadata": {
    "collapsed": false
   }
  },
  {
   "cell_type": "code",
   "execution_count": 543,
   "outputs": [],
   "source": [
    "y1 = df_state2.groupby('party')['total_votes'].sum()['DEM']\n",
    "y2 = df_state2.groupby('party')['total_votes'].sum()['REP']\n",
    "try:\n",
    "    y3 = df_state2.groupby('party')['total_votes'].sum()['LIB']\n",
    "except KeyError:\n",
    "    y3 = 0\n",
    "try:\n",
    "    y4 = df_state2.groupby('party')['total_votes'].sum()['WRI']\n",
    "except KeyError:\n",
    "    y4 = 0\n",
    "result_3 = [['DEM', 'Joe Biden', y1, max(y1, y2, y3, y4) == y1],\n",
    "            ['REP', 'Donald Trump', y2, max(y1, y2, y3, y4) == y2],\n",
    "            ['LIB', 'Jo Jorgensen', y3, max(y1, y2, y3, y4) == y3],\n",
    "            ['WRI', 'Write-ins', y4, max(y1, y2, y3, y4) == y4]\n",
    "            ]\n",
    "pd.DataFrame(result_3, columns = ['Party', 'Candidate', 'Fabricated Votes', 'Won'])"
   ],
   "metadata": {
    "collapsed": false
   }
  },
  {
   "cell_type": "markdown",
   "source": [
    "Under this system, each state has the same number of votes as its number of voters and casts all of its votes on the party (candidate) that won the majority of counties. Donald Trump emerged as the winner under this system. Since the number of counties where Trump is popular surpasses the number of cities where Biden is popular in almost every state, except for certain states that are Democrat's conservative base. In the general case, the higher number of rural counties in most states where Trump performed well played a crucial role in his win."
   ],
   "metadata": {
    "collapsed": false
   }
  },
  {
   "cell_type": "markdown",
   "source": [
    "### Electoral System IV"
   ],
   "metadata": {
    "collapsed": false
   }
  },
  {
   "cell_type": "code",
   "execution_count": 544,
   "outputs": [],
   "source": [
    "plt.figure(figsize = (14,10))\n",
    "sns.scatterplot(data = df_state_mainland, x = \"lng\", y = \"lat\", hue = \"party\", size = \"total_votes\",\n",
    "                sizes = (20, 20), palette = ['blue', 'red'])\n",
    "plt.title(\"Electoral System IV\");"
   ],
   "metadata": {
    "collapsed": false
   }
  },
  {
   "cell_type": "code",
   "execution_count": 545,
   "outputs": [],
   "source": [
    "import geopandas as gpd"
   ],
   "metadata": {
    "collapsed": false
   }
  },
  {
   "cell_type": "code",
   "execution_count": 546,
   "outputs": [],
   "source": [
    "usa = gpd.read_file('/Users/jiaxincui/Documents/GitHub/git-exercise-AllysonCui/Data/Other/cb_2021_us_state_20m/cb_2021_us_state_20m.shp')\n",
    "gpd_state = usa[~usa[\"NAME\"].isin([\"Alaska\", \"Hawaii\", \"Puerto Rico\"])]\n",
    "gpd_state = gpd_state.copy()\n",
    "gpd_state.sort_values(by=['NAME'], ascending=True, axis=0, inplace =True)\n",
    "df_state1.rename(columns={\"state\": \"NAME\"}, inplace = True)\n",
    "gpd_state = pd.merge(gpd_state, df_state1, on=\"NAME\", how=\"left\")\n",
    "gpd_state"
   ],
   "metadata": {
    "collapsed": false
   }
  },
  {
   "cell_type": "code",
   "execution_count": 547,
   "outputs": [],
   "source": [
    "fig, gax = plt.subplots(figsize=(14, 10))\n",
    "\n",
    "#gpd_state.query(\"NAME == 'Wisconsin'\").plot(ax=gax, edgecolor=\"black\", color=\"white\")\n",
    "gpd_state.plot(ax=gax, edgecolor=\"black\", color=\"white\")\n",
    "\n",
    "plt.show()"
   ],
   "metadata": {
    "collapsed": false
   }
  },
  {
   "cell_type": "code",
   "execution_count": 548,
   "outputs": [],
   "source": [
    "gpd_state['trump_share'] = \\\n",
    "    df_state_statistics['# of counties won'] / df_state_statistics['# of total counties']\n",
    "gpd_state"
   ],
   "metadata": {
    "collapsed": false
   }
  },
  {
   "cell_type": "code",
   "execution_count": 549,
   "outputs": [],
   "source": [
    "fig, gax = plt.subplots(figsize = (14,8))\n",
    "\n",
    "# Plot the state\n",
    "#state_df[state_df['NAME'] == 'Wisconsin'].plot(ax = gax, edgecolor='black',color='white')\n",
    "#gpd_state.plot(ax=gax, edgecolor=\"black\", color=\"white\")\n",
    "# Plot the counties and pass 'rel_trump_share' as the data to color\n",
    "#gpd_state.apply(lambda x: ax.annotate(text=x.STUSPS, xy=x.geometry.centroid.coords[0], ha='center', fontsize=14), axis=1)\n",
    "gpd_state.plot(\n",
    "    ax=gax, edgecolor='black', column='trump_share', legend=True, cmap='RdBu_r',\n",
    "    vmin=0.0, vmax=1 #range of your column value for the color legend\n",
    ")\n",
    "\n",
    "# Add text to let people know what we are plotting\n",
    "#gax.annotate('Trump vote share',xy=(0.76, 0.06),  xycoords='figure fraction')\n",
    "\n",
    "# I don't want the axis with long and lat\n",
    "plt.axis('off')\n",
    "\n",
    "plt.show()"
   ],
   "metadata": {
    "collapsed": false
   }
  },
  {
   "cell_type": "markdown",
   "source": [],
   "metadata": {
    "collapsed": false
   }
  },
  {
   "cell_type": "code",
   "execution_count": 550,
   "outputs": [],
   "source": [
    "fig, gax= plt.subplots(1, figsize = (14,10))\n",
    "ax = fig.add_subplot()\n",
    "gpd_state.apply(lambda x: ax.annotate(text=x.STUSPS, xy=x.geometry.centroid.coords[0], ha='center', fontsize=14)\n",
    "                , axis=1);\n",
    "gpd_state.plot(\n",
    "    ax=ax, edgecolor='black', column='party', legend=True, cmap='bwr', categorical=True, vmin=-1, vmax=2)\n",
    "\n",
    "gax.annotate('Republican vote share',xy=(0.76, 0.06),  xycoords='figure fraction')\n",
    "plt.axis('off')\n",
    "gax.axis('off')\n",
    "plt.show()"
   ],
   "metadata": {
    "collapsed": false
   }
  },
  {
   "cell_type": "code",
   "execution_count": 551,
   "outputs": [],
   "source": [
    "y1 = df_state1['party'].value_counts()['DEM']\n",
    "y2 = df_state1['party'].value_counts()['REP']\n",
    "try:\n",
    "    y3 = df_state1['party'].value_counts()['LIB']\n",
    "except KeyError:\n",
    "    y3 = 0\n",
    "try:\n",
    "    y4 = df_state1['party'].value_counts()['WRI']\n",
    "except KeyError:\n",
    "    y4 = 0\n",
    "result_4 = [['DEM', 'Joe Biden', y1, max(y1, y2, y3, y4) == y1],\n",
    "            ['REP', 'Donald Trump', y2, max(y1, y2, y3, y4) == y2],\n",
    "            ['LIB', 'Jo Jorgensen', y3, max(y1, y2, y3, y4) == y3],\n",
    "            ['WRI', 'Write-ins', y4, max(y1, y2, y3, y4) == y4]\n",
    "            ]\n",
    "pd.DataFrame(result_4, columns = ['Party', 'Candidate', 'Fabricated Votes', 'Won'])"
   ],
   "metadata": {
    "collapsed": false
   }
  },
  {
   "cell_type": "markdown",
   "source": [
    "Under this system, each state has only one vote and casts its vote on the party (candidate) that won the majority of counties. Donald Trump emerged as the winner under this system as well. This can be due to his strong performance in a number of states, where he was able to secure the majority of counties. Compared the situation in System III, the ratio compared between Biden and Trump is down slightly, as the high number of votes from major cities are also directed to the counting."
   ],
   "metadata": {
    "collapsed": false
   }
  },
  {
   "cell_type": "markdown",
   "source": [
    "## Conclusion\n",
    "In conclusion, the results of the four different electoral systems applied to the same election data reveal the significance of the electoral process in determining the outcome of an election. The outcome can vary greatly depending on the specific system being used. In this case, Joe Biden was declared the winner under Electoral System I, where each county was allotted the same number of votes as its number of voters and all votes were cast for the candidate who won the majority of votes in that county. On the other hand, Donald Trump was declared the winner in the remaining three systems - Electoral System II, III, and IV."
   ],
   "metadata": {
    "collapsed": false
   }
  },
  {
   "cell_type": "code",
   "execution_count": 552,
   "outputs": [],
   "source": [
    "result_4 = [['I', 'Joe Biden'],\n",
    "            ['II', 'Donald Trump'],\n",
    "            ['III', 'Donald Trump'],\n",
    "            ['IV', 'Donald Trump']]\n",
    "pd.DataFrame(result_4, columns = ['Electoral System', 'Winner'])"
   ],
   "metadata": {
    "collapsed": false
   }
  },
  {
   "cell_type": "markdown",
   "source": [
    " This highlights the importance of choosing an appropriate electoral system that aligns with the values and goals of a given society. It also demonstrates how different electoral systems can have a significant impact on the representation of different regions, communities, and individuals. The analysis shows that the design of an electoral system can greatly influence the outcome of an election and should be carefully considered."
   ],
   "metadata": {
    "collapsed": false
   }
  },
  {
   "cell_type": "markdown",
   "source": [],
   "metadata": {
    "collapsed": false
   }
  }
 ],
 "metadata": {
  "kernelspec": {
   "display_name": "Python 3",
   "language": "python",
   "name": "python3"
  },
  "language_info": {
   "codemirror_mode": {
    "name": "ipython",
    "version": 2
   },
   "file_extension": ".py",
   "mimetype": "text/x-python",
   "name": "python",
   "nbconvert_exporter": "python",
   "pygments_lexer": "ipython2",
   "version": "2.7.6"
  }
 },
 "nbformat": 4,
 "nbformat_minor": 0
}
