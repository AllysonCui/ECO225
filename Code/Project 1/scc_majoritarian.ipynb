{
 "cells": [
  {
   "cell_type": "code",
   "execution_count": 72,
   "metadata": {
    "collapsed": true
   },
   "outputs": [],
   "source": [
    "import numpy as np\n",
    "import pandas as pd\n",
    "import matplotlib.pyplot as plt\n",
    "import seaborn as sns\n",
    "import plotly.express as px"
   ]
  },
  {
   "cell_type": "code",
   "execution_count": 73,
   "outputs": [],
   "source": [
    "df = pd.read_csv('/Users/jiaxincui/Documents/GitHub/git-exercise-AllysonCui/Data/Kaggle/senate_county_candidate.csv')\n",
    "df_sc = pd.read_csv('/Users/jiaxincui/Documents/GitHub/git-exercise-AllysonCui/Data/Kaggle/senate_county.csv')\n",
    "df_geo = pd.read_csv('/Users/jiaxincui/Documents/GitHub/git-exercise-AllysonCui/Data/Other/uscities.csv')\n",
    "\n",
    "pd.set_option('display.max_columns', None)"
   ],
   "metadata": {
    "collapsed": false
   }
  },
  {
   "cell_type": "code",
   "execution_count": 74,
   "outputs": [
    {
     "data": {
      "text/plain": "      state      county      candidate party  total_votes    won\n0  Delaware        Kent  Lauren Witzke   REP        38571   True\n1  Delaware        Kent    Mark Turley   IPD         1553  False\n2  Delaware        Kent   Nadine Frost   LIB          958  False\n3  Delaware  New Castle  Lauren Witzke   REP        80081   True\n4  Delaware  New Castle    Mark Turley   IPD         4277  False",
      "text/html": "<div>\n<style scoped>\n    .dataframe tbody tr th:only-of-type {\n        vertical-align: middle;\n    }\n\n    .dataframe tbody tr th {\n        vertical-align: top;\n    }\n\n    .dataframe thead th {\n        text-align: right;\n    }\n</style>\n<table border=\"1\" class=\"dataframe\">\n  <thead>\n    <tr style=\"text-align: right;\">\n      <th></th>\n      <th>state</th>\n      <th>county</th>\n      <th>candidate</th>\n      <th>party</th>\n      <th>total_votes</th>\n      <th>won</th>\n    </tr>\n  </thead>\n  <tbody>\n    <tr>\n      <th>0</th>\n      <td>Delaware</td>\n      <td>Kent</td>\n      <td>Lauren Witzke</td>\n      <td>REP</td>\n      <td>38571</td>\n      <td>True</td>\n    </tr>\n    <tr>\n      <th>1</th>\n      <td>Delaware</td>\n      <td>Kent</td>\n      <td>Mark Turley</td>\n      <td>IPD</td>\n      <td>1553</td>\n      <td>False</td>\n    </tr>\n    <tr>\n      <th>2</th>\n      <td>Delaware</td>\n      <td>Kent</td>\n      <td>Nadine Frost</td>\n      <td>LIB</td>\n      <td>958</td>\n      <td>False</td>\n    </tr>\n    <tr>\n      <th>3</th>\n      <td>Delaware</td>\n      <td>New Castle</td>\n      <td>Lauren Witzke</td>\n      <td>REP</td>\n      <td>80081</td>\n      <td>True</td>\n    </tr>\n    <tr>\n      <th>4</th>\n      <td>Delaware</td>\n      <td>New Castle</td>\n      <td>Mark Turley</td>\n      <td>IPD</td>\n      <td>4277</td>\n      <td>False</td>\n    </tr>\n  </tbody>\n</table>\n</div>"
     },
     "execution_count": 74,
     "metadata": {},
     "output_type": "execute_result"
    }
   ],
   "source": [
    "#add a column named 'won'\n",
    "result = [False]*14125\n",
    "county = df_sc['county']\n",
    "i = 0\n",
    "for index, row in df.iterrows():\n",
    "    if row['county'] == county.iloc[i] and i < 3581:\n",
    "        result[index] = True\n",
    "        i += 1\n",
    "df['won'] = result\n",
    "df['county'] = df['county'].str.replace(' County', '')\n",
    "df.head()"
   ],
   "metadata": {
    "collapsed": false
   }
  },
  {
   "cell_type": "code",
   "execution_count": 75,
   "outputs": [
    {
     "data": {
      "text/plain": "       state      county          candidate party  total_votes   won\n0   Delaware        Kent      Lauren Witzke   REP        38571  True\n3   Delaware  New Castle      Lauren Witzke   REP        80081  True\n6   Delaware      Sussex  Christopher Coons   DEM        56137  True\n9    Georgia     Appling         Jon Ossoff   DEM         1753  True\n11   Georgia    Atkinson         Jon Ossoff   DEM          773  True",
      "text/html": "<div>\n<style scoped>\n    .dataframe tbody tr th:only-of-type {\n        vertical-align: middle;\n    }\n\n    .dataframe tbody tr th {\n        vertical-align: top;\n    }\n\n    .dataframe thead th {\n        text-align: right;\n    }\n</style>\n<table border=\"1\" class=\"dataframe\">\n  <thead>\n    <tr style=\"text-align: right;\">\n      <th></th>\n      <th>state</th>\n      <th>county</th>\n      <th>candidate</th>\n      <th>party</th>\n      <th>total_votes</th>\n      <th>won</th>\n    </tr>\n  </thead>\n  <tbody>\n    <tr>\n      <th>0</th>\n      <td>Delaware</td>\n      <td>Kent</td>\n      <td>Lauren Witzke</td>\n      <td>REP</td>\n      <td>38571</td>\n      <td>True</td>\n    </tr>\n    <tr>\n      <th>3</th>\n      <td>Delaware</td>\n      <td>New Castle</td>\n      <td>Lauren Witzke</td>\n      <td>REP</td>\n      <td>80081</td>\n      <td>True</td>\n    </tr>\n    <tr>\n      <th>6</th>\n      <td>Delaware</td>\n      <td>Sussex</td>\n      <td>Christopher Coons</td>\n      <td>DEM</td>\n      <td>56137</td>\n      <td>True</td>\n    </tr>\n    <tr>\n      <th>9</th>\n      <td>Georgia</td>\n      <td>Appling</td>\n      <td>Jon Ossoff</td>\n      <td>DEM</td>\n      <td>1753</td>\n      <td>True</td>\n    </tr>\n    <tr>\n      <th>11</th>\n      <td>Georgia</td>\n      <td>Atkinson</td>\n      <td>Jon Ossoff</td>\n      <td>DEM</td>\n      <td>773</td>\n      <td>True</td>\n    </tr>\n  </tbody>\n</table>\n</div>"
     },
     "execution_count": 75,
     "metadata": {},
     "output_type": "execute_result"
    }
   ],
   "source": [
    "df.drop(df[df['won'] == False].index, inplace = True)\n",
    "df.head()"
   ],
   "metadata": {
    "collapsed": false
   }
  },
  {
   "cell_type": "code",
   "execution_count": 76,
   "outputs": [
    {
     "name": "stdout",
     "output_type": "stream",
     "text": [
      "<class 'pandas.core.frame.DataFrame'>\n",
      "Int64Index: 3581 entries, 0 to 14085\n",
      "Data columns (total 6 columns):\n",
      " #   Column       Non-Null Count  Dtype \n",
      "---  ------       --------------  ----- \n",
      " 0   state        3581 non-null   object\n",
      " 1   county       3581 non-null   object\n",
      " 2   candidate    3581 non-null   object\n",
      " 3   party        3581 non-null   object\n",
      " 4   total_votes  3581 non-null   int64 \n",
      " 5   won          3581 non-null   bool  \n",
      "dtypes: bool(1), int64(1), object(4)\n",
      "memory usage: 171.4+ KB\n"
     ]
    }
   ],
   "source": [
    "df.info()\n"
   ],
   "metadata": {
    "collapsed": false
   }
  }
 ],
 "metadata": {
  "kernelspec": {
   "display_name": "Python 3",
   "language": "python",
   "name": "python3"
  },
  "language_info": {
   "codemirror_mode": {
    "name": "ipython",
    "version": 2
   },
   "file_extension": ".py",
   "mimetype": "text/x-python",
   "name": "python",
   "nbconvert_exporter": "python",
   "pygments_lexer": "ipython2",
   "version": "2.7.6"
  }
 },
 "nbformat": 4,
 "nbformat_minor": 0
}
