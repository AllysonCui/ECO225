{
 "cells": [
  {
   "cell_type": "code",
   "execution_count": 37,
   "id": "1576a859",
   "metadata": {},
   "outputs": [],
   "source": [
    "import numpy as np\n",
    "import pandas as pd\n",
    "import matplotlib.pyplot as plt\n",
    "import seaborn as sns\n",
    "import plotly.express as px"
   ]
  },
  {
   "cell_type": "code",
   "execution_count": 38,
   "id": "99c19099",
   "metadata": {},
   "outputs": [],
   "source": [
    "df = pd.read_csv('/Users/jiaxincui/Documents/GitHub/git-exercise-AllysonCui/Data/Kaggle/president_county_candidate.csv')\n",
    "df_geo = pd.read_csv('/Users/jiaxincui/Documents/GitHub/git-exercise-AllysonCui/Data/Other/uscities.csv')\n",
    "pd.set_option('display.max_columns', None)"
   ]
  },
  {
   "cell_type": "code",
   "execution_count": 39,
   "id": "c0e27e63",
   "metadata": {},
   "outputs": [
    {
     "data": {
      "text/plain": "                   state      county     candidate party  total_votes   won\n0               Delaware        Kent     Joe Biden   DEM        44552  True\n4               Delaware  New Castle     Joe Biden   DEM       195034  True\n8               Delaware      Sussex  Donald Trump   REP        71230  True\n12  District of Columbia      Ward 1     Joe Biden   DEM        39041  True\n19  District of Columbia      Ward 2     Joe Biden   DEM        29078  True",
      "text/html": "<div>\n<style scoped>\n    .dataframe tbody tr th:only-of-type {\n        vertical-align: middle;\n    }\n\n    .dataframe tbody tr th {\n        vertical-align: top;\n    }\n\n    .dataframe thead th {\n        text-align: right;\n    }\n</style>\n<table border=\"1\" class=\"dataframe\">\n  <thead>\n    <tr style=\"text-align: right;\">\n      <th></th>\n      <th>state</th>\n      <th>county</th>\n      <th>candidate</th>\n      <th>party</th>\n      <th>total_votes</th>\n      <th>won</th>\n    </tr>\n  </thead>\n  <tbody>\n    <tr>\n      <th>0</th>\n      <td>Delaware</td>\n      <td>Kent</td>\n      <td>Joe Biden</td>\n      <td>DEM</td>\n      <td>44552</td>\n      <td>True</td>\n    </tr>\n    <tr>\n      <th>4</th>\n      <td>Delaware</td>\n      <td>New Castle</td>\n      <td>Joe Biden</td>\n      <td>DEM</td>\n      <td>195034</td>\n      <td>True</td>\n    </tr>\n    <tr>\n      <th>8</th>\n      <td>Delaware</td>\n      <td>Sussex</td>\n      <td>Donald Trump</td>\n      <td>REP</td>\n      <td>71230</td>\n      <td>True</td>\n    </tr>\n    <tr>\n      <th>12</th>\n      <td>District of Columbia</td>\n      <td>Ward 1</td>\n      <td>Joe Biden</td>\n      <td>DEM</td>\n      <td>39041</td>\n      <td>True</td>\n    </tr>\n    <tr>\n      <th>19</th>\n      <td>District of Columbia</td>\n      <td>Ward 2</td>\n      <td>Joe Biden</td>\n      <td>DEM</td>\n      <td>29078</td>\n      <td>True</td>\n    </tr>\n  </tbody>\n</table>\n</div>"
     },
     "execution_count": 39,
     "metadata": {},
     "output_type": "execute_result"
    }
   ],
   "source": [
    "df['county'] = df['county'].str.replace(' County', '')\n",
    "df.drop(df[df['won'] == False].index, inplace = True)\n",
    "df.head()"
   ]
  },
  {
   "cell_type": "code",
   "execution_count": 40,
   "id": "03cd79cc",
   "metadata": {},
   "outputs": [
    {
     "name": "stdout",
     "output_type": "stream",
     "text": [
      "<class 'pandas.core.frame.DataFrame'>\n",
      "Int64Index: 4633 entries, 0 to 32173\n",
      "Data columns (total 6 columns):\n",
      " #   Column       Non-Null Count  Dtype \n",
      "---  ------       --------------  ----- \n",
      " 0   state        4633 non-null   object\n",
      " 1   county       4633 non-null   object\n",
      " 2   candidate    4633 non-null   object\n",
      " 3   party        4633 non-null   object\n",
      " 4   total_votes  4633 non-null   int64 \n",
      " 5   won          4633 non-null   bool  \n",
      "dtypes: bool(1), int64(1), object(4)\n",
      "memory usage: 221.7+ KB\n"
     ]
    }
   ],
   "source": [
    "df.info()"
   ]
  },
  {
   "cell_type": "code",
   "execution_count": 41,
   "id": "78b93d1b",
   "metadata": {},
   "outputs": [
    {
     "data": {
      "text/plain": "        state       county      lat       lng  population  density\n0    New York       Queens  40.6943  -73.9249    18680025  10768.0\n1  California  Los Angeles  34.1141 -118.4068    12531334   3267.0\n2    Illinois         Cook  41.8375  -87.6866     8586888   4576.0\n3     Florida   Miami-Dade  25.7840  -80.2101     6076316   4945.0\n4       Texas       Dallas  32.7935  -96.7667     5910669   1522.0",
      "text/html": "<div>\n<style scoped>\n    .dataframe tbody tr th:only-of-type {\n        vertical-align: middle;\n    }\n\n    .dataframe tbody tr th {\n        vertical-align: top;\n    }\n\n    .dataframe thead th {\n        text-align: right;\n    }\n</style>\n<table border=\"1\" class=\"dataframe\">\n  <thead>\n    <tr style=\"text-align: right;\">\n      <th></th>\n      <th>state</th>\n      <th>county</th>\n      <th>lat</th>\n      <th>lng</th>\n      <th>population</th>\n      <th>density</th>\n    </tr>\n  </thead>\n  <tbody>\n    <tr>\n      <th>0</th>\n      <td>New York</td>\n      <td>Queens</td>\n      <td>40.6943</td>\n      <td>-73.9249</td>\n      <td>18680025</td>\n      <td>10768.0</td>\n    </tr>\n    <tr>\n      <th>1</th>\n      <td>California</td>\n      <td>Los Angeles</td>\n      <td>34.1141</td>\n      <td>-118.4068</td>\n      <td>12531334</td>\n      <td>3267.0</td>\n    </tr>\n    <tr>\n      <th>2</th>\n      <td>Illinois</td>\n      <td>Cook</td>\n      <td>41.8375</td>\n      <td>-87.6866</td>\n      <td>8586888</td>\n      <td>4576.0</td>\n    </tr>\n    <tr>\n      <th>3</th>\n      <td>Florida</td>\n      <td>Miami-Dade</td>\n      <td>25.7840</td>\n      <td>-80.2101</td>\n      <td>6076316</td>\n      <td>4945.0</td>\n    </tr>\n    <tr>\n      <th>4</th>\n      <td>Texas</td>\n      <td>Dallas</td>\n      <td>32.7935</td>\n      <td>-96.7667</td>\n      <td>5910669</td>\n      <td>1522.0</td>\n    </tr>\n  </tbody>\n</table>\n</div>"
     },
     "execution_count": 41,
     "metadata": {},
     "output_type": "execute_result"
    }
   ],
   "source": [
    "df_geo.drop(['city', 'city_ascii', 'state_id', 'county_fips', 'source', 'military', 'incorporated', 'timezone', 'ranking', 'zips', 'id'], axis = 1, inplace = True)\n",
    "df_geo.rename(columns={\"state_name\": \"state\", \"county_name\": \"county\"}, inplace = True)\n",
    "df_geo.head()"
   ]
  },
  {
   "cell_type": "code",
   "execution_count": 42,
   "id": "90213fd6",
   "metadata": {},
   "outputs": [
    {
     "name": "stdout",
     "output_type": "stream",
     "text": [
      "<class 'pandas.core.frame.DataFrame'>\n",
      "RangeIndex: 30416 entries, 0 to 30415\n",
      "Data columns (total 6 columns):\n",
      " #   Column      Non-Null Count  Dtype  \n",
      "---  ------      --------------  -----  \n",
      " 0   state       30416 non-null  object \n",
      " 1   county      30416 non-null  object \n",
      " 2   lat         30416 non-null  float64\n",
      " 3   lng         30416 non-null  float64\n",
      " 4   population  30416 non-null  int64  \n",
      " 5   density     30416 non-null  float64\n",
      "dtypes: float64(3), int64(1), object(2)\n",
      "memory usage: 1.4+ MB\n"
     ]
    }
   ],
   "source": [
    "df_geo.info()"
   ]
  },
  {
   "cell_type": "code",
   "execution_count": 43,
   "id": "2e77904f",
   "metadata": {},
   "outputs": [
    {
     "data": {
      "text/plain": "                    state      county     candidate party  total_votes   won  \\\n0                Delaware        Kent     Joe Biden   DEM        44552  True   \n26               Delaware  New Castle     Joe Biden   DEM       195034  True   \n52               Delaware      Sussex  Donald Trump   REP        71230  True   \n79   District of Columbia      Ward 1     Joe Biden   DEM        39041  True   \n80   District of Columbia      Ward 2     Joe Biden   DEM        29078  True   \n81   District of Columbia      Ward 3     Joe Biden   DEM        39397  True   \n82   District of Columbia      Ward 4     Joe Biden   DEM        42489  True   \n83   District of Columbia      Ward 5     Joe Biden   DEM        43320  True   \n84   District of Columbia      Ward 6     Joe Biden   DEM        56719  True   \n85   District of Columbia      Ward 7     Joe Biden   DEM        36382  True   \n86   District of Columbia      Ward 8     Joe Biden   DEM        30897  True   \n87                Florida     Alachua     Joe Biden   DEM        89704  True   \n96                Florida       Baker  Donald Trump   REP        11911  True   \n98                Florida         Bay  Donald Trump   REP        66097  True   \n111               Florida    Bradford  Donald Trump   REP        10334  True   \n115               Florida     Brevard  Donald Trump   REP       207883  True   \n146               Florida     Broward     Joe Biden   DEM       618752  True   \n183               Florida     Calhoun  Donald Trump   REP         5274  True   \n185               Florida   Charlotte  Donald Trump   REP        73243  True   \n195               Florida      Citrus  Donald Trump   REP        65352  True   \n\n         lat      lng  population  density  \n0    39.1610 -75.5202    125931.0    617.0  \n26   39.7415 -75.5416     70655.0   2503.0  \n52   38.9091 -75.4227     11463.0    449.0  \n79   38.9072 -77.0369     82404.0  12910.0  \n80   38.9063 -77.0340     76492.0   4624.0  \n81   38.9884 -77.0900     82450.0   3059.0  \n82   38.9310 -77.0380     86085.0   3740.0  \n83   38.9717 -77.0089     88948.0   3369.0  \n84   38.8869 -76.9896    102233.0   6893.0  \n85   38.8582 -76.9478     81270.0   3734.0  \n86   38.8409 -76.9859     83272.0   3713.0  \n87   29.6804 -82.3459    203541.0    816.0  \n96   30.2809 -82.1253      6732.0    534.0  \n98   30.1995 -85.6003    149366.0    395.0  \n111  29.9474 -82.1129      5415.0    291.0  \n115  27.9631 -80.6593    496640.0    508.0  \n146  26.1412 -80.1464    181818.0   2029.0  \n183  30.4430 -85.0455      3273.0    396.0  \n185  26.9918 -82.1140     64335.0    872.0  \n195  28.8119 -82.5392     86578.0    223.0  ",
      "text/html": "<div>\n<style scoped>\n    .dataframe tbody tr th:only-of-type {\n        vertical-align: middle;\n    }\n\n    .dataframe tbody tr th {\n        vertical-align: top;\n    }\n\n    .dataframe thead th {\n        text-align: right;\n    }\n</style>\n<table border=\"1\" class=\"dataframe\">\n  <thead>\n    <tr style=\"text-align: right;\">\n      <th></th>\n      <th>state</th>\n      <th>county</th>\n      <th>candidate</th>\n      <th>party</th>\n      <th>total_votes</th>\n      <th>won</th>\n      <th>lat</th>\n      <th>lng</th>\n      <th>population</th>\n      <th>density</th>\n    </tr>\n  </thead>\n  <tbody>\n    <tr>\n      <th>0</th>\n      <td>Delaware</td>\n      <td>Kent</td>\n      <td>Joe Biden</td>\n      <td>DEM</td>\n      <td>44552</td>\n      <td>True</td>\n      <td>39.1610</td>\n      <td>-75.5202</td>\n      <td>125931.0</td>\n      <td>617.0</td>\n    </tr>\n    <tr>\n      <th>26</th>\n      <td>Delaware</td>\n      <td>New Castle</td>\n      <td>Joe Biden</td>\n      <td>DEM</td>\n      <td>195034</td>\n      <td>True</td>\n      <td>39.7415</td>\n      <td>-75.5416</td>\n      <td>70655.0</td>\n      <td>2503.0</td>\n    </tr>\n    <tr>\n      <th>52</th>\n      <td>Delaware</td>\n      <td>Sussex</td>\n      <td>Donald Trump</td>\n      <td>REP</td>\n      <td>71230</td>\n      <td>True</td>\n      <td>38.9091</td>\n      <td>-75.4227</td>\n      <td>11463.0</td>\n      <td>449.0</td>\n    </tr>\n    <tr>\n      <th>79</th>\n      <td>District of Columbia</td>\n      <td>Ward 1</td>\n      <td>Joe Biden</td>\n      <td>DEM</td>\n      <td>39041</td>\n      <td>True</td>\n      <td>38.9072</td>\n      <td>-77.0369</td>\n      <td>82404.0</td>\n      <td>12910.0</td>\n    </tr>\n    <tr>\n      <th>80</th>\n      <td>District of Columbia</td>\n      <td>Ward 2</td>\n      <td>Joe Biden</td>\n      <td>DEM</td>\n      <td>29078</td>\n      <td>True</td>\n      <td>38.9063</td>\n      <td>-77.0340</td>\n      <td>76492.0</td>\n      <td>4624.0</td>\n    </tr>\n    <tr>\n      <th>81</th>\n      <td>District of Columbia</td>\n      <td>Ward 3</td>\n      <td>Joe Biden</td>\n      <td>DEM</td>\n      <td>39397</td>\n      <td>True</td>\n      <td>38.9884</td>\n      <td>-77.0900</td>\n      <td>82450.0</td>\n      <td>3059.0</td>\n    </tr>\n    <tr>\n      <th>82</th>\n      <td>District of Columbia</td>\n      <td>Ward 4</td>\n      <td>Joe Biden</td>\n      <td>DEM</td>\n      <td>42489</td>\n      <td>True</td>\n      <td>38.9310</td>\n      <td>-77.0380</td>\n      <td>86085.0</td>\n      <td>3740.0</td>\n    </tr>\n    <tr>\n      <th>83</th>\n      <td>District of Columbia</td>\n      <td>Ward 5</td>\n      <td>Joe Biden</td>\n      <td>DEM</td>\n      <td>43320</td>\n      <td>True</td>\n      <td>38.9717</td>\n      <td>-77.0089</td>\n      <td>88948.0</td>\n      <td>3369.0</td>\n    </tr>\n    <tr>\n      <th>84</th>\n      <td>District of Columbia</td>\n      <td>Ward 6</td>\n      <td>Joe Biden</td>\n      <td>DEM</td>\n      <td>56719</td>\n      <td>True</td>\n      <td>38.8869</td>\n      <td>-76.9896</td>\n      <td>102233.0</td>\n      <td>6893.0</td>\n    </tr>\n    <tr>\n      <th>85</th>\n      <td>District of Columbia</td>\n      <td>Ward 7</td>\n      <td>Joe Biden</td>\n      <td>DEM</td>\n      <td>36382</td>\n      <td>True</td>\n      <td>38.8582</td>\n      <td>-76.9478</td>\n      <td>81270.0</td>\n      <td>3734.0</td>\n    </tr>\n    <tr>\n      <th>86</th>\n      <td>District of Columbia</td>\n      <td>Ward 8</td>\n      <td>Joe Biden</td>\n      <td>DEM</td>\n      <td>30897</td>\n      <td>True</td>\n      <td>38.8409</td>\n      <td>-76.9859</td>\n      <td>83272.0</td>\n      <td>3713.0</td>\n    </tr>\n    <tr>\n      <th>87</th>\n      <td>Florida</td>\n      <td>Alachua</td>\n      <td>Joe Biden</td>\n      <td>DEM</td>\n      <td>89704</td>\n      <td>True</td>\n      <td>29.6804</td>\n      <td>-82.3459</td>\n      <td>203541.0</td>\n      <td>816.0</td>\n    </tr>\n    <tr>\n      <th>96</th>\n      <td>Florida</td>\n      <td>Baker</td>\n      <td>Donald Trump</td>\n      <td>REP</td>\n      <td>11911</td>\n      <td>True</td>\n      <td>30.2809</td>\n      <td>-82.1253</td>\n      <td>6732.0</td>\n      <td>534.0</td>\n    </tr>\n    <tr>\n      <th>98</th>\n      <td>Florida</td>\n      <td>Bay</td>\n      <td>Donald Trump</td>\n      <td>REP</td>\n      <td>66097</td>\n      <td>True</td>\n      <td>30.1995</td>\n      <td>-85.6003</td>\n      <td>149366.0</td>\n      <td>395.0</td>\n    </tr>\n    <tr>\n      <th>111</th>\n      <td>Florida</td>\n      <td>Bradford</td>\n      <td>Donald Trump</td>\n      <td>REP</td>\n      <td>10334</td>\n      <td>True</td>\n      <td>29.9474</td>\n      <td>-82.1129</td>\n      <td>5415.0</td>\n      <td>291.0</td>\n    </tr>\n    <tr>\n      <th>115</th>\n      <td>Florida</td>\n      <td>Brevard</td>\n      <td>Donald Trump</td>\n      <td>REP</td>\n      <td>207883</td>\n      <td>True</td>\n      <td>27.9631</td>\n      <td>-80.6593</td>\n      <td>496640.0</td>\n      <td>508.0</td>\n    </tr>\n    <tr>\n      <th>146</th>\n      <td>Florida</td>\n      <td>Broward</td>\n      <td>Joe Biden</td>\n      <td>DEM</td>\n      <td>618752</td>\n      <td>True</td>\n      <td>26.1412</td>\n      <td>-80.1464</td>\n      <td>181818.0</td>\n      <td>2029.0</td>\n    </tr>\n    <tr>\n      <th>183</th>\n      <td>Florida</td>\n      <td>Calhoun</td>\n      <td>Donald Trump</td>\n      <td>REP</td>\n      <td>5274</td>\n      <td>True</td>\n      <td>30.4430</td>\n      <td>-85.0455</td>\n      <td>3273.0</td>\n      <td>396.0</td>\n    </tr>\n    <tr>\n      <th>185</th>\n      <td>Florida</td>\n      <td>Charlotte</td>\n      <td>Donald Trump</td>\n      <td>REP</td>\n      <td>73243</td>\n      <td>True</td>\n      <td>26.9918</td>\n      <td>-82.1140</td>\n      <td>64335.0</td>\n      <td>872.0</td>\n    </tr>\n    <tr>\n      <th>195</th>\n      <td>Florida</td>\n      <td>Citrus</td>\n      <td>Donald Trump</td>\n      <td>REP</td>\n      <td>65352</td>\n      <td>True</td>\n      <td>28.8119</td>\n      <td>-82.5392</td>\n      <td>86578.0</td>\n      <td>223.0</td>\n    </tr>\n  </tbody>\n</table>\n</div>"
     },
     "execution_count": 43,
     "metadata": {},
     "output_type": "execute_result"
    }
   ],
   "source": [
    "df20 = pd.merge(df, df_geo, on=['county', 'state'], how = 'left')\n",
    "df20.drop_duplicates(\n",
    "  subset = ['state', 'county'],\n",
    "  keep = 'first', inplace = True)\n",
    "\n",
    "df20.head(20)"
   ]
  },
  {
   "cell_type": "code",
   "execution_count": 44,
   "id": "6a409f95",
   "metadata": {},
   "outputs": [],
   "source": [
    "#df_mainland = df1[~df1[\"state\"].isin([\"Alaska\", \"Hawaii\"])]\n",
    "\n",
    "#plt.figure(figsize = (14,10))\n",
    "#sns.scatterplot(data = df_mainland, x = \"long\", y = \"lat\", hue = \"percentage20_Joe_Biden\", size = \"total_votes20\",\n",
    "#                sizes = (20, 200), size_norm = (10000, 800000), hue_norm = (0.031,0.944), palette = \"coolwarm_r\")\n",
    "#plt.title(\"The 2020 Election (Red = More Republican; Blue = More Democratic)\");\n"
   ]
  }
 ],
 "metadata": {
  "kernelspec": {
   "display_name": "Python 3 (ipykernel)",
   "language": "python",
   "name": "python3"
  },
  "language_info": {
   "codemirror_mode": {
    "name": "ipython",
    "version": 3
   },
   "file_extension": ".py",
   "mimetype": "text/x-python",
   "name": "python",
   "nbconvert_exporter": "python",
   "pygments_lexer": "ipython3",
   "version": "3.10.8"
  }
 },
 "nbformat": 4,
 "nbformat_minor": 5
}
