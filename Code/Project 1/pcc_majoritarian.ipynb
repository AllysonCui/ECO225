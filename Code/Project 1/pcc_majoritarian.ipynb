{
 "cells": [
  {
   "cell_type": "code",
   "execution_count": null,
   "id": "1576a859",
   "metadata": {},
   "outputs": [],
   "source": [
    "import numpy as np\n",
    "import pandas as pd\n",
    "import matplotlib.pyplot as plt\n",
    "import seaborn as sns\n",
    "import plotly.express as px"
   ]
  },
  {
   "cell_type": "code",
   "execution_count": null,
   "id": "99c19099",
   "metadata": {},
   "outputs": [],
   "source": [
    "df = pd.read_csv('/Users/jiaxincui/Documents/GitHub/git-exercise-AllysonCui/Data/Kaggle/president_county_candidate.csv')\n",
    "df_geo = pd.read_csv('/Users/jiaxincui/Documents/GitHub/git-exercise-AllysonCui/Data/Other/uscities.csv')\n",
    "pd.set_option('display.max_columns', None)"
   ]
  },
  {
   "cell_type": "code",
   "execution_count": null,
   "id": "c0e27e63",
   "metadata": {},
   "outputs": [],
   "source": [
    "df['county'] = df['county'].str.replace(' County', '')\n",
    "df.drop(df[df['won'] == False].index, inplace = True)\n",
    "df.head()"
   ]
  },
  {
   "cell_type": "code",
   "execution_count": null,
   "id": "03cd79cc",
   "metadata": {},
   "outputs": [],
   "source": [
    "df.info()"
   ]
  },
  {
   "cell_type": "code",
   "execution_count": null,
   "id": "78b93d1b",
   "metadata": {},
   "outputs": [],
   "source": [
    "df_geo.drop(['city', 'city_ascii', 'state_id', 'county_fips', 'source', 'military', 'incorporated', 'timezone', 'ranking', 'zips', 'id'], axis = 1, inplace = True)\n",
    "df_geo.rename(columns={\"state_name\": \"state\", \"county_name\": \"county\"}, inplace = True)\n",
    "df_geo.head()"
   ]
  },
  {
   "cell_type": "code",
   "execution_count": null,
   "id": "90213fd6",
   "metadata": {},
   "outputs": [],
   "source": [
    "df_geo.info()"
   ]
  },
  {
   "cell_type": "code",
   "execution_count": null,
   "id": "2e77904f",
   "metadata": {},
   "outputs": [],
   "source": [
    "df20 = pd.merge(df, df_geo, on=['county', 'state'], how = 'left')\n",
    "df20.drop_duplicates(\n",
    "  subset = ['state', 'county'],\n",
    "  keep = 'first', inplace = True)\n",
    "\n",
    "df20.head(20)"
   ]
  },
  {
   "cell_type": "code",
   "execution_count": null,
   "id": "6a409f95",
   "metadata": {},
   "outputs": [],
   "source": [
    "#df_mainland = df1[~df1[\"state\"].isin([\"Alaska\", \"Hawaii\"])]\n",
    "\n",
    "#plt.figure(figsize = (14,10))\n",
    "#sns.scatterplot(data = df_mainland, x = \"long\", y = \"lat\", hue = \"percentage20_Joe_Biden\", size = \"total_votes20\",\n",
    "#                sizes = (20, 200), size_norm = (10000, 800000), hue_norm = (0.031,0.944), palette = \"coolwarm_r\")\n",
    "#plt.title(\"The 2020 Election (Red = More Republican; Blue = More Democratic)\");\n"
   ]
  }
 ],
 "metadata": {
  "kernelspec": {
   "display_name": "Python 3 (ipykernel)",
   "language": "python",
   "name": "python3"
  },
  "language_info": {
   "codemirror_mode": {
    "name": "ipython",
    "version": 3
   },
   "file_extension": ".py",
   "mimetype": "text/x-python",
   "name": "python",
   "nbconvert_exporter": "python",
   "pygments_lexer": "ipython3",
   "version": "3.10.8"
  }
 },
 "nbformat": 4,
 "nbformat_minor": 5
}
