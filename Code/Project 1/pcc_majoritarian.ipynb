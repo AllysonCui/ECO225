{
 "cells": [
  {
   "cell_type": "code",
   "execution_count": 5,
   "id": "1576a859",
   "metadata": {},
   "outputs": [],
   "source": [
    "import numpy as np\n",
    "import pandas as pd\n",
    "import matplotlib.pyplot as plt\n",
    "import seaborn as sns\n",
    "import plotly.express as px"
   ]
  },
  {
   "cell_type": "code",
   "execution_count": 6,
   "id": "99c19099",
   "metadata": {},
   "outputs": [
    {
     "name": "stdout",
     "output_type": "stream",
     "text": [
      "<class 'pandas.core.frame.DataFrame'>\n",
      "RangeIndex: 32177 entries, 0 to 32176\n",
      "Data columns (total 6 columns):\n",
      " #   Column       Non-Null Count  Dtype \n",
      "---  ------       --------------  ----- \n",
      " 0   state        32177 non-null  object\n",
      " 1   county       32177 non-null  object\n",
      " 2   candidate    32177 non-null  object\n",
      " 3   party        32177 non-null  object\n",
      " 4   total_votes  32177 non-null  int64 \n",
      " 5   won          32177 non-null  bool  \n",
      "dtypes: bool(1), int64(1), object(4)\n",
      "memory usage: 1.3+ MB\n"
     ]
    }
   ],
   "source": [
    "df = pd.read_csv('/Users/jiaxincui/Documents/GitHub/git-exercise-AllysonCui/Data/Kaggle/president_county_candidate.csv')\n",
    "df_pc = pd.read_csv('/Users/jiaxincui/Documents/GitHub/git-exercise-AllysonCui/Data/Kaggle/president_county.csv')\n",
    "df_geo = pd.read_csv('/Users/jiaxincui/Documents/GitHub/git-exercise-AllysonCui/Data/Other/uscities.csv')\n",
    "\n",
    "pd.set_option('display.max_columns', None)\n",
    "df.info()"
   ]
  },
  {
   "cell_type": "code",
   "execution_count": 3,
   "id": "c0e27e63",
   "metadata": {},
   "outputs": [],
   "source": [
    "#change column 'total_votes' to 'votes', add columns named 'won' 'total_votes' and 'votes/total_votes'\n",
    "df1 = df.copy()\n",
    "#result = [False]*len(df)\n",
    "county = df_pc['county']\n",
    "current_votes = df_pc['current_votes']\n",
    "total_votes = []\n",
    "i = 0\n",
    "for index, row in df1.iterrows():\n",
    "    if  i < len(df_pc) and row['county'] == county.iloc[i]:\n",
    "#        result[index] = True\n",
    "        i += 1\n",
    "    total_votes.append(current_votes.iloc[i-1])\n",
    "#df1['won'] = result\n",
    "df1['county'] = df1['county'].str.replace(' County', '')\n",
    "df1.rename(columns={\"total_votes\": \"winner_votes\"}, inplace=True)\n",
    "df1['total_votes'] = total_votes\n",
    "df1['winner_votes/total_votes'] = df1['winner_votes'] / df1['total_votes']"
   ]
  },
  {
   "cell_type": "code",
   "execution_count": 4,
   "outputs": [
    {
     "data": {
      "text/plain": "          state      county      candidate party  winner_votes    won  \\\n0      Delaware        Kent      Joe Biden   DEM         44552   True   \n1      Delaware        Kent   Donald Trump   REP         41009  False   \n2      Delaware        Kent   Jo Jorgensen   LIB          1044  False   \n3      Delaware        Kent  Howie Hawkins   GRN           420  False   \n4      Delaware  New Castle      Joe Biden   DEM        195034   True   \n...         ...         ...            ...   ...           ...    ...   \n32172   Arizona    Maricopa      Write-ins   WRI          1331  False   \n32173   Arizona      Mohave   Donald Trump   REP         78535   True   \n32174   Arizona      Mohave      Joe Biden   DEM         24831  False   \n32175   Arizona      Mohave   Jo Jorgensen   LIB          1302  False   \n32176   Arizona      Mohave      Write-ins   WRI            37  False   \n\n       total_votes  winner_votes/total_votes  \n0            87025                  0.511945  \n1            87025                  0.471232  \n2            87025                  0.011997  \n3            87025                  0.004826  \n4           287633                  0.678065  \n...            ...                       ...  \n32172       129352                  0.010290  \n32173       129352                  0.607142  \n32174       129352                  0.191965  \n32175       129352                  0.010066  \n32176       129352                  0.000286  \n\n[32177 rows x 8 columns]",
      "text/html": "<div>\n<style scoped>\n    .dataframe tbody tr th:only-of-type {\n        vertical-align: middle;\n    }\n\n    .dataframe tbody tr th {\n        vertical-align: top;\n    }\n\n    .dataframe thead th {\n        text-align: right;\n    }\n</style>\n<table border=\"1\" class=\"dataframe\">\n  <thead>\n    <tr style=\"text-align: right;\">\n      <th></th>\n      <th>state</th>\n      <th>county</th>\n      <th>candidate</th>\n      <th>party</th>\n      <th>winner_votes</th>\n      <th>won</th>\n      <th>total_votes</th>\n      <th>winner_votes/total_votes</th>\n    </tr>\n  </thead>\n  <tbody>\n    <tr>\n      <th>0</th>\n      <td>Delaware</td>\n      <td>Kent</td>\n      <td>Joe Biden</td>\n      <td>DEM</td>\n      <td>44552</td>\n      <td>True</td>\n      <td>87025</td>\n      <td>0.511945</td>\n    </tr>\n    <tr>\n      <th>1</th>\n      <td>Delaware</td>\n      <td>Kent</td>\n      <td>Donald Trump</td>\n      <td>REP</td>\n      <td>41009</td>\n      <td>False</td>\n      <td>87025</td>\n      <td>0.471232</td>\n    </tr>\n    <tr>\n      <th>2</th>\n      <td>Delaware</td>\n      <td>Kent</td>\n      <td>Jo Jorgensen</td>\n      <td>LIB</td>\n      <td>1044</td>\n      <td>False</td>\n      <td>87025</td>\n      <td>0.011997</td>\n    </tr>\n    <tr>\n      <th>3</th>\n      <td>Delaware</td>\n      <td>Kent</td>\n      <td>Howie Hawkins</td>\n      <td>GRN</td>\n      <td>420</td>\n      <td>False</td>\n      <td>87025</td>\n      <td>0.004826</td>\n    </tr>\n    <tr>\n      <th>4</th>\n      <td>Delaware</td>\n      <td>New Castle</td>\n      <td>Joe Biden</td>\n      <td>DEM</td>\n      <td>195034</td>\n      <td>True</td>\n      <td>287633</td>\n      <td>0.678065</td>\n    </tr>\n    <tr>\n      <th>...</th>\n      <td>...</td>\n      <td>...</td>\n      <td>...</td>\n      <td>...</td>\n      <td>...</td>\n      <td>...</td>\n      <td>...</td>\n      <td>...</td>\n    </tr>\n    <tr>\n      <th>32172</th>\n      <td>Arizona</td>\n      <td>Maricopa</td>\n      <td>Write-ins</td>\n      <td>WRI</td>\n      <td>1331</td>\n      <td>False</td>\n      <td>129352</td>\n      <td>0.010290</td>\n    </tr>\n    <tr>\n      <th>32173</th>\n      <td>Arizona</td>\n      <td>Mohave</td>\n      <td>Donald Trump</td>\n      <td>REP</td>\n      <td>78535</td>\n      <td>True</td>\n      <td>129352</td>\n      <td>0.607142</td>\n    </tr>\n    <tr>\n      <th>32174</th>\n      <td>Arizona</td>\n      <td>Mohave</td>\n      <td>Joe Biden</td>\n      <td>DEM</td>\n      <td>24831</td>\n      <td>False</td>\n      <td>129352</td>\n      <td>0.191965</td>\n    </tr>\n    <tr>\n      <th>32175</th>\n      <td>Arizona</td>\n      <td>Mohave</td>\n      <td>Jo Jorgensen</td>\n      <td>LIB</td>\n      <td>1302</td>\n      <td>False</td>\n      <td>129352</td>\n      <td>0.010066</td>\n    </tr>\n    <tr>\n      <th>32176</th>\n      <td>Arizona</td>\n      <td>Mohave</td>\n      <td>Write-ins</td>\n      <td>WRI</td>\n      <td>37</td>\n      <td>False</td>\n      <td>129352</td>\n      <td>0.000286</td>\n    </tr>\n  </tbody>\n</table>\n<p>32177 rows × 8 columns</p>\n</div>"
     },
     "execution_count": 4,
     "metadata": {},
     "output_type": "execute_result"
    }
   ],
   "source": [
    "df1"
   ],
   "metadata": {
    "collapsed": false
   }
  },
  {
   "cell_type": "code",
   "execution_count": null,
   "outputs": [],
   "source": [
    "df1.head(20)"
   ],
   "metadata": {
    "collapsed": false
   }
  },
  {
   "cell_type": "code",
   "execution_count": null,
   "id": "03cd79cc",
   "metadata": {},
   "outputs": [],
   "source": [
    "df_winner = df1.copy()\n",
    "df_winner.drop(df_winner[df_winner['won'] == False].index, inplace = True)\n",
    "df_winner['REP_won'] = df_winner['party'] == 'REP'\n",
    "df_winner.info()"
   ]
  },
  {
   "cell_type": "code",
   "execution_count": null,
   "outputs": [],
   "source": [
    "df_winner.head()"
   ],
   "metadata": {
    "collapsed": false
   }
  },
  {
   "cell_type": "code",
   "execution_count": null,
   "outputs": [],
   "source": [
    "plt.figure(figsize = (20,15))\n",
    "sns.scatterplot(data = df_winner, x = \"winner_votes/total_votes\", y = \"total_votes\", hue = \"REP_won\", size = \"total_votes\", palette = \"coolwarm\", sizes=(10,200))\n",
    "plt.title(\"2020 Republican Voting on Senate Election\")"
   ],
   "metadata": {
    "collapsed": false
   }
  },
  {
   "cell_type": "code",
   "execution_count": 7,
   "outputs": [
    {
     "data": {
      "text/plain": "        state       county      lat       lng  population  density\n0    New York       Queens  40.6943  -73.9249    18680025  10768.0\n1  California  Los Angeles  34.1141 -118.4068    12531334   3267.0\n2    Illinois         Cook  41.8375  -87.6866     8586888   4576.0\n3     Florida   Miami-Dade  25.7840  -80.2101     6076316   4945.0\n4       Texas       Dallas  32.7935  -96.7667     5910669   1522.0",
      "text/html": "<div>\n<style scoped>\n    .dataframe tbody tr th:only-of-type {\n        vertical-align: middle;\n    }\n\n    .dataframe tbody tr th {\n        vertical-align: top;\n    }\n\n    .dataframe thead th {\n        text-align: right;\n    }\n</style>\n<table border=\"1\" class=\"dataframe\">\n  <thead>\n    <tr style=\"text-align: right;\">\n      <th></th>\n      <th>state</th>\n      <th>county</th>\n      <th>lat</th>\n      <th>lng</th>\n      <th>population</th>\n      <th>density</th>\n    </tr>\n  </thead>\n  <tbody>\n    <tr>\n      <th>0</th>\n      <td>New York</td>\n      <td>Queens</td>\n      <td>40.6943</td>\n      <td>-73.9249</td>\n      <td>18680025</td>\n      <td>10768.0</td>\n    </tr>\n    <tr>\n      <th>1</th>\n      <td>California</td>\n      <td>Los Angeles</td>\n      <td>34.1141</td>\n      <td>-118.4068</td>\n      <td>12531334</td>\n      <td>3267.0</td>\n    </tr>\n    <tr>\n      <th>2</th>\n      <td>Illinois</td>\n      <td>Cook</td>\n      <td>41.8375</td>\n      <td>-87.6866</td>\n      <td>8586888</td>\n      <td>4576.0</td>\n    </tr>\n    <tr>\n      <th>3</th>\n      <td>Florida</td>\n      <td>Miami-Dade</td>\n      <td>25.7840</td>\n      <td>-80.2101</td>\n      <td>6076316</td>\n      <td>4945.0</td>\n    </tr>\n    <tr>\n      <th>4</th>\n      <td>Texas</td>\n      <td>Dallas</td>\n      <td>32.7935</td>\n      <td>-96.7667</td>\n      <td>5910669</td>\n      <td>1522.0</td>\n    </tr>\n  </tbody>\n</table>\n</div>"
     },
     "execution_count": 7,
     "metadata": {},
     "output_type": "execute_result"
    }
   ],
   "source": [
    "df_geo.drop(['city', 'city_ascii', 'state_id', 'county_fips', 'source', 'military', 'incorporated', 'timezone', 'ranking', 'zips', 'id'], axis = 1, inplace = True)\n",
    "df_geo.rename(columns={\"state_name\": \"state\", \"county_name\": \"county\"}, inplace = True)\n",
    "df_geo.head()"
   ],
   "metadata": {
    "collapsed": false
   }
  },
  {
   "cell_type": "code",
   "execution_count": 8,
   "id": "90213fd6",
   "metadata": {},
   "outputs": [
    {
     "name": "stdout",
     "output_type": "stream",
     "text": [
      "<class 'pandas.core.frame.DataFrame'>\n",
      "RangeIndex: 30416 entries, 0 to 30415\n",
      "Data columns (total 6 columns):\n",
      " #   Column      Non-Null Count  Dtype  \n",
      "---  ------      --------------  -----  \n",
      " 0   state       30416 non-null  object \n",
      " 1   county      30416 non-null  object \n",
      " 2   lat         30416 non-null  float64\n",
      " 3   lng         30416 non-null  float64\n",
      " 4   population  30416 non-null  int64  \n",
      " 5   density     30416 non-null  float64\n",
      "dtypes: float64(3), int64(1), object(2)\n",
      "memory usage: 1.4+ MB\n"
     ]
    }
   ],
   "source": [
    "df_geo.info()"
   ]
  },
  {
   "cell_type": "code",
   "execution_count": 9,
   "id": "2e77904f",
   "metadata": {},
   "outputs": [
    {
     "data": {
      "text/plain": "                    state             county     candidate party  total_votes  \\\n0                Delaware        Kent County     Joe Biden   DEM        44552   \n4                Delaware  New Castle County     Joe Biden   DEM       195034   \n8                Delaware      Sussex County  Donald Trump   REP        71230   \n12   District of Columbia             Ward 1     Joe Biden   DEM        39041   \n19   District of Columbia             Ward 2     Joe Biden   DEM        29078   \n26   District of Columbia             Ward 3     Joe Biden   DEM        39397   \n33   District of Columbia             Ward 4     Joe Biden   DEM        42489   \n40   District of Columbia             Ward 5     Joe Biden   DEM        43320   \n47   District of Columbia             Ward 6     Joe Biden   DEM        56719   \n54   District of Columbia             Ward 7     Joe Biden   DEM        36382   \n61   District of Columbia             Ward 8     Joe Biden   DEM        30897   \n68                Florida     Alachua County     Joe Biden   DEM        89704   \n76                Florida       Baker County  Donald Trump   REP        11911   \n84                Florida         Bay County  Donald Trump   REP        66097   \n92                Florida    Bradford County  Donald Trump   REP        10334   \n100               Florida     Brevard County  Donald Trump   REP       207883   \n108               Florida     Broward County     Joe Biden   DEM       618752   \n116               Florida     Calhoun County  Donald Trump   REP         5274   \n124               Florida   Charlotte County  Donald Trump   REP        73243   \n132               Florida      Citrus County  Donald Trump   REP        65352   \n\n      won      lat      lng  population  density  \n0    True      NaN      NaN         NaN      NaN  \n4    True      NaN      NaN         NaN      NaN  \n8    True      NaN      NaN         NaN      NaN  \n12   True  38.9072 -77.0369     82404.0  12910.0  \n19   True  38.9063 -77.0340     76492.0   4624.0  \n26   True  38.9884 -77.0900     82450.0   3059.0  \n33   True  38.9310 -77.0380     86085.0   3740.0  \n40   True  38.9717 -77.0089     88948.0   3369.0  \n47   True  38.8869 -76.9896    102233.0   6893.0  \n54   True  38.8582 -76.9478     81270.0   3734.0  \n61   True  38.8409 -76.9859     83272.0   3713.0  \n68   True      NaN      NaN         NaN      NaN  \n76   True      NaN      NaN         NaN      NaN  \n84   True      NaN      NaN         NaN      NaN  \n92   True      NaN      NaN         NaN      NaN  \n100  True      NaN      NaN         NaN      NaN  \n108  True      NaN      NaN         NaN      NaN  \n116  True      NaN      NaN         NaN      NaN  \n124  True      NaN      NaN         NaN      NaN  \n132  True      NaN      NaN         NaN      NaN  ",
      "text/html": "<div>\n<style scoped>\n    .dataframe tbody tr th:only-of-type {\n        vertical-align: middle;\n    }\n\n    .dataframe tbody tr th {\n        vertical-align: top;\n    }\n\n    .dataframe thead th {\n        text-align: right;\n    }\n</style>\n<table border=\"1\" class=\"dataframe\">\n  <thead>\n    <tr style=\"text-align: right;\">\n      <th></th>\n      <th>state</th>\n      <th>county</th>\n      <th>candidate</th>\n      <th>party</th>\n      <th>total_votes</th>\n      <th>won</th>\n      <th>lat</th>\n      <th>lng</th>\n      <th>population</th>\n      <th>density</th>\n    </tr>\n  </thead>\n  <tbody>\n    <tr>\n      <th>0</th>\n      <td>Delaware</td>\n      <td>Kent County</td>\n      <td>Joe Biden</td>\n      <td>DEM</td>\n      <td>44552</td>\n      <td>True</td>\n      <td>NaN</td>\n      <td>NaN</td>\n      <td>NaN</td>\n      <td>NaN</td>\n    </tr>\n    <tr>\n      <th>4</th>\n      <td>Delaware</td>\n      <td>New Castle County</td>\n      <td>Joe Biden</td>\n      <td>DEM</td>\n      <td>195034</td>\n      <td>True</td>\n      <td>NaN</td>\n      <td>NaN</td>\n      <td>NaN</td>\n      <td>NaN</td>\n    </tr>\n    <tr>\n      <th>8</th>\n      <td>Delaware</td>\n      <td>Sussex County</td>\n      <td>Donald Trump</td>\n      <td>REP</td>\n      <td>71230</td>\n      <td>True</td>\n      <td>NaN</td>\n      <td>NaN</td>\n      <td>NaN</td>\n      <td>NaN</td>\n    </tr>\n    <tr>\n      <th>12</th>\n      <td>District of Columbia</td>\n      <td>Ward 1</td>\n      <td>Joe Biden</td>\n      <td>DEM</td>\n      <td>39041</td>\n      <td>True</td>\n      <td>38.9072</td>\n      <td>-77.0369</td>\n      <td>82404.0</td>\n      <td>12910.0</td>\n    </tr>\n    <tr>\n      <th>19</th>\n      <td>District of Columbia</td>\n      <td>Ward 2</td>\n      <td>Joe Biden</td>\n      <td>DEM</td>\n      <td>29078</td>\n      <td>True</td>\n      <td>38.9063</td>\n      <td>-77.0340</td>\n      <td>76492.0</td>\n      <td>4624.0</td>\n    </tr>\n    <tr>\n      <th>26</th>\n      <td>District of Columbia</td>\n      <td>Ward 3</td>\n      <td>Joe Biden</td>\n      <td>DEM</td>\n      <td>39397</td>\n      <td>True</td>\n      <td>38.9884</td>\n      <td>-77.0900</td>\n      <td>82450.0</td>\n      <td>3059.0</td>\n    </tr>\n    <tr>\n      <th>33</th>\n      <td>District of Columbia</td>\n      <td>Ward 4</td>\n      <td>Joe Biden</td>\n      <td>DEM</td>\n      <td>42489</td>\n      <td>True</td>\n      <td>38.9310</td>\n      <td>-77.0380</td>\n      <td>86085.0</td>\n      <td>3740.0</td>\n    </tr>\n    <tr>\n      <th>40</th>\n      <td>District of Columbia</td>\n      <td>Ward 5</td>\n      <td>Joe Biden</td>\n      <td>DEM</td>\n      <td>43320</td>\n      <td>True</td>\n      <td>38.9717</td>\n      <td>-77.0089</td>\n      <td>88948.0</td>\n      <td>3369.0</td>\n    </tr>\n    <tr>\n      <th>47</th>\n      <td>District of Columbia</td>\n      <td>Ward 6</td>\n      <td>Joe Biden</td>\n      <td>DEM</td>\n      <td>56719</td>\n      <td>True</td>\n      <td>38.8869</td>\n      <td>-76.9896</td>\n      <td>102233.0</td>\n      <td>6893.0</td>\n    </tr>\n    <tr>\n      <th>54</th>\n      <td>District of Columbia</td>\n      <td>Ward 7</td>\n      <td>Joe Biden</td>\n      <td>DEM</td>\n      <td>36382</td>\n      <td>True</td>\n      <td>38.8582</td>\n      <td>-76.9478</td>\n      <td>81270.0</td>\n      <td>3734.0</td>\n    </tr>\n    <tr>\n      <th>61</th>\n      <td>District of Columbia</td>\n      <td>Ward 8</td>\n      <td>Joe Biden</td>\n      <td>DEM</td>\n      <td>30897</td>\n      <td>True</td>\n      <td>38.8409</td>\n      <td>-76.9859</td>\n      <td>83272.0</td>\n      <td>3713.0</td>\n    </tr>\n    <tr>\n      <th>68</th>\n      <td>Florida</td>\n      <td>Alachua County</td>\n      <td>Joe Biden</td>\n      <td>DEM</td>\n      <td>89704</td>\n      <td>True</td>\n      <td>NaN</td>\n      <td>NaN</td>\n      <td>NaN</td>\n      <td>NaN</td>\n    </tr>\n    <tr>\n      <th>76</th>\n      <td>Florida</td>\n      <td>Baker County</td>\n      <td>Donald Trump</td>\n      <td>REP</td>\n      <td>11911</td>\n      <td>True</td>\n      <td>NaN</td>\n      <td>NaN</td>\n      <td>NaN</td>\n      <td>NaN</td>\n    </tr>\n    <tr>\n      <th>84</th>\n      <td>Florida</td>\n      <td>Bay County</td>\n      <td>Donald Trump</td>\n      <td>REP</td>\n      <td>66097</td>\n      <td>True</td>\n      <td>NaN</td>\n      <td>NaN</td>\n      <td>NaN</td>\n      <td>NaN</td>\n    </tr>\n    <tr>\n      <th>92</th>\n      <td>Florida</td>\n      <td>Bradford County</td>\n      <td>Donald Trump</td>\n      <td>REP</td>\n      <td>10334</td>\n      <td>True</td>\n      <td>NaN</td>\n      <td>NaN</td>\n      <td>NaN</td>\n      <td>NaN</td>\n    </tr>\n    <tr>\n      <th>100</th>\n      <td>Florida</td>\n      <td>Brevard County</td>\n      <td>Donald Trump</td>\n      <td>REP</td>\n      <td>207883</td>\n      <td>True</td>\n      <td>NaN</td>\n      <td>NaN</td>\n      <td>NaN</td>\n      <td>NaN</td>\n    </tr>\n    <tr>\n      <th>108</th>\n      <td>Florida</td>\n      <td>Broward County</td>\n      <td>Joe Biden</td>\n      <td>DEM</td>\n      <td>618752</td>\n      <td>True</td>\n      <td>NaN</td>\n      <td>NaN</td>\n      <td>NaN</td>\n      <td>NaN</td>\n    </tr>\n    <tr>\n      <th>116</th>\n      <td>Florida</td>\n      <td>Calhoun County</td>\n      <td>Donald Trump</td>\n      <td>REP</td>\n      <td>5274</td>\n      <td>True</td>\n      <td>NaN</td>\n      <td>NaN</td>\n      <td>NaN</td>\n      <td>NaN</td>\n    </tr>\n    <tr>\n      <th>124</th>\n      <td>Florida</td>\n      <td>Charlotte County</td>\n      <td>Donald Trump</td>\n      <td>REP</td>\n      <td>73243</td>\n      <td>True</td>\n      <td>NaN</td>\n      <td>NaN</td>\n      <td>NaN</td>\n      <td>NaN</td>\n    </tr>\n    <tr>\n      <th>132</th>\n      <td>Florida</td>\n      <td>Citrus County</td>\n      <td>Donald Trump</td>\n      <td>REP</td>\n      <td>65352</td>\n      <td>True</td>\n      <td>NaN</td>\n      <td>NaN</td>\n      <td>NaN</td>\n      <td>NaN</td>\n    </tr>\n  </tbody>\n</table>\n</div>"
     },
     "execution_count": 9,
     "metadata": {},
     "output_type": "execute_result"
    }
   ],
   "source": [
    "df20 = pd.merge(df, df_geo, on=['county', 'state'], how = 'left')\n",
    "df20.drop_duplicates(\n",
    "  subset = ['state', 'county'],\n",
    "  keep = 'first', inplace = True)\n",
    "\n",
    "df20.head(20)"
   ]
  },
  {
   "cell_type": "code",
   "execution_count": null,
   "id": "6a409f95",
   "metadata": {},
   "outputs": [],
   "source": []
  }
 ],
 "metadata": {
  "kernelspec": {
   "display_name": "Python 3 (ipykernel)",
   "language": "python",
   "name": "python3"
  },
  "language_info": {
   "codemirror_mode": {
    "name": "ipython",
    "version": 3
   },
   "file_extension": ".py",
   "mimetype": "text/x-python",
   "name": "python",
   "nbconvert_exporter": "python",
   "pygments_lexer": "ipython3",
   "version": "3.10.8"
  }
 },
 "nbformat": 4,
 "nbformat_minor": 5
}
